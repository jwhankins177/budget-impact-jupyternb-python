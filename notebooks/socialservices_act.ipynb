{
 "cells": [
  {
   "cell_type": "code",
   "execution_count": 1,
   "metadata": {},
   "outputs": [],
   "source": [
    "import pandas as pd\n",
    "import numpy as np\n",
    "import matplotlib.pyplot as plt\n",
    "import seaborn as sns\n",
    "%matplotlib inline"
   ]
  },
  {
   "cell_type": "code",
   "execution_count": 2,
   "metadata": {},
   "outputs": [
    {
     "name": "stderr",
     "output_type": "stream",
     "text": [
      "C:\\Users\\jhank\\AppData\\Roaming\\Python\\Python39\\site-packages\\IPython\\core\\interactiveshell.py:3378: DtypeWarning: Columns (0) have mixed types.Specify dtype option on import or set low_memory=False.\n",
      "  exec(code_obj, self.user_global_ns, self.user_ns)\n"
     ]
    }
   ],
   "source": [
    "df = pd.read_csv(r\"C:\\Users\\jhank\\Desktop\\DA7\\Projects\\budget-impact-jupyternb-python\\data\\Metro_Budget_to_Actual_Expenses__FY2010_-_Present_.csv\")"
   ]
  },
  {
   "cell_type": "code",
   "execution_count": 3,
   "metadata": {},
   "outputs": [
    {
     "data": {
      "text/html": [
       "<div>\n",
       "<style scoped>\n",
       "    .dataframe tbody tr th:only-of-type {\n",
       "        vertical-align: middle;\n",
       "    }\n",
       "\n",
       "    .dataframe tbody tr th {\n",
       "        vertical-align: top;\n",
       "    }\n",
       "\n",
       "    .dataframe thead th {\n",
       "        text-align: right;\n",
       "    }\n",
       "</style>\n",
       "<table border=\"1\" class=\"dataframe\">\n",
       "  <thead>\n",
       "    <tr style=\"text-align: right;\">\n",
       "      <th></th>\n",
       "      <th>Fund</th>\n",
       "      <th>Fund Description</th>\n",
       "      <th>Department</th>\n",
       "      <th>Department Description</th>\n",
       "      <th>Business Unit</th>\n",
       "      <th>Business Unit Description</th>\n",
       "      <th>Object Account</th>\n",
       "      <th>Object Account Description</th>\n",
       "      <th>FY2010 Budgeted Expenses</th>\n",
       "      <th>FY2010 Actual Expenses</th>\n",
       "      <th>...</th>\n",
       "      <th>FY2017 Budgeted Expenses</th>\n",
       "      <th>FY2017 Actual Expenses</th>\n",
       "      <th>FY2018 Budgeted Expenses</th>\n",
       "      <th>FY2018 Actual Expenses</th>\n",
       "      <th>FY2019 Budgeted Expenses</th>\n",
       "      <th>FY2019 Actual Expenses</th>\n",
       "      <th>FY2020 Budgeted Expenses</th>\n",
       "      <th>FY2020 Actual Expenses</th>\n",
       "      <th>FY2021 Budgeted Expenses</th>\n",
       "      <th>FY2021 Actual Expenses</th>\n",
       "    </tr>\n",
       "  </thead>\n",
       "  <tbody>\n",
       "    <tr>\n",
       "      <th>0</th>\n",
       "      <td>10101</td>\n",
       "      <td>GSD General</td>\n",
       "      <td>1.0</td>\n",
       "      <td>Administrative</td>\n",
       "      <td>1101104.0</td>\n",
       "      <td>ADM County Retire Match</td>\n",
       "      <td>531702.0</td>\n",
       "      <td>Transfer Guaranteed Pension</td>\n",
       "      <td>3501900.0</td>\n",
       "      <td>3501900.00</td>\n",
       "      <td>...</td>\n",
       "      <td>3501900.0</td>\n",
       "      <td>3501900.00</td>\n",
       "      <td>3501900.0</td>\n",
       "      <td>3501900.00</td>\n",
       "      <td>3501900.0</td>\n",
       "      <td>3501900.00</td>\n",
       "      <td>3501900.0</td>\n",
       "      <td>3501900.00</td>\n",
       "      <td>3501900</td>\n",
       "      <td>3501900.00</td>\n",
       "    </tr>\n",
       "    <tr>\n",
       "      <th>1</th>\n",
       "      <td>10101</td>\n",
       "      <td>GSD General</td>\n",
       "      <td>1.0</td>\n",
       "      <td>Administrative</td>\n",
       "      <td>1101107.0</td>\n",
       "      <td>ADM Cnty Teach Retire Match</td>\n",
       "      <td>531702.0</td>\n",
       "      <td>Transfer Guaranteed Pension</td>\n",
       "      <td>6900400.0</td>\n",
       "      <td>6900400.00</td>\n",
       "      <td>...</td>\n",
       "      <td>6900400.0</td>\n",
       "      <td>6900400.00</td>\n",
       "      <td>6900400.0</td>\n",
       "      <td>6900400.00</td>\n",
       "      <td>6900400.0</td>\n",
       "      <td>6900400.00</td>\n",
       "      <td>6900400.0</td>\n",
       "      <td>6900400.00</td>\n",
       "      <td>6900400</td>\n",
       "      <td>6900400.00</td>\n",
       "    </tr>\n",
       "    <tr>\n",
       "      <th>2</th>\n",
       "      <td>10101</td>\n",
       "      <td>GSD General</td>\n",
       "      <td>1.0</td>\n",
       "      <td>Administrative</td>\n",
       "      <td>1101109.0</td>\n",
       "      <td>ADM Health Insurance Match</td>\n",
       "      <td>501174.0</td>\n",
       "      <td>Employer Group Health</td>\n",
       "      <td>28309600.0</td>\n",
       "      <td>29163668.82</td>\n",
       "      <td>...</td>\n",
       "      <td>49341100.0</td>\n",
       "      <td>48160249.84</td>\n",
       "      <td>49341100.0</td>\n",
       "      <td>50951314.92</td>\n",
       "      <td>51244600.0</td>\n",
       "      <td>51147253.42</td>\n",
       "      <td>53391800.0</td>\n",
       "      <td>51619782.62</td>\n",
       "      <td>55099100</td>\n",
       "      <td>52691663.82</td>\n",
       "    </tr>\n",
       "    <tr>\n",
       "      <th>3</th>\n",
       "      <td>10101</td>\n",
       "      <td>GSD General</td>\n",
       "      <td>1.0</td>\n",
       "      <td>Administrative</td>\n",
       "      <td>1101109.0</td>\n",
       "      <td>ADM Health Insurance Match</td>\n",
       "      <td>501175.0</td>\n",
       "      <td>Employer Dental Group</td>\n",
       "      <td>1823200.0</td>\n",
       "      <td>1831153.10</td>\n",
       "      <td>...</td>\n",
       "      <td>2741700.0</td>\n",
       "      <td>2660358.00</td>\n",
       "      <td>2741700.0</td>\n",
       "      <td>2871873.89</td>\n",
       "      <td>2986400.0</td>\n",
       "      <td>3045002.14</td>\n",
       "      <td>3063700.0</td>\n",
       "      <td>3128416.49</td>\n",
       "      <td>3063700</td>\n",
       "      <td>3201906.32</td>\n",
       "    </tr>\n",
       "    <tr>\n",
       "      <th>4</th>\n",
       "      <td>10101</td>\n",
       "      <td>GSD General</td>\n",
       "      <td>1.0</td>\n",
       "      <td>Administrative</td>\n",
       "      <td>1101109.0</td>\n",
       "      <td>ADM Health Insurance Match</td>\n",
       "      <td>501176.0</td>\n",
       "      <td>Employer Group Life</td>\n",
       "      <td>0.0</td>\n",
       "      <td>0.00</td>\n",
       "      <td>...</td>\n",
       "      <td>0.0</td>\n",
       "      <td>0.00</td>\n",
       "      <td>0.0</td>\n",
       "      <td>0.00</td>\n",
       "      <td>0.0</td>\n",
       "      <td>0.00</td>\n",
       "      <td>0.0</td>\n",
       "      <td>0.00</td>\n",
       "      <td>0</td>\n",
       "      <td>0.00</td>\n",
       "    </tr>\n",
       "  </tbody>\n",
       "</table>\n",
       "<p>5 rows × 32 columns</p>\n",
       "</div>"
      ],
      "text/plain": [
       "    Fund Fund Description  Department Department Description  Business Unit  \\\n",
       "0  10101      GSD General         1.0         Administrative      1101104.0   \n",
       "1  10101      GSD General         1.0         Administrative      1101107.0   \n",
       "2  10101      GSD General         1.0         Administrative      1101109.0   \n",
       "3  10101      GSD General         1.0         Administrative      1101109.0   \n",
       "4  10101      GSD General         1.0         Administrative      1101109.0   \n",
       "\n",
       "     Business Unit Description  Object Account   Object Account Description  \\\n",
       "0      ADM County Retire Match        531702.0  Transfer Guaranteed Pension   \n",
       "1  ADM Cnty Teach Retire Match        531702.0  Transfer Guaranteed Pension   \n",
       "2   ADM Health Insurance Match        501174.0        Employer Group Health   \n",
       "3   ADM Health Insurance Match        501175.0        Employer Dental Group   \n",
       "4   ADM Health Insurance Match        501176.0          Employer Group Life   \n",
       "\n",
       "   FY2010 Budgeted Expenses  FY2010 Actual Expenses  ...  \\\n",
       "0                 3501900.0              3501900.00  ...   \n",
       "1                 6900400.0              6900400.00  ...   \n",
       "2                28309600.0             29163668.82  ...   \n",
       "3                 1823200.0              1831153.10  ...   \n",
       "4                       0.0                    0.00  ...   \n",
       "\n",
       "   FY2017 Budgeted Expenses  FY2017 Actual Expenses  FY2018 Budgeted Expenses  \\\n",
       "0                 3501900.0              3501900.00                 3501900.0   \n",
       "1                 6900400.0              6900400.00                 6900400.0   \n",
       "2                49341100.0             48160249.84                49341100.0   \n",
       "3                 2741700.0              2660358.00                 2741700.0   \n",
       "4                       0.0                    0.00                       0.0   \n",
       "\n",
       "   FY2018 Actual Expenses  FY2019 Budgeted Expenses  FY2019 Actual Expenses  \\\n",
       "0              3501900.00                 3501900.0              3501900.00   \n",
       "1              6900400.00                 6900400.0              6900400.00   \n",
       "2             50951314.92                51244600.0             51147253.42   \n",
       "3              2871873.89                 2986400.0              3045002.14   \n",
       "4                    0.00                       0.0                    0.00   \n",
       "\n",
       "   FY2020 Budgeted Expenses  FY2020 Actual Expenses  FY2021 Budgeted Expenses  \\\n",
       "0                 3501900.0              3501900.00                   3501900   \n",
       "1                 6900400.0              6900400.00                   6900400   \n",
       "2                53391800.0             51619782.62                  55099100   \n",
       "3                 3063700.0              3128416.49                   3063700   \n",
       "4                       0.0                    0.00                         0   \n",
       "\n",
       "   FY2021 Actual Expenses  \n",
       "0              3501900.00  \n",
       "1              6900400.00  \n",
       "2             52691663.82  \n",
       "3              3201906.32  \n",
       "4                    0.00  \n",
       "\n",
       "[5 rows x 32 columns]"
      ]
     },
     "execution_count": 3,
     "metadata": {},
     "output_type": "execute_result"
    }
   ],
   "source": [
    "df.head(5)"
   ]
  },
  {
   "cell_type": "code",
   "execution_count": 4,
   "metadata": {},
   "outputs": [
    {
     "data": {
      "text/html": [
       "<div>\n",
       "<style scoped>\n",
       "    .dataframe tbody tr th:only-of-type {\n",
       "        vertical-align: middle;\n",
       "    }\n",
       "\n",
       "    .dataframe tbody tr th {\n",
       "        vertical-align: top;\n",
       "    }\n",
       "\n",
       "    .dataframe thead th {\n",
       "        text-align: right;\n",
       "    }\n",
       "</style>\n",
       "<table border=\"1\" class=\"dataframe\">\n",
       "  <thead>\n",
       "    <tr style=\"text-align: right;\">\n",
       "      <th></th>\n",
       "      <th>Fund</th>\n",
       "      <th>Fund Description</th>\n",
       "      <th>Department</th>\n",
       "      <th>Department Description</th>\n",
       "      <th>Business Unit</th>\n",
       "      <th>Business Unit Description</th>\n",
       "      <th>Object Account</th>\n",
       "      <th>Object Account Description</th>\n",
       "      <th>FY2010 Budgeted Expenses</th>\n",
       "      <th>FY2010 Actual Expenses</th>\n",
       "      <th>...</th>\n",
       "      <th>FY2017 Budgeted Expenses</th>\n",
       "      <th>FY2017 Actual Expenses</th>\n",
       "      <th>FY2018 Budgeted Expenses</th>\n",
       "      <th>FY2018 Actual Expenses</th>\n",
       "      <th>FY2019 Budgeted Expenses</th>\n",
       "      <th>FY2019 Actual Expenses</th>\n",
       "      <th>FY2020 Budgeted Expenses</th>\n",
       "      <th>FY2020 Actual Expenses</th>\n",
       "      <th>FY2021 Budgeted Expenses</th>\n",
       "      <th>FY2021 Actual Expenses</th>\n",
       "    </tr>\n",
       "  </thead>\n",
       "  <tbody>\n",
       "    <tr>\n",
       "      <th>30828</th>\n",
       "      <td>35131</td>\n",
       "      <td>MNPS General Purpose</td>\n",
       "      <td>80.0</td>\n",
       "      <td>MNPS</td>\n",
       "      <td>80902020.0</td>\n",
       "      <td>MNPS COVID-19</td>\n",
       "      <td>501177.0</td>\n",
       "      <td>Employer Pension</td>\n",
       "      <td>0.000000e+00</td>\n",
       "      <td>0.000000e+00</td>\n",
       "      <td>...</td>\n",
       "      <td>0.000000e+00</td>\n",
       "      <td>0.000000e+00</td>\n",
       "      <td>0.000000e+00</td>\n",
       "      <td>0.000000e+00</td>\n",
       "      <td>0.000000e+00</td>\n",
       "      <td>0.000000e+00</td>\n",
       "      <td>0.000000e+00</td>\n",
       "      <td>0.000000e+00</td>\n",
       "      <td>0</td>\n",
       "      <td>-1.859000e+01</td>\n",
       "    </tr>\n",
       "    <tr>\n",
       "      <th>30829</th>\n",
       "      <td>35131</td>\n",
       "      <td>MNPS General Purpose</td>\n",
       "      <td>80.0</td>\n",
       "      <td>MNPS</td>\n",
       "      <td>80902020.0</td>\n",
       "      <td>MNPS COVID-19</td>\n",
       "      <td>501172.0</td>\n",
       "      <td>Employer OASDI</td>\n",
       "      <td>0.000000e+00</td>\n",
       "      <td>0.000000e+00</td>\n",
       "      <td>...</td>\n",
       "      <td>0.000000e+00</td>\n",
       "      <td>0.000000e+00</td>\n",
       "      <td>0.000000e+00</td>\n",
       "      <td>0.000000e+00</td>\n",
       "      <td>0.000000e+00</td>\n",
       "      <td>0.000000e+00</td>\n",
       "      <td>0.000000e+00</td>\n",
       "      <td>0.000000e+00</td>\n",
       "      <td>0</td>\n",
       "      <td>-4.870000e+00</td>\n",
       "    </tr>\n",
       "    <tr>\n",
       "      <th>30830</th>\n",
       "      <td>35131</td>\n",
       "      <td>MNPS General Purpose</td>\n",
       "      <td>80.0</td>\n",
       "      <td>MNPS</td>\n",
       "      <td>80902020.0</td>\n",
       "      <td>MNPS COVID-19</td>\n",
       "      <td>501173.0</td>\n",
       "      <td>Employer SSN Medical</td>\n",
       "      <td>0.000000e+00</td>\n",
       "      <td>0.000000e+00</td>\n",
       "      <td>...</td>\n",
       "      <td>0.000000e+00</td>\n",
       "      <td>0.000000e+00</td>\n",
       "      <td>0.000000e+00</td>\n",
       "      <td>0.000000e+00</td>\n",
       "      <td>0.000000e+00</td>\n",
       "      <td>0.000000e+00</td>\n",
       "      <td>0.000000e+00</td>\n",
       "      <td>0.000000e+00</td>\n",
       "      <td>0</td>\n",
       "      <td>-1.990000e+00</td>\n",
       "    </tr>\n",
       "    <tr>\n",
       "      <th>30831</th>\n",
       "      <td>35131</td>\n",
       "      <td>MNPS General Purpose</td>\n",
       "      <td>80.0</td>\n",
       "      <td>MNPS</td>\n",
       "      <td>80902020.0</td>\n",
       "      <td>MNPS COVID-19</td>\n",
       "      <td>501101.0</td>\n",
       "      <td>Regular Pay</td>\n",
       "      <td>0.000000e+00</td>\n",
       "      <td>0.000000e+00</td>\n",
       "      <td>...</td>\n",
       "      <td>0.000000e+00</td>\n",
       "      <td>0.000000e+00</td>\n",
       "      <td>0.000000e+00</td>\n",
       "      <td>0.000000e+00</td>\n",
       "      <td>0.000000e+00</td>\n",
       "      <td>0.000000e+00</td>\n",
       "      <td>0.000000e+00</td>\n",
       "      <td>0.000000e+00</td>\n",
       "      <td>0</td>\n",
       "      <td>-1.506600e+02</td>\n",
       "    </tr>\n",
       "    <tr>\n",
       "      <th>30832</th>\n",
       "      <td>Grand Total</td>\n",
       "      <td>NaN</td>\n",
       "      <td>NaN</td>\n",
       "      <td>NaN</td>\n",
       "      <td>NaN</td>\n",
       "      <td>NaN</td>\n",
       "      <td>NaN</td>\n",
       "      <td>NaN</td>\n",
       "      <td>1.600288e+09</td>\n",
       "      <td>1.784957e+09</td>\n",
       "      <td>...</td>\n",
       "      <td>2.145225e+09</td>\n",
       "      <td>2.112964e+09</td>\n",
       "      <td>2.288721e+09</td>\n",
       "      <td>2.223645e+09</td>\n",
       "      <td>2.298126e+09</td>\n",
       "      <td>2.257203e+09</td>\n",
       "      <td>2.414639e+09</td>\n",
       "      <td>2.303677e+09</td>\n",
       "      <td>2455434200</td>\n",
       "      <td>3.031367e+09</td>\n",
       "    </tr>\n",
       "  </tbody>\n",
       "</table>\n",
       "<p>5 rows × 32 columns</p>\n",
       "</div>"
      ],
      "text/plain": [
       "              Fund      Fund Description  Department Department Description  \\\n",
       "30828        35131  MNPS General Purpose        80.0                   MNPS   \n",
       "30829        35131  MNPS General Purpose        80.0                   MNPS   \n",
       "30830        35131  MNPS General Purpose        80.0                   MNPS   \n",
       "30831        35131  MNPS General Purpose        80.0                   MNPS   \n",
       "30832  Grand Total                   NaN         NaN                    NaN   \n",
       "\n",
       "       Business Unit Business Unit Description  Object Account  \\\n",
       "30828     80902020.0             MNPS COVID-19        501177.0   \n",
       "30829     80902020.0             MNPS COVID-19        501172.0   \n",
       "30830     80902020.0             MNPS COVID-19        501173.0   \n",
       "30831     80902020.0             MNPS COVID-19        501101.0   \n",
       "30832            NaN                       NaN             NaN   \n",
       "\n",
       "      Object Account Description  FY2010 Budgeted Expenses  \\\n",
       "30828           Employer Pension              0.000000e+00   \n",
       "30829             Employer OASDI              0.000000e+00   \n",
       "30830       Employer SSN Medical              0.000000e+00   \n",
       "30831                Regular Pay              0.000000e+00   \n",
       "30832                        NaN              1.600288e+09   \n",
       "\n",
       "       FY2010 Actual Expenses  ...  FY2017 Budgeted Expenses  \\\n",
       "30828            0.000000e+00  ...              0.000000e+00   \n",
       "30829            0.000000e+00  ...              0.000000e+00   \n",
       "30830            0.000000e+00  ...              0.000000e+00   \n",
       "30831            0.000000e+00  ...              0.000000e+00   \n",
       "30832            1.784957e+09  ...              2.145225e+09   \n",
       "\n",
       "       FY2017 Actual Expenses  FY2018 Budgeted Expenses  \\\n",
       "30828            0.000000e+00              0.000000e+00   \n",
       "30829            0.000000e+00              0.000000e+00   \n",
       "30830            0.000000e+00              0.000000e+00   \n",
       "30831            0.000000e+00              0.000000e+00   \n",
       "30832            2.112964e+09              2.288721e+09   \n",
       "\n",
       "       FY2018 Actual Expenses  FY2019 Budgeted Expenses  \\\n",
       "30828            0.000000e+00              0.000000e+00   \n",
       "30829            0.000000e+00              0.000000e+00   \n",
       "30830            0.000000e+00              0.000000e+00   \n",
       "30831            0.000000e+00              0.000000e+00   \n",
       "30832            2.223645e+09              2.298126e+09   \n",
       "\n",
       "       FY2019 Actual Expenses  FY2020 Budgeted Expenses  \\\n",
       "30828            0.000000e+00              0.000000e+00   \n",
       "30829            0.000000e+00              0.000000e+00   \n",
       "30830            0.000000e+00              0.000000e+00   \n",
       "30831            0.000000e+00              0.000000e+00   \n",
       "30832            2.257203e+09              2.414639e+09   \n",
       "\n",
       "       FY2020 Actual Expenses  FY2021 Budgeted Expenses  \\\n",
       "30828            0.000000e+00                         0   \n",
       "30829            0.000000e+00                         0   \n",
       "30830            0.000000e+00                         0   \n",
       "30831            0.000000e+00                         0   \n",
       "30832            2.303677e+09                2455434200   \n",
       "\n",
       "       FY2021 Actual Expenses  \n",
       "30828           -1.859000e+01  \n",
       "30829           -4.870000e+00  \n",
       "30830           -1.990000e+00  \n",
       "30831           -1.506600e+02  \n",
       "30832            3.031367e+09  \n",
       "\n",
       "[5 rows x 32 columns]"
      ]
     },
     "execution_count": 4,
     "metadata": {},
     "output_type": "execute_result"
    }
   ],
   "source": [
    "df.tail(5)"
   ]
  },
  {
   "cell_type": "code",
   "execution_count": 5,
   "metadata": {},
   "outputs": [
    {
     "name": "stdout",
     "output_type": "stream",
     "text": [
      "<class 'pandas.core.frame.DataFrame'>\n",
      "RangeIndex: 30833 entries, 0 to 30832\n",
      "Data columns (total 32 columns):\n",
      " #   Column                      Non-Null Count  Dtype  \n",
      "---  ------                      --------------  -----  \n",
      " 0   Fund                        30833 non-null  object \n",
      " 1   Fund Description            30832 non-null  object \n",
      " 2   Department                  30832 non-null  float64\n",
      " 3   Department Description      30832 non-null  object \n",
      " 4   Business Unit               30832 non-null  float64\n",
      " 5   Business Unit Description   30832 non-null  object \n",
      " 6   Object Account              30832 non-null  float64\n",
      " 7   Object Account Description  30832 non-null  object \n",
      " 8   FY2010 Budgeted Expenses    30833 non-null  float64\n",
      " 9   FY2010 Actual Expenses      30833 non-null  float64\n",
      " 10  FY2011 Budgeted Expenses    30833 non-null  float64\n",
      " 11  FY2011 Actual Expenses      30833 non-null  float64\n",
      " 12  FY2012 Budgeted Expenses    30833 non-null  float64\n",
      " 13  FY2012 Actual Expenses      30833 non-null  float64\n",
      " 14  FY2013 Budgeted Expenses    30833 non-null  float64\n",
      " 15  FY2013 Actual Expenses      30833 non-null  float64\n",
      " 16  FY2014 Budgeted Expenses    30833 non-null  float64\n",
      " 17  FY2014 Actual Expenses      30833 non-null  float64\n",
      " 18  FY2015 Budgeted Expenses    30833 non-null  float64\n",
      " 19  FY2015 Actual Expenses      30833 non-null  float64\n",
      " 20  FY2016 Budgeted Expenses    30833 non-null  float64\n",
      " 21  FY2016 Actual Expenses      30833 non-null  float64\n",
      " 22  FY2017 Budgeted Expenses    30833 non-null  float64\n",
      " 23  FY2017 Actual Expenses      30833 non-null  float64\n",
      " 24  FY2018 Budgeted Expenses    30833 non-null  float64\n",
      " 25  FY2018 Actual Expenses      30833 non-null  float64\n",
      " 26  FY2019 Budgeted Expenses    30833 non-null  float64\n",
      " 27  FY2019 Actual Expenses      30833 non-null  float64\n",
      " 28  FY2020 Budgeted Expenses    30833 non-null  float64\n",
      " 29  FY2020 Actual Expenses      30833 non-null  float64\n",
      " 30  FY2021 Budgeted Expenses    30833 non-null  int64  \n",
      " 31  FY2021 Actual Expenses      30833 non-null  float64\n",
      "dtypes: float64(26), int64(1), object(5)\n",
      "memory usage: 7.5+ MB\n"
     ]
    }
   ],
   "source": [
    "df.info()"
   ]
  },
  {
   "cell_type": "code",
   "execution_count": 6,
   "metadata": {},
   "outputs": [
    {
     "data": {
      "text/plain": [
       "52"
      ]
     },
     "execution_count": 6,
     "metadata": {},
     "output_type": "execute_result"
    }
   ],
   "source": [
    "df['Department Description'].nunique()"
   ]
  },
  {
   "cell_type": "code",
   "execution_count": 7,
   "metadata": {},
   "outputs": [],
   "source": [
    "dep_list = df['Department Description'].unique()"
   ]
  },
  {
   "cell_type": "code",
   "execution_count": 8,
   "metadata": {},
   "outputs": [
    {
     "data": {
      "text/plain": [
       "array(['Administrative', 'Sheriff', 'Metropolitan Council',\n",
       "       'Metropolitan Clerk', \"Mayor's Office\", 'Election Commission',\n",
       "       'Law', 'Planning Commission', 'Human Resources',\n",
       "       'Register of Deeds', 'General Services', 'Historical Commission',\n",
       "       'Information Technology Service', 'Finance',\n",
       "       'Assessor of Property', 'Trustee', 'County Clerk',\n",
       "       'District Attorney', 'X-Medical Examiner', 'Public Defender',\n",
       "       'Juvenile Court Clerk', 'Circuit Court Clerk',\n",
       "       'Criminal Court Clerk', 'Clerk and Master - Chancery',\n",
       "       'Juvenile Court', 'Police', 'General Sessions Court',\n",
       "       'State Trial Courts', 'Justice Integration Services', 'Fire',\n",
       "       'Codes Administration', 'Beer Board', 'Social Services',\n",
       "       'Agricultural Extension', 'Soil and Water Conservation', 'Health',\n",
       "       'Public Library', 'Parks', 'Arts Commission', 'Public Works',\n",
       "       'MNPS', 'Human Relations Commission', 'X-Transportation Licensing',\n",
       "       'Criminal Justice Planning', 'Internal Audit',\n",
       "       'Office of Emergency Management', 'Office of Family Safety',\n",
       "       'Community Oversight Board', 'Sports Authority',\n",
       "       'Community Education Commission', 'Emergency Communication Center',\n",
       "       'Debt Service', nan], dtype=object)"
      ]
     },
     "execution_count": 8,
     "metadata": {},
     "output_type": "execute_result"
    }
   ],
   "source": [
    "dep_list"
   ]
  },
  {
   "cell_type": "code",
   "execution_count": 9,
   "metadata": {},
   "outputs": [],
   "source": [
    "ss = df[df['Department Description'] == 'Social Services']"
   ]
  },
  {
   "cell_type": "code",
   "execution_count": 10,
   "metadata": {},
   "outputs": [],
   "source": [
    "dd = ss.groupby(['Department Description']).sum()"
   ]
  },
  {
   "cell_type": "code",
   "execution_count": 11,
   "metadata": {},
   "outputs": [],
   "source": [
    "dd.drop(['Department','Business Unit','Object Account','FY2010 Budgeted Expenses','FY2011 Budgeted Expenses','FY2012 Budgeted Expenses','FY2013 Budgeted Expenses','FY2014 Budgeted Expenses','FY2015 Budgeted Expenses','FY2016 Budgeted Expenses','FY2017 Budgeted Expenses','FY2018 Budgeted Expenses','FY2019 Budgeted Expenses','FY2020 Budgeted Expenses','FY2021 Budgeted Expenses'],axis=1,inplace=True)"
   ]
  },
  {
   "cell_type": "code",
   "execution_count": 12,
   "metadata": {},
   "outputs": [
    {
     "data": {
      "text/html": [
       "<div>\n",
       "<style scoped>\n",
       "    .dataframe tbody tr th:only-of-type {\n",
       "        vertical-align: middle;\n",
       "    }\n",
       "\n",
       "    .dataframe tbody tr th {\n",
       "        vertical-align: top;\n",
       "    }\n",
       "\n",
       "    .dataframe thead th {\n",
       "        text-align: right;\n",
       "    }\n",
       "</style>\n",
       "<table border=\"1\" class=\"dataframe\">\n",
       "  <thead>\n",
       "    <tr style=\"text-align: right;\">\n",
       "      <th></th>\n",
       "      <th>FY2010 Actual Expenses</th>\n",
       "      <th>FY2011 Actual Expenses</th>\n",
       "      <th>FY2012 Actual Expenses</th>\n",
       "      <th>FY2013 Actual Expenses</th>\n",
       "      <th>FY2014 Actual Expenses</th>\n",
       "      <th>FY2015 Actual Expenses</th>\n",
       "      <th>FY2016 Actual Expenses</th>\n",
       "      <th>FY2017 Actual Expenses</th>\n",
       "      <th>FY2018 Actual Expenses</th>\n",
       "      <th>FY2019 Actual Expenses</th>\n",
       "      <th>FY2020 Actual Expenses</th>\n",
       "      <th>FY2021 Actual Expenses</th>\n",
       "    </tr>\n",
       "    <tr>\n",
       "      <th>Department Description</th>\n",
       "      <th></th>\n",
       "      <th></th>\n",
       "      <th></th>\n",
       "      <th></th>\n",
       "      <th></th>\n",
       "      <th></th>\n",
       "      <th></th>\n",
       "      <th></th>\n",
       "      <th></th>\n",
       "      <th></th>\n",
       "      <th></th>\n",
       "      <th></th>\n",
       "    </tr>\n",
       "  </thead>\n",
       "  <tbody>\n",
       "    <tr>\n",
       "      <th>Social Services</th>\n",
       "      <td>6004962.81</td>\n",
       "      <td>6236577.65</td>\n",
       "      <td>7377443.87</td>\n",
       "      <td>7520121.79</td>\n",
       "      <td>7528804.55</td>\n",
       "      <td>7487716.24</td>\n",
       "      <td>6551174.26</td>\n",
       "      <td>6527352.57</td>\n",
       "      <td>6922072.56</td>\n",
       "      <td>6882350.24</td>\n",
       "      <td>6861397.71</td>\n",
       "      <td>5598992.7</td>\n",
       "    </tr>\n",
       "  </tbody>\n",
       "</table>\n",
       "</div>"
      ],
      "text/plain": [
       "                        FY2010 Actual Expenses  FY2011 Actual Expenses  \\\n",
       "Department Description                                                   \n",
       "Social Services                     6004962.81              6236577.65   \n",
       "\n",
       "                        FY2012 Actual Expenses  FY2013 Actual Expenses  \\\n",
       "Department Description                                                   \n",
       "Social Services                     7377443.87              7520121.79   \n",
       "\n",
       "                        FY2014 Actual Expenses  FY2015 Actual Expenses  \\\n",
       "Department Description                                                   \n",
       "Social Services                     7528804.55              7487716.24   \n",
       "\n",
       "                        FY2016 Actual Expenses  FY2017 Actual Expenses  \\\n",
       "Department Description                                                   \n",
       "Social Services                     6551174.26              6527352.57   \n",
       "\n",
       "                        FY2018 Actual Expenses  FY2019 Actual Expenses  \\\n",
       "Department Description                                                   \n",
       "Social Services                     6922072.56              6882350.24   \n",
       "\n",
       "                        FY2020 Actual Expenses  FY2021 Actual Expenses  \n",
       "Department Description                                                  \n",
       "Social Services                     6861397.71               5598992.7  "
      ]
     },
     "execution_count": 12,
     "metadata": {},
     "output_type": "execute_result"
    }
   ],
   "source": [
    "dd.head()"
   ]
  },
  {
   "cell_type": "code",
   "execution_count": 13,
   "metadata": {},
   "outputs": [
    {
     "data": {
      "text/plain": [
       "<AxesSubplot:xlabel='Department Description'>"
      ]
     },
     "execution_count": 13,
     "metadata": {},
     "output_type": "execute_result"
    },
    {
     "data": {
      "image/png": "[encoded data removed]",
      "text/plain": [
       "<Figure size 640x480 with 1 Axes>"
      ]
     },
     "metadata": {},
     "output_type": "display_data"
    }
   ],
   "source": [
    "dd.plot(kind=\"bar\")"
   ]
  },
  {
   "cell_type": "code",
   "execution_count": 14,
   "metadata": {},
   "outputs": [],
   "source": [
    "ss_13_19 = dd[['FY2013 Actual Expenses','FY2014 Actual Expenses','FY2015 Actual Expenses','FY2016 Actual Expenses','FY2017 Actual Expenses','FY2018 Actual Expenses','FY2019 Actual Expenses']]"
   ]
  },
  {
   "cell_type": "code",
   "execution_count": 15,
   "metadata": {},
   "outputs": [],
   "source": [
    "ss_13_19 = ss_13_19.T"
   ]
  },
  {
   "cell_type": "code",
   "execution_count": 16,
   "metadata": {},
   "outputs": [],
   "source": [
    "ss_13_19['year'] = [2013,2014,2015,2016,2017,2018,2019]"
   ]
  },
  {
   "cell_type": "code",
   "execution_count": 17,
   "metadata": {},
   "outputs": [
    {
     "data": {
      "text/html": [
       "<div>\n",
       "<style scoped>\n",
       "    .dataframe tbody tr th:only-of-type {\n",
       "        vertical-align: middle;\n",
       "    }\n",
       "\n",
       "    .dataframe tbody tr th {\n",
       "        vertical-align: top;\n",
       "    }\n",
       "\n",
       "    .dataframe thead th {\n",
       "        text-align: right;\n",
       "    }\n",
       "</style>\n",
       "<table border=\"1\" class=\"dataframe\">\n",
       "  <thead>\n",
       "    <tr style=\"text-align: right;\">\n",
       "      <th>Department Description</th>\n",
       "      <th>Social Services</th>\n",
       "      <th>year</th>\n",
       "    </tr>\n",
       "  </thead>\n",
       "  <tbody>\n",
       "    <tr>\n",
       "      <th>FY2013 Actual Expenses</th>\n",
       "      <td>7520121.79</td>\n",
       "      <td>2013</td>\n",
       "    </tr>\n",
       "    <tr>\n",
       "      <th>FY2014 Actual Expenses</th>\n",
       "      <td>7528804.55</td>\n",
       "      <td>2014</td>\n",
       "    </tr>\n",
       "    <tr>\n",
       "      <th>FY2015 Actual Expenses</th>\n",
       "      <td>7487716.24</td>\n",
       "      <td>2015</td>\n",
       "    </tr>\n",
       "    <tr>\n",
       "      <th>FY2016 Actual Expenses</th>\n",
       "      <td>6551174.26</td>\n",
       "      <td>2016</td>\n",
       "    </tr>\n",
       "    <tr>\n",
       "      <th>FY2017 Actual Expenses</th>\n",
       "      <td>6527352.57</td>\n",
       "      <td>2017</td>\n",
       "    </tr>\n",
       "    <tr>\n",
       "      <th>FY2018 Actual Expenses</th>\n",
       "      <td>6922072.56</td>\n",
       "      <td>2018</td>\n",
       "    </tr>\n",
       "    <tr>\n",
       "      <th>FY2019 Actual Expenses</th>\n",
       "      <td>6882350.24</td>\n",
       "      <td>2019</td>\n",
       "    </tr>\n",
       "  </tbody>\n",
       "</table>\n",
       "</div>"
      ],
      "text/plain": [
       "Department Description  Social Services  year\n",
       "FY2013 Actual Expenses       7520121.79  2013\n",
       "FY2014 Actual Expenses       7528804.55  2014\n",
       "FY2015 Actual Expenses       7487716.24  2015\n",
       "FY2016 Actual Expenses       6551174.26  2016\n",
       "FY2017 Actual Expenses       6527352.57  2017\n",
       "FY2018 Actual Expenses       6922072.56  2018\n",
       "FY2019 Actual Expenses       6882350.24  2019"
      ]
     },
     "execution_count": 17,
     "metadata": {},
     "output_type": "execute_result"
    }
   ],
   "source": [
    "ss_13_19"
   ]
  },
  {
   "cell_type": "code",
   "execution_count": 18,
   "metadata": {},
   "outputs": [
    {
     "data": {
      "text/plain": [
       "<AxesSubplot:xlabel='year'>"
      ]
     },
     "execution_count": 18,
     "metadata": {},
     "output_type": "execute_result"
    },
    {
     "data": {
      "image/png": "[encoded data removed]",
      "text/plain": [
       "<Figure size 640x480 with 1 Axes>"
      ]
     },
     "metadata": {},
     "output_type": "display_data"
    }
   ],
   "source": [
    "ss_13_19.plot(kind=\"line\", legend = False, x = 'year', y = 'Social Services' )"
   ]
  },
  {
   "cell_type": "code",
   "execution_count": 19,
   "metadata": {},
   "outputs": [],
   "source": [
    "x = ss_13_19['year']\n",
    "y = ss_13_19['Social Services']"
   ]
  },
  {
   "cell_type": "code",
   "execution_count": 20,
   "metadata": {},
   "outputs": [
    {
     "data": {
      "text/plain": [
       "Text(0, 0.5, 'Percentage')"
      ]
     },
     "execution_count": 20,
     "metadata": {},
     "output_type": "execute_result"
    },
    {
     "data": {
      "image/png": "[encoded data removed]",
      "text/plain": [
       "<Figure size 640x480 with 1 Axes>"
      ]
     },
     "metadata": {},
     "output_type": "display_data"
    }
   ],
   "source": [
    "ss_13_19.plot(kind='line', x = 'year', y = 'Social Services')\n",
    "# Calculate the Trendline\n",
    "z = np.polyfit(x, y, 1)\n",
    "p = np.poly1d(z)\n",
    "plt.plot(ss_13_19['year'], p(x), color=\"purple\", linewidth=3, linestyle=\"--\")\n",
    "plt.title('Social Service Spending')\n",
    "plt.xlabel('Year')\n",
    "plt.ylabel('Percentage')"
   ]
  },
  {
   "cell_type": "code",
   "execution_count": null,
   "metadata": {},
   "outputs": [],
   "source": []
  },
  {
   "cell_type": "code",
   "execution_count": 21,
   "metadata": {},
   "outputs": [],
   "source": [
    "import pandas as pd\n",
    "import numpy as np\n",
    "import matplotlib.pyplot as plt\n",
    "import seaborn as sns\n",
    "%matplotlib inline"
   ]
  },
  {
   "cell_type": "code",
   "execution_count": 22,
   "metadata": {},
   "outputs": [],
   "source": [
    "df1 = pd.read_excel(r\"C:\\Users\\jhank\\Desktop\\DA7\\Projects\\budget-impact-jupyternb-python\\data\\test_scores\\data_ACT-Data-by-District-2012-13.xlsx\",header=1)"
   ]
  },
  {
   "cell_type": "code",
   "execution_count": 23,
   "metadata": {},
   "outputs": [
    {
     "data": {
      "text/html": [
       "<div>\n",
       "<style scoped>\n",
       "    .dataframe tbody tr th:only-of-type {\n",
       "        vertical-align: middle;\n",
       "    }\n",
       "\n",
       "    .dataframe tbody tr th {\n",
       "        vertical-align: top;\n",
       "    }\n",
       "\n",
       "    .dataframe thead th {\n",
       "        text-align: right;\n",
       "    }\n",
       "</style>\n",
       "<table border=\"1\" class=\"dataframe\">\n",
       "  <thead>\n",
       "    <tr style=\"text-align: right;\">\n",
       "      <th></th>\n",
       "      <th>System</th>\n",
       "      <th>2013 Including Extended Time</th>\n",
       "      <th>2013 Standard Time Only</th>\n",
       "      <th>2012 Standard Time Only</th>\n",
       "    </tr>\n",
       "  </thead>\n",
       "  <tbody>\n",
       "    <tr>\n",
       "      <th>0</th>\n",
       "      <td>State</td>\n",
       "      <td>19.048</td>\n",
       "      <td>19.3</td>\n",
       "      <td>19.184</td>\n",
       "    </tr>\n",
       "    <tr>\n",
       "      <th>1</th>\n",
       "      <td>ANDERSON SCHOOL DISTRICT</td>\n",
       "      <td>18.920</td>\n",
       "      <td>19.1</td>\n",
       "      <td>18.932</td>\n",
       "    </tr>\n",
       "    <tr>\n",
       "      <th>2</th>\n",
       "      <td>ALCOA CITY SCHOOLS</td>\n",
       "      <td>21.595</td>\n",
       "      <td>22.2</td>\n",
       "      <td>21.955</td>\n",
       "    </tr>\n",
       "    <tr>\n",
       "      <th>3</th>\n",
       "      <td>BEDFORD COUNTY SCHOOL DISTRICT</td>\n",
       "      <td>17.984</td>\n",
       "      <td>18.3</td>\n",
       "      <td>19.023</td>\n",
       "    </tr>\n",
       "    <tr>\n",
       "      <th>4</th>\n",
       "      <td>BENTON CO BOARD OF EDUCATION</td>\n",
       "      <td>18.376</td>\n",
       "      <td>19.2</td>\n",
       "      <td>19.358</td>\n",
       "    </tr>\n",
       "    <tr>\n",
       "      <th>...</th>\n",
       "      <td>...</td>\n",
       "      <td>...</td>\n",
       "      <td>...</td>\n",
       "      <td>...</td>\n",
       "    </tr>\n",
       "    <tr>\n",
       "      <th>115</th>\n",
       "      <td>WEAKLEY CO SCH DIST</td>\n",
       "      <td>19.462</td>\n",
       "      <td>20.1</td>\n",
       "      <td>20.076</td>\n",
       "    </tr>\n",
       "    <tr>\n",
       "      <th>116</th>\n",
       "      <td>WEST CARROLL SPECIAL SCH DIST</td>\n",
       "      <td>18.197</td>\n",
       "      <td>18.3</td>\n",
       "      <td>18.069</td>\n",
       "    </tr>\n",
       "    <tr>\n",
       "      <th>117</th>\n",
       "      <td>WHITE COUNTY SCHOOL DISTRICT</td>\n",
       "      <td>18.612</td>\n",
       "      <td>18.9</td>\n",
       "      <td>18.369</td>\n",
       "    </tr>\n",
       "    <tr>\n",
       "      <th>118</th>\n",
       "      <td>WILLIAMSON CO SCHOOLS</td>\n",
       "      <td>23.359</td>\n",
       "      <td>23.7</td>\n",
       "      <td>23.134</td>\n",
       "    </tr>\n",
       "    <tr>\n",
       "      <th>119</th>\n",
       "      <td>WILSON CO SCHLS BOE</td>\n",
       "      <td>19.898</td>\n",
       "      <td>20.2</td>\n",
       "      <td>19.896</td>\n",
       "    </tr>\n",
       "  </tbody>\n",
       "</table>\n",
       "<p>120 rows × 4 columns</p>\n",
       "</div>"
      ],
      "text/plain": [
       "                              System  2013 Including Extended Time  \\\n",
       "0                              State                        19.048   \n",
       "1    ANDERSON SCHOOL DISTRICT                               18.920   \n",
       "2    ALCOA CITY SCHOOLS                                     21.595   \n",
       "3    BEDFORD COUNTY SCHOOL DISTRICT                         17.984   \n",
       "4    BENTON CO BOARD OF EDUCATION                           18.376   \n",
       "..                               ...                           ...   \n",
       "115  WEAKLEY CO SCH DIST                                    19.462   \n",
       "116  WEST CARROLL SPECIAL SCH DIST                          18.197   \n",
       "117  WHITE COUNTY SCHOOL DISTRICT                           18.612   \n",
       "118  WILLIAMSON CO SCHOOLS                                  23.359   \n",
       "119  WILSON CO SCHLS BOE                                    19.898   \n",
       "\n",
       "     2013 Standard Time Only  2012 Standard Time Only  \n",
       "0                       19.3                   19.184  \n",
       "1                       19.1                   18.932  \n",
       "2                       22.2                   21.955  \n",
       "3                       18.3                   19.023  \n",
       "4                       19.2                   19.358  \n",
       "..                       ...                      ...  \n",
       "115                     20.1                   20.076  \n",
       "116                     18.3                   18.069  \n",
       "117                     18.9                   18.369  \n",
       "118                     23.7                   23.134  \n",
       "119                     20.2                   19.896  \n",
       "\n",
       "[120 rows x 4 columns]"
      ]
     },
     "execution_count": 23,
     "metadata": {},
     "output_type": "execute_result"
    }
   ],
   "source": [
    "df1"
   ]
  },
  {
   "cell_type": "markdown",
   "metadata": {},
   "source": [
    "2013 ACT"
   ]
  },
  {
   "cell_type": "code",
   "execution_count": 24,
   "metadata": {},
   "outputs": [],
   "source": [
    "#df2014 = df4[(df4['District_Name'] == 'Davidson County')]\n",
    "#df2014 = df2014[['SCHOOL_YEAR', 'K_8_Attendance_Rate_PCT', 'HS_Attendance_Rate_PCT']]\n",
    "#df2014.rename(columns={'SCHOOL_YEAR' : 'year', 'K_8_Attendance_Rate_PCT' : 'k_8', 'HS_Attendance_Rate_PCT' : '9_12'},inplace=True)"
   ]
  },
  {
   "cell_type": "code",
   "execution_count": 25,
   "metadata": {},
   "outputs": [],
   "source": [
    "df2013 = df1[df1['System']=='METRO NASHVILLE-DAVIDSON CO SD ']"
   ]
  },
  {
   "cell_type": "code",
   "execution_count": 26,
   "metadata": {},
   "outputs": [
    {
     "data": {
      "text/html": [
       "<div>\n",
       "<style scoped>\n",
       "    .dataframe tbody tr th:only-of-type {\n",
       "        vertical-align: middle;\n",
       "    }\n",
       "\n",
       "    .dataframe tbody tr th {\n",
       "        vertical-align: top;\n",
       "    }\n",
       "\n",
       "    .dataframe thead th {\n",
       "        text-align: right;\n",
       "    }\n",
       "</style>\n",
       "<table border=\"1\" class=\"dataframe\">\n",
       "  <thead>\n",
       "    <tr style=\"text-align: right;\">\n",
       "      <th></th>\n",
       "      <th>System</th>\n",
       "      <th>2013 Including Extended Time</th>\n",
       "      <th>2013 Standard Time Only</th>\n",
       "      <th>2012 Standard Time Only</th>\n",
       "    </tr>\n",
       "  </thead>\n",
       "  <tbody>\n",
       "    <tr>\n",
       "      <th>77</th>\n",
       "      <td>METRO NASHVILLE-DAVIDSON CO SD</td>\n",
       "      <td>18.203</td>\n",
       "      <td>18.3</td>\n",
       "      <td>18.381</td>\n",
       "    </tr>\n",
       "  </tbody>\n",
       "</table>\n",
       "</div>"
      ],
      "text/plain": [
       "                             System  2013 Including Extended Time  \\\n",
       "77  METRO NASHVILLE-DAVIDSON CO SD                         18.203   \n",
       "\n",
       "    2013 Standard Time Only  2012 Standard Time Only  \n",
       "77                     18.3                   18.381  "
      ]
     },
     "execution_count": 26,
     "metadata": {},
     "output_type": "execute_result"
    }
   ],
   "source": [
    "df2013"
   ]
  },
  {
   "cell_type": "markdown",
   "metadata": {},
   "source": [
    "2014 ACT"
   ]
  },
  {
   "cell_type": "code",
   "execution_count": 27,
   "metadata": {},
   "outputs": [],
   "source": [
    "df2 = pd.read_excel(r\"C:\\Users\\jhank\\Desktop\\DA7\\Projects\\budget-impact-jupyternb-python\\data\\test_scores\\data_ACT-Data-by-District-2013-14.xlsx\", header=1)"
   ]
  },
  {
   "cell_type": "code",
   "execution_count": 28,
   "metadata": {},
   "outputs": [
    {
     "data": {
      "text/html": [
       "<div>\n",
       "<style scoped>\n",
       "    .dataframe tbody tr th:only-of-type {\n",
       "        vertical-align: middle;\n",
       "    }\n",
       "\n",
       "    .dataframe tbody tr th {\n",
       "        vertical-align: top;\n",
       "    }\n",
       "\n",
       "    .dataframe thead th {\n",
       "        text-align: right;\n",
       "    }\n",
       "</style>\n",
       "<table border=\"1\" class=\"dataframe\">\n",
       "  <thead>\n",
       "    <tr style=\"text-align: right;\">\n",
       "      <th></th>\n",
       "      <th>System</th>\n",
       "      <th>2013 Including Extended Time</th>\n",
       "      <th>2013 Standard Time Only</th>\n",
       "      <th>2014 Including Extended Time</th>\n",
       "    </tr>\n",
       "  </thead>\n",
       "  <tbody>\n",
       "    <tr>\n",
       "      <th>0</th>\n",
       "      <td>State</td>\n",
       "      <td>19.048</td>\n",
       "      <td>19.3</td>\n",
       "      <td>19.259</td>\n",
       "    </tr>\n",
       "    <tr>\n",
       "      <th>1</th>\n",
       "      <td>ANDERSON SCHOOL DISTRICT</td>\n",
       "      <td>18.92</td>\n",
       "      <td>19.1</td>\n",
       "      <td>19.33</td>\n",
       "    </tr>\n",
       "    <tr>\n",
       "      <th>2</th>\n",
       "      <td>ALCOA CITY SCHOOLS</td>\n",
       "      <td>21.595</td>\n",
       "      <td>22.2</td>\n",
       "      <td>21.291</td>\n",
       "    </tr>\n",
       "    <tr>\n",
       "      <th>3</th>\n",
       "      <td>BEDFORD COUNTY SCHOOL DISTRICT</td>\n",
       "      <td>17.984</td>\n",
       "      <td>18.3</td>\n",
       "      <td>18.446</td>\n",
       "    </tr>\n",
       "    <tr>\n",
       "      <th>4</th>\n",
       "      <td>BENTON CO BOARD OF EDUCATION</td>\n",
       "      <td>18.376</td>\n",
       "      <td>19.2</td>\n",
       "      <td>18.958</td>\n",
       "    </tr>\n",
       "    <tr>\n",
       "      <th>...</th>\n",
       "      <td>...</td>\n",
       "      <td>...</td>\n",
       "      <td>...</td>\n",
       "      <td>...</td>\n",
       "    </tr>\n",
       "    <tr>\n",
       "      <th>117</th>\n",
       "      <td>WEAKLEY CO SCH DIST</td>\n",
       "      <td>19.462</td>\n",
       "      <td>20.1</td>\n",
       "      <td>20.251</td>\n",
       "    </tr>\n",
       "    <tr>\n",
       "      <th>118</th>\n",
       "      <td>WEST CARROLL SPECIAL SCH DIST</td>\n",
       "      <td>18.197</td>\n",
       "      <td>18.3</td>\n",
       "      <td>18.773</td>\n",
       "    </tr>\n",
       "    <tr>\n",
       "      <th>119</th>\n",
       "      <td>WHITE COUNTY SCHOOL DISTRICT</td>\n",
       "      <td>18.612</td>\n",
       "      <td>18.9</td>\n",
       "      <td>18.621</td>\n",
       "    </tr>\n",
       "    <tr>\n",
       "      <th>120</th>\n",
       "      <td>WILLIAMSON CO SCHOOLS</td>\n",
       "      <td>23.359</td>\n",
       "      <td>23.7</td>\n",
       "      <td>23.515</td>\n",
       "    </tr>\n",
       "    <tr>\n",
       "      <th>121</th>\n",
       "      <td>WILSON CO SCHLS BOE</td>\n",
       "      <td>19.898</td>\n",
       "      <td>20.2</td>\n",
       "      <td>19.735</td>\n",
       "    </tr>\n",
       "  </tbody>\n",
       "</table>\n",
       "<p>122 rows × 4 columns</p>\n",
       "</div>"
      ],
      "text/plain": [
       "                              System 2013 Including Extended Time  \\\n",
       "0                              State                       19.048   \n",
       "1    ANDERSON SCHOOL DISTRICT                               18.92   \n",
       "2    ALCOA CITY SCHOOLS                                    21.595   \n",
       "3    BEDFORD COUNTY SCHOOL DISTRICT                        17.984   \n",
       "4    BENTON CO BOARD OF EDUCATION                          18.376   \n",
       "..                               ...                          ...   \n",
       "117  WEAKLEY CO SCH DIST                                   19.462   \n",
       "118  WEST CARROLL SPECIAL SCH DIST                         18.197   \n",
       "119  WHITE COUNTY SCHOOL DISTRICT                          18.612   \n",
       "120  WILLIAMSON CO SCHOOLS                                 23.359   \n",
       "121  WILSON CO SCHLS BOE                                   19.898   \n",
       "\n",
       "    2013 Standard Time Only 2014 Including Extended Time  \n",
       "0                      19.3                       19.259  \n",
       "1                      19.1                        19.33  \n",
       "2                      22.2                       21.291  \n",
       "3                      18.3                       18.446  \n",
       "4                      19.2                       18.958  \n",
       "..                      ...                          ...  \n",
       "117                    20.1                       20.251  \n",
       "118                    18.3                       18.773  \n",
       "119                    18.9                       18.621  \n",
       "120                    23.7                       23.515  \n",
       "121                    20.2                       19.735  \n",
       "\n",
       "[122 rows x 4 columns]"
      ]
     },
     "execution_count": 28,
     "metadata": {},
     "output_type": "execute_result"
    }
   ],
   "source": [
    "df2"
   ]
  },
  {
   "cell_type": "code",
   "execution_count": 29,
   "metadata": {},
   "outputs": [],
   "source": [
    "df2014 = df2[df2['System']=='METRO NASHVILLE-DAVIDSON CO SD ']"
   ]
  },
  {
   "cell_type": "code",
   "execution_count": 30,
   "metadata": {},
   "outputs": [
    {
     "data": {
      "text/html": [
       "<div>\n",
       "<style scoped>\n",
       "    .dataframe tbody tr th:only-of-type {\n",
       "        vertical-align: middle;\n",
       "    }\n",
       "\n",
       "    .dataframe tbody tr th {\n",
       "        vertical-align: top;\n",
       "    }\n",
       "\n",
       "    .dataframe thead th {\n",
       "        text-align: right;\n",
       "    }\n",
       "</style>\n",
       "<table border=\"1\" class=\"dataframe\">\n",
       "  <thead>\n",
       "    <tr style=\"text-align: right;\">\n",
       "      <th></th>\n",
       "      <th>System</th>\n",
       "      <th>2013 Including Extended Time</th>\n",
       "      <th>2013 Standard Time Only</th>\n",
       "      <th>2014 Including Extended Time</th>\n",
       "    </tr>\n",
       "  </thead>\n",
       "  <tbody>\n",
       "    <tr>\n",
       "      <th>77</th>\n",
       "      <td>METRO NASHVILLE-DAVIDSON CO SD</td>\n",
       "      <td>18.203</td>\n",
       "      <td>18.3</td>\n",
       "      <td>18.417</td>\n",
       "    </tr>\n",
       "  </tbody>\n",
       "</table>\n",
       "</div>"
      ],
      "text/plain": [
       "                             System 2013 Including Extended Time  \\\n",
       "77  METRO NASHVILLE-DAVIDSON CO SD                        18.203   \n",
       "\n",
       "   2013 Standard Time Only 2014 Including Extended Time  \n",
       "77                    18.3                       18.417  "
      ]
     },
     "execution_count": 30,
     "metadata": {},
     "output_type": "execute_result"
    }
   ],
   "source": [
    "df2014"
   ]
  },
  {
   "cell_type": "markdown",
   "metadata": {},
   "source": [
    "2015 ACT"
   ]
  },
  {
   "cell_type": "code",
   "execution_count": 31,
   "metadata": {},
   "outputs": [],
   "source": [
    "df3 = pd.read_excel(r\"C:\\Users\\jhank\\Desktop\\DA7\\Projects\\budget-impact-jupyternb-python\\data\\test_scores\\data_ACT-Data-by-District-2014-15.xlsx\", header=1)"
   ]
  },
  {
   "cell_type": "code",
   "execution_count": 32,
   "metadata": {},
   "outputs": [
    {
     "data": {
      "text/html": [
       "<div>\n",
       "<style scoped>\n",
       "    .dataframe tbody tr th:only-of-type {\n",
       "        vertical-align: middle;\n",
       "    }\n",
       "\n",
       "    .dataframe tbody tr th {\n",
       "        vertical-align: top;\n",
       "    }\n",
       "\n",
       "    .dataframe thead th {\n",
       "        text-align: right;\n",
       "    }\n",
       "</style>\n",
       "<table border=\"1\" class=\"dataframe\">\n",
       "  <thead>\n",
       "    <tr style=\"text-align: right;\">\n",
       "      <th></th>\n",
       "      <th>Unnamed: 0</th>\n",
       "      <th>Unnamed: 1</th>\n",
       "      <th>2014 Including Extended Time</th>\n",
       "      <th>2015 Including Extended Time</th>\n",
       "    </tr>\n",
       "  </thead>\n",
       "  <tbody>\n",
       "    <tr>\n",
       "      <th>0</th>\n",
       "      <td>State</td>\n",
       "      <td>NaN</td>\n",
       "      <td>19.259</td>\n",
       "      <td>19.4</td>\n",
       "    </tr>\n",
       "    <tr>\n",
       "      <th>1</th>\n",
       "      <td>10</td>\n",
       "      <td>ANDERSON SCHOOL DISTRICT</td>\n",
       "      <td>19.330</td>\n",
       "      <td>19.9</td>\n",
       "    </tr>\n",
       "    <tr>\n",
       "      <th>2</th>\n",
       "      <td>12</td>\n",
       "      <td>OAK RIDGE SD</td>\n",
       "      <td>23.260</td>\n",
       "      <td>23.1</td>\n",
       "    </tr>\n",
       "    <tr>\n",
       "      <th>3</th>\n",
       "      <td>20</td>\n",
       "      <td>BEDFORD COUNTY SCHOOL DISTRICT</td>\n",
       "      <td>18.446</td>\n",
       "      <td>18.4</td>\n",
       "    </tr>\n",
       "    <tr>\n",
       "      <th>4</th>\n",
       "      <td>30</td>\n",
       "      <td>BENTON CO BOARD OF EDUCATION</td>\n",
       "      <td>18.958</td>\n",
       "      <td>18.4</td>\n",
       "    </tr>\n",
       "    <tr>\n",
       "      <th>...</th>\n",
       "      <td>...</td>\n",
       "      <td>...</td>\n",
       "      <td>...</td>\n",
       "      <td>...</td>\n",
       "    </tr>\n",
       "    <tr>\n",
       "      <th>121</th>\n",
       "      <td>920</td>\n",
       "      <td>WEAKLEY CO SCH DIST</td>\n",
       "      <td>20.251</td>\n",
       "      <td>19.7</td>\n",
       "    </tr>\n",
       "    <tr>\n",
       "      <th>122</th>\n",
       "      <td>930</td>\n",
       "      <td>WHITE COUNTY SCHOOL DISTRICT</td>\n",
       "      <td>18.621</td>\n",
       "      <td>18.7</td>\n",
       "    </tr>\n",
       "    <tr>\n",
       "      <th>123</th>\n",
       "      <td>940</td>\n",
       "      <td>WILLIAMSON CO SCHOOLS</td>\n",
       "      <td>23.515</td>\n",
       "      <td>23.8</td>\n",
       "    </tr>\n",
       "    <tr>\n",
       "      <th>124</th>\n",
       "      <td>950</td>\n",
       "      <td>WILSON CO SCHLS BOE</td>\n",
       "      <td>19.735</td>\n",
       "      <td>20.0</td>\n",
       "    </tr>\n",
       "    <tr>\n",
       "      <th>125</th>\n",
       "      <td>985</td>\n",
       "      <td>ACHIEVEMENT SCHOOL DISTRICT</td>\n",
       "      <td>NaN</td>\n",
       "      <td>14.2</td>\n",
       "    </tr>\n",
       "  </tbody>\n",
       "</table>\n",
       "<p>126 rows × 4 columns</p>\n",
       "</div>"
      ],
      "text/plain": [
       "    Unnamed: 0                       Unnamed: 1  2014 Including Extended Time  \\\n",
       "0        State                              NaN                        19.259   \n",
       "1           10  ANDERSON SCHOOL DISTRICT                               19.330   \n",
       "2           12  OAK RIDGE SD                                           23.260   \n",
       "3           20  BEDFORD COUNTY SCHOOL DISTRICT                         18.446   \n",
       "4           30  BENTON CO BOARD OF EDUCATION                           18.958   \n",
       "..         ...                              ...                           ...   \n",
       "121        920  WEAKLEY CO SCH DIST                                    20.251   \n",
       "122        930  WHITE COUNTY SCHOOL DISTRICT                           18.621   \n",
       "123        940  WILLIAMSON CO SCHOOLS                                  23.515   \n",
       "124        950  WILSON CO SCHLS BOE                                    19.735   \n",
       "125        985  ACHIEVEMENT SCHOOL DISTRICT                               NaN   \n",
       "\n",
       "     2015 Including Extended Time  \n",
       "0                            19.4  \n",
       "1                            19.9  \n",
       "2                            23.1  \n",
       "3                            18.4  \n",
       "4                            18.4  \n",
       "..                            ...  \n",
       "121                          19.7  \n",
       "122                          18.7  \n",
       "123                          23.8  \n",
       "124                          20.0  \n",
       "125                          14.2  \n",
       "\n",
       "[126 rows x 4 columns]"
      ]
     },
     "execution_count": 32,
     "metadata": {},
     "output_type": "execute_result"
    }
   ],
   "source": [
    "df3"
   ]
  },
  {
   "cell_type": "code",
   "execution_count": 33,
   "metadata": {},
   "outputs": [],
   "source": [
    "df2015 = df3[df3['Unnamed: 1'] == 'METRO NASHVILLE-DAVIDSON CO SD ']"
   ]
  },
  {
   "cell_type": "code",
   "execution_count": 34,
   "metadata": {},
   "outputs": [
    {
     "data": {
      "text/html": [
       "<div>\n",
       "<style scoped>\n",
       "    .dataframe tbody tr th:only-of-type {\n",
       "        vertical-align: middle;\n",
       "    }\n",
       "\n",
       "    .dataframe tbody tr th {\n",
       "        vertical-align: top;\n",
       "    }\n",
       "\n",
       "    .dataframe thead th {\n",
       "        text-align: right;\n",
       "    }\n",
       "</style>\n",
       "<table border=\"1\" class=\"dataframe\">\n",
       "  <thead>\n",
       "    <tr style=\"text-align: right;\">\n",
       "      <th></th>\n",
       "      <th>Unnamed: 0</th>\n",
       "      <th>Unnamed: 1</th>\n",
       "      <th>2014 Including Extended Time</th>\n",
       "      <th>2015 Including Extended Time</th>\n",
       "    </tr>\n",
       "  </thead>\n",
       "  <tbody>\n",
       "    <tr>\n",
       "      <th>29</th>\n",
       "      <td>190</td>\n",
       "      <td>METRO NASHVILLE-DAVIDSON CO SD</td>\n",
       "      <td>18.417</td>\n",
       "      <td>18.7</td>\n",
       "    </tr>\n",
       "  </tbody>\n",
       "</table>\n",
       "</div>"
      ],
      "text/plain": [
       "   Unnamed: 0                       Unnamed: 1  2014 Including Extended Time  \\\n",
       "29        190  METRO NASHVILLE-DAVIDSON CO SD                         18.417   \n",
       "\n",
       "    2015 Including Extended Time  \n",
       "29                          18.7  "
      ]
     },
     "execution_count": 34,
     "metadata": {},
     "output_type": "execute_result"
    }
   ],
   "source": [
    "df2015"
   ]
  },
  {
   "cell_type": "code",
   "execution_count": 35,
   "metadata": {},
   "outputs": [
    {
     "name": "stderr",
     "output_type": "stream",
     "text": [
      "c:\\Users\\jhank\\anaconda3\\lib\\site-packages\\pandas\\core\\frame.py:4906: SettingWithCopyWarning: \n",
      "A value is trying to be set on a copy of a slice from a DataFrame\n",
      "\n",
      "See the caveats in the documentation: https://pandas.pydata.org/pandas-docs/stable/user_guide/indexing.html#returning-a-view-versus-a-copy\n",
      "  return super().drop(\n"
     ]
    }
   ],
   "source": [
    "df2015.drop('Unnamed: 0', axis=1,inplace=True)"
   ]
  },
  {
   "cell_type": "code",
   "execution_count": 36,
   "metadata": {},
   "outputs": [],
   "source": [
    "df2015 = df2015.T"
   ]
  },
  {
   "cell_type": "code",
   "execution_count": 37,
   "metadata": {},
   "outputs": [],
   "source": [
    "df2015 = df2015.reset_index()"
   ]
  },
  {
   "cell_type": "code",
   "execution_count": 38,
   "metadata": {},
   "outputs": [],
   "source": [
    "df2015.columns = ('year','act_avg')"
   ]
  },
  {
   "cell_type": "code",
   "execution_count": 39,
   "metadata": {},
   "outputs": [],
   "source": [
    "df2015.drop([0], inplace=True)"
   ]
  },
  {
   "cell_type": "code",
   "execution_count": 40,
   "metadata": {},
   "outputs": [
    {
     "data": {
      "text/html": [
       "<div>\n",
       "<style scoped>\n",
       "    .dataframe tbody tr th:only-of-type {\n",
       "        vertical-align: middle;\n",
       "    }\n",
       "\n",
       "    .dataframe tbody tr th {\n",
       "        vertical-align: top;\n",
       "    }\n",
       "\n",
       "    .dataframe thead th {\n",
       "        text-align: right;\n",
       "    }\n",
       "</style>\n",
       "<table border=\"1\" class=\"dataframe\">\n",
       "  <thead>\n",
       "    <tr style=\"text-align: right;\">\n",
       "      <th></th>\n",
       "      <th>year</th>\n",
       "      <th>act_avg</th>\n",
       "    </tr>\n",
       "  </thead>\n",
       "  <tbody>\n",
       "    <tr>\n",
       "      <th>1</th>\n",
       "      <td>2014 Including Extended Time</td>\n",
       "      <td>18.417</td>\n",
       "    </tr>\n",
       "    <tr>\n",
       "      <th>2</th>\n",
       "      <td>2015 Including Extended Time</td>\n",
       "      <td>18.7</td>\n",
       "    </tr>\n",
       "  </tbody>\n",
       "</table>\n",
       "</div>"
      ],
      "text/plain": [
       "                           year act_avg\n",
       "1  2014 Including Extended Time  18.417\n",
       "2  2015 Including Extended Time    18.7"
      ]
     },
     "execution_count": 40,
     "metadata": {},
     "output_type": "execute_result"
    }
   ],
   "source": [
    "df2015"
   ]
  },
  {
   "attachments": {},
   "cell_type": "markdown",
   "metadata": {},
   "source": [
    "2016 ACT"
   ]
  },
  {
   "cell_type": "code",
   "execution_count": 41,
   "metadata": {},
   "outputs": [],
   "source": [
    "df4 = pd.read_excel(r\"C:\\Users\\jhank\\Desktop\\DA7\\Projects\\budget-impact-jupyternb-python\\data\\test_scores\\data_2015-16_suppressed_district_level_act.xlsx\")"
   ]
  },
  {
   "cell_type": "code",
   "execution_count": 42,
   "metadata": {},
   "outputs": [],
   "source": [
    "df2016 = df4[df4['District Name'] == 'Davidson County']"
   ]
  },
  {
   "cell_type": "code",
   "execution_count": 43,
   "metadata": {},
   "outputs": [
    {
     "data": {
      "text/html": [
       "<div>\n",
       "<style scoped>\n",
       "    .dataframe tbody tr th:only-of-type {\n",
       "        vertical-align: middle;\n",
       "    }\n",
       "\n",
       "    .dataframe tbody tr th {\n",
       "        vertical-align: top;\n",
       "    }\n",
       "\n",
       "    .dataframe thead th {\n",
       "        text-align: right;\n",
       "    }\n",
       "</style>\n",
       "<table border=\"1\" class=\"dataframe\">\n",
       "  <thead>\n",
       "    <tr style=\"text-align: right;\">\n",
       "      <th></th>\n",
       "      <th>District</th>\n",
       "      <th>District Name</th>\n",
       "      <th>Subgroup</th>\n",
       "      <th>Valid Tests</th>\n",
       "      <th>Participation Rate</th>\n",
       "      <th>Average English Score</th>\n",
       "      <th>Average Math Score</th>\n",
       "      <th>Average Reading Score</th>\n",
       "      <th>Average Science Score</th>\n",
       "      <th>Average Composite Score</th>\n",
       "      <th>Percent Scoring 21 or Higher</th>\n",
       "      <th>Percent Scoring Below 19</th>\n",
       "    </tr>\n",
       "  </thead>\n",
       "  <tbody>\n",
       "    <tr>\n",
       "      <th>28</th>\n",
       "      <td>190</td>\n",
       "      <td>Davidson County</td>\n",
       "      <td>All Students</td>\n",
       "      <td>3865</td>\n",
       "      <td>88</td>\n",
       "      <td>18.1</td>\n",
       "      <td>18.1</td>\n",
       "      <td>19.3</td>\n",
       "      <td>18.9</td>\n",
       "      <td>18.7</td>\n",
       "      <td>31.3</td>\n",
       "      <td>55.5</td>\n",
       "    </tr>\n",
       "  </tbody>\n",
       "</table>\n",
       "</div>"
      ],
      "text/plain": [
       "    District    District Name      Subgroup  Valid Tests Participation Rate  \\\n",
       "28       190  Davidson County  All Students         3865                 88   \n",
       "\n",
       "   Average English Score Average Math Score Average Reading Score  \\\n",
       "28                  18.1               18.1                  19.3   \n",
       "\n",
       "   Average Science Score Average Composite Score Percent Scoring 21 or Higher  \\\n",
       "28                  18.9                    18.7                         31.3   \n",
       "\n",
       "   Percent Scoring Below 19  \n",
       "28                     55.5  "
      ]
     },
     "execution_count": 43,
     "metadata": {},
     "output_type": "execute_result"
    }
   ],
   "source": [
    "df2016"
   ]
  },
  {
   "cell_type": "code",
   "execution_count": 44,
   "metadata": {},
   "outputs": [],
   "source": [
    "df2016 = df2016[['Average Composite Score']]"
   ]
  },
  {
   "cell_type": "code",
   "execution_count": 45,
   "metadata": {},
   "outputs": [
    {
     "data": {
      "text/html": [
       "<div>\n",
       "<style scoped>\n",
       "    .dataframe tbody tr th:only-of-type {\n",
       "        vertical-align: middle;\n",
       "    }\n",
       "\n",
       "    .dataframe tbody tr th {\n",
       "        vertical-align: top;\n",
       "    }\n",
       "\n",
       "    .dataframe thead th {\n",
       "        text-align: right;\n",
       "    }\n",
       "</style>\n",
       "<table border=\"1\" class=\"dataframe\">\n",
       "  <thead>\n",
       "    <tr style=\"text-align: right;\">\n",
       "      <th></th>\n",
       "      <th>Average Composite Score</th>\n",
       "    </tr>\n",
       "  </thead>\n",
       "  <tbody>\n",
       "    <tr>\n",
       "      <th>28</th>\n",
       "      <td>18.7</td>\n",
       "    </tr>\n",
       "  </tbody>\n",
       "</table>\n",
       "</div>"
      ],
      "text/plain": [
       "   Average Composite Score\n",
       "28                    18.7"
      ]
     },
     "execution_count": 45,
     "metadata": {},
     "output_type": "execute_result"
    }
   ],
   "source": [
    "df2016"
   ]
  },
  {
   "cell_type": "code",
   "execution_count": 46,
   "metadata": {},
   "outputs": [],
   "source": [
    "df5 = pd.read_excel(r\"C:\\Users\\jhank\\Desktop\\DA7\\Projects\\budget-impact-jupyternb-python\\data\\test_scores\\data_ACT-Data-by-District-2016-17.xlsx\")"
   ]
  },
  {
   "cell_type": "code",
   "execution_count": 47,
   "metadata": {},
   "outputs": [
    {
     "data": {
      "text/html": [
       "<div>\n",
       "<style scoped>\n",
       "    .dataframe tbody tr th:only-of-type {\n",
       "        vertical-align: middle;\n",
       "    }\n",
       "\n",
       "    .dataframe tbody tr th {\n",
       "        vertical-align: top;\n",
       "    }\n",
       "\n",
       "    .dataframe thead th {\n",
       "        text-align: right;\n",
       "    }\n",
       "</style>\n",
       "<table border=\"1\" class=\"dataframe\">\n",
       "  <thead>\n",
       "    <tr style=\"text-align: right;\">\n",
       "      <th></th>\n",
       "      <th>District</th>\n",
       "      <th>District Name</th>\n",
       "      <th>Subgroup</th>\n",
       "      <th>Valid Tests</th>\n",
       "      <th>Participation Rate</th>\n",
       "      <th>Average English Score</th>\n",
       "      <th>Average Math Score</th>\n",
       "      <th>Average Reading Score</th>\n",
       "      <th>Average Science Score</th>\n",
       "      <th>Average Composite Score</th>\n",
       "      <th>Number Scoring 21 or Higher</th>\n",
       "      <th>Percent Scoring 21 or Higher</th>\n",
       "      <th>Number Scoring Below 19</th>\n",
       "      <th>Percent Scoring Below 19</th>\n",
       "    </tr>\n",
       "  </thead>\n",
       "  <tbody>\n",
       "    <tr>\n",
       "      <th>65</th>\n",
       "      <td>190</td>\n",
       "      <td>Davidson County</td>\n",
       "      <td>All Students</td>\n",
       "      <td>4027</td>\n",
       "      <td>91.0</td>\n",
       "      <td>18.1</td>\n",
       "      <td>18.4</td>\n",
       "      <td>19.3</td>\n",
       "      <td>19.3</td>\n",
       "      <td>19</td>\n",
       "      <td>1278</td>\n",
       "      <td>31.7</td>\n",
       "      <td>2226</td>\n",
       "      <td>55.3</td>\n",
       "    </tr>\n",
       "    <tr>\n",
       "      <th>66</th>\n",
       "      <td>190</td>\n",
       "      <td>Davidson County</td>\n",
       "      <td>Black/Hispanic/Native American</td>\n",
       "      <td>2592</td>\n",
       "      <td>90.0</td>\n",
       "      <td>16.4</td>\n",
       "      <td>17.2</td>\n",
       "      <td>17.8</td>\n",
       "      <td>18</td>\n",
       "      <td>17.5</td>\n",
       "      <td>537</td>\n",
       "      <td>20.7</td>\n",
       "      <td>1741</td>\n",
       "      <td>67.2</td>\n",
       "    </tr>\n",
       "    <tr>\n",
       "      <th>67</th>\n",
       "      <td>190</td>\n",
       "      <td>Davidson County</td>\n",
       "      <td>Economically Disadvantaged</td>\n",
       "      <td>1849</td>\n",
       "      <td>88.0</td>\n",
       "      <td>16.1</td>\n",
       "      <td>17</td>\n",
       "      <td>17.4</td>\n",
       "      <td>17.8</td>\n",
       "      <td>17.2</td>\n",
       "      <td>329</td>\n",
       "      <td>17.8</td>\n",
       "      <td>1302</td>\n",
       "      <td>70.4</td>\n",
       "    </tr>\n",
       "    <tr>\n",
       "      <th>68</th>\n",
       "      <td>190</td>\n",
       "      <td>Davidson County</td>\n",
       "      <td>English Language Learners with T1/T2</td>\n",
       "      <td>444</td>\n",
       "      <td>87.0</td>\n",
       "      <td>13.6</td>\n",
       "      <td>16.2</td>\n",
       "      <td>15.1</td>\n",
       "      <td>16.5</td>\n",
       "      <td>15.5</td>\n",
       "      <td>29</td>\n",
       "      <td>6.5</td>\n",
       "      <td>381</td>\n",
       "      <td>85.8</td>\n",
       "    </tr>\n",
       "    <tr>\n",
       "      <th>69</th>\n",
       "      <td>190</td>\n",
       "      <td>Davidson County</td>\n",
       "      <td>Students with Disabilities</td>\n",
       "      <td>362</td>\n",
       "      <td>85.0</td>\n",
       "      <td>13.9</td>\n",
       "      <td>15.8</td>\n",
       "      <td>15.7</td>\n",
       "      <td>16.2</td>\n",
       "      <td>15.5</td>\n",
       "      <td>39</td>\n",
       "      <td>10.8</td>\n",
       "      <td>305</td>\n",
       "      <td>84.3</td>\n",
       "    </tr>\n",
       "  </tbody>\n",
       "</table>\n",
       "</div>"
      ],
      "text/plain": [
       "    District    District Name                              Subgroup  \\\n",
       "65       190  Davidson County                          All Students   \n",
       "66       190  Davidson County        Black/Hispanic/Native American   \n",
       "67       190  Davidson County            Economically Disadvantaged   \n",
       "68       190  Davidson County  English Language Learners with T1/T2   \n",
       "69       190  Davidson County            Students with Disabilities   \n",
       "\n",
       "    Valid Tests  Participation Rate Average English Score Average Math Score  \\\n",
       "65         4027                91.0                  18.1               18.4   \n",
       "66         2592                90.0                  16.4               17.2   \n",
       "67         1849                88.0                  16.1                 17   \n",
       "68          444                87.0                  13.6               16.2   \n",
       "69          362                85.0                  13.9               15.8   \n",
       "\n",
       "   Average Reading Score Average Science Score Average Composite Score  \\\n",
       "65                  19.3                  19.3                      19   \n",
       "66                  17.8                    18                    17.5   \n",
       "67                  17.4                  17.8                    17.2   \n",
       "68                  15.1                  16.5                    15.5   \n",
       "69                  15.7                  16.2                    15.5   \n",
       "\n",
       "   Number Scoring 21 or Higher Percent Scoring 21 or Higher  \\\n",
       "65                        1278                         31.7   \n",
       "66                         537                         20.7   \n",
       "67                         329                         17.8   \n",
       "68                          29                          6.5   \n",
       "69                          39                         10.8   \n",
       "\n",
       "   Number Scoring Below 19 Percent Scoring Below 19  \n",
       "65                    2226                     55.3  \n",
       "66                    1741                     67.2  \n",
       "67                    1302                     70.4  \n",
       "68                     381                     85.8  \n",
       "69                     305                     84.3  "
      ]
     },
     "execution_count": 47,
     "metadata": {},
     "output_type": "execute_result"
    }
   ],
   "source": [
    "df2017 = df5[df5['District Name'] == 'Davidson County']\n",
    "df2017"
   ]
  },
  {
   "cell_type": "code",
   "execution_count": 48,
   "metadata": {},
   "outputs": [
    {
     "data": {
      "text/html": [
       "<div>\n",
       "<style scoped>\n",
       "    .dataframe tbody tr th:only-of-type {\n",
       "        vertical-align: middle;\n",
       "    }\n",
       "\n",
       "    .dataframe tbody tr th {\n",
       "        vertical-align: top;\n",
       "    }\n",
       "\n",
       "    .dataframe thead th {\n",
       "        text-align: right;\n",
       "    }\n",
       "</style>\n",
       "<table border=\"1\" class=\"dataframe\">\n",
       "  <thead>\n",
       "    <tr style=\"text-align: right;\">\n",
       "      <th></th>\n",
       "      <th>District</th>\n",
       "      <th>District Name</th>\n",
       "      <th>Subgroup</th>\n",
       "      <th>Valid Tests</th>\n",
       "      <th>Participation Rate</th>\n",
       "      <th>Average English Score</th>\n",
       "      <th>Average Math Score</th>\n",
       "      <th>Average Reading Score</th>\n",
       "      <th>Average Science Score</th>\n",
       "      <th>Average Composite Score</th>\n",
       "      <th>Number Scoring 21 or Higher</th>\n",
       "      <th>Percent Scoring 21 or Higher</th>\n",
       "      <th>Number Scoring Below 19</th>\n",
       "      <th>Percent Scoring Below 19</th>\n",
       "    </tr>\n",
       "  </thead>\n",
       "  <tbody>\n",
       "    <tr>\n",
       "      <th>65</th>\n",
       "      <td>190</td>\n",
       "      <td>Davidson County</td>\n",
       "      <td>All Students</td>\n",
       "      <td>4027</td>\n",
       "      <td>91.0</td>\n",
       "      <td>18.1</td>\n",
       "      <td>18.4</td>\n",
       "      <td>19.3</td>\n",
       "      <td>19.3</td>\n",
       "      <td>19</td>\n",
       "      <td>1278</td>\n",
       "      <td>31.7</td>\n",
       "      <td>2226</td>\n",
       "      <td>55.3</td>\n",
       "    </tr>\n",
       "  </tbody>\n",
       "</table>\n",
       "</div>"
      ],
      "text/plain": [
       "    District    District Name      Subgroup  Valid Tests  Participation Rate  \\\n",
       "65       190  Davidson County  All Students         4027                91.0   \n",
       "\n",
       "   Average English Score Average Math Score Average Reading Score  \\\n",
       "65                  18.1               18.4                  19.3   \n",
       "\n",
       "   Average Science Score Average Composite Score Number Scoring 21 or Higher  \\\n",
       "65                  19.3                      19                        1278   \n",
       "\n",
       "   Percent Scoring 21 or Higher Number Scoring Below 19  \\\n",
       "65                         31.7                    2226   \n",
       "\n",
       "   Percent Scoring Below 19  \n",
       "65                     55.3  "
      ]
     },
     "execution_count": 48,
     "metadata": {},
     "output_type": "execute_result"
    }
   ],
   "source": [
    "df2017 = df2017[df2017['Subgroup'] == 'All Students']\n",
    "df2017"
   ]
  },
  {
   "cell_type": "code",
   "execution_count": 49,
   "metadata": {},
   "outputs": [
    {
     "data": {
      "text/html": [
       "<div>\n",
       "<style scoped>\n",
       "    .dataframe tbody tr th:only-of-type {\n",
       "        vertical-align: middle;\n",
       "    }\n",
       "\n",
       "    .dataframe tbody tr th {\n",
       "        vertical-align: top;\n",
       "    }\n",
       "\n",
       "    .dataframe thead th {\n",
       "        text-align: right;\n",
       "    }\n",
       "</style>\n",
       "<table border=\"1\" class=\"dataframe\">\n",
       "  <thead>\n",
       "    <tr style=\"text-align: right;\">\n",
       "      <th></th>\n",
       "      <th>Average Composite Score</th>\n",
       "    </tr>\n",
       "  </thead>\n",
       "  <tbody>\n",
       "    <tr>\n",
       "      <th>65</th>\n",
       "      <td>19</td>\n",
       "    </tr>\n",
       "  </tbody>\n",
       "</table>\n",
       "</div>"
      ],
      "text/plain": [
       "   Average Composite Score\n",
       "65                      19"
      ]
     },
     "execution_count": 49,
     "metadata": {},
     "output_type": "execute_result"
    }
   ],
   "source": [
    "df2017 = df2017[['Average Composite Score']]\n",
    "df2017"
   ]
  },
  {
   "attachments": {},
   "cell_type": "markdown",
   "metadata": {},
   "source": [
    "2018 act"
   ]
  },
  {
   "cell_type": "code",
   "execution_count": 50,
   "metadata": {},
   "outputs": [],
   "source": [
    "df6 = pd.read_excel(r\"C:\\Users\\jhank\\Desktop\\DA7\\Projects\\budget-impact-jupyternb-python\\data\\test_scores\\2017-18 ACT_district_suppressed.xlsx\")"
   ]
  },
  {
   "cell_type": "code",
   "execution_count": 51,
   "metadata": {},
   "outputs": [
    {
     "data": {
      "text/html": [
       "<div>\n",
       "<style scoped>\n",
       "    .dataframe tbody tr th:only-of-type {\n",
       "        vertical-align: middle;\n",
       "    }\n",
       "\n",
       "    .dataframe tbody tr th {\n",
       "        vertical-align: top;\n",
       "    }\n",
       "\n",
       "    .dataframe thead th {\n",
       "        text-align: right;\n",
       "    }\n",
       "</style>\n",
       "<table border=\"1\" class=\"dataframe\">\n",
       "  <thead>\n",
       "    <tr style=\"text-align: right;\">\n",
       "      <th></th>\n",
       "      <th>District</th>\n",
       "      <th>District Name</th>\n",
       "      <th>Subgroup</th>\n",
       "      <th>Valid Tests</th>\n",
       "      <th>Participation Rate</th>\n",
       "      <th>Average English Score</th>\n",
       "      <th>Average Math Score</th>\n",
       "      <th>Average Reading Score</th>\n",
       "      <th>Average Science Score</th>\n",
       "      <th>Average Composite Score</th>\n",
       "      <th>Number Scoring 21 or Higher</th>\n",
       "      <th>Percent Scoring 21 or Higher</th>\n",
       "      <th>Number Scoring Below 19</th>\n",
       "      <th>Percent Scoring Below 19</th>\n",
       "    </tr>\n",
       "  </thead>\n",
       "  <tbody>\n",
       "    <tr>\n",
       "      <th>0</th>\n",
       "      <td>10</td>\n",
       "      <td>Anderson County</td>\n",
       "      <td>All Students</td>\n",
       "      <td>505</td>\n",
       "      <td>97</td>\n",
       "      <td>18.8</td>\n",
       "      <td>18.9</td>\n",
       "      <td>19.8</td>\n",
       "      <td>19.7</td>\n",
       "      <td>19.4</td>\n",
       "      <td>191</td>\n",
       "      <td>38</td>\n",
       "      <td>249</td>\n",
       "      <td>49.6</td>\n",
       "    </tr>\n",
       "    <tr>\n",
       "      <th>1</th>\n",
       "      <td>10</td>\n",
       "      <td>Anderson County</td>\n",
       "      <td>Black/Hispanic/Native American</td>\n",
       "      <td>29</td>\n",
       "      <td>100</td>\n",
       "      <td>15.9</td>\n",
       "      <td>17.1</td>\n",
       "      <td>17.4</td>\n",
       "      <td>17.3</td>\n",
       "      <td>17</td>\n",
       "      <td>4</td>\n",
       "      <td>14.3</td>\n",
       "      <td>21</td>\n",
       "      <td>75</td>\n",
       "    </tr>\n",
       "    <tr>\n",
       "      <th>2</th>\n",
       "      <td>10</td>\n",
       "      <td>Anderson County</td>\n",
       "      <td>Economically Disadvantaged</td>\n",
       "      <td>157</td>\n",
       "      <td>94</td>\n",
       "      <td>16.3</td>\n",
       "      <td>17.2</td>\n",
       "      <td>17.5</td>\n",
       "      <td>17.3</td>\n",
       "      <td>17.2</td>\n",
       "      <td>37</td>\n",
       "      <td>23.7</td>\n",
       "      <td>105</td>\n",
       "      <td>67.3</td>\n",
       "    </tr>\n",
       "    <tr>\n",
       "      <th>3</th>\n",
       "      <td>10</td>\n",
       "      <td>Anderson County</td>\n",
       "      <td>English Learners</td>\n",
       "      <td>3</td>\n",
       "      <td>*</td>\n",
       "      <td>*</td>\n",
       "      <td>*</td>\n",
       "      <td>*</td>\n",
       "      <td>*</td>\n",
       "      <td>*</td>\n",
       "      <td>*</td>\n",
       "      <td>*</td>\n",
       "      <td>*</td>\n",
       "      <td>*</td>\n",
       "    </tr>\n",
       "    <tr>\n",
       "      <th>4</th>\n",
       "      <td>10</td>\n",
       "      <td>Anderson County</td>\n",
       "      <td>Students with Disabilities</td>\n",
       "      <td>73</td>\n",
       "      <td>96</td>\n",
       "      <td>12.9</td>\n",
       "      <td>15.6</td>\n",
       "      <td>14.3</td>\n",
       "      <td>15</td>\n",
       "      <td>14.6</td>\n",
       "      <td>5</td>\n",
       "      <td>6.9</td>\n",
       "      <td>66</td>\n",
       "      <td>91.7</td>\n",
       "    </tr>\n",
       "    <tr>\n",
       "      <th>...</th>\n",
       "      <td>...</td>\n",
       "      <td>...</td>\n",
       "      <td>...</td>\n",
       "      <td>...</td>\n",
       "      <td>...</td>\n",
       "      <td>...</td>\n",
       "      <td>...</td>\n",
       "      <td>...</td>\n",
       "      <td>...</td>\n",
       "      <td>...</td>\n",
       "      <td>...</td>\n",
       "      <td>...</td>\n",
       "      <td>...</td>\n",
       "      <td>...</td>\n",
       "    </tr>\n",
       "    <tr>\n",
       "      <th>640</th>\n",
       "      <td>985</td>\n",
       "      <td>Achievement School District</td>\n",
       "      <td>All Students</td>\n",
       "      <td>395</td>\n",
       "      <td>83</td>\n",
       "      <td>14</td>\n",
       "      <td>15.6</td>\n",
       "      <td>15.7</td>\n",
       "      <td>15.9</td>\n",
       "      <td>15.5</td>\n",
       "      <td>23</td>\n",
       "      <td>5.8</td>\n",
       "      <td>345</td>\n",
       "      <td>87.6</td>\n",
       "    </tr>\n",
       "    <tr>\n",
       "      <th>641</th>\n",
       "      <td>985</td>\n",
       "      <td>Achievement School District</td>\n",
       "      <td>Black/Hispanic/Native American</td>\n",
       "      <td>390</td>\n",
       "      <td>83</td>\n",
       "      <td>14</td>\n",
       "      <td>15.6</td>\n",
       "      <td>15.8</td>\n",
       "      <td>15.9</td>\n",
       "      <td>15.5</td>\n",
       "      <td>23</td>\n",
       "      <td>5.9</td>\n",
       "      <td>340</td>\n",
       "      <td>87.4</td>\n",
       "    </tr>\n",
       "    <tr>\n",
       "      <th>642</th>\n",
       "      <td>985</td>\n",
       "      <td>Achievement School District</td>\n",
       "      <td>Economically Disadvantaged</td>\n",
       "      <td>312</td>\n",
       "      <td>83</td>\n",
       "      <td>13.8</td>\n",
       "      <td>15.6</td>\n",
       "      <td>15.6</td>\n",
       "      <td>15.8</td>\n",
       "      <td>15.4</td>\n",
       "      <td>18</td>\n",
       "      <td>5.8</td>\n",
       "      <td>275</td>\n",
       "      <td>88.4</td>\n",
       "    </tr>\n",
       "    <tr>\n",
       "      <th>643</th>\n",
       "      <td>985</td>\n",
       "      <td>Achievement School District</td>\n",
       "      <td>English Learners</td>\n",
       "      <td>13</td>\n",
       "      <td>81</td>\n",
       "      <td>13.8</td>\n",
       "      <td>15.2</td>\n",
       "      <td>16.5</td>\n",
       "      <td>16.9</td>\n",
       "      <td>15.8</td>\n",
       "      <td>1</td>\n",
       "      <td>7.7</td>\n",
       "      <td>11</td>\n",
       "      <td>84.6</td>\n",
       "    </tr>\n",
       "    <tr>\n",
       "      <th>644</th>\n",
       "      <td>985</td>\n",
       "      <td>Achievement School District</td>\n",
       "      <td>Students with Disabilities</td>\n",
       "      <td>44</td>\n",
       "      <td>59</td>\n",
       "      <td>11.4</td>\n",
       "      <td>14.8</td>\n",
       "      <td>13.2</td>\n",
       "      <td>14.4</td>\n",
       "      <td>13.7</td>\n",
       "      <td>**</td>\n",
       "      <td>**</td>\n",
       "      <td>**</td>\n",
       "      <td>**</td>\n",
       "    </tr>\n",
       "  </tbody>\n",
       "</table>\n",
       "<p>645 rows × 14 columns</p>\n",
       "</div>"
      ],
      "text/plain": [
       "     District                District Name                        Subgroup  \\\n",
       "0          10              Anderson County                    All Students   \n",
       "1          10              Anderson County  Black/Hispanic/Native American   \n",
       "2          10              Anderson County      Economically Disadvantaged   \n",
       "3          10              Anderson County                English Learners   \n",
       "4          10              Anderson County      Students with Disabilities   \n",
       "..        ...                          ...                             ...   \n",
       "640       985  Achievement School District                    All Students   \n",
       "641       985  Achievement School District  Black/Hispanic/Native American   \n",
       "642       985  Achievement School District      Economically Disadvantaged   \n",
       "643       985  Achievement School District                English Learners   \n",
       "644       985  Achievement School District      Students with Disabilities   \n",
       "\n",
       "     Valid Tests Participation Rate Average English Score Average Math Score  \\\n",
       "0            505                 97                  18.8               18.9   \n",
       "1             29                100                  15.9               17.1   \n",
       "2            157                 94                  16.3               17.2   \n",
       "3              3                  *                     *                  *   \n",
       "4             73                 96                  12.9               15.6   \n",
       "..           ...                ...                   ...                ...   \n",
       "640          395                 83                    14               15.6   \n",
       "641          390                 83                    14               15.6   \n",
       "642          312                 83                  13.8               15.6   \n",
       "643           13                 81                  13.8               15.2   \n",
       "644           44                 59                  11.4               14.8   \n",
       "\n",
       "    Average Reading Score Average Science Score Average Composite Score  \\\n",
       "0                    19.8                  19.7                    19.4   \n",
       "1                    17.4                  17.3                      17   \n",
       "2                    17.5                  17.3                    17.2   \n",
       "3                       *                     *                       *   \n",
       "4                    14.3                    15                    14.6   \n",
       "..                    ...                   ...                     ...   \n",
       "640                  15.7                  15.9                    15.5   \n",
       "641                  15.8                  15.9                    15.5   \n",
       "642                  15.6                  15.8                    15.4   \n",
       "643                  16.5                  16.9                    15.8   \n",
       "644                  13.2                  14.4                    13.7   \n",
       "\n",
       "    Number Scoring 21 or Higher Percent Scoring 21 or Higher  \\\n",
       "0                           191                           38   \n",
       "1                             4                         14.3   \n",
       "2                            37                         23.7   \n",
       "3                             *                            *   \n",
       "4                             5                          6.9   \n",
       "..                          ...                          ...   \n",
       "640                          23                          5.8   \n",
       "641                          23                          5.9   \n",
       "642                          18                          5.8   \n",
       "643                           1                          7.7   \n",
       "644                          **                           **   \n",
       "\n",
       "    Number Scoring Below 19 Percent Scoring Below 19  \n",
       "0                       249                     49.6  \n",
       "1                        21                       75  \n",
       "2                       105                     67.3  \n",
       "3                         *                        *  \n",
       "4                        66                     91.7  \n",
       "..                      ...                      ...  \n",
       "640                     345                     87.6  \n",
       "641                     340                     87.4  \n",
       "642                     275                     88.4  \n",
       "643                      11                     84.6  \n",
       "644                      **                       **  \n",
       "\n",
       "[645 rows x 14 columns]"
      ]
     },
     "execution_count": 51,
     "metadata": {},
     "output_type": "execute_result"
    }
   ],
   "source": [
    "df6"
   ]
  },
  {
   "cell_type": "code",
   "execution_count": 52,
   "metadata": {},
   "outputs": [],
   "source": [
    "df2018 = df6[df6['District Name'] == 'Davidson County']\n",
    "df2018 = df2018[df2018['Subgroup'] == 'All Students']\n",
    "df2018 = df2018[['Average Composite Score']]"
   ]
  },
  {
   "cell_type": "code",
   "execution_count": 53,
   "metadata": {},
   "outputs": [],
   "source": [
    "df2018['year'] = 2018"
   ]
  },
  {
   "cell_type": "code",
   "execution_count": 54,
   "metadata": {},
   "outputs": [
    {
     "data": {
      "text/html": [
       "<div>\n",
       "<style scoped>\n",
       "    .dataframe tbody tr th:only-of-type {\n",
       "        vertical-align: middle;\n",
       "    }\n",
       "\n",
       "    .dataframe tbody tr th {\n",
       "        vertical-align: top;\n",
       "    }\n",
       "\n",
       "    .dataframe thead th {\n",
       "        text-align: right;\n",
       "    }\n",
       "</style>\n",
       "<table border=\"1\" class=\"dataframe\">\n",
       "  <thead>\n",
       "    <tr style=\"text-align: right;\">\n",
       "      <th></th>\n",
       "      <th>Average Composite Score</th>\n",
       "      <th>year</th>\n",
       "    </tr>\n",
       "  </thead>\n",
       "  <tbody>\n",
       "    <tr>\n",
       "      <th>140</th>\n",
       "      <td>18.9</td>\n",
       "      <td>2018</td>\n",
       "    </tr>\n",
       "  </tbody>\n",
       "</table>\n",
       "</div>"
      ],
      "text/plain": [
       "    Average Composite Score  year\n",
       "140                    18.9  2018"
      ]
     },
     "execution_count": 54,
     "metadata": {},
     "output_type": "execute_result"
    }
   ],
   "source": [
    "df2018"
   ]
  },
  {
   "attachments": {},
   "cell_type": "markdown",
   "metadata": {},
   "source": [
    "2019 ACT"
   ]
  },
  {
   "cell_type": "code",
   "execution_count": 55,
   "metadata": {},
   "outputs": [],
   "source": [
    "df7 = pd.read_excel(r\"C:\\Users\\jhank\\Desktop\\DA7\\Projects\\budget-impact-jupyternb-python\\data\\test_scores\\ACT_district_suppressed_2019.xlsx\")"
   ]
  },
  {
   "cell_type": "code",
   "execution_count": 56,
   "metadata": {},
   "outputs": [
    {
     "data": {
      "text/html": [
       "<div>\n",
       "<style scoped>\n",
       "    .dataframe tbody tr th:only-of-type {\n",
       "        vertical-align: middle;\n",
       "    }\n",
       "\n",
       "    .dataframe tbody tr th {\n",
       "        vertical-align: top;\n",
       "    }\n",
       "\n",
       "    .dataframe thead th {\n",
       "        text-align: right;\n",
       "    }\n",
       "</style>\n",
       "<table border=\"1\" class=\"dataframe\">\n",
       "  <thead>\n",
       "    <tr style=\"text-align: right;\">\n",
       "      <th></th>\n",
       "      <th>District</th>\n",
       "      <th>District Name</th>\n",
       "      <th>Subgroup</th>\n",
       "      <th>Valid Tests</th>\n",
       "      <th>Participation Rate</th>\n",
       "      <th>Average English Score</th>\n",
       "      <th>Average Math Score</th>\n",
       "      <th>Average Reading Score</th>\n",
       "      <th>Average Science Score</th>\n",
       "      <th>Average Composite Score</th>\n",
       "      <th>Number Scoring 21 or Higher</th>\n",
       "      <th>Percent Scoring 21 or Higher</th>\n",
       "      <th>Number Scoring Below 19</th>\n",
       "      <th>Percent Scoring Below 19</th>\n",
       "    </tr>\n",
       "  </thead>\n",
       "  <tbody>\n",
       "    <tr>\n",
       "      <th>0</th>\n",
       "      <td>10</td>\n",
       "      <td>Anderson County</td>\n",
       "      <td>All Students</td>\n",
       "      <td>527</td>\n",
       "      <td>100</td>\n",
       "      <td>19</td>\n",
       "      <td>18.7</td>\n",
       "      <td>19.9</td>\n",
       "      <td>19.6</td>\n",
       "      <td>19.5</td>\n",
       "      <td>198</td>\n",
       "      <td>37.6</td>\n",
       "      <td>254</td>\n",
       "      <td>48.2</td>\n",
       "    </tr>\n",
       "    <tr>\n",
       "      <th>1</th>\n",
       "      <td>10</td>\n",
       "      <td>Anderson County</td>\n",
       "      <td>Black/Hispanic/Native American</td>\n",
       "      <td>17</td>\n",
       "      <td>100</td>\n",
       "      <td>18</td>\n",
       "      <td>17.8</td>\n",
       "      <td>17.5</td>\n",
       "      <td>18.3</td>\n",
       "      <td>17.9</td>\n",
       "      <td>5</td>\n",
       "      <td>29.4</td>\n",
       "      <td>10</td>\n",
       "      <td>58.8</td>\n",
       "    </tr>\n",
       "    <tr>\n",
       "      <th>2</th>\n",
       "      <td>10</td>\n",
       "      <td>Anderson County</td>\n",
       "      <td>Economically Disadvantaged</td>\n",
       "      <td>189</td>\n",
       "      <td>99</td>\n",
       "      <td>17.1</td>\n",
       "      <td>17.2</td>\n",
       "      <td>18.6</td>\n",
       "      <td>18.1</td>\n",
       "      <td>17.9</td>\n",
       "      <td>43</td>\n",
       "      <td>22.8</td>\n",
       "      <td>118</td>\n",
       "      <td>62.4</td>\n",
       "    </tr>\n",
       "    <tr>\n",
       "      <th>3</th>\n",
       "      <td>10</td>\n",
       "      <td>Anderson County</td>\n",
       "      <td>English Learners</td>\n",
       "      <td>3</td>\n",
       "      <td>*</td>\n",
       "      <td>*</td>\n",
       "      <td>*</td>\n",
       "      <td>*</td>\n",
       "      <td>*</td>\n",
       "      <td>*</td>\n",
       "      <td>*</td>\n",
       "      <td>*</td>\n",
       "      <td>*</td>\n",
       "      <td>*</td>\n",
       "    </tr>\n",
       "    <tr>\n",
       "      <th>4</th>\n",
       "      <td>10</td>\n",
       "      <td>Anderson County</td>\n",
       "      <td>Students with Disabilities</td>\n",
       "      <td>76</td>\n",
       "      <td>100</td>\n",
       "      <td>12.5</td>\n",
       "      <td>15.5</td>\n",
       "      <td>14.5</td>\n",
       "      <td>15.1</td>\n",
       "      <td>14.6</td>\n",
       "      <td>2</td>\n",
       "      <td>2.6</td>\n",
       "      <td>71</td>\n",
       "      <td>93.4</td>\n",
       "    </tr>\n",
       "    <tr>\n",
       "      <th>...</th>\n",
       "      <td>...</td>\n",
       "      <td>...</td>\n",
       "      <td>...</td>\n",
       "      <td>...</td>\n",
       "      <td>...</td>\n",
       "      <td>...</td>\n",
       "      <td>...</td>\n",
       "      <td>...</td>\n",
       "      <td>...</td>\n",
       "      <td>...</td>\n",
       "      <td>...</td>\n",
       "      <td>...</td>\n",
       "      <td>...</td>\n",
       "      <td>...</td>\n",
       "    </tr>\n",
       "    <tr>\n",
       "      <th>590</th>\n",
       "      <td>985</td>\n",
       "      <td>Achievement School District</td>\n",
       "      <td>All Students</td>\n",
       "      <td>294</td>\n",
       "      <td>83</td>\n",
       "      <td>13.4</td>\n",
       "      <td>15.4</td>\n",
       "      <td>14.8</td>\n",
       "      <td>15</td>\n",
       "      <td>14.8</td>\n",
       "      <td>14</td>\n",
       "      <td>4.8</td>\n",
       "      <td>261</td>\n",
       "      <td>88.8</td>\n",
       "    </tr>\n",
       "    <tr>\n",
       "      <th>591</th>\n",
       "      <td>985</td>\n",
       "      <td>Achievement School District</td>\n",
       "      <td>Black/Hispanic/Native American</td>\n",
       "      <td>292</td>\n",
       "      <td>83</td>\n",
       "      <td>13.4</td>\n",
       "      <td>15.4</td>\n",
       "      <td>14.9</td>\n",
       "      <td>15</td>\n",
       "      <td>14.8</td>\n",
       "      <td>14</td>\n",
       "      <td>4.8</td>\n",
       "      <td>259</td>\n",
       "      <td>88.7</td>\n",
       "    </tr>\n",
       "    <tr>\n",
       "      <th>592</th>\n",
       "      <td>985</td>\n",
       "      <td>Achievement School District</td>\n",
       "      <td>Economically Disadvantaged</td>\n",
       "      <td>244</td>\n",
       "      <td>83</td>\n",
       "      <td>13.2</td>\n",
       "      <td>15.2</td>\n",
       "      <td>14.6</td>\n",
       "      <td>14.7</td>\n",
       "      <td>14.6</td>\n",
       "      <td>9</td>\n",
       "      <td>3.7</td>\n",
       "      <td>221</td>\n",
       "      <td>90.6</td>\n",
       "    </tr>\n",
       "    <tr>\n",
       "      <th>593</th>\n",
       "      <td>985</td>\n",
       "      <td>Achievement School District</td>\n",
       "      <td>English Learners</td>\n",
       "      <td>7</td>\n",
       "      <td>*</td>\n",
       "      <td>*</td>\n",
       "      <td>*</td>\n",
       "      <td>*</td>\n",
       "      <td>*</td>\n",
       "      <td>*</td>\n",
       "      <td>*</td>\n",
       "      <td>*</td>\n",
       "      <td>*</td>\n",
       "      <td>*</td>\n",
       "    </tr>\n",
       "    <tr>\n",
       "      <th>594</th>\n",
       "      <td>985</td>\n",
       "      <td>Achievement School District</td>\n",
       "      <td>Students with Disabilities</td>\n",
       "      <td>40</td>\n",
       "      <td>67</td>\n",
       "      <td>11</td>\n",
       "      <td>14.6</td>\n",
       "      <td>13</td>\n",
       "      <td>13.1</td>\n",
       "      <td>13</td>\n",
       "      <td>**</td>\n",
       "      <td>**</td>\n",
       "      <td>**</td>\n",
       "      <td>**</td>\n",
       "    </tr>\n",
       "  </tbody>\n",
       "</table>\n",
       "<p>595 rows × 14 columns</p>\n",
       "</div>"
      ],
      "text/plain": [
       "     District                District Name                        Subgroup  \\\n",
       "0          10              Anderson County                    All Students   \n",
       "1          10              Anderson County  Black/Hispanic/Native American   \n",
       "2          10              Anderson County      Economically Disadvantaged   \n",
       "3          10              Anderson County                English Learners   \n",
       "4          10              Anderson County      Students with Disabilities   \n",
       "..        ...                          ...                             ...   \n",
       "590       985  Achievement School District                    All Students   \n",
       "591       985  Achievement School District  Black/Hispanic/Native American   \n",
       "592       985  Achievement School District      Economically Disadvantaged   \n",
       "593       985  Achievement School District                English Learners   \n",
       "594       985  Achievement School District      Students with Disabilities   \n",
       "\n",
       "     Valid Tests Participation Rate Average English Score Average Math Score  \\\n",
       "0            527                100                    19               18.7   \n",
       "1             17                100                    18               17.8   \n",
       "2            189                 99                  17.1               17.2   \n",
       "3              3                  *                     *                  *   \n",
       "4             76                100                  12.5               15.5   \n",
       "..           ...                ...                   ...                ...   \n",
       "590          294                 83                  13.4               15.4   \n",
       "591          292                 83                  13.4               15.4   \n",
       "592          244                 83                  13.2               15.2   \n",
       "593            7                  *                     *                  *   \n",
       "594           40                 67                    11               14.6   \n",
       "\n",
       "    Average Reading Score Average Science Score Average Composite Score  \\\n",
       "0                    19.9                  19.6                    19.5   \n",
       "1                    17.5                  18.3                    17.9   \n",
       "2                    18.6                  18.1                    17.9   \n",
       "3                       *                     *                       *   \n",
       "4                    14.5                  15.1                    14.6   \n",
       "..                    ...                   ...                     ...   \n",
       "590                  14.8                    15                    14.8   \n",
       "591                  14.9                    15                    14.8   \n",
       "592                  14.6                  14.7                    14.6   \n",
       "593                     *                     *                       *   \n",
       "594                    13                  13.1                      13   \n",
       "\n",
       "    Number Scoring 21 or Higher Percent Scoring 21 or Higher  \\\n",
       "0                           198                         37.6   \n",
       "1                             5                         29.4   \n",
       "2                            43                         22.8   \n",
       "3                             *                            *   \n",
       "4                             2                          2.6   \n",
       "..                          ...                          ...   \n",
       "590                          14                          4.8   \n",
       "591                          14                          4.8   \n",
       "592                           9                          3.7   \n",
       "593                           *                            *   \n",
       "594                          **                           **   \n",
       "\n",
       "    Number Scoring Below 19 Percent Scoring Below 19  \n",
       "0                       254                     48.2  \n",
       "1                        10                     58.8  \n",
       "2                       118                     62.4  \n",
       "3                         *                        *  \n",
       "4                        71                     93.4  \n",
       "..                      ...                      ...  \n",
       "590                     261                     88.8  \n",
       "591                     259                     88.7  \n",
       "592                     221                     90.6  \n",
       "593                       *                        *  \n",
       "594                      **                       **  \n",
       "\n",
       "[595 rows x 14 columns]"
      ]
     },
     "execution_count": 56,
     "metadata": {},
     "output_type": "execute_result"
    }
   ],
   "source": [
    "df7"
   ]
  },
  {
   "cell_type": "code",
   "execution_count": 57,
   "metadata": {},
   "outputs": [],
   "source": [
    "df2019 = df7[df7['District Name'] == 'Davidson County']\n",
    "df2019 = df2019[df2019['Subgroup'] == 'All Students']\n",
    "df2019 = df2019[['Average Composite Score']]\n",
    "df2019['year'] = 2019\n",
    "df2019.columns = ('act_avg','year')"
   ]
  },
  {
   "cell_type": "code",
   "execution_count": 58,
   "metadata": {},
   "outputs": [
    {
     "data": {
      "text/html": [
       "<div>\n",
       "<style scoped>\n",
       "    .dataframe tbody tr th:only-of-type {\n",
       "        vertical-align: middle;\n",
       "    }\n",
       "\n",
       "    .dataframe tbody tr th {\n",
       "        vertical-align: top;\n",
       "    }\n",
       "\n",
       "    .dataframe thead th {\n",
       "        text-align: right;\n",
       "    }\n",
       "</style>\n",
       "<table border=\"1\" class=\"dataframe\">\n",
       "  <thead>\n",
       "    <tr style=\"text-align: right;\">\n",
       "      <th></th>\n",
       "      <th>act_avg</th>\n",
       "      <th>year</th>\n",
       "    </tr>\n",
       "  </thead>\n",
       "  <tbody>\n",
       "    <tr>\n",
       "      <th>127</th>\n",
       "      <td>18.5</td>\n",
       "      <td>2019</td>\n",
       "    </tr>\n",
       "  </tbody>\n",
       "</table>\n",
       "</div>"
      ],
      "text/plain": [
       "    act_avg  year\n",
       "127    18.5  2019"
      ]
     },
     "execution_count": 58,
     "metadata": {},
     "output_type": "execute_result"
    }
   ],
   "source": [
    "df2019"
   ]
  },
  {
   "cell_type": "code",
   "execution_count": 59,
   "metadata": {},
   "outputs": [
    {
     "name": "stderr",
     "output_type": "stream",
     "text": [
      "C:\\Users\\jhank\\AppData\\Local\\Temp\\ipykernel_3856\\3096602919.py:2: SettingWithCopyWarning: \n",
      "A value is trying to be set on a copy of a slice from a DataFrame.\n",
      "Try using .loc[row_indexer,col_indexer] = value instead\n",
      "\n",
      "See the caveats in the documentation: https://pandas.pydata.org/pandas-docs/stable/user_guide/indexing.html#returning-a-view-versus-a-copy\n",
      "  df2013['year'] = 2013\n"
     ]
    }
   ],
   "source": [
    "df2013 = df2013[['2013 Including Extended Time']]\n",
    "df2013['year'] = 2013\n",
    "df2013.columns = ('act_avg','year')"
   ]
  },
  {
   "cell_type": "code",
   "execution_count": 60,
   "metadata": {},
   "outputs": [
    {
     "data": {
      "text/html": [
       "<div>\n",
       "<style scoped>\n",
       "    .dataframe tbody tr th:only-of-type {\n",
       "        vertical-align: middle;\n",
       "    }\n",
       "\n",
       "    .dataframe tbody tr th {\n",
       "        vertical-align: top;\n",
       "    }\n",
       "\n",
       "    .dataframe thead th {\n",
       "        text-align: right;\n",
       "    }\n",
       "</style>\n",
       "<table border=\"1\" class=\"dataframe\">\n",
       "  <thead>\n",
       "    <tr style=\"text-align: right;\">\n",
       "      <th></th>\n",
       "      <th>act_avg</th>\n",
       "      <th>year</th>\n",
       "    </tr>\n",
       "  </thead>\n",
       "  <tbody>\n",
       "    <tr>\n",
       "      <th>77</th>\n",
       "      <td>18.203</td>\n",
       "      <td>2013</td>\n",
       "    </tr>\n",
       "  </tbody>\n",
       "</table>\n",
       "</div>"
      ],
      "text/plain": [
       "    act_avg  year\n",
       "77   18.203  2013"
      ]
     },
     "execution_count": 60,
     "metadata": {},
     "output_type": "execute_result"
    }
   ],
   "source": [
    "df2013"
   ]
  },
  {
   "cell_type": "code",
   "execution_count": 61,
   "metadata": {},
   "outputs": [
    {
     "name": "stderr",
     "output_type": "stream",
     "text": [
      "C:\\Users\\jhank\\AppData\\Local\\Temp\\ipykernel_3856\\731144791.py:2: SettingWithCopyWarning: \n",
      "A value is trying to be set on a copy of a slice from a DataFrame.\n",
      "Try using .loc[row_indexer,col_indexer] = value instead\n",
      "\n",
      "See the caveats in the documentation: https://pandas.pydata.org/pandas-docs/stable/user_guide/indexing.html#returning-a-view-versus-a-copy\n",
      "  df2014['year'] = 2014\n"
     ]
    }
   ],
   "source": [
    "df2014 = df2014[['2014 Including Extended Time']]\n",
    "df2014['year'] = 2014\n",
    "df2014.columns = ('act_avg','year')"
   ]
  },
  {
   "cell_type": "code",
   "execution_count": 62,
   "metadata": {},
   "outputs": [
    {
     "data": {
      "text/html": [
       "<div>\n",
       "<style scoped>\n",
       "    .dataframe tbody tr th:only-of-type {\n",
       "        vertical-align: middle;\n",
       "    }\n",
       "\n",
       "    .dataframe tbody tr th {\n",
       "        vertical-align: top;\n",
       "    }\n",
       "\n",
       "    .dataframe thead th {\n",
       "        text-align: right;\n",
       "    }\n",
       "</style>\n",
       "<table border=\"1\" class=\"dataframe\">\n",
       "  <thead>\n",
       "    <tr style=\"text-align: right;\">\n",
       "      <th></th>\n",
       "      <th>act_avg</th>\n",
       "      <th>year</th>\n",
       "    </tr>\n",
       "  </thead>\n",
       "  <tbody>\n",
       "    <tr>\n",
       "      <th>77</th>\n",
       "      <td>18.417</td>\n",
       "      <td>2014</td>\n",
       "    </tr>\n",
       "  </tbody>\n",
       "</table>\n",
       "</div>"
      ],
      "text/plain": [
       "   act_avg  year\n",
       "77  18.417  2014"
      ]
     },
     "execution_count": 62,
     "metadata": {},
     "output_type": "execute_result"
    }
   ],
   "source": [
    "df2014"
   ]
  },
  {
   "cell_type": "code",
   "execution_count": 63,
   "metadata": {},
   "outputs": [],
   "source": [
    "df2015['year'] = 2015\n",
    "df2015.columns = ('year','act_avg')"
   ]
  },
  {
   "cell_type": "code",
   "execution_count": 64,
   "metadata": {},
   "outputs": [],
   "source": [
    "df2015.drop([1], inplace=True)"
   ]
  },
  {
   "cell_type": "code",
   "execution_count": 65,
   "metadata": {},
   "outputs": [],
   "source": [
    "df2015 = df2015[['act_avg','year']]"
   ]
  },
  {
   "cell_type": "code",
   "execution_count": 66,
   "metadata": {},
   "outputs": [
    {
     "data": {
      "text/html": [
       "<div>\n",
       "<style scoped>\n",
       "    .dataframe tbody tr th:only-of-type {\n",
       "        vertical-align: middle;\n",
       "    }\n",
       "\n",
       "    .dataframe tbody tr th {\n",
       "        vertical-align: top;\n",
       "    }\n",
       "\n",
       "    .dataframe thead th {\n",
       "        text-align: right;\n",
       "    }\n",
       "</style>\n",
       "<table border=\"1\" class=\"dataframe\">\n",
       "  <thead>\n",
       "    <tr style=\"text-align: right;\">\n",
       "      <th></th>\n",
       "      <th>act_avg</th>\n",
       "      <th>year</th>\n",
       "    </tr>\n",
       "  </thead>\n",
       "  <tbody>\n",
       "    <tr>\n",
       "      <th>2</th>\n",
       "      <td>18.7</td>\n",
       "      <td>2015</td>\n",
       "    </tr>\n",
       "  </tbody>\n",
       "</table>\n",
       "</div>"
      ],
      "text/plain": [
       "  act_avg  year\n",
       "2    18.7  2015"
      ]
     },
     "execution_count": 66,
     "metadata": {},
     "output_type": "execute_result"
    }
   ],
   "source": [
    "df2015"
   ]
  },
  {
   "cell_type": "code",
   "execution_count": 67,
   "metadata": {},
   "outputs": [
    {
     "name": "stderr",
     "output_type": "stream",
     "text": [
      "C:\\Users\\jhank\\AppData\\Local\\Temp\\ipykernel_3856\\2794476205.py:1: SettingWithCopyWarning: \n",
      "A value is trying to be set on a copy of a slice from a DataFrame.\n",
      "Try using .loc[row_indexer,col_indexer] = value instead\n",
      "\n",
      "See the caveats in the documentation: https://pandas.pydata.org/pandas-docs/stable/user_guide/indexing.html#returning-a-view-versus-a-copy\n",
      "  df2016['year'] = 2016\n"
     ]
    }
   ],
   "source": [
    "df2016['year'] = 2016\n"
   ]
  },
  {
   "cell_type": "code",
   "execution_count": 68,
   "metadata": {},
   "outputs": [],
   "source": [
    "df2016.columns = ('act_avg','year')"
   ]
  },
  {
   "cell_type": "code",
   "execution_count": 69,
   "metadata": {},
   "outputs": [
    {
     "data": {
      "text/html": [
       "<div>\n",
       "<style scoped>\n",
       "    .dataframe tbody tr th:only-of-type {\n",
       "        vertical-align: middle;\n",
       "    }\n",
       "\n",
       "    .dataframe tbody tr th {\n",
       "        vertical-align: top;\n",
       "    }\n",
       "\n",
       "    .dataframe thead th {\n",
       "        text-align: right;\n",
       "    }\n",
       "</style>\n",
       "<table border=\"1\" class=\"dataframe\">\n",
       "  <thead>\n",
       "    <tr style=\"text-align: right;\">\n",
       "      <th></th>\n",
       "      <th>act_avg</th>\n",
       "      <th>year</th>\n",
       "    </tr>\n",
       "  </thead>\n",
       "  <tbody>\n",
       "    <tr>\n",
       "      <th>28</th>\n",
       "      <td>18.7</td>\n",
       "      <td>2016</td>\n",
       "    </tr>\n",
       "  </tbody>\n",
       "</table>\n",
       "</div>"
      ],
      "text/plain": [
       "   act_avg  year\n",
       "28    18.7  2016"
      ]
     },
     "execution_count": 69,
     "metadata": {},
     "output_type": "execute_result"
    }
   ],
   "source": [
    "df2016"
   ]
  },
  {
   "cell_type": "code",
   "execution_count": 70,
   "metadata": {},
   "outputs": [
    {
     "name": "stderr",
     "output_type": "stream",
     "text": [
      "C:\\Users\\jhank\\AppData\\Local\\Temp\\ipykernel_3856\\2702441903.py:1: SettingWithCopyWarning: \n",
      "A value is trying to be set on a copy of a slice from a DataFrame.\n",
      "Try using .loc[row_indexer,col_indexer] = value instead\n",
      "\n",
      "See the caveats in the documentation: https://pandas.pydata.org/pandas-docs/stable/user_guide/indexing.html#returning-a-view-versus-a-copy\n",
      "  df2017['year'] = 2017\n"
     ]
    }
   ],
   "source": [
    "df2017['year'] = 2017"
   ]
  },
  {
   "cell_type": "code",
   "execution_count": 71,
   "metadata": {},
   "outputs": [],
   "source": [
    "df2017.columns = ('act_avg','year')"
   ]
  },
  {
   "cell_type": "code",
   "execution_count": 72,
   "metadata": {},
   "outputs": [
    {
     "data": {
      "text/html": [
       "<div>\n",
       "<style scoped>\n",
       "    .dataframe tbody tr th:only-of-type {\n",
       "        vertical-align: middle;\n",
       "    }\n",
       "\n",
       "    .dataframe tbody tr th {\n",
       "        vertical-align: top;\n",
       "    }\n",
       "\n",
       "    .dataframe thead th {\n",
       "        text-align: right;\n",
       "    }\n",
       "</style>\n",
       "<table border=\"1\" class=\"dataframe\">\n",
       "  <thead>\n",
       "    <tr style=\"text-align: right;\">\n",
       "      <th></th>\n",
       "      <th>act_avg</th>\n",
       "      <th>year</th>\n",
       "    </tr>\n",
       "  </thead>\n",
       "  <tbody>\n",
       "    <tr>\n",
       "      <th>65</th>\n",
       "      <td>19</td>\n",
       "      <td>2017</td>\n",
       "    </tr>\n",
       "  </tbody>\n",
       "</table>\n",
       "</div>"
      ],
      "text/plain": [
       "   act_avg  year\n",
       "65      19  2017"
      ]
     },
     "execution_count": 72,
     "metadata": {},
     "output_type": "execute_result"
    }
   ],
   "source": [
    "df2017"
   ]
  },
  {
   "cell_type": "code",
   "execution_count": 73,
   "metadata": {},
   "outputs": [],
   "source": [
    "df2018.columns = ('act_avg','year')"
   ]
  },
  {
   "cell_type": "code",
   "execution_count": 74,
   "metadata": {},
   "outputs": [
    {
     "data": {
      "text/html": [
       "<div>\n",
       "<style scoped>\n",
       "    .dataframe tbody tr th:only-of-type {\n",
       "        vertical-align: middle;\n",
       "    }\n",
       "\n",
       "    .dataframe tbody tr th {\n",
       "        vertical-align: top;\n",
       "    }\n",
       "\n",
       "    .dataframe thead th {\n",
       "        text-align: right;\n",
       "    }\n",
       "</style>\n",
       "<table border=\"1\" class=\"dataframe\">\n",
       "  <thead>\n",
       "    <tr style=\"text-align: right;\">\n",
       "      <th></th>\n",
       "      <th>act_avg</th>\n",
       "      <th>year</th>\n",
       "    </tr>\n",
       "  </thead>\n",
       "  <tbody>\n",
       "    <tr>\n",
       "      <th>127</th>\n",
       "      <td>18.5</td>\n",
       "      <td>2019</td>\n",
       "    </tr>\n",
       "  </tbody>\n",
       "</table>\n",
       "</div>"
      ],
      "text/plain": [
       "    act_avg  year\n",
       "127    18.5  2019"
      ]
     },
     "execution_count": 74,
     "metadata": {},
     "output_type": "execute_result"
    }
   ],
   "source": [
    "df2019"
   ]
  },
  {
   "cell_type": "code",
   "execution_count": 75,
   "metadata": {},
   "outputs": [
    {
     "data": {
      "text/html": [
       "<div>\n",
       "<style scoped>\n",
       "    .dataframe tbody tr th:only-of-type {\n",
       "        vertical-align: middle;\n",
       "    }\n",
       "\n",
       "    .dataframe tbody tr th {\n",
       "        vertical-align: top;\n",
       "    }\n",
       "\n",
       "    .dataframe thead th {\n",
       "        text-align: right;\n",
       "    }\n",
       "</style>\n",
       "<table border=\"1\" class=\"dataframe\">\n",
       "  <thead>\n",
       "    <tr style=\"text-align: right;\">\n",
       "      <th></th>\n",
       "      <th>act_avg</th>\n",
       "      <th>year</th>\n",
       "    </tr>\n",
       "  </thead>\n",
       "  <tbody>\n",
       "    <tr>\n",
       "      <th>77</th>\n",
       "      <td>18.203</td>\n",
       "      <td>2013</td>\n",
       "    </tr>\n",
       "  </tbody>\n",
       "</table>\n",
       "</div>"
      ],
      "text/plain": [
       "    act_avg  year\n",
       "77   18.203  2013"
      ]
     },
     "execution_count": 75,
     "metadata": {},
     "output_type": "execute_result"
    }
   ],
   "source": [
    "df2013"
   ]
  },
  {
   "cell_type": "code",
   "execution_count": 76,
   "metadata": {},
   "outputs": [
    {
     "data": {
      "text/html": [
       "<div>\n",
       "<style scoped>\n",
       "    .dataframe tbody tr th:only-of-type {\n",
       "        vertical-align: middle;\n",
       "    }\n",
       "\n",
       "    .dataframe tbody tr th {\n",
       "        vertical-align: top;\n",
       "    }\n",
       "\n",
       "    .dataframe thead th {\n",
       "        text-align: right;\n",
       "    }\n",
       "</style>\n",
       "<table border=\"1\" class=\"dataframe\">\n",
       "  <thead>\n",
       "    <tr style=\"text-align: right;\">\n",
       "      <th></th>\n",
       "      <th>act_avg</th>\n",
       "      <th>year</th>\n",
       "    </tr>\n",
       "  </thead>\n",
       "  <tbody>\n",
       "    <tr>\n",
       "      <th>77</th>\n",
       "      <td>18.417</td>\n",
       "      <td>2014</td>\n",
       "    </tr>\n",
       "  </tbody>\n",
       "</table>\n",
       "</div>"
      ],
      "text/plain": [
       "   act_avg  year\n",
       "77  18.417  2014"
      ]
     },
     "execution_count": 76,
     "metadata": {},
     "output_type": "execute_result"
    }
   ],
   "source": [
    "df2014"
   ]
  },
  {
   "cell_type": "code",
   "execution_count": 77,
   "metadata": {},
   "outputs": [
    {
     "data": {
      "text/html": [
       "<div>\n",
       "<style scoped>\n",
       "    .dataframe tbody tr th:only-of-type {\n",
       "        vertical-align: middle;\n",
       "    }\n",
       "\n",
       "    .dataframe tbody tr th {\n",
       "        vertical-align: top;\n",
       "    }\n",
       "\n",
       "    .dataframe thead th {\n",
       "        text-align: right;\n",
       "    }\n",
       "</style>\n",
       "<table border=\"1\" class=\"dataframe\">\n",
       "  <thead>\n",
       "    <tr style=\"text-align: right;\">\n",
       "      <th></th>\n",
       "      <th>act_avg</th>\n",
       "      <th>year</th>\n",
       "    </tr>\n",
       "  </thead>\n",
       "  <tbody>\n",
       "    <tr>\n",
       "      <th>2</th>\n",
       "      <td>18.7</td>\n",
       "      <td>2015</td>\n",
       "    </tr>\n",
       "  </tbody>\n",
       "</table>\n",
       "</div>"
      ],
      "text/plain": [
       "  act_avg  year\n",
       "2    18.7  2015"
      ]
     },
     "execution_count": 77,
     "metadata": {},
     "output_type": "execute_result"
    }
   ],
   "source": [
    "df2015"
   ]
  },
  {
   "cell_type": "code",
   "execution_count": 78,
   "metadata": {},
   "outputs": [
    {
     "data": {
      "text/html": [
       "<div>\n",
       "<style scoped>\n",
       "    .dataframe tbody tr th:only-of-type {\n",
       "        vertical-align: middle;\n",
       "    }\n",
       "\n",
       "    .dataframe tbody tr th {\n",
       "        vertical-align: top;\n",
       "    }\n",
       "\n",
       "    .dataframe thead th {\n",
       "        text-align: right;\n",
       "    }\n",
       "</style>\n",
       "<table border=\"1\" class=\"dataframe\">\n",
       "  <thead>\n",
       "    <tr style=\"text-align: right;\">\n",
       "      <th></th>\n",
       "      <th>act_avg</th>\n",
       "      <th>year</th>\n",
       "    </tr>\n",
       "  </thead>\n",
       "  <tbody>\n",
       "    <tr>\n",
       "      <th>28</th>\n",
       "      <td>18.7</td>\n",
       "      <td>2016</td>\n",
       "    </tr>\n",
       "  </tbody>\n",
       "</table>\n",
       "</div>"
      ],
      "text/plain": [
       "   act_avg  year\n",
       "28    18.7  2016"
      ]
     },
     "execution_count": 78,
     "metadata": {},
     "output_type": "execute_result"
    }
   ],
   "source": [
    "df2016"
   ]
  },
  {
   "cell_type": "code",
   "execution_count": 79,
   "metadata": {},
   "outputs": [
    {
     "data": {
      "text/html": [
       "<div>\n",
       "<style scoped>\n",
       "    .dataframe tbody tr th:only-of-type {\n",
       "        vertical-align: middle;\n",
       "    }\n",
       "\n",
       "    .dataframe tbody tr th {\n",
       "        vertical-align: top;\n",
       "    }\n",
       "\n",
       "    .dataframe thead th {\n",
       "        text-align: right;\n",
       "    }\n",
       "</style>\n",
       "<table border=\"1\" class=\"dataframe\">\n",
       "  <thead>\n",
       "    <tr style=\"text-align: right;\">\n",
       "      <th></th>\n",
       "      <th>act_avg</th>\n",
       "      <th>year</th>\n",
       "    </tr>\n",
       "  </thead>\n",
       "  <tbody>\n",
       "    <tr>\n",
       "      <th>65</th>\n",
       "      <td>19</td>\n",
       "      <td>2017</td>\n",
       "    </tr>\n",
       "  </tbody>\n",
       "</table>\n",
       "</div>"
      ],
      "text/plain": [
       "   act_avg  year\n",
       "65      19  2017"
      ]
     },
     "execution_count": 79,
     "metadata": {},
     "output_type": "execute_result"
    }
   ],
   "source": [
    "df2017"
   ]
  },
  {
   "cell_type": "code",
   "execution_count": 80,
   "metadata": {},
   "outputs": [],
   "source": [
    "act = pd.concat([df2013, df2014, df2015, df2016, df2017, df2018, df2019]).reset_index(drop=True)"
   ]
  },
  {
   "cell_type": "code",
   "execution_count": 81,
   "metadata": {},
   "outputs": [
    {
     "data": {
      "text/html": [
       "<div>\n",
       "<style scoped>\n",
       "    .dataframe tbody tr th:only-of-type {\n",
       "        vertical-align: middle;\n",
       "    }\n",
       "\n",
       "    .dataframe tbody tr th {\n",
       "        vertical-align: top;\n",
       "    }\n",
       "\n",
       "    .dataframe thead th {\n",
       "        text-align: right;\n",
       "    }\n",
       "</style>\n",
       "<table border=\"1\" class=\"dataframe\">\n",
       "  <thead>\n",
       "    <tr style=\"text-align: right;\">\n",
       "      <th></th>\n",
       "      <th>act_avg</th>\n",
       "      <th>year</th>\n",
       "    </tr>\n",
       "  </thead>\n",
       "  <tbody>\n",
       "    <tr>\n",
       "      <th>0</th>\n",
       "      <td>18.203</td>\n",
       "      <td>2013</td>\n",
       "    </tr>\n",
       "    <tr>\n",
       "      <th>1</th>\n",
       "      <td>18.417</td>\n",
       "      <td>2014</td>\n",
       "    </tr>\n",
       "    <tr>\n",
       "      <th>2</th>\n",
       "      <td>18.7</td>\n",
       "      <td>2015</td>\n",
       "    </tr>\n",
       "    <tr>\n",
       "      <th>3</th>\n",
       "      <td>18.7</td>\n",
       "      <td>2016</td>\n",
       "    </tr>\n",
       "    <tr>\n",
       "      <th>4</th>\n",
       "      <td>19</td>\n",
       "      <td>2017</td>\n",
       "    </tr>\n",
       "    <tr>\n",
       "      <th>5</th>\n",
       "      <td>18.9</td>\n",
       "      <td>2018</td>\n",
       "    </tr>\n",
       "    <tr>\n",
       "      <th>6</th>\n",
       "      <td>18.5</td>\n",
       "      <td>2019</td>\n",
       "    </tr>\n",
       "  </tbody>\n",
       "</table>\n",
       "</div>"
      ],
      "text/plain": [
       "  act_avg  year\n",
       "0  18.203  2013\n",
       "1  18.417  2014\n",
       "2    18.7  2015\n",
       "3    18.7  2016\n",
       "4      19  2017\n",
       "5    18.9  2018\n",
       "6    18.5  2019"
      ]
     },
     "execution_count": 81,
     "metadata": {},
     "output_type": "execute_result"
    }
   ],
   "source": [
    "act"
   ]
  },
  {
   "cell_type": "code",
   "execution_count": 82,
   "metadata": {},
   "outputs": [],
   "source": [
    "act['act_avg'] = act['act_avg'].astype(float)"
   ]
  },
  {
   "cell_type": "code",
   "execution_count": 83,
   "metadata": {},
   "outputs": [
    {
     "data": {
      "text/plain": [
       "<AxesSubplot:xlabel='year'>"
      ]
     },
     "execution_count": 83,
     "metadata": {},
     "output_type": "execute_result"
    },
    {
     "data": {
      "image/png": "[encoded data removed]",
      "text/plain": [
       "<Figure size 640x480 with 1 Axes>"
      ]
     },
     "metadata": {},
     "output_type": "display_data"
    }
   ],
   "source": [
    "act.plot(kind='line', x = 'year', y = 'act_avg')"
   ]
  },
  {
   "cell_type": "code",
   "execution_count": 84,
   "metadata": {},
   "outputs": [
    {
     "data": {
      "text/plain": [
       "Text(0, 0.5, 'AVG ACT scores')"
      ]
     },
     "execution_count": 84,
     "metadata": {},
     "output_type": "execute_result"
    },
    {
     "data": {
      "image/png": "[encoded data removed]",
      "text/plain": [
       "<Figure size 640x480 with 1 Axes>"
      ]
     },
     "metadata": {},
     "output_type": "display_data"
    }
   ],
   "source": [
    "x = act['year']\n",
    "y = act['act_avg']\n",
    "act.plot(kind='line', x = 'year', y = 'act_avg')\n",
    "# Calculate the Trendline\n",
    "z = np.polyfit(x, y, 1)\n",
    "p = np.poly1d(z)\n",
    "plt.plot(act['year'], p(x), color=\"purple\", linewidth=3, linestyle=\"--\")\n",
    "plt.title('Average ACT scores')\n",
    "plt.ylabel('AVG ACT scores')"
   ]
  },
  {
   "cell_type": "code",
   "execution_count": 90,
   "metadata": {},
   "outputs": [],
   "source": [
    "ss_13_19.reset_index(inplace=True)"
   ]
  },
  {
   "cell_type": "code",
   "execution_count": 86,
   "metadata": {},
   "outputs": [
    {
     "data": {
      "text/html": [
       "<div>\n",
       "<style scoped>\n",
       "    .dataframe tbody tr th:only-of-type {\n",
       "        vertical-align: middle;\n",
       "    }\n",
       "\n",
       "    .dataframe tbody tr th {\n",
       "        vertical-align: top;\n",
       "    }\n",
       "\n",
       "    .dataframe thead th {\n",
       "        text-align: right;\n",
       "    }\n",
       "</style>\n",
       "<table border=\"1\" class=\"dataframe\">\n",
       "  <thead>\n",
       "    <tr style=\"text-align: right;\">\n",
       "      <th></th>\n",
       "      <th>act_avg</th>\n",
       "      <th>year</th>\n",
       "    </tr>\n",
       "  </thead>\n",
       "  <tbody>\n",
       "    <tr>\n",
       "      <th>0</th>\n",
       "      <td>18.203</td>\n",
       "      <td>2013</td>\n",
       "    </tr>\n",
       "    <tr>\n",
       "      <th>1</th>\n",
       "      <td>18.417</td>\n",
       "      <td>2014</td>\n",
       "    </tr>\n",
       "    <tr>\n",
       "      <th>2</th>\n",
       "      <td>18.700</td>\n",
       "      <td>2015</td>\n",
       "    </tr>\n",
       "    <tr>\n",
       "      <th>3</th>\n",
       "      <td>18.700</td>\n",
       "      <td>2016</td>\n",
       "    </tr>\n",
       "    <tr>\n",
       "      <th>4</th>\n",
       "      <td>19.000</td>\n",
       "      <td>2017</td>\n",
       "    </tr>\n",
       "    <tr>\n",
       "      <th>5</th>\n",
       "      <td>18.900</td>\n",
       "      <td>2018</td>\n",
       "    </tr>\n",
       "    <tr>\n",
       "      <th>6</th>\n",
       "      <td>18.500</td>\n",
       "      <td>2019</td>\n",
       "    </tr>\n",
       "  </tbody>\n",
       "</table>\n",
       "</div>"
      ],
      "text/plain": [
       "   act_avg  year\n",
       "0   18.203  2013\n",
       "1   18.417  2014\n",
       "2   18.700  2015\n",
       "3   18.700  2016\n",
       "4   19.000  2017\n",
       "5   18.900  2018\n",
       "6   18.500  2019"
      ]
     },
     "execution_count": 86,
     "metadata": {},
     "output_type": "execute_result"
    }
   ],
   "source": [
    "act"
   ]
  },
  {
   "cell_type": "code",
   "execution_count": 93,
   "metadata": {},
   "outputs": [],
   "source": [
    "result = pd.concat([ss_13_19, act], axis=1)"
   ]
  },
  {
   "cell_type": "code",
   "execution_count": 94,
   "metadata": {},
   "outputs": [
    {
     "data": {
      "text/html": [
       "<div>\n",
       "<style scoped>\n",
       "    .dataframe tbody tr th:only-of-type {\n",
       "        vertical-align: middle;\n",
       "    }\n",
       "\n",
       "    .dataframe tbody tr th {\n",
       "        vertical-align: top;\n",
       "    }\n",
       "\n",
       "    .dataframe thead th {\n",
       "        text-align: right;\n",
       "    }\n",
       "</style>\n",
       "<table border=\"1\" class=\"dataframe\">\n",
       "  <thead>\n",
       "    <tr style=\"text-align: right;\">\n",
       "      <th></th>\n",
       "      <th>index</th>\n",
       "      <th>Social Services</th>\n",
       "      <th>year</th>\n",
       "      <th>act_avg</th>\n",
       "      <th>year</th>\n",
       "    </tr>\n",
       "  </thead>\n",
       "  <tbody>\n",
       "    <tr>\n",
       "      <th>0</th>\n",
       "      <td>FY2013 Actual Expenses</td>\n",
       "      <td>7520121.79</td>\n",
       "      <td>2013</td>\n",
       "      <td>18.203</td>\n",
       "      <td>2013</td>\n",
       "    </tr>\n",
       "    <tr>\n",
       "      <th>1</th>\n",
       "      <td>FY2014 Actual Expenses</td>\n",
       "      <td>7528804.55</td>\n",
       "      <td>2014</td>\n",
       "      <td>18.417</td>\n",
       "      <td>2014</td>\n",
       "    </tr>\n",
       "    <tr>\n",
       "      <th>2</th>\n",
       "      <td>FY2015 Actual Expenses</td>\n",
       "      <td>7487716.24</td>\n",
       "      <td>2015</td>\n",
       "      <td>18.700</td>\n",
       "      <td>2015</td>\n",
       "    </tr>\n",
       "    <tr>\n",
       "      <th>3</th>\n",
       "      <td>FY2016 Actual Expenses</td>\n",
       "      <td>6551174.26</td>\n",
       "      <td>2016</td>\n",
       "      <td>18.700</td>\n",
       "      <td>2016</td>\n",
       "    </tr>\n",
       "    <tr>\n",
       "      <th>4</th>\n",
       "      <td>FY2017 Actual Expenses</td>\n",
       "      <td>6527352.57</td>\n",
       "      <td>2017</td>\n",
       "      <td>19.000</td>\n",
       "      <td>2017</td>\n",
       "    </tr>\n",
       "    <tr>\n",
       "      <th>5</th>\n",
       "      <td>FY2018 Actual Expenses</td>\n",
       "      <td>6922072.56</td>\n",
       "      <td>2018</td>\n",
       "      <td>18.900</td>\n",
       "      <td>2018</td>\n",
       "    </tr>\n",
       "    <tr>\n",
       "      <th>6</th>\n",
       "      <td>FY2019 Actual Expenses</td>\n",
       "      <td>6882350.24</td>\n",
       "      <td>2019</td>\n",
       "      <td>18.500</td>\n",
       "      <td>2019</td>\n",
       "    </tr>\n",
       "  </tbody>\n",
       "</table>\n",
       "</div>"
      ],
      "text/plain": [
       "                    index  Social Services  year  act_avg  year\n",
       "0  FY2013 Actual Expenses       7520121.79  2013   18.203  2013\n",
       "1  FY2014 Actual Expenses       7528804.55  2014   18.417  2014\n",
       "2  FY2015 Actual Expenses       7487716.24  2015   18.700  2015\n",
       "3  FY2016 Actual Expenses       6551174.26  2016   18.700  2016\n",
       "4  FY2017 Actual Expenses       6527352.57  2017   19.000  2017\n",
       "5  FY2018 Actual Expenses       6922072.56  2018   18.900  2018\n",
       "6  FY2019 Actual Expenses       6882350.24  2019   18.500  2019"
      ]
     },
     "execution_count": 94,
     "metadata": {},
     "output_type": "execute_result"
    }
   ],
   "source": [
    "result"
   ]
  },
  {
   "cell_type": "code",
   "execution_count": 96,
   "metadata": {},
   "outputs": [],
   "source": [
    "#result['Public Library'].corr(result['act_avg'])\n",
    "#ss_13_19['Social Services'].corr(act['act_avg'])\n",
    "social_act_corr = result['act_avg'].corr(result['Social Services'])"
   ]
  },
  {
   "cell_type": "code",
   "execution_count": 97,
   "metadata": {},
   "outputs": [
    {
     "data": {
      "text/plain": [
       "-0.6854880133460609"
      ]
     },
     "execution_count": 97,
     "metadata": {},
     "output_type": "execute_result"
    }
   ],
   "source": [
    "social_act_corr"
   ]
  }
 ],
 "metadata": {
  "kernelspec": {
   "display_name": "Python 3.9.7 ('base')",
   "language": "python",
   "name": "python3"
  },
  "language_info": {
   "codemirror_mode": {
    "name": "ipython",
    "version": 3
   },
   "file_extension": ".py",
   "mimetype": "text/x-python",
   "name": "python",
   "nbconvert_exporter": "python",
   "pygments_lexer": "ipython3",
   "version": "3.9.7"
  },
  "orig_nbformat": 4,
  "vscode": {
   "interpreter": {
    "hash": "e83933c89791523ce27b9c1ac2fa3a2bbb0f839e7a6d72c2a74f34bb50225d36"
   }
  }
 },
 "nbformat": 4,
 "nbformat_minor": 2
}
