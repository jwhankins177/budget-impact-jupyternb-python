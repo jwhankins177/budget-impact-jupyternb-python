{
 "cells": [
  {
   "cell_type": "code",
   "execution_count": 1,
   "metadata": {},
   "outputs": [],
   "source": [
    "import pandas as pd\n",
    "import numpy as np\n",
    "import matplotlib.pyplot as plt\n",
    "import seaborn as sns\n",
    "%matplotlib inline"
   ]
  },
  {
   "cell_type": "code",
   "execution_count": 2,
   "metadata": {},
   "outputs": [
    {
     "name": "stderr",
     "output_type": "stream",
     "text": [
      "C:\\Users\\jhank\\AppData\\Roaming\\Python\\Python39\\site-packages\\IPython\\core\\interactiveshell.py:3378: DtypeWarning: Columns (0) have mixed types.Specify dtype option on import or set low_memory=False.\n",
      "  exec(code_obj, self.user_global_ns, self.user_ns)\n"
     ]
    }
   ],
   "source": [
    "df = pd.read_csv(r\"C:\\Users\\jhank\\Desktop\\DA7\\Projects\\budget-impact-jupyternb-python\\data\\Metro_Budget_to_Actual_Expenses__FY2010_-_Present_.csv\")"
   ]
  },
  {
   "cell_type": "code",
   "execution_count": 3,
   "metadata": {},
   "outputs": [
    {
     "data": {
      "text/html": [
       "<div>\n",
       "<style scoped>\n",
       "    .dataframe tbody tr th:only-of-type {\n",
       "        vertical-align: middle;\n",
       "    }\n",
       "\n",
       "    .dataframe tbody tr th {\n",
       "        vertical-align: top;\n",
       "    }\n",
       "\n",
       "    .dataframe thead th {\n",
       "        text-align: right;\n",
       "    }\n",
       "</style>\n",
       "<table border=\"1\" class=\"dataframe\">\n",
       "  <thead>\n",
       "    <tr style=\"text-align: right;\">\n",
       "      <th></th>\n",
       "      <th>Fund</th>\n",
       "      <th>Fund Description</th>\n",
       "      <th>Department</th>\n",
       "      <th>Department Description</th>\n",
       "      <th>Business Unit</th>\n",
       "      <th>Business Unit Description</th>\n",
       "      <th>Object Account</th>\n",
       "      <th>Object Account Description</th>\n",
       "      <th>FY2010 Budgeted Expenses</th>\n",
       "      <th>FY2010 Actual Expenses</th>\n",
       "      <th>...</th>\n",
       "      <th>FY2017 Budgeted Expenses</th>\n",
       "      <th>FY2017 Actual Expenses</th>\n",
       "      <th>FY2018 Budgeted Expenses</th>\n",
       "      <th>FY2018 Actual Expenses</th>\n",
       "      <th>FY2019 Budgeted Expenses</th>\n",
       "      <th>FY2019 Actual Expenses</th>\n",
       "      <th>FY2020 Budgeted Expenses</th>\n",
       "      <th>FY2020 Actual Expenses</th>\n",
       "      <th>FY2021 Budgeted Expenses</th>\n",
       "      <th>FY2021 Actual Expenses</th>\n",
       "    </tr>\n",
       "  </thead>\n",
       "  <tbody>\n",
       "    <tr>\n",
       "      <th>0</th>\n",
       "      <td>10101</td>\n",
       "      <td>GSD General</td>\n",
       "      <td>1.0</td>\n",
       "      <td>Administrative</td>\n",
       "      <td>1101104.0</td>\n",
       "      <td>ADM County Retire Match</td>\n",
       "      <td>531702.0</td>\n",
       "      <td>Transfer Guaranteed Pension</td>\n",
       "      <td>3501900.0</td>\n",
       "      <td>3501900.00</td>\n",
       "      <td>...</td>\n",
       "      <td>3501900.0</td>\n",
       "      <td>3501900.00</td>\n",
       "      <td>3501900.0</td>\n",
       "      <td>3501900.00</td>\n",
       "      <td>3501900.0</td>\n",
       "      <td>3501900.00</td>\n",
       "      <td>3501900.0</td>\n",
       "      <td>3501900.00</td>\n",
       "      <td>3501900</td>\n",
       "      <td>3501900.00</td>\n",
       "    </tr>\n",
       "    <tr>\n",
       "      <th>1</th>\n",
       "      <td>10101</td>\n",
       "      <td>GSD General</td>\n",
       "      <td>1.0</td>\n",
       "      <td>Administrative</td>\n",
       "      <td>1101107.0</td>\n",
       "      <td>ADM Cnty Teach Retire Match</td>\n",
       "      <td>531702.0</td>\n",
       "      <td>Transfer Guaranteed Pension</td>\n",
       "      <td>6900400.0</td>\n",
       "      <td>6900400.00</td>\n",
       "      <td>...</td>\n",
       "      <td>6900400.0</td>\n",
       "      <td>6900400.00</td>\n",
       "      <td>6900400.0</td>\n",
       "      <td>6900400.00</td>\n",
       "      <td>6900400.0</td>\n",
       "      <td>6900400.00</td>\n",
       "      <td>6900400.0</td>\n",
       "      <td>6900400.00</td>\n",
       "      <td>6900400</td>\n",
       "      <td>6900400.00</td>\n",
       "    </tr>\n",
       "    <tr>\n",
       "      <th>2</th>\n",
       "      <td>10101</td>\n",
       "      <td>GSD General</td>\n",
       "      <td>1.0</td>\n",
       "      <td>Administrative</td>\n",
       "      <td>1101109.0</td>\n",
       "      <td>ADM Health Insurance Match</td>\n",
       "      <td>501174.0</td>\n",
       "      <td>Employer Group Health</td>\n",
       "      <td>28309600.0</td>\n",
       "      <td>29163668.82</td>\n",
       "      <td>...</td>\n",
       "      <td>49341100.0</td>\n",
       "      <td>48160249.84</td>\n",
       "      <td>49341100.0</td>\n",
       "      <td>50951314.92</td>\n",
       "      <td>51244600.0</td>\n",
       "      <td>51147253.42</td>\n",
       "      <td>53391800.0</td>\n",
       "      <td>51619782.62</td>\n",
       "      <td>55099100</td>\n",
       "      <td>52691663.82</td>\n",
       "    </tr>\n",
       "    <tr>\n",
       "      <th>3</th>\n",
       "      <td>10101</td>\n",
       "      <td>GSD General</td>\n",
       "      <td>1.0</td>\n",
       "      <td>Administrative</td>\n",
       "      <td>1101109.0</td>\n",
       "      <td>ADM Health Insurance Match</td>\n",
       "      <td>501175.0</td>\n",
       "      <td>Employer Dental Group</td>\n",
       "      <td>1823200.0</td>\n",
       "      <td>1831153.10</td>\n",
       "      <td>...</td>\n",
       "      <td>2741700.0</td>\n",
       "      <td>2660358.00</td>\n",
       "      <td>2741700.0</td>\n",
       "      <td>2871873.89</td>\n",
       "      <td>2986400.0</td>\n",
       "      <td>3045002.14</td>\n",
       "      <td>3063700.0</td>\n",
       "      <td>3128416.49</td>\n",
       "      <td>3063700</td>\n",
       "      <td>3201906.32</td>\n",
       "    </tr>\n",
       "    <tr>\n",
       "      <th>4</th>\n",
       "      <td>10101</td>\n",
       "      <td>GSD General</td>\n",
       "      <td>1.0</td>\n",
       "      <td>Administrative</td>\n",
       "      <td>1101109.0</td>\n",
       "      <td>ADM Health Insurance Match</td>\n",
       "      <td>501176.0</td>\n",
       "      <td>Employer Group Life</td>\n",
       "      <td>0.0</td>\n",
       "      <td>0.00</td>\n",
       "      <td>...</td>\n",
       "      <td>0.0</td>\n",
       "      <td>0.00</td>\n",
       "      <td>0.0</td>\n",
       "      <td>0.00</td>\n",
       "      <td>0.0</td>\n",
       "      <td>0.00</td>\n",
       "      <td>0.0</td>\n",
       "      <td>0.00</td>\n",
       "      <td>0</td>\n",
       "      <td>0.00</td>\n",
       "    </tr>\n",
       "  </tbody>\n",
       "</table>\n",
       "<p>5 rows × 32 columns</p>\n",
       "</div>"
      ],
      "text/plain": [
       "    Fund Fund Description  Department Department Description  Business Unit  \\\n",
       "0  10101      GSD General         1.0         Administrative      1101104.0   \n",
       "1  10101      GSD General         1.0         Administrative      1101107.0   \n",
       "2  10101      GSD General         1.0         Administrative      1101109.0   \n",
       "3  10101      GSD General         1.0         Administrative      1101109.0   \n",
       "4  10101      GSD General         1.0         Administrative      1101109.0   \n",
       "\n",
       "     Business Unit Description  Object Account   Object Account Description  \\\n",
       "0      ADM County Retire Match        531702.0  Transfer Guaranteed Pension   \n",
       "1  ADM Cnty Teach Retire Match        531702.0  Transfer Guaranteed Pension   \n",
       "2   ADM Health Insurance Match        501174.0        Employer Group Health   \n",
       "3   ADM Health Insurance Match        501175.0        Employer Dental Group   \n",
       "4   ADM Health Insurance Match        501176.0          Employer Group Life   \n",
       "\n",
       "   FY2010 Budgeted Expenses  FY2010 Actual Expenses  ...  \\\n",
       "0                 3501900.0              3501900.00  ...   \n",
       "1                 6900400.0              6900400.00  ...   \n",
       "2                28309600.0             29163668.82  ...   \n",
       "3                 1823200.0              1831153.10  ...   \n",
       "4                       0.0                    0.00  ...   \n",
       "\n",
       "   FY2017 Budgeted Expenses  FY2017 Actual Expenses  FY2018 Budgeted Expenses  \\\n",
       "0                 3501900.0              3501900.00                 3501900.0   \n",
       "1                 6900400.0              6900400.00                 6900400.0   \n",
       "2                49341100.0             48160249.84                49341100.0   \n",
       "3                 2741700.0              2660358.00                 2741700.0   \n",
       "4                       0.0                    0.00                       0.0   \n",
       "\n",
       "   FY2018 Actual Expenses  FY2019 Budgeted Expenses  FY2019 Actual Expenses  \\\n",
       "0              3501900.00                 3501900.0              3501900.00   \n",
       "1              6900400.00                 6900400.0              6900400.00   \n",
       "2             50951314.92                51244600.0             51147253.42   \n",
       "3              2871873.89                 2986400.0              3045002.14   \n",
       "4                    0.00                       0.0                    0.00   \n",
       "\n",
       "   FY2020 Budgeted Expenses  FY2020 Actual Expenses  FY2021 Budgeted Expenses  \\\n",
       "0                 3501900.0              3501900.00                   3501900   \n",
       "1                 6900400.0              6900400.00                   6900400   \n",
       "2                53391800.0             51619782.62                  55099100   \n",
       "3                 3063700.0              3128416.49                   3063700   \n",
       "4                       0.0                    0.00                         0   \n",
       "\n",
       "   FY2021 Actual Expenses  \n",
       "0              3501900.00  \n",
       "1              6900400.00  \n",
       "2             52691663.82  \n",
       "3              3201906.32  \n",
       "4                    0.00  \n",
       "\n",
       "[5 rows x 32 columns]"
      ]
     },
     "execution_count": 3,
     "metadata": {},
     "output_type": "execute_result"
    }
   ],
   "source": [
    "df.head(5)"
   ]
  },
  {
   "cell_type": "code",
   "execution_count": 4,
   "metadata": {},
   "outputs": [
    {
     "data": {
      "text/html": [
       "<div>\n",
       "<style scoped>\n",
       "    .dataframe tbody tr th:only-of-type {\n",
       "        vertical-align: middle;\n",
       "    }\n",
       "\n",
       "    .dataframe tbody tr th {\n",
       "        vertical-align: top;\n",
       "    }\n",
       "\n",
       "    .dataframe thead th {\n",
       "        text-align: right;\n",
       "    }\n",
       "</style>\n",
       "<table border=\"1\" class=\"dataframe\">\n",
       "  <thead>\n",
       "    <tr style=\"text-align: right;\">\n",
       "      <th></th>\n",
       "      <th>Fund</th>\n",
       "      <th>Fund Description</th>\n",
       "      <th>Department</th>\n",
       "      <th>Department Description</th>\n",
       "      <th>Business Unit</th>\n",
       "      <th>Business Unit Description</th>\n",
       "      <th>Object Account</th>\n",
       "      <th>Object Account Description</th>\n",
       "      <th>FY2010 Budgeted Expenses</th>\n",
       "      <th>FY2010 Actual Expenses</th>\n",
       "      <th>...</th>\n",
       "      <th>FY2017 Budgeted Expenses</th>\n",
       "      <th>FY2017 Actual Expenses</th>\n",
       "      <th>FY2018 Budgeted Expenses</th>\n",
       "      <th>FY2018 Actual Expenses</th>\n",
       "      <th>FY2019 Budgeted Expenses</th>\n",
       "      <th>FY2019 Actual Expenses</th>\n",
       "      <th>FY2020 Budgeted Expenses</th>\n",
       "      <th>FY2020 Actual Expenses</th>\n",
       "      <th>FY2021 Budgeted Expenses</th>\n",
       "      <th>FY2021 Actual Expenses</th>\n",
       "    </tr>\n",
       "  </thead>\n",
       "  <tbody>\n",
       "    <tr>\n",
       "      <th>30828</th>\n",
       "      <td>35131</td>\n",
       "      <td>MNPS General Purpose</td>\n",
       "      <td>80.0</td>\n",
       "      <td>MNPS</td>\n",
       "      <td>80902020.0</td>\n",
       "      <td>MNPS COVID-19</td>\n",
       "      <td>501177.0</td>\n",
       "      <td>Employer Pension</td>\n",
       "      <td>0.000000e+00</td>\n",
       "      <td>0.000000e+00</td>\n",
       "      <td>...</td>\n",
       "      <td>0.000000e+00</td>\n",
       "      <td>0.000000e+00</td>\n",
       "      <td>0.000000e+00</td>\n",
       "      <td>0.000000e+00</td>\n",
       "      <td>0.000000e+00</td>\n",
       "      <td>0.000000e+00</td>\n",
       "      <td>0.000000e+00</td>\n",
       "      <td>0.000000e+00</td>\n",
       "      <td>0</td>\n",
       "      <td>-1.859000e+01</td>\n",
       "    </tr>\n",
       "    <tr>\n",
       "      <th>30829</th>\n",
       "      <td>35131</td>\n",
       "      <td>MNPS General Purpose</td>\n",
       "      <td>80.0</td>\n",
       "      <td>MNPS</td>\n",
       "      <td>80902020.0</td>\n",
       "      <td>MNPS COVID-19</td>\n",
       "      <td>501172.0</td>\n",
       "      <td>Employer OASDI</td>\n",
       "      <td>0.000000e+00</td>\n",
       "      <td>0.000000e+00</td>\n",
       "      <td>...</td>\n",
       "      <td>0.000000e+00</td>\n",
       "      <td>0.000000e+00</td>\n",
       "      <td>0.000000e+00</td>\n",
       "      <td>0.000000e+00</td>\n",
       "      <td>0.000000e+00</td>\n",
       "      <td>0.000000e+00</td>\n",
       "      <td>0.000000e+00</td>\n",
       "      <td>0.000000e+00</td>\n",
       "      <td>0</td>\n",
       "      <td>-4.870000e+00</td>\n",
       "    </tr>\n",
       "    <tr>\n",
       "      <th>30830</th>\n",
       "      <td>35131</td>\n",
       "      <td>MNPS General Purpose</td>\n",
       "      <td>80.0</td>\n",
       "      <td>MNPS</td>\n",
       "      <td>80902020.0</td>\n",
       "      <td>MNPS COVID-19</td>\n",
       "      <td>501173.0</td>\n",
       "      <td>Employer SSN Medical</td>\n",
       "      <td>0.000000e+00</td>\n",
       "      <td>0.000000e+00</td>\n",
       "      <td>...</td>\n",
       "      <td>0.000000e+00</td>\n",
       "      <td>0.000000e+00</td>\n",
       "      <td>0.000000e+00</td>\n",
       "      <td>0.000000e+00</td>\n",
       "      <td>0.000000e+00</td>\n",
       "      <td>0.000000e+00</td>\n",
       "      <td>0.000000e+00</td>\n",
       "      <td>0.000000e+00</td>\n",
       "      <td>0</td>\n",
       "      <td>-1.990000e+00</td>\n",
       "    </tr>\n",
       "    <tr>\n",
       "      <th>30831</th>\n",
       "      <td>35131</td>\n",
       "      <td>MNPS General Purpose</td>\n",
       "      <td>80.0</td>\n",
       "      <td>MNPS</td>\n",
       "      <td>80902020.0</td>\n",
       "      <td>MNPS COVID-19</td>\n",
       "      <td>501101.0</td>\n",
       "      <td>Regular Pay</td>\n",
       "      <td>0.000000e+00</td>\n",
       "      <td>0.000000e+00</td>\n",
       "      <td>...</td>\n",
       "      <td>0.000000e+00</td>\n",
       "      <td>0.000000e+00</td>\n",
       "      <td>0.000000e+00</td>\n",
       "      <td>0.000000e+00</td>\n",
       "      <td>0.000000e+00</td>\n",
       "      <td>0.000000e+00</td>\n",
       "      <td>0.000000e+00</td>\n",
       "      <td>0.000000e+00</td>\n",
       "      <td>0</td>\n",
       "      <td>-1.506600e+02</td>\n",
       "    </tr>\n",
       "    <tr>\n",
       "      <th>30832</th>\n",
       "      <td>Grand Total</td>\n",
       "      <td>NaN</td>\n",
       "      <td>NaN</td>\n",
       "      <td>NaN</td>\n",
       "      <td>NaN</td>\n",
       "      <td>NaN</td>\n",
       "      <td>NaN</td>\n",
       "      <td>NaN</td>\n",
       "      <td>1.600288e+09</td>\n",
       "      <td>1.784957e+09</td>\n",
       "      <td>...</td>\n",
       "      <td>2.145225e+09</td>\n",
       "      <td>2.112964e+09</td>\n",
       "      <td>2.288721e+09</td>\n",
       "      <td>2.223645e+09</td>\n",
       "      <td>2.298126e+09</td>\n",
       "      <td>2.257203e+09</td>\n",
       "      <td>2.414639e+09</td>\n",
       "      <td>2.303677e+09</td>\n",
       "      <td>2455434200</td>\n",
       "      <td>3.031367e+09</td>\n",
       "    </tr>\n",
       "  </tbody>\n",
       "</table>\n",
       "<p>5 rows × 32 columns</p>\n",
       "</div>"
      ],
      "text/plain": [
       "              Fund      Fund Description  Department Department Description  \\\n",
       "30828        35131  MNPS General Purpose        80.0                   MNPS   \n",
       "30829        35131  MNPS General Purpose        80.0                   MNPS   \n",
       "30830        35131  MNPS General Purpose        80.0                   MNPS   \n",
       "30831        35131  MNPS General Purpose        80.0                   MNPS   \n",
       "30832  Grand Total                   NaN         NaN                    NaN   \n",
       "\n",
       "       Business Unit Business Unit Description  Object Account  \\\n",
       "30828     80902020.0             MNPS COVID-19        501177.0   \n",
       "30829     80902020.0             MNPS COVID-19        501172.0   \n",
       "30830     80902020.0             MNPS COVID-19        501173.0   \n",
       "30831     80902020.0             MNPS COVID-19        501101.0   \n",
       "30832            NaN                       NaN             NaN   \n",
       "\n",
       "      Object Account Description  FY2010 Budgeted Expenses  \\\n",
       "30828           Employer Pension              0.000000e+00   \n",
       "30829             Employer OASDI              0.000000e+00   \n",
       "30830       Employer SSN Medical              0.000000e+00   \n",
       "30831                Regular Pay              0.000000e+00   \n",
       "30832                        NaN              1.600288e+09   \n",
       "\n",
       "       FY2010 Actual Expenses  ...  FY2017 Budgeted Expenses  \\\n",
       "30828            0.000000e+00  ...              0.000000e+00   \n",
       "30829            0.000000e+00  ...              0.000000e+00   \n",
       "30830            0.000000e+00  ...              0.000000e+00   \n",
       "30831            0.000000e+00  ...              0.000000e+00   \n",
       "30832            1.784957e+09  ...              2.145225e+09   \n",
       "\n",
       "       FY2017 Actual Expenses  FY2018 Budgeted Expenses  \\\n",
       "30828            0.000000e+00              0.000000e+00   \n",
       "30829            0.000000e+00              0.000000e+00   \n",
       "30830            0.000000e+00              0.000000e+00   \n",
       "30831            0.000000e+00              0.000000e+00   \n",
       "30832            2.112964e+09              2.288721e+09   \n",
       "\n",
       "       FY2018 Actual Expenses  FY2019 Budgeted Expenses  \\\n",
       "30828            0.000000e+00              0.000000e+00   \n",
       "30829            0.000000e+00              0.000000e+00   \n",
       "30830            0.000000e+00              0.000000e+00   \n",
       "30831            0.000000e+00              0.000000e+00   \n",
       "30832            2.223645e+09              2.298126e+09   \n",
       "\n",
       "       FY2019 Actual Expenses  FY2020 Budgeted Expenses  \\\n",
       "30828            0.000000e+00              0.000000e+00   \n",
       "30829            0.000000e+00              0.000000e+00   \n",
       "30830            0.000000e+00              0.000000e+00   \n",
       "30831            0.000000e+00              0.000000e+00   \n",
       "30832            2.257203e+09              2.414639e+09   \n",
       "\n",
       "       FY2020 Actual Expenses  FY2021 Budgeted Expenses  \\\n",
       "30828            0.000000e+00                         0   \n",
       "30829            0.000000e+00                         0   \n",
       "30830            0.000000e+00                         0   \n",
       "30831            0.000000e+00                         0   \n",
       "30832            2.303677e+09                2455434200   \n",
       "\n",
       "       FY2021 Actual Expenses  \n",
       "30828           -1.859000e+01  \n",
       "30829           -4.870000e+00  \n",
       "30830           -1.990000e+00  \n",
       "30831           -1.506600e+02  \n",
       "30832            3.031367e+09  \n",
       "\n",
       "[5 rows x 32 columns]"
      ]
     },
     "execution_count": 4,
     "metadata": {},
     "output_type": "execute_result"
    }
   ],
   "source": [
    "df.tail(5)"
   ]
  },
  {
   "cell_type": "code",
   "execution_count": 5,
   "metadata": {},
   "outputs": [
    {
     "name": "stdout",
     "output_type": "stream",
     "text": [
      "<class 'pandas.core.frame.DataFrame'>\n",
      "RangeIndex: 30833 entries, 0 to 30832\n",
      "Data columns (total 32 columns):\n",
      " #   Column                      Non-Null Count  Dtype  \n",
      "---  ------                      --------------  -----  \n",
      " 0   Fund                        30833 non-null  object \n",
      " 1   Fund Description            30832 non-null  object \n",
      " 2   Department                  30832 non-null  float64\n",
      " 3   Department Description      30832 non-null  object \n",
      " 4   Business Unit               30832 non-null  float64\n",
      " 5   Business Unit Description   30832 non-null  object \n",
      " 6   Object Account              30832 non-null  float64\n",
      " 7   Object Account Description  30832 non-null  object \n",
      " 8   FY2010 Budgeted Expenses    30833 non-null  float64\n",
      " 9   FY2010 Actual Expenses      30833 non-null  float64\n",
      " 10  FY2011 Budgeted Expenses    30833 non-null  float64\n",
      " 11  FY2011 Actual Expenses      30833 non-null  float64\n",
      " 12  FY2012 Budgeted Expenses    30833 non-null  float64\n",
      " 13  FY2012 Actual Expenses      30833 non-null  float64\n",
      " 14  FY2013 Budgeted Expenses    30833 non-null  float64\n",
      " 15  FY2013 Actual Expenses      30833 non-null  float64\n",
      " 16  FY2014 Budgeted Expenses    30833 non-null  float64\n",
      " 17  FY2014 Actual Expenses      30833 non-null  float64\n",
      " 18  FY2015 Budgeted Expenses    30833 non-null  float64\n",
      " 19  FY2015 Actual Expenses      30833 non-null  float64\n",
      " 20  FY2016 Budgeted Expenses    30833 non-null  float64\n",
      " 21  FY2016 Actual Expenses      30833 non-null  float64\n",
      " 22  FY2017 Budgeted Expenses    30833 non-null  float64\n",
      " 23  FY2017 Actual Expenses      30833 non-null  float64\n",
      " 24  FY2018 Budgeted Expenses    30833 non-null  float64\n",
      " 25  FY2018 Actual Expenses      30833 non-null  float64\n",
      " 26  FY2019 Budgeted Expenses    30833 non-null  float64\n",
      " 27  FY2019 Actual Expenses      30833 non-null  float64\n",
      " 28  FY2020 Budgeted Expenses    30833 non-null  float64\n",
      " 29  FY2020 Actual Expenses      30833 non-null  float64\n",
      " 30  FY2021 Budgeted Expenses    30833 non-null  int64  \n",
      " 31  FY2021 Actual Expenses      30833 non-null  float64\n",
      "dtypes: float64(26), int64(1), object(5)\n",
      "memory usage: 7.5+ MB\n"
     ]
    }
   ],
   "source": [
    "df.info()"
   ]
  },
  {
   "cell_type": "code",
   "execution_count": 6,
   "metadata": {},
   "outputs": [
    {
     "data": {
      "text/plain": [
       "52"
      ]
     },
     "execution_count": 6,
     "metadata": {},
     "output_type": "execute_result"
    }
   ],
   "source": [
    "df['Department Description'].nunique()"
   ]
  },
  {
   "cell_type": "code",
   "execution_count": 7,
   "metadata": {},
   "outputs": [],
   "source": [
    "dep_list = df['Department Description'].unique()"
   ]
  },
  {
   "cell_type": "code",
   "execution_count": 8,
   "metadata": {},
   "outputs": [
    {
     "data": {
      "text/plain": [
       "array(['Administrative', 'Sheriff', 'Metropolitan Council',\n",
       "       'Metropolitan Clerk', \"Mayor's Office\", 'Election Commission',\n",
       "       'Law', 'Planning Commission', 'Human Resources',\n",
       "       'Register of Deeds', 'General Services', 'Historical Commission',\n",
       "       'Information Technology Service', 'Finance',\n",
       "       'Assessor of Property', 'Trustee', 'County Clerk',\n",
       "       'District Attorney', 'X-Medical Examiner', 'Public Defender',\n",
       "       'Juvenile Court Clerk', 'Circuit Court Clerk',\n",
       "       'Criminal Court Clerk', 'Clerk and Master - Chancery',\n",
       "       'Juvenile Court', 'Police', 'General Sessions Court',\n",
       "       'State Trial Courts', 'Justice Integration Services', 'Fire',\n",
       "       'Codes Administration', 'Beer Board', 'Social Services',\n",
       "       'Agricultural Extension', 'Soil and Water Conservation', 'Health',\n",
       "       'Public Library', 'Parks', 'Arts Commission', 'Public Works',\n",
       "       'MNPS', 'Human Relations Commission', 'X-Transportation Licensing',\n",
       "       'Criminal Justice Planning', 'Internal Audit',\n",
       "       'Office of Emergency Management', 'Office of Family Safety',\n",
       "       'Community Oversight Board', 'Sports Authority',\n",
       "       'Community Education Commission', 'Emergency Communication Center',\n",
       "       'Debt Service', nan], dtype=object)"
      ]
     },
     "execution_count": 8,
     "metadata": {},
     "output_type": "execute_result"
    }
   ],
   "source": [
    "dep_list"
   ]
  },
  {
   "cell_type": "code",
   "execution_count": 9,
   "metadata": {},
   "outputs": [],
   "source": [
    "parks = df[df['Department Description'] == 'Parks']"
   ]
  },
  {
   "cell_type": "code",
   "execution_count": 10,
   "metadata": {},
   "outputs": [],
   "source": [
    "dd = parks.groupby(['Department Description']).sum()"
   ]
  },
  {
   "cell_type": "code",
   "execution_count": 11,
   "metadata": {},
   "outputs": [],
   "source": [
    "dd.drop(['Department','Business Unit','Object Account','FY2010 Budgeted Expenses','FY2011 Budgeted Expenses','FY2012 Budgeted Expenses','FY2013 Budgeted Expenses','FY2014 Budgeted Expenses','FY2015 Budgeted Expenses','FY2016 Budgeted Expenses','FY2017 Budgeted Expenses','FY2018 Budgeted Expenses','FY2019 Budgeted Expenses','FY2020 Budgeted Expenses','FY2021 Budgeted Expenses'],axis=1,inplace=True)"
   ]
  },
  {
   "cell_type": "code",
   "execution_count": 12,
   "metadata": {},
   "outputs": [
    {
     "data": {
      "text/html": [
       "<div>\n",
       "<style scoped>\n",
       "    .dataframe tbody tr th:only-of-type {\n",
       "        vertical-align: middle;\n",
       "    }\n",
       "\n",
       "    .dataframe tbody tr th {\n",
       "        vertical-align: top;\n",
       "    }\n",
       "\n",
       "    .dataframe thead th {\n",
       "        text-align: right;\n",
       "    }\n",
       "</style>\n",
       "<table border=\"1\" class=\"dataframe\">\n",
       "  <thead>\n",
       "    <tr style=\"text-align: right;\">\n",
       "      <th></th>\n",
       "      <th>FY2010 Actual Expenses</th>\n",
       "      <th>FY2011 Actual Expenses</th>\n",
       "      <th>FY2012 Actual Expenses</th>\n",
       "      <th>FY2013 Actual Expenses</th>\n",
       "      <th>FY2014 Actual Expenses</th>\n",
       "      <th>FY2015 Actual Expenses</th>\n",
       "      <th>FY2016 Actual Expenses</th>\n",
       "      <th>FY2017 Actual Expenses</th>\n",
       "      <th>FY2018 Actual Expenses</th>\n",
       "      <th>FY2019 Actual Expenses</th>\n",
       "      <th>FY2020 Actual Expenses</th>\n",
       "      <th>FY2021 Actual Expenses</th>\n",
       "    </tr>\n",
       "    <tr>\n",
       "      <th>Department Description</th>\n",
       "      <th></th>\n",
       "      <th></th>\n",
       "      <th></th>\n",
       "      <th></th>\n",
       "      <th></th>\n",
       "      <th></th>\n",
       "      <th></th>\n",
       "      <th></th>\n",
       "      <th></th>\n",
       "      <th></th>\n",
       "      <th></th>\n",
       "      <th></th>\n",
       "    </tr>\n",
       "  </thead>\n",
       "  <tbody>\n",
       "    <tr>\n",
       "      <th>Parks</th>\n",
       "      <td>28612489.79</td>\n",
       "      <td>29102373.09</td>\n",
       "      <td>29484490.95</td>\n",
       "      <td>30724854.32</td>\n",
       "      <td>31463529.78</td>\n",
       "      <td>32941320.5</td>\n",
       "      <td>34789704.25</td>\n",
       "      <td>37565141.86</td>\n",
       "      <td>38095240.19</td>\n",
       "      <td>39606263.71</td>\n",
       "      <td>38062152.54</td>\n",
       "      <td>39769717.0</td>\n",
       "    </tr>\n",
       "  </tbody>\n",
       "</table>\n",
       "</div>"
      ],
      "text/plain": [
       "                        FY2010 Actual Expenses  FY2011 Actual Expenses  \\\n",
       "Department Description                                                   \n",
       "Parks                              28612489.79             29102373.09   \n",
       "\n",
       "                        FY2012 Actual Expenses  FY2013 Actual Expenses  \\\n",
       "Department Description                                                   \n",
       "Parks                              29484490.95             30724854.32   \n",
       "\n",
       "                        FY2014 Actual Expenses  FY2015 Actual Expenses  \\\n",
       "Department Description                                                   \n",
       "Parks                              31463529.78              32941320.5   \n",
       "\n",
       "                        FY2016 Actual Expenses  FY2017 Actual Expenses  \\\n",
       "Department Description                                                   \n",
       "Parks                              34789704.25             37565141.86   \n",
       "\n",
       "                        FY2018 Actual Expenses  FY2019 Actual Expenses  \\\n",
       "Department Description                                                   \n",
       "Parks                              38095240.19             39606263.71   \n",
       "\n",
       "                        FY2020 Actual Expenses  FY2021 Actual Expenses  \n",
       "Department Description                                                  \n",
       "Parks                              38062152.54              39769717.0  "
      ]
     },
     "execution_count": 12,
     "metadata": {},
     "output_type": "execute_result"
    }
   ],
   "source": [
    "dd.head()"
   ]
  },
  {
   "cell_type": "code",
   "execution_count": 13,
   "metadata": {},
   "outputs": [],
   "source": [
    "park_13_19 = dd[['FY2013 Actual Expenses','FY2014 Actual Expenses','FY2015 Actual Expenses','FY2016 Actual Expenses','FY2017 Actual Expenses','FY2018 Actual Expenses','FY2019 Actual Expenses']]"
   ]
  },
  {
   "cell_type": "code",
   "execution_count": 14,
   "metadata": {},
   "outputs": [],
   "source": [
    "park_13_19 = park_13_19.T"
   ]
  },
  {
   "cell_type": "code",
   "execution_count": 15,
   "metadata": {},
   "outputs": [
    {
     "data": {
      "text/html": [
       "<div>\n",
       "<style scoped>\n",
       "    .dataframe tbody tr th:only-of-type {\n",
       "        vertical-align: middle;\n",
       "    }\n",
       "\n",
       "    .dataframe tbody tr th {\n",
       "        vertical-align: top;\n",
       "    }\n",
       "\n",
       "    .dataframe thead th {\n",
       "        text-align: right;\n",
       "    }\n",
       "</style>\n",
       "<table border=\"1\" class=\"dataframe\">\n",
       "  <thead>\n",
       "    <tr style=\"text-align: right;\">\n",
       "      <th>Department Description</th>\n",
       "      <th>Parks</th>\n",
       "    </tr>\n",
       "  </thead>\n",
       "  <tbody>\n",
       "    <tr>\n",
       "      <th>FY2013 Actual Expenses</th>\n",
       "      <td>30724854.32</td>\n",
       "    </tr>\n",
       "    <tr>\n",
       "      <th>FY2014 Actual Expenses</th>\n",
       "      <td>31463529.78</td>\n",
       "    </tr>\n",
       "    <tr>\n",
       "      <th>FY2015 Actual Expenses</th>\n",
       "      <td>32941320.50</td>\n",
       "    </tr>\n",
       "    <tr>\n",
       "      <th>FY2016 Actual Expenses</th>\n",
       "      <td>34789704.25</td>\n",
       "    </tr>\n",
       "    <tr>\n",
       "      <th>FY2017 Actual Expenses</th>\n",
       "      <td>37565141.86</td>\n",
       "    </tr>\n",
       "    <tr>\n",
       "      <th>FY2018 Actual Expenses</th>\n",
       "      <td>38095240.19</td>\n",
       "    </tr>\n",
       "    <tr>\n",
       "      <th>FY2019 Actual Expenses</th>\n",
       "      <td>39606263.71</td>\n",
       "    </tr>\n",
       "  </tbody>\n",
       "</table>\n",
       "</div>"
      ],
      "text/plain": [
       "Department Description        Parks\n",
       "FY2013 Actual Expenses  30724854.32\n",
       "FY2014 Actual Expenses  31463529.78\n",
       "FY2015 Actual Expenses  32941320.50\n",
       "FY2016 Actual Expenses  34789704.25\n",
       "FY2017 Actual Expenses  37565141.86\n",
       "FY2018 Actual Expenses  38095240.19\n",
       "FY2019 Actual Expenses  39606263.71"
      ]
     },
     "execution_count": 15,
     "metadata": {},
     "output_type": "execute_result"
    }
   ],
   "source": [
    "park_13_19"
   ]
  },
  {
   "cell_type": "code",
   "execution_count": 16,
   "metadata": {},
   "outputs": [],
   "source": [
    "park_13_19['year'] = [2013,2014,2015,2016,2017,2018,2019]"
   ]
  },
  {
   "cell_type": "code",
   "execution_count": 17,
   "metadata": {},
   "outputs": [],
   "source": [
    "park_13_19.reset_index(inplace=True)"
   ]
  },
  {
   "cell_type": "code",
   "execution_count": 18,
   "metadata": {},
   "outputs": [],
   "source": [
    "park_13_19 = park_13_19[['Parks','year']]"
   ]
  },
  {
   "cell_type": "code",
   "execution_count": 19,
   "metadata": {},
   "outputs": [],
   "source": [
    "x1 = park_13_19['year']\n",
    "y1 = park_13_19['Parks']"
   ]
  },
  {
   "cell_type": "code",
   "execution_count": 20,
   "metadata": {},
   "outputs": [
    {
     "ename": "NameError",
     "evalue": "name 'x' is not defined",
     "output_type": "error",
     "traceback": [
      "\u001b[1;31m---------------------------------------------------------------------------\u001b[0m",
      "\u001b[1;31mNameError\u001b[0m                                 Traceback (most recent call last)",
      "Cell \u001b[1;32mIn [20], line 3\u001b[0m\n\u001b[0;32m      1\u001b[0m park_13_19\u001b[39m.\u001b[39mplot(kind\u001b[39m=\u001b[39m\u001b[39m'\u001b[39m\u001b[39mline\u001b[39m\u001b[39m'\u001b[39m, x \u001b[39m=\u001b[39m \u001b[39m'\u001b[39m\u001b[39myear\u001b[39m\u001b[39m'\u001b[39m, y \u001b[39m=\u001b[39m \u001b[39m'\u001b[39m\u001b[39mParks\u001b[39m\u001b[39m'\u001b[39m)\n\u001b[0;32m      2\u001b[0m \u001b[39m# Calculate the Trendline\u001b[39;00m\n\u001b[1;32m----> 3\u001b[0m z \u001b[39m=\u001b[39m np\u001b[39m.\u001b[39mpolyfit(x, y, \u001b[39m1\u001b[39m)\n\u001b[0;32m      4\u001b[0m p \u001b[39m=\u001b[39m np\u001b[39m.\u001b[39mpoly1d(z)\n\u001b[0;32m      5\u001b[0m plt\u001b[39m.\u001b[39mplot(x1, p(x), color\u001b[39m=\u001b[39m\u001b[39m\"\u001b[39m\u001b[39mpurple\u001b[39m\u001b[39m\"\u001b[39m, linewidth\u001b[39m=\u001b[39m\u001b[39m3\u001b[39m, linestyle\u001b[39m=\u001b[39m\u001b[39m\"\u001b[39m\u001b[39m--\u001b[39m\u001b[39m\"\u001b[39m)\n",
      "\u001b[1;31mNameError\u001b[0m: name 'x' is not defined"
     ]
    },
    {
     "data": {
      "image/png": "[encoded data removed]",
      "text/plain": [
       "<Figure size 640x480 with 1 Axes>"
      ]
     },
     "metadata": {},
     "output_type": "display_data"
    }
   ],
   "source": [
    "park_13_19.plot(kind='line', x = 'year', y = 'Parks')\n",
    "# Calculate the Trendline\n",
    "z = np.polyfit(x, y, 1)\n",
    "p = np.poly1d(z)\n",
    "plt.plot(x1, p(x), color=\"purple\", linewidth=3, linestyle=\"--\")\n",
    "plt.title('Parks Budget by Year')\n",
    "plt.xlabel('Year')\n",
    "plt.ylabel('Budget in Millions')"
   ]
  },
  {
   "attachments": {},
   "cell_type": "markdown",
   "metadata": {},
   "source": [
    "16 - 20 grad"
   ]
  },
  {
   "cell_type": "code",
   "execution_count": null,
   "metadata": {},
   "outputs": [],
   "source": [
    "dd = dd.T"
   ]
  },
  {
   "cell_type": "code",
   "execution_count": null,
   "metadata": {},
   "outputs": [],
   "source": [
    "dd['year'] = [2010,2011,2012,2013,2014,2015,2016,2017,2018,2019,2020,2021]"
   ]
  },
  {
   "cell_type": "code",
   "execution_count": null,
   "metadata": {},
   "outputs": [],
   "source": [
    "dd.reset_index(inplace=True)"
   ]
  },
  {
   "cell_type": "code",
   "execution_count": null,
   "metadata": {},
   "outputs": [],
   "source": [
    "dd = dd[['Parks','year']]"
   ]
  },
  {
   "cell_type": "code",
   "execution_count": null,
   "metadata": {},
   "outputs": [
    {
     "data": {
      "text/html": [
       "<div>\n",
       "<style scoped>\n",
       "    .dataframe tbody tr th:only-of-type {\n",
       "        vertical-align: middle;\n",
       "    }\n",
       "\n",
       "    .dataframe tbody tr th {\n",
       "        vertical-align: top;\n",
       "    }\n",
       "\n",
       "    .dataframe thead th {\n",
       "        text-align: right;\n",
       "    }\n",
       "</style>\n",
       "<table border=\"1\" class=\"dataframe\">\n",
       "  <thead>\n",
       "    <tr style=\"text-align: right;\">\n",
       "      <th>Department Description</th>\n",
       "      <th>Parks</th>\n",
       "      <th>year</th>\n",
       "    </tr>\n",
       "  </thead>\n",
       "  <tbody>\n",
       "    <tr>\n",
       "      <th>0</th>\n",
       "      <td>28612489.79</td>\n",
       "      <td>2010</td>\n",
       "    </tr>\n",
       "    <tr>\n",
       "      <th>1</th>\n",
       "      <td>29102373.09</td>\n",
       "      <td>2011</td>\n",
       "    </tr>\n",
       "    <tr>\n",
       "      <th>2</th>\n",
       "      <td>29484490.95</td>\n",
       "      <td>2012</td>\n",
       "    </tr>\n",
       "    <tr>\n",
       "      <th>3</th>\n",
       "      <td>30724854.32</td>\n",
       "      <td>2013</td>\n",
       "    </tr>\n",
       "    <tr>\n",
       "      <th>4</th>\n",
       "      <td>31463529.78</td>\n",
       "      <td>2014</td>\n",
       "    </tr>\n",
       "    <tr>\n",
       "      <th>5</th>\n",
       "      <td>32941320.50</td>\n",
       "      <td>2015</td>\n",
       "    </tr>\n",
       "    <tr>\n",
       "      <th>6</th>\n",
       "      <td>34789704.25</td>\n",
       "      <td>2016</td>\n",
       "    </tr>\n",
       "    <tr>\n",
       "      <th>7</th>\n",
       "      <td>37565141.86</td>\n",
       "      <td>2017</td>\n",
       "    </tr>\n",
       "    <tr>\n",
       "      <th>8</th>\n",
       "      <td>38095240.19</td>\n",
       "      <td>2018</td>\n",
       "    </tr>\n",
       "    <tr>\n",
       "      <th>9</th>\n",
       "      <td>39606263.71</td>\n",
       "      <td>2019</td>\n",
       "    </tr>\n",
       "    <tr>\n",
       "      <th>10</th>\n",
       "      <td>38062152.54</td>\n",
       "      <td>2020</td>\n",
       "    </tr>\n",
       "    <tr>\n",
       "      <th>11</th>\n",
       "      <td>39769717.00</td>\n",
       "      <td>2021</td>\n",
       "    </tr>\n",
       "  </tbody>\n",
       "</table>\n",
       "</div>"
      ],
      "text/plain": [
       "Department Description        Parks  year\n",
       "0                       28612489.79  2010\n",
       "1                       29102373.09  2011\n",
       "2                       29484490.95  2012\n",
       "3                       30724854.32  2013\n",
       "4                       31463529.78  2014\n",
       "5                       32941320.50  2015\n",
       "6                       34789704.25  2016\n",
       "7                       37565141.86  2017\n",
       "8                       38095240.19  2018\n",
       "9                       39606263.71  2019\n",
       "10                      38062152.54  2020\n",
       "11                      39769717.00  2021"
      ]
     },
     "execution_count": 36,
     "metadata": {},
     "output_type": "execute_result"
    }
   ],
   "source": [
    "dd"
   ]
  },
  {
   "cell_type": "code",
   "execution_count": null,
   "metadata": {},
   "outputs": [],
   "source": [
    "parks_16_20 = dd.drop([0,1,2,3,4,5,11])"
   ]
  },
  {
   "cell_type": "code",
   "execution_count": null,
   "metadata": {},
   "outputs": [
    {
     "data": {
      "text/html": [
       "<div>\n",
       "<style scoped>\n",
       "    .dataframe tbody tr th:only-of-type {\n",
       "        vertical-align: middle;\n",
       "    }\n",
       "\n",
       "    .dataframe tbody tr th {\n",
       "        vertical-align: top;\n",
       "    }\n",
       "\n",
       "    .dataframe thead th {\n",
       "        text-align: right;\n",
       "    }\n",
       "</style>\n",
       "<table border=\"1\" class=\"dataframe\">\n",
       "  <thead>\n",
       "    <tr style=\"text-align: right;\">\n",
       "      <th>Department Description</th>\n",
       "      <th>Parks</th>\n",
       "      <th>year</th>\n",
       "    </tr>\n",
       "  </thead>\n",
       "  <tbody>\n",
       "    <tr>\n",
       "      <th>6</th>\n",
       "      <td>34789704.25</td>\n",
       "      <td>2016</td>\n",
       "    </tr>\n",
       "    <tr>\n",
       "      <th>7</th>\n",
       "      <td>37565141.86</td>\n",
       "      <td>2017</td>\n",
       "    </tr>\n",
       "    <tr>\n",
       "      <th>8</th>\n",
       "      <td>38095240.19</td>\n",
       "      <td>2018</td>\n",
       "    </tr>\n",
       "    <tr>\n",
       "      <th>9</th>\n",
       "      <td>39606263.71</td>\n",
       "      <td>2019</td>\n",
       "    </tr>\n",
       "    <tr>\n",
       "      <th>10</th>\n",
       "      <td>38062152.54</td>\n",
       "      <td>2020</td>\n",
       "    </tr>\n",
       "  </tbody>\n",
       "</table>\n",
       "</div>"
      ],
      "text/plain": [
       "Department Description        Parks  year\n",
       "6                       34789704.25  2016\n",
       "7                       37565141.86  2017\n",
       "8                       38095240.19  2018\n",
       "9                       39606263.71  2019\n",
       "10                      38062152.54  2020"
      ]
     },
     "execution_count": 38,
     "metadata": {},
     "output_type": "execute_result"
    }
   ],
   "source": [
    "parks_16_20"
   ]
  },
  {
   "cell_type": "code",
   "execution_count": null,
   "metadata": {},
   "outputs": [
    {
     "data": {
      "text/plain": [
       "([<matplotlib.axis.XTick at 0x1c126751fd0>,\n",
       "  <matplotlib.axis.XTick at 0x1c126751fa0>,\n",
       "  <matplotlib.axis.XTick at 0x1c12d2b40d0>,\n",
       "  <matplotlib.axis.XTick at 0x1c12d2b4b50>,\n",
       "  <matplotlib.axis.XTick at 0x1c12d2bdf10>],\n",
       " [Text(0, 0, ''),\n",
       "  Text(0, 0, ''),\n",
       "  Text(0, 0, ''),\n",
       "  Text(0, 0, ''),\n",
       "  Text(0, 0, '')])"
      ]
     },
     "execution_count": 42,
     "metadata": {},
     "output_type": "execute_result"
    },
    {
     "data": {
      "image/png": "[encoded data removed]",
      "text/plain": [
       "<Figure size 640x480 with 1 Axes>"
      ]
     },
     "metadata": {},
     "output_type": "display_data"
    }
   ],
   "source": [
    "x2 = parks_16_20['year']\n",
    "y2 = parks_16_20['Parks']\n",
    "\n",
    "parks_16_20.plot(kind='line', x = 'year', y = 'Parks')\n",
    "# Calculate the Trendline\n",
    "z = np.polyfit(x2, y2, 1)\n",
    "p = np.poly1d(z)\n",
    "plt.plot(x2, p(x2), color=\"purple\", linewidth=3, linestyle=\"--\")\n",
    "plt.title('Parks Budget by Year')\n",
    "plt.xlabel('Year')\n",
    "plt.ylabel('Budget in Millions')\n",
    "plt.xticks(x2)"
   ]
  },
  {
   "attachments": {},
   "cell_type": "markdown",
   "metadata": {},
   "source": [
    "2011 - 2017"
   ]
  },
  {
   "cell_type": "code",
   "execution_count": null,
   "metadata": {},
   "outputs": [],
   "source": [
    "parks_11_17 = dd.drop([0,8,9,10,11])"
   ]
  },
  {
   "cell_type": "code",
   "execution_count": null,
   "metadata": {},
   "outputs": [],
   "source": [
    "x4 = parks_11_17['year']\n",
    "y4 = parks_11_17['Parks']"
   ]
  },
  {
   "cell_type": "code",
   "execution_count": null,
   "metadata": {},
   "outputs": [
    {
     "data": {
      "text/plain": [
       "Text(0, 0.5, 'Budget in Millions')"
      ]
     },
     "execution_count": 46,
     "metadata": {},
     "output_type": "execute_result"
    },
    {
     "data": {
      "image/png": "[encoded data removed]",
      "text/plain": [
       "<Figure size 640x480 with 1 Axes>"
      ]
     },
     "metadata": {},
     "output_type": "display_data"
    }
   ],
   "source": [
    "parks_11_17.plot(kind='line', x = 'year', y = 'Parks')\n",
    "# Calculate the Trendline\n",
    "z = np.polyfit(x4, y4, 1)\n",
    "p = np.poly1d(z)\n",
    "plt.plot(x4, p(x4), color=\"purple\", linewidth=3, linestyle=\"--\")\n",
    "plt.title('Parks Budget by Year')\n",
    "plt.xlabel('Year')\n",
    "plt.ylabel('Budget in Millions')"
   ]
  },
  {
   "cell_type": "code",
   "execution_count": 21,
   "metadata": {},
   "outputs": [],
   "source": [
    "dd.to_csv('parks_corr.csv')"
   ]
  }
 ],
 "metadata": {
  "kernelspec": {
   "display_name": "Python 3.9.7 ('base')",
   "language": "python",
   "name": "python3"
  },
  "language_info": {
   "codemirror_mode": {
    "name": "ipython",
    "version": 3
   },
   "file_extension": ".py",
   "mimetype": "text/x-python",
   "name": "python",
   "nbconvert_exporter": "python",
   "pygments_lexer": "ipython3",
   "version": "3.9.7"
  },
  "orig_nbformat": 4,
  "vscode": {
   "interpreter": {
    "hash": "e83933c89791523ce27b9c1ac2fa3a2bbb0f839e7a6d72c2a74f34bb50225d36"
   }
  }
 },
 "nbformat": 4,
 "nbformat_minor": 2
}
