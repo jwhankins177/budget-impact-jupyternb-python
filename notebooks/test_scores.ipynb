{
 "cells": [
  {
   "cell_type": "code",
   "execution_count": 2,
   "metadata": {},
   "outputs": [],
   "source": [
    "import pandas as pd\n",
    "import numpy as np\n",
    "import matplotlib.pyplot as plt\n",
    "import seaborn as sns\n",
    "%matplotlib inline"
   ]
  },
  {
   "cell_type": "code",
   "execution_count": 3,
   "metadata": {},
   "outputs": [],
   "source": [
    "df1 = pd.read_excel(r\"C:\\Users\\jhank\\Desktop\\DA7\\Projects\\budget-impact-jupyternb-python\\data\\test_scores\\data_ACT-Data-by-District-2012-13.xlsx\",header=1)"
   ]
  },
  {
   "cell_type": "code",
   "execution_count": 4,
   "metadata": {},
   "outputs": [
    {
     "data": {
      "text/html": [
       "<div>\n",
       "<style scoped>\n",
       "    .dataframe tbody tr th:only-of-type {\n",
       "        vertical-align: middle;\n",
       "    }\n",
       "\n",
       "    .dataframe tbody tr th {\n",
       "        vertical-align: top;\n",
       "    }\n",
       "\n",
       "    .dataframe thead th {\n",
       "        text-align: right;\n",
       "    }\n",
       "</style>\n",
       "<table border=\"1\" class=\"dataframe\">\n",
       "  <thead>\n",
       "    <tr style=\"text-align: right;\">\n",
       "      <th></th>\n",
       "      <th>System</th>\n",
       "      <th>2013 Including Extended Time</th>\n",
       "      <th>2013 Standard Time Only</th>\n",
       "      <th>2012 Standard Time Only</th>\n",
       "    </tr>\n",
       "  </thead>\n",
       "  <tbody>\n",
       "    <tr>\n",
       "      <th>0</th>\n",
       "      <td>State</td>\n",
       "      <td>19.048</td>\n",
       "      <td>19.3</td>\n",
       "      <td>19.184</td>\n",
       "    </tr>\n",
       "    <tr>\n",
       "      <th>1</th>\n",
       "      <td>ANDERSON SCHOOL DISTRICT</td>\n",
       "      <td>18.920</td>\n",
       "      <td>19.1</td>\n",
       "      <td>18.932</td>\n",
       "    </tr>\n",
       "    <tr>\n",
       "      <th>2</th>\n",
       "      <td>ALCOA CITY SCHOOLS</td>\n",
       "      <td>21.595</td>\n",
       "      <td>22.2</td>\n",
       "      <td>21.955</td>\n",
       "    </tr>\n",
       "    <tr>\n",
       "      <th>3</th>\n",
       "      <td>BEDFORD COUNTY SCHOOL DISTRICT</td>\n",
       "      <td>17.984</td>\n",
       "      <td>18.3</td>\n",
       "      <td>19.023</td>\n",
       "    </tr>\n",
       "    <tr>\n",
       "      <th>4</th>\n",
       "      <td>BENTON CO BOARD OF EDUCATION</td>\n",
       "      <td>18.376</td>\n",
       "      <td>19.2</td>\n",
       "      <td>19.358</td>\n",
       "    </tr>\n",
       "    <tr>\n",
       "      <th>...</th>\n",
       "      <td>...</td>\n",
       "      <td>...</td>\n",
       "      <td>...</td>\n",
       "      <td>...</td>\n",
       "    </tr>\n",
       "    <tr>\n",
       "      <th>115</th>\n",
       "      <td>WEAKLEY CO SCH DIST</td>\n",
       "      <td>19.462</td>\n",
       "      <td>20.1</td>\n",
       "      <td>20.076</td>\n",
       "    </tr>\n",
       "    <tr>\n",
       "      <th>116</th>\n",
       "      <td>WEST CARROLL SPECIAL SCH DIST</td>\n",
       "      <td>18.197</td>\n",
       "      <td>18.3</td>\n",
       "      <td>18.069</td>\n",
       "    </tr>\n",
       "    <tr>\n",
       "      <th>117</th>\n",
       "      <td>WHITE COUNTY SCHOOL DISTRICT</td>\n",
       "      <td>18.612</td>\n",
       "      <td>18.9</td>\n",
       "      <td>18.369</td>\n",
       "    </tr>\n",
       "    <tr>\n",
       "      <th>118</th>\n",
       "      <td>WILLIAMSON CO SCHOOLS</td>\n",
       "      <td>23.359</td>\n",
       "      <td>23.7</td>\n",
       "      <td>23.134</td>\n",
       "    </tr>\n",
       "    <tr>\n",
       "      <th>119</th>\n",
       "      <td>WILSON CO SCHLS BOE</td>\n",
       "      <td>19.898</td>\n",
       "      <td>20.2</td>\n",
       "      <td>19.896</td>\n",
       "    </tr>\n",
       "  </tbody>\n",
       "</table>\n",
       "<p>120 rows × 4 columns</p>\n",
       "</div>"
      ],
      "text/plain": [
       "                              System  2013 Including Extended Time  \\\n",
       "0                              State                        19.048   \n",
       "1    ANDERSON SCHOOL DISTRICT                               18.920   \n",
       "2    ALCOA CITY SCHOOLS                                     21.595   \n",
       "3    BEDFORD COUNTY SCHOOL DISTRICT                         17.984   \n",
       "4    BENTON CO BOARD OF EDUCATION                           18.376   \n",
       "..                               ...                           ...   \n",
       "115  WEAKLEY CO SCH DIST                                    19.462   \n",
       "116  WEST CARROLL SPECIAL SCH DIST                          18.197   \n",
       "117  WHITE COUNTY SCHOOL DISTRICT                           18.612   \n",
       "118  WILLIAMSON CO SCHOOLS                                  23.359   \n",
       "119  WILSON CO SCHLS BOE                                    19.898   \n",
       "\n",
       "     2013 Standard Time Only  2012 Standard Time Only  \n",
       "0                       19.3                   19.184  \n",
       "1                       19.1                   18.932  \n",
       "2                       22.2                   21.955  \n",
       "3                       18.3                   19.023  \n",
       "4                       19.2                   19.358  \n",
       "..                       ...                      ...  \n",
       "115                     20.1                   20.076  \n",
       "116                     18.3                   18.069  \n",
       "117                     18.9                   18.369  \n",
       "118                     23.7                   23.134  \n",
       "119                     20.2                   19.896  \n",
       "\n",
       "[120 rows x 4 columns]"
      ]
     },
     "execution_count": 4,
     "metadata": {},
     "output_type": "execute_result"
    }
   ],
   "source": [
    "df1"
   ]
  },
  {
   "cell_type": "markdown",
   "metadata": {},
   "source": [
    "2013 ACT"
   ]
  },
  {
   "cell_type": "code",
   "execution_count": 5,
   "metadata": {},
   "outputs": [],
   "source": [
    "#df2014 = df4[(df4['District_Name'] == 'Davidson County')]\n",
    "#df2014 = df2014[['SCHOOL_YEAR', 'K_8_Attendance_Rate_PCT', 'HS_Attendance_Rate_PCT']]\n",
    "#df2014.rename(columns={'SCHOOL_YEAR' : 'year', 'K_8_Attendance_Rate_PCT' : 'k_8', 'HS_Attendance_Rate_PCT' : '9_12'},inplace=True)"
   ]
  },
  {
   "cell_type": "code",
   "execution_count": 6,
   "metadata": {},
   "outputs": [],
   "source": [
    "df2013 = df1[df1['System']=='METRO NASHVILLE-DAVIDSON CO SD ']"
   ]
  },
  {
   "cell_type": "code",
   "execution_count": 7,
   "metadata": {},
   "outputs": [
    {
     "data": {
      "text/html": [
       "<div>\n",
       "<style scoped>\n",
       "    .dataframe tbody tr th:only-of-type {\n",
       "        vertical-align: middle;\n",
       "    }\n",
       "\n",
       "    .dataframe tbody tr th {\n",
       "        vertical-align: top;\n",
       "    }\n",
       "\n",
       "    .dataframe thead th {\n",
       "        text-align: right;\n",
       "    }\n",
       "</style>\n",
       "<table border=\"1\" class=\"dataframe\">\n",
       "  <thead>\n",
       "    <tr style=\"text-align: right;\">\n",
       "      <th></th>\n",
       "      <th>System</th>\n",
       "      <th>2013 Including Extended Time</th>\n",
       "      <th>2013 Standard Time Only</th>\n",
       "      <th>2012 Standard Time Only</th>\n",
       "    </tr>\n",
       "  </thead>\n",
       "  <tbody>\n",
       "    <tr>\n",
       "      <th>77</th>\n",
       "      <td>METRO NASHVILLE-DAVIDSON CO SD</td>\n",
       "      <td>18.203</td>\n",
       "      <td>18.3</td>\n",
       "      <td>18.381</td>\n",
       "    </tr>\n",
       "  </tbody>\n",
       "</table>\n",
       "</div>"
      ],
      "text/plain": [
       "                             System  2013 Including Extended Time  \\\n",
       "77  METRO NASHVILLE-DAVIDSON CO SD                         18.203   \n",
       "\n",
       "    2013 Standard Time Only  2012 Standard Time Only  \n",
       "77                     18.3                   18.381  "
      ]
     },
     "execution_count": 7,
     "metadata": {},
     "output_type": "execute_result"
    }
   ],
   "source": [
    "df2013"
   ]
  },
  {
   "cell_type": "markdown",
   "metadata": {},
   "source": [
    "2014 ACT"
   ]
  },
  {
   "cell_type": "code",
   "execution_count": 8,
   "metadata": {},
   "outputs": [],
   "source": [
    "df2 = pd.read_excel(r\"C:\\Users\\jhank\\Desktop\\DA7\\Projects\\budget-impact-jupyternb-python\\data\\test_scores\\data_ACT-Data-by-District-2013-14.xlsx\", header=1)"
   ]
  },
  {
   "cell_type": "code",
   "execution_count": 9,
   "metadata": {},
   "outputs": [
    {
     "data": {
      "text/html": [
       "<div>\n",
       "<style scoped>\n",
       "    .dataframe tbody tr th:only-of-type {\n",
       "        vertical-align: middle;\n",
       "    }\n",
       "\n",
       "    .dataframe tbody tr th {\n",
       "        vertical-align: top;\n",
       "    }\n",
       "\n",
       "    .dataframe thead th {\n",
       "        text-align: right;\n",
       "    }\n",
       "</style>\n",
       "<table border=\"1\" class=\"dataframe\">\n",
       "  <thead>\n",
       "    <tr style=\"text-align: right;\">\n",
       "      <th></th>\n",
       "      <th>System</th>\n",
       "      <th>2013 Including Extended Time</th>\n",
       "      <th>2013 Standard Time Only</th>\n",
       "      <th>2014 Including Extended Time</th>\n",
       "    </tr>\n",
       "  </thead>\n",
       "  <tbody>\n",
       "    <tr>\n",
       "      <th>0</th>\n",
       "      <td>State</td>\n",
       "      <td>19.048</td>\n",
       "      <td>19.3</td>\n",
       "      <td>19.259</td>\n",
       "    </tr>\n",
       "    <tr>\n",
       "      <th>1</th>\n",
       "      <td>ANDERSON SCHOOL DISTRICT</td>\n",
       "      <td>18.92</td>\n",
       "      <td>19.1</td>\n",
       "      <td>19.33</td>\n",
       "    </tr>\n",
       "    <tr>\n",
       "      <th>2</th>\n",
       "      <td>ALCOA CITY SCHOOLS</td>\n",
       "      <td>21.595</td>\n",
       "      <td>22.2</td>\n",
       "      <td>21.291</td>\n",
       "    </tr>\n",
       "    <tr>\n",
       "      <th>3</th>\n",
       "      <td>BEDFORD COUNTY SCHOOL DISTRICT</td>\n",
       "      <td>17.984</td>\n",
       "      <td>18.3</td>\n",
       "      <td>18.446</td>\n",
       "    </tr>\n",
       "    <tr>\n",
       "      <th>4</th>\n",
       "      <td>BENTON CO BOARD OF EDUCATION</td>\n",
       "      <td>18.376</td>\n",
       "      <td>19.2</td>\n",
       "      <td>18.958</td>\n",
       "    </tr>\n",
       "    <tr>\n",
       "      <th>...</th>\n",
       "      <td>...</td>\n",
       "      <td>...</td>\n",
       "      <td>...</td>\n",
       "      <td>...</td>\n",
       "    </tr>\n",
       "    <tr>\n",
       "      <th>117</th>\n",
       "      <td>WEAKLEY CO SCH DIST</td>\n",
       "      <td>19.462</td>\n",
       "      <td>20.1</td>\n",
       "      <td>20.251</td>\n",
       "    </tr>\n",
       "    <tr>\n",
       "      <th>118</th>\n",
       "      <td>WEST CARROLL SPECIAL SCH DIST</td>\n",
       "      <td>18.197</td>\n",
       "      <td>18.3</td>\n",
       "      <td>18.773</td>\n",
       "    </tr>\n",
       "    <tr>\n",
       "      <th>119</th>\n",
       "      <td>WHITE COUNTY SCHOOL DISTRICT</td>\n",
       "      <td>18.612</td>\n",
       "      <td>18.9</td>\n",
       "      <td>18.621</td>\n",
       "    </tr>\n",
       "    <tr>\n",
       "      <th>120</th>\n",
       "      <td>WILLIAMSON CO SCHOOLS</td>\n",
       "      <td>23.359</td>\n",
       "      <td>23.7</td>\n",
       "      <td>23.515</td>\n",
       "    </tr>\n",
       "    <tr>\n",
       "      <th>121</th>\n",
       "      <td>WILSON CO SCHLS BOE</td>\n",
       "      <td>19.898</td>\n",
       "      <td>20.2</td>\n",
       "      <td>19.735</td>\n",
       "    </tr>\n",
       "  </tbody>\n",
       "</table>\n",
       "<p>122 rows × 4 columns</p>\n",
       "</div>"
      ],
      "text/plain": [
       "                              System 2013 Including Extended Time  \\\n",
       "0                              State                       19.048   \n",
       "1    ANDERSON SCHOOL DISTRICT                               18.92   \n",
       "2    ALCOA CITY SCHOOLS                                    21.595   \n",
       "3    BEDFORD COUNTY SCHOOL DISTRICT                        17.984   \n",
       "4    BENTON CO BOARD OF EDUCATION                          18.376   \n",
       "..                               ...                          ...   \n",
       "117  WEAKLEY CO SCH DIST                                   19.462   \n",
       "118  WEST CARROLL SPECIAL SCH DIST                         18.197   \n",
       "119  WHITE COUNTY SCHOOL DISTRICT                          18.612   \n",
       "120  WILLIAMSON CO SCHOOLS                                 23.359   \n",
       "121  WILSON CO SCHLS BOE                                   19.898   \n",
       "\n",
       "    2013 Standard Time Only 2014 Including Extended Time  \n",
       "0                      19.3                       19.259  \n",
       "1                      19.1                        19.33  \n",
       "2                      22.2                       21.291  \n",
       "3                      18.3                       18.446  \n",
       "4                      19.2                       18.958  \n",
       "..                      ...                          ...  \n",
       "117                    20.1                       20.251  \n",
       "118                    18.3                       18.773  \n",
       "119                    18.9                       18.621  \n",
       "120                    23.7                       23.515  \n",
       "121                    20.2                       19.735  \n",
       "\n",
       "[122 rows x 4 columns]"
      ]
     },
     "execution_count": 9,
     "metadata": {},
     "output_type": "execute_result"
    }
   ],
   "source": [
    "df2"
   ]
  },
  {
   "cell_type": "code",
   "execution_count": 10,
   "metadata": {},
   "outputs": [],
   "source": [
    "df2014 = df1[df1['System']=='METRO NASHVILLE-DAVIDSON CO SD ']"
   ]
  },
  {
   "cell_type": "code",
   "execution_count": 11,
   "metadata": {},
   "outputs": [
    {
     "data": {
      "text/html": [
       "<div>\n",
       "<style scoped>\n",
       "    .dataframe tbody tr th:only-of-type {\n",
       "        vertical-align: middle;\n",
       "    }\n",
       "\n",
       "    .dataframe tbody tr th {\n",
       "        vertical-align: top;\n",
       "    }\n",
       "\n",
       "    .dataframe thead th {\n",
       "        text-align: right;\n",
       "    }\n",
       "</style>\n",
       "<table border=\"1\" class=\"dataframe\">\n",
       "  <thead>\n",
       "    <tr style=\"text-align: right;\">\n",
       "      <th></th>\n",
       "      <th>System</th>\n",
       "      <th>2013 Including Extended Time</th>\n",
       "      <th>2013 Standard Time Only</th>\n",
       "      <th>2012 Standard Time Only</th>\n",
       "    </tr>\n",
       "  </thead>\n",
       "  <tbody>\n",
       "    <tr>\n",
       "      <th>77</th>\n",
       "      <td>METRO NASHVILLE-DAVIDSON CO SD</td>\n",
       "      <td>18.203</td>\n",
       "      <td>18.3</td>\n",
       "      <td>18.381</td>\n",
       "    </tr>\n",
       "  </tbody>\n",
       "</table>\n",
       "</div>"
      ],
      "text/plain": [
       "                             System  2013 Including Extended Time  \\\n",
       "77  METRO NASHVILLE-DAVIDSON CO SD                         18.203   \n",
       "\n",
       "    2013 Standard Time Only  2012 Standard Time Only  \n",
       "77                     18.3                   18.381  "
      ]
     },
     "execution_count": 11,
     "metadata": {},
     "output_type": "execute_result"
    }
   ],
   "source": [
    "df2014"
   ]
  },
  {
   "cell_type": "markdown",
   "metadata": {},
   "source": [
    "2015 ACT"
   ]
  },
  {
   "cell_type": "code",
   "execution_count": 12,
   "metadata": {},
   "outputs": [],
   "source": [
    "df3 = pd.read_excel(r\"C:\\Users\\jhank\\Desktop\\DA7\\Projects\\budget-impact-jupyternb-python\\data\\test_scores\\data_ACT-Data-by-District-2014-15.xlsx\", header=1)"
   ]
  },
  {
   "cell_type": "code",
   "execution_count": 13,
   "metadata": {},
   "outputs": [
    {
     "data": {
      "text/html": [
       "<div>\n",
       "<style scoped>\n",
       "    .dataframe tbody tr th:only-of-type {\n",
       "        vertical-align: middle;\n",
       "    }\n",
       "\n",
       "    .dataframe tbody tr th {\n",
       "        vertical-align: top;\n",
       "    }\n",
       "\n",
       "    .dataframe thead th {\n",
       "        text-align: right;\n",
       "    }\n",
       "</style>\n",
       "<table border=\"1\" class=\"dataframe\">\n",
       "  <thead>\n",
       "    <tr style=\"text-align: right;\">\n",
       "      <th></th>\n",
       "      <th>Unnamed: 0</th>\n",
       "      <th>Unnamed: 1</th>\n",
       "      <th>2014 Including Extended Time</th>\n",
       "      <th>2015 Including Extended Time</th>\n",
       "    </tr>\n",
       "  </thead>\n",
       "  <tbody>\n",
       "    <tr>\n",
       "      <th>0</th>\n",
       "      <td>State</td>\n",
       "      <td>NaN</td>\n",
       "      <td>19.259</td>\n",
       "      <td>19.4</td>\n",
       "    </tr>\n",
       "    <tr>\n",
       "      <th>1</th>\n",
       "      <td>10</td>\n",
       "      <td>ANDERSON SCHOOL DISTRICT</td>\n",
       "      <td>19.330</td>\n",
       "      <td>19.9</td>\n",
       "    </tr>\n",
       "    <tr>\n",
       "      <th>2</th>\n",
       "      <td>12</td>\n",
       "      <td>OAK RIDGE SD</td>\n",
       "      <td>23.260</td>\n",
       "      <td>23.1</td>\n",
       "    </tr>\n",
       "    <tr>\n",
       "      <th>3</th>\n",
       "      <td>20</td>\n",
       "      <td>BEDFORD COUNTY SCHOOL DISTRICT</td>\n",
       "      <td>18.446</td>\n",
       "      <td>18.4</td>\n",
       "    </tr>\n",
       "    <tr>\n",
       "      <th>4</th>\n",
       "      <td>30</td>\n",
       "      <td>BENTON CO BOARD OF EDUCATION</td>\n",
       "      <td>18.958</td>\n",
       "      <td>18.4</td>\n",
       "    </tr>\n",
       "    <tr>\n",
       "      <th>...</th>\n",
       "      <td>...</td>\n",
       "      <td>...</td>\n",
       "      <td>...</td>\n",
       "      <td>...</td>\n",
       "    </tr>\n",
       "    <tr>\n",
       "      <th>121</th>\n",
       "      <td>920</td>\n",
       "      <td>WEAKLEY CO SCH DIST</td>\n",
       "      <td>20.251</td>\n",
       "      <td>19.7</td>\n",
       "    </tr>\n",
       "    <tr>\n",
       "      <th>122</th>\n",
       "      <td>930</td>\n",
       "      <td>WHITE COUNTY SCHOOL DISTRICT</td>\n",
       "      <td>18.621</td>\n",
       "      <td>18.7</td>\n",
       "    </tr>\n",
       "    <tr>\n",
       "      <th>123</th>\n",
       "      <td>940</td>\n",
       "      <td>WILLIAMSON CO SCHOOLS</td>\n",
       "      <td>23.515</td>\n",
       "      <td>23.8</td>\n",
       "    </tr>\n",
       "    <tr>\n",
       "      <th>124</th>\n",
       "      <td>950</td>\n",
       "      <td>WILSON CO SCHLS BOE</td>\n",
       "      <td>19.735</td>\n",
       "      <td>20.0</td>\n",
       "    </tr>\n",
       "    <tr>\n",
       "      <th>125</th>\n",
       "      <td>985</td>\n",
       "      <td>ACHIEVEMENT SCHOOL DISTRICT</td>\n",
       "      <td>NaN</td>\n",
       "      <td>14.2</td>\n",
       "    </tr>\n",
       "  </tbody>\n",
       "</table>\n",
       "<p>126 rows × 4 columns</p>\n",
       "</div>"
      ],
      "text/plain": [
       "    Unnamed: 0                       Unnamed: 1  2014 Including Extended Time  \\\n",
       "0        State                              NaN                        19.259   \n",
       "1           10  ANDERSON SCHOOL DISTRICT                               19.330   \n",
       "2           12  OAK RIDGE SD                                           23.260   \n",
       "3           20  BEDFORD COUNTY SCHOOL DISTRICT                         18.446   \n",
       "4           30  BENTON CO BOARD OF EDUCATION                           18.958   \n",
       "..         ...                              ...                           ...   \n",
       "121        920  WEAKLEY CO SCH DIST                                    20.251   \n",
       "122        930  WHITE COUNTY SCHOOL DISTRICT                           18.621   \n",
       "123        940  WILLIAMSON CO SCHOOLS                                  23.515   \n",
       "124        950  WILSON CO SCHLS BOE                                    19.735   \n",
       "125        985  ACHIEVEMENT SCHOOL DISTRICT                               NaN   \n",
       "\n",
       "     2015 Including Extended Time  \n",
       "0                            19.4  \n",
       "1                            19.9  \n",
       "2                            23.1  \n",
       "3                            18.4  \n",
       "4                            18.4  \n",
       "..                            ...  \n",
       "121                          19.7  \n",
       "122                          18.7  \n",
       "123                          23.8  \n",
       "124                          20.0  \n",
       "125                          14.2  \n",
       "\n",
       "[126 rows x 4 columns]"
      ]
     },
     "execution_count": 13,
     "metadata": {},
     "output_type": "execute_result"
    }
   ],
   "source": [
    "df3"
   ]
  },
  {
   "cell_type": "code",
   "execution_count": 14,
   "metadata": {},
   "outputs": [],
   "source": [
    "df2015 = df3[df3['Unnamed: 1'] == 'METRO NASHVILLE-DAVIDSON CO SD ']"
   ]
  },
  {
   "cell_type": "code",
   "execution_count": 15,
   "metadata": {},
   "outputs": [
    {
     "data": {
      "text/html": [
       "<div>\n",
       "<style scoped>\n",
       "    .dataframe tbody tr th:only-of-type {\n",
       "        vertical-align: middle;\n",
       "    }\n",
       "\n",
       "    .dataframe tbody tr th {\n",
       "        vertical-align: top;\n",
       "    }\n",
       "\n",
       "    .dataframe thead th {\n",
       "        text-align: right;\n",
       "    }\n",
       "</style>\n",
       "<table border=\"1\" class=\"dataframe\">\n",
       "  <thead>\n",
       "    <tr style=\"text-align: right;\">\n",
       "      <th></th>\n",
       "      <th>Unnamed: 0</th>\n",
       "      <th>Unnamed: 1</th>\n",
       "      <th>2014 Including Extended Time</th>\n",
       "      <th>2015 Including Extended Time</th>\n",
       "    </tr>\n",
       "  </thead>\n",
       "  <tbody>\n",
       "    <tr>\n",
       "      <th>29</th>\n",
       "      <td>190</td>\n",
       "      <td>METRO NASHVILLE-DAVIDSON CO SD</td>\n",
       "      <td>18.417</td>\n",
       "      <td>18.7</td>\n",
       "    </tr>\n",
       "  </tbody>\n",
       "</table>\n",
       "</div>"
      ],
      "text/plain": [
       "   Unnamed: 0                       Unnamed: 1  2014 Including Extended Time  \\\n",
       "29        190  METRO NASHVILLE-DAVIDSON CO SD                         18.417   \n",
       "\n",
       "    2015 Including Extended Time  \n",
       "29                          18.7  "
      ]
     },
     "execution_count": 15,
     "metadata": {},
     "output_type": "execute_result"
    }
   ],
   "source": [
    "df2015"
   ]
  },
  {
   "cell_type": "code",
   "execution_count": 16,
   "metadata": {},
   "outputs": [
    {
     "name": "stderr",
     "output_type": "stream",
     "text": [
      "c:\\Users\\jhank\\anaconda3\\lib\\site-packages\\pandas\\core\\frame.py:4906: SettingWithCopyWarning: \n",
      "A value is trying to be set on a copy of a slice from a DataFrame\n",
      "\n",
      "See the caveats in the documentation: https://pandas.pydata.org/pandas-docs/stable/user_guide/indexing.html#returning-a-view-versus-a-copy\n",
      "  return super().drop(\n"
     ]
    }
   ],
   "source": [
    "df2015.drop('Unnamed: 0', axis=1,inplace=True)"
   ]
  },
  {
   "cell_type": "code",
   "execution_count": 21,
   "metadata": {},
   "outputs": [],
   "source": [
    "df2015 = df2015.T"
   ]
  },
  {
   "cell_type": "code",
   "execution_count": 23,
   "metadata": {},
   "outputs": [
    {
     "data": {
      "text/html": [
       "<div>\n",
       "<style scoped>\n",
       "    .dataframe tbody tr th:only-of-type {\n",
       "        vertical-align: middle;\n",
       "    }\n",
       "\n",
       "    .dataframe tbody tr th {\n",
       "        vertical-align: top;\n",
       "    }\n",
       "\n",
       "    .dataframe thead th {\n",
       "        text-align: right;\n",
       "    }\n",
       "</style>\n",
       "<table border=\"1\" class=\"dataframe\">\n",
       "  <thead>\n",
       "    <tr style=\"text-align: right;\">\n",
       "      <th></th>\n",
       "      <th>index</th>\n",
       "      <th>29</th>\n",
       "    </tr>\n",
       "  </thead>\n",
       "  <tbody>\n",
       "    <tr>\n",
       "      <th>0</th>\n",
       "      <td>Unnamed: 1</td>\n",
       "      <td>METRO NASHVILLE-DAVIDSON CO SD</td>\n",
       "    </tr>\n",
       "    <tr>\n",
       "      <th>1</th>\n",
       "      <td>2014 Including Extended Time</td>\n",
       "      <td>18.417</td>\n",
       "    </tr>\n",
       "    <tr>\n",
       "      <th>2</th>\n",
       "      <td>2015 Including Extended Time</td>\n",
       "      <td>18.7</td>\n",
       "    </tr>\n",
       "  </tbody>\n",
       "</table>\n",
       "</div>"
      ],
      "text/plain": [
       "                          index                               29\n",
       "0                    Unnamed: 1  METRO NASHVILLE-DAVIDSON CO SD \n",
       "1  2014 Including Extended Time                           18.417\n",
       "2  2015 Including Extended Time                             18.7"
      ]
     },
     "execution_count": 23,
     "metadata": {},
     "output_type": "execute_result"
    }
   ],
   "source": [
    "df2015.reset_index()"
   ]
  },
  {
   "cell_type": "code",
   "execution_count": 26,
   "metadata": {},
   "outputs": [],
   "source": [
    "df2015.rename(columns=['year',''],inplace=True)"
   ]
  },
  {
   "cell_type": "code",
   "execution_count": 27,
   "metadata": {},
   "outputs": [
    {
     "data": {
      "text/html": [
       "<div>\n",
       "<style scoped>\n",
       "    .dataframe tbody tr th:only-of-type {\n",
       "        vertical-align: middle;\n",
       "    }\n",
       "\n",
       "    .dataframe tbody tr th {\n",
       "        vertical-align: top;\n",
       "    }\n",
       "\n",
       "    .dataframe thead th {\n",
       "        text-align: right;\n",
       "    }\n",
       "</style>\n",
       "<table border=\"1\" class=\"dataframe\">\n",
       "  <thead>\n",
       "    <tr style=\"text-align: right;\">\n",
       "      <th></th>\n",
       "      <th>29</th>\n",
       "    </tr>\n",
       "  </thead>\n",
       "  <tbody>\n",
       "    <tr>\n",
       "      <th>Unnamed: 1</th>\n",
       "      <td>METRO NASHVILLE-DAVIDSON CO SD</td>\n",
       "    </tr>\n",
       "    <tr>\n",
       "      <th>2014 Including Extended Time</th>\n",
       "      <td>18.417</td>\n",
       "    </tr>\n",
       "    <tr>\n",
       "      <th>2015 Including Extended Time</th>\n",
       "      <td>18.7</td>\n",
       "    </tr>\n",
       "  </tbody>\n",
       "</table>\n",
       "</div>"
      ],
      "text/plain": [
       "                                                           29\n",
       "Unnamed: 1                    METRO NASHVILLE-DAVIDSON CO SD \n",
       "2014 Including Extended Time                           18.417\n",
       "2015 Including Extended Time                             18.7"
      ]
     },
     "execution_count": 27,
     "metadata": {},
     "output_type": "execute_result"
    }
   ],
   "source": [
    "df2015"
   ]
  }
 ],
 "metadata": {
  "kernelspec": {
   "display_name": "Python 3.9.7 ('base')",
   "language": "python",
   "name": "python3"
  },
  "language_info": {
   "codemirror_mode": {
    "name": "ipython",
    "version": 3
   },
   "file_extension": ".py",
   "mimetype": "text/x-python",
   "name": "python",
   "nbconvert_exporter": "python",
   "pygments_lexer": "ipython3",
   "version": "3.9.7"
  },
  "orig_nbformat": 4,
  "vscode": {
   "interpreter": {
    "hash": "e83933c89791523ce27b9c1ac2fa3a2bbb0f839e7a6d72c2a74f34bb50225d36"
   }
  }
 },
 "nbformat": 4,
 "nbformat_minor": 2
}
