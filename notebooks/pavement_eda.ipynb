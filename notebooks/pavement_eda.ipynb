{
 "cells": [
  {
   "cell_type": "code",
   "execution_count": 1,
   "metadata": {},
   "outputs": [],
   "source": [
    "import pandas as pd\n",
    "import numpy as np\n",
    "import matplotlib.pyplot as plt\n",
    "import seaborn as sns\n",
    "%matplotlib inline"
   ]
  },
  {
   "cell_type": "code",
   "execution_count": 2,
   "metadata": {},
   "outputs": [],
   "source": [
    "df = pd.read_csv(r\"C:\\Users\\jhank\\Desktop\\DA7\\Projects\\budget-impact-jupyternb-python\\data\\pavementroughness.csv\")"
   ]
  },
  {
   "cell_type": "code",
   "execution_count": 3,
   "metadata": {},
   "outputs": [
    {
     "data": {
      "text/html": [
       "<div>\n",
       "<style scoped>\n",
       "    .dataframe tbody tr th:only-of-type {\n",
       "        vertical-align: middle;\n",
       "    }\n",
       "\n",
       "    .dataframe tbody tr th {\n",
       "        vertical-align: top;\n",
       "    }\n",
       "\n",
       "    .dataframe thead th {\n",
       "        text-align: right;\n",
       "    }\n",
       "</style>\n",
       "<table border=\"1\" class=\"dataframe\">\n",
       "  <thead>\n",
       "    <tr style=\"text-align: right;\">\n",
       "      <th></th>\n",
       "      <th>Year</th>\n",
       "      <th>Month</th>\n",
       "      <th>County</th>\n",
       "      <th>Category</th>\n",
       "      <th>Value</th>\n",
       "      <th>LastReportedDate</th>\n",
       "      <th>Unnamed: 6</th>\n",
       "    </tr>\n",
       "  </thead>\n",
       "  <tbody>\n",
       "    <tr>\n",
       "      <th>0</th>\n",
       "      <td>2017</td>\n",
       "      <td>NaN</td>\n",
       "      <td>Anderson</td>\n",
       "      <td>Fair</td>\n",
       "      <td>45.49</td>\n",
       "      <td>2018-10-09</td>\n",
       "      <td>NaN</td>\n",
       "    </tr>\n",
       "    <tr>\n",
       "      <th>1</th>\n",
       "      <td>2017</td>\n",
       "      <td>NaN</td>\n",
       "      <td>Anderson</td>\n",
       "      <td>Good</td>\n",
       "      <td>99.08</td>\n",
       "      <td>2018-10-09</td>\n",
       "      <td>NaN</td>\n",
       "    </tr>\n",
       "    <tr>\n",
       "      <th>2</th>\n",
       "      <td>2017</td>\n",
       "      <td>NaN</td>\n",
       "      <td>Anderson</td>\n",
       "      <td>No Data</td>\n",
       "      <td>0.00</td>\n",
       "      <td>2018-10-09</td>\n",
       "      <td>NaN</td>\n",
       "    </tr>\n",
       "    <tr>\n",
       "      <th>3</th>\n",
       "      <td>2017</td>\n",
       "      <td>NaN</td>\n",
       "      <td>Anderson</td>\n",
       "      <td>Poor</td>\n",
       "      <td>6.61</td>\n",
       "      <td>2018-10-09</td>\n",
       "      <td>NaN</td>\n",
       "    </tr>\n",
       "    <tr>\n",
       "      <th>4</th>\n",
       "      <td>2017</td>\n",
       "      <td>NaN</td>\n",
       "      <td>Bedford</td>\n",
       "      <td>Fair</td>\n",
       "      <td>29.39</td>\n",
       "      <td>2018-10-09</td>\n",
       "      <td>NaN</td>\n",
       "    </tr>\n",
       "  </tbody>\n",
       "</table>\n",
       "</div>"
      ],
      "text/plain": [
       "   Year  Month    County Category  Value LastReportedDate  Unnamed: 6\n",
       "0  2017    NaN  Anderson     Fair  45.49       2018-10-09         NaN\n",
       "1  2017    NaN  Anderson     Good  99.08       2018-10-09         NaN\n",
       "2  2017    NaN  Anderson  No Data   0.00       2018-10-09         NaN\n",
       "3  2017    NaN  Anderson     Poor   6.61       2018-10-09         NaN\n",
       "4  2017    NaN   Bedford     Fair  29.39       2018-10-09         NaN"
      ]
     },
     "execution_count": 3,
     "metadata": {},
     "output_type": "execute_result"
    }
   ],
   "source": [
    "df.head()"
   ]
  },
  {
   "cell_type": "code",
   "execution_count": 4,
   "metadata": {},
   "outputs": [
    {
     "name": "stdout",
     "output_type": "stream",
     "text": [
      "<class 'pandas.core.frame.DataFrame'>\n",
      "RangeIndex: 761 entries, 0 to 760\n",
      "Data columns (total 7 columns):\n",
      " #   Column            Non-Null Count  Dtype  \n",
      "---  ------            --------------  -----  \n",
      " 0   Year              761 non-null    object \n",
      " 1   Month             0 non-null      float64\n",
      " 2   County            760 non-null    object \n",
      " 3   Category          760 non-null    object \n",
      " 4   Value             760 non-null    float64\n",
      " 5   LastReportedDate  760 non-null    object \n",
      " 6   Unnamed: 6        0 non-null      float64\n",
      "dtypes: float64(3), object(4)\n",
      "memory usage: 41.7+ KB\n"
     ]
    }
   ],
   "source": [
    "df.info()"
   ]
  }
 ],
 "metadata": {
  "kernelspec": {
   "display_name": "Python 3.9.7 64-bit",
   "language": "python",
   "name": "python3"
  },
  "language_info": {
   "codemirror_mode": {
    "name": "ipython",
    "version": 3
   },
   "file_extension": ".py",
   "mimetype": "text/x-python",
   "name": "python",
   "nbconvert_exporter": "python",
   "pygments_lexer": "ipython3",
   "version": "3.9.7"
  },
  "orig_nbformat": 4,
  "vscode": {
   "interpreter": {
    "hash": "c754abf721300125c0fe2ae23454437e5809e9ac6a0042eb94cf88fe1e4f66bf"
   }
  }
 },
 "nbformat": 4,
 "nbformat_minor": 2
}
