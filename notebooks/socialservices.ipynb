{
 "cells": [
  {
   "cell_type": "code",
   "execution_count": 1,
   "metadata": {},
   "outputs": [],
   "source": [
    "import pandas as pd\n",
    "import numpy as np\n",
    "import matplotlib.pyplot as plt\n",
    "import seaborn as sns\n",
    "%matplotlib inline"
   ]
  },
  {
   "cell_type": "code",
   "execution_count": 2,
   "metadata": {},
   "outputs": [
    {
     "name": "stderr",
     "output_type": "stream",
     "text": [
      "C:\\Users\\jhank\\AppData\\Roaming\\Python\\Python39\\site-packages\\IPython\\core\\interactiveshell.py:3378: DtypeWarning: Columns (0) have mixed types.Specify dtype option on import or set low_memory=False.\n",
      "  exec(code_obj, self.user_global_ns, self.user_ns)\n"
     ]
    }
   ],
   "source": [
    "df = pd.read_csv(r\"C:\\Users\\jhank\\Desktop\\DA7\\Projects\\budget-impact-jupyternb-python\\data\\Metro_Budget_to_Actual_Expenses__FY2010_-_Present_.csv\")"
   ]
  },
  {
   "cell_type": "code",
   "execution_count": 3,
   "metadata": {},
   "outputs": [
    {
     "data": {
      "text/html": [
       "<div>\n",
       "<style scoped>\n",
       "    .dataframe tbody tr th:only-of-type {\n",
       "        vertical-align: middle;\n",
       "    }\n",
       "\n",
       "    .dataframe tbody tr th {\n",
       "        vertical-align: top;\n",
       "    }\n",
       "\n",
       "    .dataframe thead th {\n",
       "        text-align: right;\n",
       "    }\n",
       "</style>\n",
       "<table border=\"1\" class=\"dataframe\">\n",
       "  <thead>\n",
       "    <tr style=\"text-align: right;\">\n",
       "      <th></th>\n",
       "      <th>Fund</th>\n",
       "      <th>Fund Description</th>\n",
       "      <th>Department</th>\n",
       "      <th>Department Description</th>\n",
       "      <th>Business Unit</th>\n",
       "      <th>Business Unit Description</th>\n",
       "      <th>Object Account</th>\n",
       "      <th>Object Account Description</th>\n",
       "      <th>FY2010 Budgeted Expenses</th>\n",
       "      <th>FY2010 Actual Expenses</th>\n",
       "      <th>...</th>\n",
       "      <th>FY2017 Budgeted Expenses</th>\n",
       "      <th>FY2017 Actual Expenses</th>\n",
       "      <th>FY2018 Budgeted Expenses</th>\n",
       "      <th>FY2018 Actual Expenses</th>\n",
       "      <th>FY2019 Budgeted Expenses</th>\n",
       "      <th>FY2019 Actual Expenses</th>\n",
       "      <th>FY2020 Budgeted Expenses</th>\n",
       "      <th>FY2020 Actual Expenses</th>\n",
       "      <th>FY2021 Budgeted Expenses</th>\n",
       "      <th>FY2021 Actual Expenses</th>\n",
       "    </tr>\n",
       "  </thead>\n",
       "  <tbody>\n",
       "    <tr>\n",
       "      <th>0</th>\n",
       "      <td>10101</td>\n",
       "      <td>GSD General</td>\n",
       "      <td>1.0</td>\n",
       "      <td>Administrative</td>\n",
       "      <td>1101104.0</td>\n",
       "      <td>ADM County Retire Match</td>\n",
       "      <td>531702.0</td>\n",
       "      <td>Transfer Guaranteed Pension</td>\n",
       "      <td>3501900.0</td>\n",
       "      <td>3501900.00</td>\n",
       "      <td>...</td>\n",
       "      <td>3501900.0</td>\n",
       "      <td>3501900.00</td>\n",
       "      <td>3501900.0</td>\n",
       "      <td>3501900.00</td>\n",
       "      <td>3501900.0</td>\n",
       "      <td>3501900.00</td>\n",
       "      <td>3501900.0</td>\n",
       "      <td>3501900.00</td>\n",
       "      <td>3501900</td>\n",
       "      <td>3501900.00</td>\n",
       "    </tr>\n",
       "    <tr>\n",
       "      <th>1</th>\n",
       "      <td>10101</td>\n",
       "      <td>GSD General</td>\n",
       "      <td>1.0</td>\n",
       "      <td>Administrative</td>\n",
       "      <td>1101107.0</td>\n",
       "      <td>ADM Cnty Teach Retire Match</td>\n",
       "      <td>531702.0</td>\n",
       "      <td>Transfer Guaranteed Pension</td>\n",
       "      <td>6900400.0</td>\n",
       "      <td>6900400.00</td>\n",
       "      <td>...</td>\n",
       "      <td>6900400.0</td>\n",
       "      <td>6900400.00</td>\n",
       "      <td>6900400.0</td>\n",
       "      <td>6900400.00</td>\n",
       "      <td>6900400.0</td>\n",
       "      <td>6900400.00</td>\n",
       "      <td>6900400.0</td>\n",
       "      <td>6900400.00</td>\n",
       "      <td>6900400</td>\n",
       "      <td>6900400.00</td>\n",
       "    </tr>\n",
       "    <tr>\n",
       "      <th>2</th>\n",
       "      <td>10101</td>\n",
       "      <td>GSD General</td>\n",
       "      <td>1.0</td>\n",
       "      <td>Administrative</td>\n",
       "      <td>1101109.0</td>\n",
       "      <td>ADM Health Insurance Match</td>\n",
       "      <td>501174.0</td>\n",
       "      <td>Employer Group Health</td>\n",
       "      <td>28309600.0</td>\n",
       "      <td>29163668.82</td>\n",
       "      <td>...</td>\n",
       "      <td>49341100.0</td>\n",
       "      <td>48160249.84</td>\n",
       "      <td>49341100.0</td>\n",
       "      <td>50951314.92</td>\n",
       "      <td>51244600.0</td>\n",
       "      <td>51147253.42</td>\n",
       "      <td>53391800.0</td>\n",
       "      <td>51619782.62</td>\n",
       "      <td>55099100</td>\n",
       "      <td>52691663.82</td>\n",
       "    </tr>\n",
       "    <tr>\n",
       "      <th>3</th>\n",
       "      <td>10101</td>\n",
       "      <td>GSD General</td>\n",
       "      <td>1.0</td>\n",
       "      <td>Administrative</td>\n",
       "      <td>1101109.0</td>\n",
       "      <td>ADM Health Insurance Match</td>\n",
       "      <td>501175.0</td>\n",
       "      <td>Employer Dental Group</td>\n",
       "      <td>1823200.0</td>\n",
       "      <td>1831153.10</td>\n",
       "      <td>...</td>\n",
       "      <td>2741700.0</td>\n",
       "      <td>2660358.00</td>\n",
       "      <td>2741700.0</td>\n",
       "      <td>2871873.89</td>\n",
       "      <td>2986400.0</td>\n",
       "      <td>3045002.14</td>\n",
       "      <td>3063700.0</td>\n",
       "      <td>3128416.49</td>\n",
       "      <td>3063700</td>\n",
       "      <td>3201906.32</td>\n",
       "    </tr>\n",
       "    <tr>\n",
       "      <th>4</th>\n",
       "      <td>10101</td>\n",
       "      <td>GSD General</td>\n",
       "      <td>1.0</td>\n",
       "      <td>Administrative</td>\n",
       "      <td>1101109.0</td>\n",
       "      <td>ADM Health Insurance Match</td>\n",
       "      <td>501176.0</td>\n",
       "      <td>Employer Group Life</td>\n",
       "      <td>0.0</td>\n",
       "      <td>0.00</td>\n",
       "      <td>...</td>\n",
       "      <td>0.0</td>\n",
       "      <td>0.00</td>\n",
       "      <td>0.0</td>\n",
       "      <td>0.00</td>\n",
       "      <td>0.0</td>\n",
       "      <td>0.00</td>\n",
       "      <td>0.0</td>\n",
       "      <td>0.00</td>\n",
       "      <td>0</td>\n",
       "      <td>0.00</td>\n",
       "    </tr>\n",
       "  </tbody>\n",
       "</table>\n",
       "<p>5 rows × 32 columns</p>\n",
       "</div>"
      ],
      "text/plain": [
       "    Fund Fund Description  Department Department Description  Business Unit  \\\n",
       "0  10101      GSD General         1.0         Administrative      1101104.0   \n",
       "1  10101      GSD General         1.0         Administrative      1101107.0   \n",
       "2  10101      GSD General         1.0         Administrative      1101109.0   \n",
       "3  10101      GSD General         1.0         Administrative      1101109.0   \n",
       "4  10101      GSD General         1.0         Administrative      1101109.0   \n",
       "\n",
       "     Business Unit Description  Object Account   Object Account Description  \\\n",
       "0      ADM County Retire Match        531702.0  Transfer Guaranteed Pension   \n",
       "1  ADM Cnty Teach Retire Match        531702.0  Transfer Guaranteed Pension   \n",
       "2   ADM Health Insurance Match        501174.0        Employer Group Health   \n",
       "3   ADM Health Insurance Match        501175.0        Employer Dental Group   \n",
       "4   ADM Health Insurance Match        501176.0          Employer Group Life   \n",
       "\n",
       "   FY2010 Budgeted Expenses  FY2010 Actual Expenses  ...  \\\n",
       "0                 3501900.0              3501900.00  ...   \n",
       "1                 6900400.0              6900400.00  ...   \n",
       "2                28309600.0             29163668.82  ...   \n",
       "3                 1823200.0              1831153.10  ...   \n",
       "4                       0.0                    0.00  ...   \n",
       "\n",
       "   FY2017 Budgeted Expenses  FY2017 Actual Expenses  FY2018 Budgeted Expenses  \\\n",
       "0                 3501900.0              3501900.00                 3501900.0   \n",
       "1                 6900400.0              6900400.00                 6900400.0   \n",
       "2                49341100.0             48160249.84                49341100.0   \n",
       "3                 2741700.0              2660358.00                 2741700.0   \n",
       "4                       0.0                    0.00                       0.0   \n",
       "\n",
       "   FY2018 Actual Expenses  FY2019 Budgeted Expenses  FY2019 Actual Expenses  \\\n",
       "0              3501900.00                 3501900.0              3501900.00   \n",
       "1              6900400.00                 6900400.0              6900400.00   \n",
       "2             50951314.92                51244600.0             51147253.42   \n",
       "3              2871873.89                 2986400.0              3045002.14   \n",
       "4                    0.00                       0.0                    0.00   \n",
       "\n",
       "   FY2020 Budgeted Expenses  FY2020 Actual Expenses  FY2021 Budgeted Expenses  \\\n",
       "0                 3501900.0              3501900.00                   3501900   \n",
       "1                 6900400.0              6900400.00                   6900400   \n",
       "2                53391800.0             51619782.62                  55099100   \n",
       "3                 3063700.0              3128416.49                   3063700   \n",
       "4                       0.0                    0.00                         0   \n",
       "\n",
       "   FY2021 Actual Expenses  \n",
       "0              3501900.00  \n",
       "1              6900400.00  \n",
       "2             52691663.82  \n",
       "3              3201906.32  \n",
       "4                    0.00  \n",
       "\n",
       "[5 rows x 32 columns]"
      ]
     },
     "execution_count": 3,
     "metadata": {},
     "output_type": "execute_result"
    }
   ],
   "source": [
    "df.head(5)"
   ]
  },
  {
   "cell_type": "code",
   "execution_count": 4,
   "metadata": {},
   "outputs": [
    {
     "data": {
      "text/html": [
       "<div>\n",
       "<style scoped>\n",
       "    .dataframe tbody tr th:only-of-type {\n",
       "        vertical-align: middle;\n",
       "    }\n",
       "\n",
       "    .dataframe tbody tr th {\n",
       "        vertical-align: top;\n",
       "    }\n",
       "\n",
       "    .dataframe thead th {\n",
       "        text-align: right;\n",
       "    }\n",
       "</style>\n",
       "<table border=\"1\" class=\"dataframe\">\n",
       "  <thead>\n",
       "    <tr style=\"text-align: right;\">\n",
       "      <th></th>\n",
       "      <th>Fund</th>\n",
       "      <th>Fund Description</th>\n",
       "      <th>Department</th>\n",
       "      <th>Department Description</th>\n",
       "      <th>Business Unit</th>\n",
       "      <th>Business Unit Description</th>\n",
       "      <th>Object Account</th>\n",
       "      <th>Object Account Description</th>\n",
       "      <th>FY2010 Budgeted Expenses</th>\n",
       "      <th>FY2010 Actual Expenses</th>\n",
       "      <th>...</th>\n",
       "      <th>FY2017 Budgeted Expenses</th>\n",
       "      <th>FY2017 Actual Expenses</th>\n",
       "      <th>FY2018 Budgeted Expenses</th>\n",
       "      <th>FY2018 Actual Expenses</th>\n",
       "      <th>FY2019 Budgeted Expenses</th>\n",
       "      <th>FY2019 Actual Expenses</th>\n",
       "      <th>FY2020 Budgeted Expenses</th>\n",
       "      <th>FY2020 Actual Expenses</th>\n",
       "      <th>FY2021 Budgeted Expenses</th>\n",
       "      <th>FY2021 Actual Expenses</th>\n",
       "    </tr>\n",
       "  </thead>\n",
       "  <tbody>\n",
       "    <tr>\n",
       "      <th>30828</th>\n",
       "      <td>35131</td>\n",
       "      <td>MNPS General Purpose</td>\n",
       "      <td>80.0</td>\n",
       "      <td>MNPS</td>\n",
       "      <td>80902020.0</td>\n",
       "      <td>MNPS COVID-19</td>\n",
       "      <td>501177.0</td>\n",
       "      <td>Employer Pension</td>\n",
       "      <td>0.000000e+00</td>\n",
       "      <td>0.000000e+00</td>\n",
       "      <td>...</td>\n",
       "      <td>0.000000e+00</td>\n",
       "      <td>0.000000e+00</td>\n",
       "      <td>0.000000e+00</td>\n",
       "      <td>0.000000e+00</td>\n",
       "      <td>0.000000e+00</td>\n",
       "      <td>0.000000e+00</td>\n",
       "      <td>0.000000e+00</td>\n",
       "      <td>0.000000e+00</td>\n",
       "      <td>0</td>\n",
       "      <td>-1.859000e+01</td>\n",
       "    </tr>\n",
       "    <tr>\n",
       "      <th>30829</th>\n",
       "      <td>35131</td>\n",
       "      <td>MNPS General Purpose</td>\n",
       "      <td>80.0</td>\n",
       "      <td>MNPS</td>\n",
       "      <td>80902020.0</td>\n",
       "      <td>MNPS COVID-19</td>\n",
       "      <td>501172.0</td>\n",
       "      <td>Employer OASDI</td>\n",
       "      <td>0.000000e+00</td>\n",
       "      <td>0.000000e+00</td>\n",
       "      <td>...</td>\n",
       "      <td>0.000000e+00</td>\n",
       "      <td>0.000000e+00</td>\n",
       "      <td>0.000000e+00</td>\n",
       "      <td>0.000000e+00</td>\n",
       "      <td>0.000000e+00</td>\n",
       "      <td>0.000000e+00</td>\n",
       "      <td>0.000000e+00</td>\n",
       "      <td>0.000000e+00</td>\n",
       "      <td>0</td>\n",
       "      <td>-4.870000e+00</td>\n",
       "    </tr>\n",
       "    <tr>\n",
       "      <th>30830</th>\n",
       "      <td>35131</td>\n",
       "      <td>MNPS General Purpose</td>\n",
       "      <td>80.0</td>\n",
       "      <td>MNPS</td>\n",
       "      <td>80902020.0</td>\n",
       "      <td>MNPS COVID-19</td>\n",
       "      <td>501173.0</td>\n",
       "      <td>Employer SSN Medical</td>\n",
       "      <td>0.000000e+00</td>\n",
       "      <td>0.000000e+00</td>\n",
       "      <td>...</td>\n",
       "      <td>0.000000e+00</td>\n",
       "      <td>0.000000e+00</td>\n",
       "      <td>0.000000e+00</td>\n",
       "      <td>0.000000e+00</td>\n",
       "      <td>0.000000e+00</td>\n",
       "      <td>0.000000e+00</td>\n",
       "      <td>0.000000e+00</td>\n",
       "      <td>0.000000e+00</td>\n",
       "      <td>0</td>\n",
       "      <td>-1.990000e+00</td>\n",
       "    </tr>\n",
       "    <tr>\n",
       "      <th>30831</th>\n",
       "      <td>35131</td>\n",
       "      <td>MNPS General Purpose</td>\n",
       "      <td>80.0</td>\n",
       "      <td>MNPS</td>\n",
       "      <td>80902020.0</td>\n",
       "      <td>MNPS COVID-19</td>\n",
       "      <td>501101.0</td>\n",
       "      <td>Regular Pay</td>\n",
       "      <td>0.000000e+00</td>\n",
       "      <td>0.000000e+00</td>\n",
       "      <td>...</td>\n",
       "      <td>0.000000e+00</td>\n",
       "      <td>0.000000e+00</td>\n",
       "      <td>0.000000e+00</td>\n",
       "      <td>0.000000e+00</td>\n",
       "      <td>0.000000e+00</td>\n",
       "      <td>0.000000e+00</td>\n",
       "      <td>0.000000e+00</td>\n",
       "      <td>0.000000e+00</td>\n",
       "      <td>0</td>\n",
       "      <td>-1.506600e+02</td>\n",
       "    </tr>\n",
       "    <tr>\n",
       "      <th>30832</th>\n",
       "      <td>Grand Total</td>\n",
       "      <td>NaN</td>\n",
       "      <td>NaN</td>\n",
       "      <td>NaN</td>\n",
       "      <td>NaN</td>\n",
       "      <td>NaN</td>\n",
       "      <td>NaN</td>\n",
       "      <td>NaN</td>\n",
       "      <td>1.600288e+09</td>\n",
       "      <td>1.784957e+09</td>\n",
       "      <td>...</td>\n",
       "      <td>2.145225e+09</td>\n",
       "      <td>2.112964e+09</td>\n",
       "      <td>2.288721e+09</td>\n",
       "      <td>2.223645e+09</td>\n",
       "      <td>2.298126e+09</td>\n",
       "      <td>2.257203e+09</td>\n",
       "      <td>2.414639e+09</td>\n",
       "      <td>2.303677e+09</td>\n",
       "      <td>2455434200</td>\n",
       "      <td>3.031367e+09</td>\n",
       "    </tr>\n",
       "  </tbody>\n",
       "</table>\n",
       "<p>5 rows × 32 columns</p>\n",
       "</div>"
      ],
      "text/plain": [
       "              Fund      Fund Description  Department Department Description  \\\n",
       "30828        35131  MNPS General Purpose        80.0                   MNPS   \n",
       "30829        35131  MNPS General Purpose        80.0                   MNPS   \n",
       "30830        35131  MNPS General Purpose        80.0                   MNPS   \n",
       "30831        35131  MNPS General Purpose        80.0                   MNPS   \n",
       "30832  Grand Total                   NaN         NaN                    NaN   \n",
       "\n",
       "       Business Unit Business Unit Description  Object Account  \\\n",
       "30828     80902020.0             MNPS COVID-19        501177.0   \n",
       "30829     80902020.0             MNPS COVID-19        501172.0   \n",
       "30830     80902020.0             MNPS COVID-19        501173.0   \n",
       "30831     80902020.0             MNPS COVID-19        501101.0   \n",
       "30832            NaN                       NaN             NaN   \n",
       "\n",
       "      Object Account Description  FY2010 Budgeted Expenses  \\\n",
       "30828           Employer Pension              0.000000e+00   \n",
       "30829             Employer OASDI              0.000000e+00   \n",
       "30830       Employer SSN Medical              0.000000e+00   \n",
       "30831                Regular Pay              0.000000e+00   \n",
       "30832                        NaN              1.600288e+09   \n",
       "\n",
       "       FY2010 Actual Expenses  ...  FY2017 Budgeted Expenses  \\\n",
       "30828            0.000000e+00  ...              0.000000e+00   \n",
       "30829            0.000000e+00  ...              0.000000e+00   \n",
       "30830            0.000000e+00  ...              0.000000e+00   \n",
       "30831            0.000000e+00  ...              0.000000e+00   \n",
       "30832            1.784957e+09  ...              2.145225e+09   \n",
       "\n",
       "       FY2017 Actual Expenses  FY2018 Budgeted Expenses  \\\n",
       "30828            0.000000e+00              0.000000e+00   \n",
       "30829            0.000000e+00              0.000000e+00   \n",
       "30830            0.000000e+00              0.000000e+00   \n",
       "30831            0.000000e+00              0.000000e+00   \n",
       "30832            2.112964e+09              2.288721e+09   \n",
       "\n",
       "       FY2018 Actual Expenses  FY2019 Budgeted Expenses  \\\n",
       "30828            0.000000e+00              0.000000e+00   \n",
       "30829            0.000000e+00              0.000000e+00   \n",
       "30830            0.000000e+00              0.000000e+00   \n",
       "30831            0.000000e+00              0.000000e+00   \n",
       "30832            2.223645e+09              2.298126e+09   \n",
       "\n",
       "       FY2019 Actual Expenses  FY2020 Budgeted Expenses  \\\n",
       "30828            0.000000e+00              0.000000e+00   \n",
       "30829            0.000000e+00              0.000000e+00   \n",
       "30830            0.000000e+00              0.000000e+00   \n",
       "30831            0.000000e+00              0.000000e+00   \n",
       "30832            2.257203e+09              2.414639e+09   \n",
       "\n",
       "       FY2020 Actual Expenses  FY2021 Budgeted Expenses  \\\n",
       "30828            0.000000e+00                         0   \n",
       "30829            0.000000e+00                         0   \n",
       "30830            0.000000e+00                         0   \n",
       "30831            0.000000e+00                         0   \n",
       "30832            2.303677e+09                2455434200   \n",
       "\n",
       "       FY2021 Actual Expenses  \n",
       "30828           -1.859000e+01  \n",
       "30829           -4.870000e+00  \n",
       "30830           -1.990000e+00  \n",
       "30831           -1.506600e+02  \n",
       "30832            3.031367e+09  \n",
       "\n",
       "[5 rows x 32 columns]"
      ]
     },
     "execution_count": 4,
     "metadata": {},
     "output_type": "execute_result"
    }
   ],
   "source": [
    "df.tail(5)"
   ]
  },
  {
   "cell_type": "code",
   "execution_count": 5,
   "metadata": {},
   "outputs": [
    {
     "name": "stdout",
     "output_type": "stream",
     "text": [
      "<class 'pandas.core.frame.DataFrame'>\n",
      "RangeIndex: 30833 entries, 0 to 30832\n",
      "Data columns (total 32 columns):\n",
      " #   Column                      Non-Null Count  Dtype  \n",
      "---  ------                      --------------  -----  \n",
      " 0   Fund                        30833 non-null  object \n",
      " 1   Fund Description            30832 non-null  object \n",
      " 2   Department                  30832 non-null  float64\n",
      " 3   Department Description      30832 non-null  object \n",
      " 4   Business Unit               30832 non-null  float64\n",
      " 5   Business Unit Description   30832 non-null  object \n",
      " 6   Object Account              30832 non-null  float64\n",
      " 7   Object Account Description  30832 non-null  object \n",
      " 8   FY2010 Budgeted Expenses    30833 non-null  float64\n",
      " 9   FY2010 Actual Expenses      30833 non-null  float64\n",
      " 10  FY2011 Budgeted Expenses    30833 non-null  float64\n",
      " 11  FY2011 Actual Expenses      30833 non-null  float64\n",
      " 12  FY2012 Budgeted Expenses    30833 non-null  float64\n",
      " 13  FY2012 Actual Expenses      30833 non-null  float64\n",
      " 14  FY2013 Budgeted Expenses    30833 non-null  float64\n",
      " 15  FY2013 Actual Expenses      30833 non-null  float64\n",
      " 16  FY2014 Budgeted Expenses    30833 non-null  float64\n",
      " 17  FY2014 Actual Expenses      30833 non-null  float64\n",
      " 18  FY2015 Budgeted Expenses    30833 non-null  float64\n",
      " 19  FY2015 Actual Expenses      30833 non-null  float64\n",
      " 20  FY2016 Budgeted Expenses    30833 non-null  float64\n",
      " 21  FY2016 Actual Expenses      30833 non-null  float64\n",
      " 22  FY2017 Budgeted Expenses    30833 non-null  float64\n",
      " 23  FY2017 Actual Expenses      30833 non-null  float64\n",
      " 24  FY2018 Budgeted Expenses    30833 non-null  float64\n",
      " 25  FY2018 Actual Expenses      30833 non-null  float64\n",
      " 26  FY2019 Budgeted Expenses    30833 non-null  float64\n",
      " 27  FY2019 Actual Expenses      30833 non-null  float64\n",
      " 28  FY2020 Budgeted Expenses    30833 non-null  float64\n",
      " 29  FY2020 Actual Expenses      30833 non-null  float64\n",
      " 30  FY2021 Budgeted Expenses    30833 non-null  int64  \n",
      " 31  FY2021 Actual Expenses      30833 non-null  float64\n",
      "dtypes: float64(26), int64(1), object(5)\n",
      "memory usage: 7.5+ MB\n"
     ]
    }
   ],
   "source": [
    "df.info()"
   ]
  },
  {
   "cell_type": "code",
   "execution_count": 6,
   "metadata": {},
   "outputs": [
    {
     "data": {
      "text/plain": [
       "52"
      ]
     },
     "execution_count": 6,
     "metadata": {},
     "output_type": "execute_result"
    }
   ],
   "source": [
    "df['Department Description'].nunique()"
   ]
  },
  {
   "cell_type": "code",
   "execution_count": 7,
   "metadata": {},
   "outputs": [],
   "source": [
    "dep_list = df['Department Description'].unique()"
   ]
  },
  {
   "cell_type": "code",
   "execution_count": 8,
   "metadata": {},
   "outputs": [
    {
     "data": {
      "text/plain": [
       "array(['Administrative', 'Sheriff', 'Metropolitan Council',\n",
       "       'Metropolitan Clerk', \"Mayor's Office\", 'Election Commission',\n",
       "       'Law', 'Planning Commission', 'Human Resources',\n",
       "       'Register of Deeds', 'General Services', 'Historical Commission',\n",
       "       'Information Technology Service', 'Finance',\n",
       "       'Assessor of Property', 'Trustee', 'County Clerk',\n",
       "       'District Attorney', 'X-Medical Examiner', 'Public Defender',\n",
       "       'Juvenile Court Clerk', 'Circuit Court Clerk',\n",
       "       'Criminal Court Clerk', 'Clerk and Master - Chancery',\n",
       "       'Juvenile Court', 'Police', 'General Sessions Court',\n",
       "       'State Trial Courts', 'Justice Integration Services', 'Fire',\n",
       "       'Codes Administration', 'Beer Board', 'Social Services',\n",
       "       'Agricultural Extension', 'Soil and Water Conservation', 'Health',\n",
       "       'Public Library', 'Parks', 'Arts Commission', 'Public Works',\n",
       "       'MNPS', 'Human Relations Commission', 'X-Transportation Licensing',\n",
       "       'Criminal Justice Planning', 'Internal Audit',\n",
       "       'Office of Emergency Management', 'Office of Family Safety',\n",
       "       'Community Oversight Board', 'Sports Authority',\n",
       "       'Community Education Commission', 'Emergency Communication Center',\n",
       "       'Debt Service', nan], dtype=object)"
      ]
     },
     "execution_count": 8,
     "metadata": {},
     "output_type": "execute_result"
    }
   ],
   "source": [
    "dep_list"
   ]
  },
  {
   "cell_type": "code",
   "execution_count": 9,
   "metadata": {},
   "outputs": [],
   "source": [
    "ss = df[df['Department Description'] == 'Social Services']"
   ]
  },
  {
   "cell_type": "code",
   "execution_count": 10,
   "metadata": {},
   "outputs": [],
   "source": [
    "dd = ss.groupby(['Department Description']).sum()"
   ]
  },
  {
   "cell_type": "code",
   "execution_count": 11,
   "metadata": {},
   "outputs": [],
   "source": [
    "dd.drop(['Department','Business Unit','Object Account','FY2010 Budgeted Expenses','FY2011 Budgeted Expenses','FY2012 Budgeted Expenses','FY2013 Budgeted Expenses','FY2014 Budgeted Expenses','FY2015 Budgeted Expenses','FY2016 Budgeted Expenses','FY2017 Budgeted Expenses','FY2018 Budgeted Expenses','FY2019 Budgeted Expenses','FY2020 Budgeted Expenses','FY2021 Budgeted Expenses'],axis=1,inplace=True)"
   ]
  },
  {
   "cell_type": "code",
   "execution_count": 12,
   "metadata": {},
   "outputs": [
    {
     "data": {
      "text/html": [
       "<div>\n",
       "<style scoped>\n",
       "    .dataframe tbody tr th:only-of-type {\n",
       "        vertical-align: middle;\n",
       "    }\n",
       "\n",
       "    .dataframe tbody tr th {\n",
       "        vertical-align: top;\n",
       "    }\n",
       "\n",
       "    .dataframe thead th {\n",
       "        text-align: right;\n",
       "    }\n",
       "</style>\n",
       "<table border=\"1\" class=\"dataframe\">\n",
       "  <thead>\n",
       "    <tr style=\"text-align: right;\">\n",
       "      <th></th>\n",
       "      <th>FY2010 Actual Expenses</th>\n",
       "      <th>FY2011 Actual Expenses</th>\n",
       "      <th>FY2012 Actual Expenses</th>\n",
       "      <th>FY2013 Actual Expenses</th>\n",
       "      <th>FY2014 Actual Expenses</th>\n",
       "      <th>FY2015 Actual Expenses</th>\n",
       "      <th>FY2016 Actual Expenses</th>\n",
       "      <th>FY2017 Actual Expenses</th>\n",
       "      <th>FY2018 Actual Expenses</th>\n",
       "      <th>FY2019 Actual Expenses</th>\n",
       "      <th>FY2020 Actual Expenses</th>\n",
       "      <th>FY2021 Actual Expenses</th>\n",
       "    </tr>\n",
       "    <tr>\n",
       "      <th>Department Description</th>\n",
       "      <th></th>\n",
       "      <th></th>\n",
       "      <th></th>\n",
       "      <th></th>\n",
       "      <th></th>\n",
       "      <th></th>\n",
       "      <th></th>\n",
       "      <th></th>\n",
       "      <th></th>\n",
       "      <th></th>\n",
       "      <th></th>\n",
       "      <th></th>\n",
       "    </tr>\n",
       "  </thead>\n",
       "  <tbody>\n",
       "    <tr>\n",
       "      <th>Social Services</th>\n",
       "      <td>6004962.81</td>\n",
       "      <td>6236577.65</td>\n",
       "      <td>7377443.87</td>\n",
       "      <td>7520121.79</td>\n",
       "      <td>7528804.55</td>\n",
       "      <td>7487716.24</td>\n",
       "      <td>6551174.26</td>\n",
       "      <td>6527352.57</td>\n",
       "      <td>6922072.56</td>\n",
       "      <td>6882350.24</td>\n",
       "      <td>6861397.71</td>\n",
       "      <td>5598992.7</td>\n",
       "    </tr>\n",
       "  </tbody>\n",
       "</table>\n",
       "</div>"
      ],
      "text/plain": [
       "                        FY2010 Actual Expenses  FY2011 Actual Expenses  \\\n",
       "Department Description                                                   \n",
       "Social Services                     6004962.81              6236577.65   \n",
       "\n",
       "                        FY2012 Actual Expenses  FY2013 Actual Expenses  \\\n",
       "Department Description                                                   \n",
       "Social Services                     7377443.87              7520121.79   \n",
       "\n",
       "                        FY2014 Actual Expenses  FY2015 Actual Expenses  \\\n",
       "Department Description                                                   \n",
       "Social Services                     7528804.55              7487716.24   \n",
       "\n",
       "                        FY2016 Actual Expenses  FY2017 Actual Expenses  \\\n",
       "Department Description                                                   \n",
       "Social Services                     6551174.26              6527352.57   \n",
       "\n",
       "                        FY2018 Actual Expenses  FY2019 Actual Expenses  \\\n",
       "Department Description                                                   \n",
       "Social Services                     6922072.56              6882350.24   \n",
       "\n",
       "                        FY2020 Actual Expenses  FY2021 Actual Expenses  \n",
       "Department Description                                                  \n",
       "Social Services                     6861397.71               5598992.7  "
      ]
     },
     "execution_count": 12,
     "metadata": {},
     "output_type": "execute_result"
    }
   ],
   "source": [
    "dd.head()"
   ]
  },
  {
   "cell_type": "code",
   "execution_count": 13,
   "metadata": {},
   "outputs": [
    {
     "data": {
      "text/plain": [
       "<AxesSubplot:xlabel='Department Description'>"
      ]
     },
     "execution_count": 13,
     "metadata": {},
     "output_type": "execute_result"
    },
    {
     "data": {
      "image/png": "[encoded data removed]",
      "text/plain": [
       "<Figure size 640x480 with 1 Axes>"
      ]
     },
     "metadata": {},
     "output_type": "display_data"
    }
   ],
   "source": [
    "dd.plot(kind=\"bar\")"
   ]
  },
  {
   "attachments": {},
   "cell_type": "markdown",
   "metadata": {},
   "source": [
    "social services 13 - 19"
   ]
  },
  {
   "cell_type": "code",
   "execution_count": 14,
   "metadata": {},
   "outputs": [],
   "source": [
    "ss_13_19 = dd[['FY2013 Actual Expenses','FY2014 Actual Expenses','FY2015 Actual Expenses','FY2016 Actual Expenses','FY2017 Actual Expenses','FY2018 Actual Expenses','FY2019 Actual Expenses']]"
   ]
  },
  {
   "cell_type": "code",
   "execution_count": 15,
   "metadata": {},
   "outputs": [],
   "source": [
    "ss_13_19 = ss_13_19.T"
   ]
  },
  {
   "cell_type": "code",
   "execution_count": 16,
   "metadata": {},
   "outputs": [],
   "source": [
    "ss_13_19['year'] = [2013,2014,2015,2016,2017,2018,2019]"
   ]
  },
  {
   "cell_type": "code",
   "execution_count": 17,
   "metadata": {},
   "outputs": [
    {
     "data": {
      "text/html": [
       "<div>\n",
       "<style scoped>\n",
       "    .dataframe tbody tr th:only-of-type {\n",
       "        vertical-align: middle;\n",
       "    }\n",
       "\n",
       "    .dataframe tbody tr th {\n",
       "        vertical-align: top;\n",
       "    }\n",
       "\n",
       "    .dataframe thead th {\n",
       "        text-align: right;\n",
       "    }\n",
       "</style>\n",
       "<table border=\"1\" class=\"dataframe\">\n",
       "  <thead>\n",
       "    <tr style=\"text-align: right;\">\n",
       "      <th>Department Description</th>\n",
       "      <th>Social Services</th>\n",
       "      <th>year</th>\n",
       "    </tr>\n",
       "  </thead>\n",
       "  <tbody>\n",
       "    <tr>\n",
       "      <th>FY2013 Actual Expenses</th>\n",
       "      <td>7520121.79</td>\n",
       "      <td>2013</td>\n",
       "    </tr>\n",
       "    <tr>\n",
       "      <th>FY2014 Actual Expenses</th>\n",
       "      <td>7528804.55</td>\n",
       "      <td>2014</td>\n",
       "    </tr>\n",
       "    <tr>\n",
       "      <th>FY2015 Actual Expenses</th>\n",
       "      <td>7487716.24</td>\n",
       "      <td>2015</td>\n",
       "    </tr>\n",
       "    <tr>\n",
       "      <th>FY2016 Actual Expenses</th>\n",
       "      <td>6551174.26</td>\n",
       "      <td>2016</td>\n",
       "    </tr>\n",
       "    <tr>\n",
       "      <th>FY2017 Actual Expenses</th>\n",
       "      <td>6527352.57</td>\n",
       "      <td>2017</td>\n",
       "    </tr>\n",
       "    <tr>\n",
       "      <th>FY2018 Actual Expenses</th>\n",
       "      <td>6922072.56</td>\n",
       "      <td>2018</td>\n",
       "    </tr>\n",
       "    <tr>\n",
       "      <th>FY2019 Actual Expenses</th>\n",
       "      <td>6882350.24</td>\n",
       "      <td>2019</td>\n",
       "    </tr>\n",
       "  </tbody>\n",
       "</table>\n",
       "</div>"
      ],
      "text/plain": [
       "Department Description  Social Services  year\n",
       "FY2013 Actual Expenses       7520121.79  2013\n",
       "FY2014 Actual Expenses       7528804.55  2014\n",
       "FY2015 Actual Expenses       7487716.24  2015\n",
       "FY2016 Actual Expenses       6551174.26  2016\n",
       "FY2017 Actual Expenses       6527352.57  2017\n",
       "FY2018 Actual Expenses       6922072.56  2018\n",
       "FY2019 Actual Expenses       6882350.24  2019"
      ]
     },
     "execution_count": 17,
     "metadata": {},
     "output_type": "execute_result"
    }
   ],
   "source": [
    "ss_13_19"
   ]
  },
  {
   "cell_type": "code",
   "execution_count": 18,
   "metadata": {},
   "outputs": [
    {
     "data": {
      "text/plain": [
       "<AxesSubplot:xlabel='year'>"
      ]
     },
     "execution_count": 18,
     "metadata": {},
     "output_type": "execute_result"
    },
    {
     "data": {
      "image/png": "[encoded data removed]",
      "text/plain": [
       "<Figure size 640x480 with 1 Axes>"
      ]
     },
     "metadata": {},
     "output_type": "display_data"
    }
   ],
   "source": [
    "ss_13_19.plot(kind=\"line\", legend = False, x = 'year', y = 'Social Services' )"
   ]
  },
  {
   "cell_type": "code",
   "execution_count": 19,
   "metadata": {},
   "outputs": [],
   "source": [
    "x = ss_13_19['year']\n",
    "y = ss_13_19['Social Services']"
   ]
  },
  {
   "cell_type": "code",
   "execution_count": 20,
   "metadata": {},
   "outputs": [
    {
     "data": {
      "text/plain": [
       "Text(0, 0.5, 'Percentage')"
      ]
     },
     "execution_count": 20,
     "metadata": {},
     "output_type": "execute_result"
    },
    {
     "data": {
      "image/png": "[encoded data removed]",
      "text/plain": [
       "<Figure size 640x480 with 1 Axes>"
      ]
     },
     "metadata": {},
     "output_type": "display_data"
    }
   ],
   "source": [
    "ss_13_19.plot(kind='line', x = 'year', y = 'Social Services')\n",
    "# Calculate the Trendline\n",
    "z = np.polyfit(x, y, 1)\n",
    "p = np.poly1d(z)\n",
    "plt.plot(ss_13_19['year'], p(x), color=\"purple\", linewidth=3, linestyle=\"--\")\n",
    "plt.title('Social Service Spending')\n",
    "plt.xlabel('Year')\n",
    "plt.ylabel('Percentage')"
   ]
  },
  {
   "attachments": {},
   "cell_type": "markdown",
   "metadata": {},
   "source": [
    "Social services 16 - 20"
   ]
  },
  {
   "cell_type": "code",
   "execution_count": 21,
   "metadata": {},
   "outputs": [],
   "source": [
    "ss_16_20 = dd[['FY2016 Actual Expenses','FY2017 Actual Expenses','FY2018 Actual Expenses','FY2019 Actual Expenses','FY2019 Actual Expenses']]"
   ]
  },
  {
   "cell_type": "code",
   "execution_count": 22,
   "metadata": {},
   "outputs": [],
   "source": [
    "ss_16_20 = ss_16_20.T"
   ]
  },
  {
   "cell_type": "code",
   "execution_count": 23,
   "metadata": {},
   "outputs": [],
   "source": [
    "ss_16_20['year'] = [2016,2017,2018,2019,2020]"
   ]
  },
  {
   "cell_type": "code",
   "execution_count": 24,
   "metadata": {},
   "outputs": [],
   "source": [
    "ss_16_20.reset_index(inplace=True)"
   ]
  },
  {
   "cell_type": "code",
   "execution_count": 25,
   "metadata": {},
   "outputs": [],
   "source": [
    "ss_16_20 = ss_16_20[['Social Services','year']]"
   ]
  },
  {
   "cell_type": "code",
   "execution_count": 26,
   "metadata": {},
   "outputs": [],
   "source": [
    "x1 = ss_16_20['year']\n",
    "y1 = ss_16_20['Social Services']"
   ]
  },
  {
   "cell_type": "code",
   "execution_count": 27,
   "metadata": {},
   "outputs": [
    {
     "data": {
      "text/plain": [
       "([<matplotlib.axis.XTick at 0x18cfd81c910>,\n",
       "  <matplotlib.axis.XTick at 0x18cfd81c8e0>,\n",
       "  <matplotlib.axis.XTick at 0x18c80fc0df0>,\n",
       "  <matplotlib.axis.XTick at 0x18c80fd65e0>,\n",
       "  <matplotlib.axis.XTick at 0x18c80fd6d30>],\n",
       " [Text(0, 0, ''),\n",
       "  Text(0, 0, ''),\n",
       "  Text(0, 0, ''),\n",
       "  Text(0, 0, ''),\n",
       "  Text(0, 0, '')])"
      ]
     },
     "execution_count": 27,
     "metadata": {},
     "output_type": "execute_result"
    },
    {
     "data": {
      "image/png": "[encoded data removed]",
      "text/plain": [
       "<Figure size 640x480 with 1 Axes>"
      ]
     },
     "metadata": {},
     "output_type": "display_data"
    }
   ],
   "source": [
    "ss_16_20.plot(kind='line', x = 'year', y = 'Social Services')\n",
    "# Calculate the Trendline\n",
    "z = np.polyfit(x1, y1, 1)\n",
    "p = np.poly1d(z)\n",
    "plt.plot(ss_16_20['year'], p(x1), color=\"purple\", linewidth=3, linestyle=\"--\")\n",
    "plt.title('Social Service Spending')\n",
    "plt.xlabel('Year')\n",
    "plt.ylabel('Budget in Millions')\n",
    "plt.xticks(x1)\n"
   ]
  },
  {
   "attachments": {},
   "cell_type": "markdown",
   "metadata": {},
   "source": [
    "social services 11 - 17"
   ]
  },
  {
   "cell_type": "code",
   "execution_count": 28,
   "metadata": {},
   "outputs": [],
   "source": [
    "ss_11_17 = dd[['FY2011 Actual Expenses','FY2012 Actual Expenses','FY2013 Actual Expenses','FY2014 Actual Expenses','FY2015 Actual Expenses','FY2016 Actual Expenses','FY2017 Actual Expenses']]"
   ]
  },
  {
   "cell_type": "code",
   "execution_count": 29,
   "metadata": {},
   "outputs": [],
   "source": [
    "ss_11_17 = ss_11_17.T"
   ]
  },
  {
   "cell_type": "code",
   "execution_count": 30,
   "metadata": {},
   "outputs": [],
   "source": [
    "ss_11_17['year'] = [2011,2012,2013,2014,2015,2016,2017]"
   ]
  },
  {
   "cell_type": "code",
   "execution_count": 31,
   "metadata": {},
   "outputs": [],
   "source": [
    "ss_11_17.reset_index(inplace=True)"
   ]
  },
  {
   "cell_type": "code",
   "execution_count": 32,
   "metadata": {},
   "outputs": [],
   "source": [
    "ss_11_17 = ss_11_17[['Social Services','year']]"
   ]
  },
  {
   "cell_type": "code",
   "execution_count": 33,
   "metadata": {},
   "outputs": [],
   "source": [
    "x2 = ss_11_17['year']\n",
    "y2 = ss_11_17['Social Services']"
   ]
  },
  {
   "cell_type": "code",
   "execution_count": 34,
   "metadata": {},
   "outputs": [
    {
     "data": {
      "text/plain": [
       "([<matplotlib.axis.XTick at 0x18c811846d0>,\n",
       "  <matplotlib.axis.XTick at 0x18c81184040>,\n",
       "  <matplotlib.axis.XTick at 0x18c811a9a90>,\n",
       "  <matplotlib.axis.XTick at 0x18c81173220>,\n",
       "  <matplotlib.axis.XTick at 0x18c81173970>,\n",
       "  <matplotlib.axis.XTick at 0x18c811c1100>,\n",
       "  <matplotlib.axis.XTick at 0x18c811c1970>],\n",
       " [Text(0, 0, ''),\n",
       "  Text(0, 0, ''),\n",
       "  Text(0, 0, ''),\n",
       "  Text(0, 0, ''),\n",
       "  Text(0, 0, ''),\n",
       "  Text(0, 0, ''),\n",
       "  Text(0, 0, '')])"
      ]
     },
     "execution_count": 34,
     "metadata": {},
     "output_type": "execute_result"
    },
    {
     "data": {
      "image/png": "[encoded data removed]",
      "text/plain": [
       "<Figure size 640x480 with 1 Axes>"
      ]
     },
     "metadata": {},
     "output_type": "display_data"
    }
   ],
   "source": [
    "ss_11_17.plot(kind='line', x = 'year', y = 'Social Services')\n",
    "# Calculate the Trendline\n",
    "z = np.polyfit(x2, y2, 1)\n",
    "p = np.poly1d(z)\n",
    "plt.plot(ss_11_17['year'], p(x2), color=\"purple\", linewidth=3, linestyle=\"--\")\n",
    "plt.title('Social Service Spending')\n",
    "plt.xlabel('Year')\n",
    "plt.ylabel('Budget in Millions')\n",
    "plt.xticks(x2)"
   ]
  },
  {
   "cell_type": "code",
   "execution_count": 35,
   "metadata": {},
   "outputs": [
    {
     "data": {
      "text/html": [
       "<div>\n",
       "<style scoped>\n",
       "    .dataframe tbody tr th:only-of-type {\n",
       "        vertical-align: middle;\n",
       "    }\n",
       "\n",
       "    .dataframe tbody tr th {\n",
       "        vertical-align: top;\n",
       "    }\n",
       "\n",
       "    .dataframe thead th {\n",
       "        text-align: right;\n",
       "    }\n",
       "</style>\n",
       "<table border=\"1\" class=\"dataframe\">\n",
       "  <thead>\n",
       "    <tr style=\"text-align: right;\">\n",
       "      <th></th>\n",
       "      <th>FY2010 Actual Expenses</th>\n",
       "      <th>FY2011 Actual Expenses</th>\n",
       "      <th>FY2012 Actual Expenses</th>\n",
       "      <th>FY2013 Actual Expenses</th>\n",
       "      <th>FY2014 Actual Expenses</th>\n",
       "      <th>FY2015 Actual Expenses</th>\n",
       "      <th>FY2016 Actual Expenses</th>\n",
       "      <th>FY2017 Actual Expenses</th>\n",
       "      <th>FY2018 Actual Expenses</th>\n",
       "      <th>FY2019 Actual Expenses</th>\n",
       "      <th>FY2020 Actual Expenses</th>\n",
       "      <th>FY2021 Actual Expenses</th>\n",
       "    </tr>\n",
       "    <tr>\n",
       "      <th>Department Description</th>\n",
       "      <th></th>\n",
       "      <th></th>\n",
       "      <th></th>\n",
       "      <th></th>\n",
       "      <th></th>\n",
       "      <th></th>\n",
       "      <th></th>\n",
       "      <th></th>\n",
       "      <th></th>\n",
       "      <th></th>\n",
       "      <th></th>\n",
       "      <th></th>\n",
       "    </tr>\n",
       "  </thead>\n",
       "  <tbody>\n",
       "    <tr>\n",
       "      <th>Social Services</th>\n",
       "      <td>6004962.81</td>\n",
       "      <td>6236577.65</td>\n",
       "      <td>7377443.87</td>\n",
       "      <td>7520121.79</td>\n",
       "      <td>7528804.55</td>\n",
       "      <td>7487716.24</td>\n",
       "      <td>6551174.26</td>\n",
       "      <td>6527352.57</td>\n",
       "      <td>6922072.56</td>\n",
       "      <td>6882350.24</td>\n",
       "      <td>6861397.71</td>\n",
       "      <td>5598992.7</td>\n",
       "    </tr>\n",
       "  </tbody>\n",
       "</table>\n",
       "</div>"
      ],
      "text/plain": [
       "                        FY2010 Actual Expenses  FY2011 Actual Expenses  \\\n",
       "Department Description                                                   \n",
       "Social Services                     6004962.81              6236577.65   \n",
       "\n",
       "                        FY2012 Actual Expenses  FY2013 Actual Expenses  \\\n",
       "Department Description                                                   \n",
       "Social Services                     7377443.87              7520121.79   \n",
       "\n",
       "                        FY2014 Actual Expenses  FY2015 Actual Expenses  \\\n",
       "Department Description                                                   \n",
       "Social Services                     7528804.55              7487716.24   \n",
       "\n",
       "                        FY2016 Actual Expenses  FY2017 Actual Expenses  \\\n",
       "Department Description                                                   \n",
       "Social Services                     6551174.26              6527352.57   \n",
       "\n",
       "                        FY2018 Actual Expenses  FY2019 Actual Expenses  \\\n",
       "Department Description                                                   \n",
       "Social Services                     6922072.56              6882350.24   \n",
       "\n",
       "                        FY2020 Actual Expenses  FY2021 Actual Expenses  \n",
       "Department Description                                                  \n",
       "Social Services                     6861397.71               5598992.7  "
      ]
     },
     "execution_count": 35,
     "metadata": {},
     "output_type": "execute_result"
    }
   ],
   "source": [
    "dd"
   ]
  }
 ],
 "metadata": {
  "kernelspec": {
   "display_name": "Python 3.9.7 ('base')",
   "language": "python",
   "name": "python3"
  },
  "language_info": {
   "codemirror_mode": {
    "name": "ipython",
    "version": 3
   },
   "file_extension": ".py",
   "mimetype": "text/x-python",
   "name": "python",
   "nbconvert_exporter": "python",
   "pygments_lexer": "ipython3",
   "version": "3.9.7"
  },
  "orig_nbformat": 4,
  "vscode": {
   "interpreter": {
    "hash": "e83933c89791523ce27b9c1ac2fa3a2bbb0f839e7a6d72c2a74f34bb50225d36"
   }
  }
 },
 "nbformat": 4,
 "nbformat_minor": 2
}
