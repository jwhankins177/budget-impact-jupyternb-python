{
 "cells": [
  {
   "cell_type": "code",
   "execution_count": 2,
   "metadata": {},
   "outputs": [],
   "source": [
    "import pandas as pd\n",
    "import numpy as np\n",
    "import matplotlib.pyplot as plt\n",
    "import seaborn as sns\n",
    "%matplotlib inline"
   ]
  },
  {
   "cell_type": "code",
   "execution_count": 3,
   "metadata": {},
   "outputs": [],
   "source": [
    "df1 = pd.read_excel(r\"C:\\Users\\jhank\\Desktop\\DA7\\Projects\\budget-impact-jupyternb-python\\data\\test_scores\\data_ACT-Data-by-District-2012-13.xlsx\",header=1)"
   ]
  },
  {
   "cell_type": "code",
   "execution_count": 4,
   "metadata": {},
   "outputs": [
    {
     "data": {
      "text/html": [
       "<div>\n",
       "<style scoped>\n",
       "    .dataframe tbody tr th:only-of-type {\n",
       "        vertical-align: middle;\n",
       "    }\n",
       "\n",
       "    .dataframe tbody tr th {\n",
       "        vertical-align: top;\n",
       "    }\n",
       "\n",
       "    .dataframe thead th {\n",
       "        text-align: right;\n",
       "    }\n",
       "</style>\n",
       "<table border=\"1\" class=\"dataframe\">\n",
       "  <thead>\n",
       "    <tr style=\"text-align: right;\">\n",
       "      <th></th>\n",
       "      <th>System</th>\n",
       "      <th>2013 Including Extended Time</th>\n",
       "      <th>2013 Standard Time Only</th>\n",
       "      <th>2012 Standard Time Only</th>\n",
       "    </tr>\n",
       "  </thead>\n",
       "  <tbody>\n",
       "    <tr>\n",
       "      <th>0</th>\n",
       "      <td>State</td>\n",
       "      <td>19.048</td>\n",
       "      <td>19.3</td>\n",
       "      <td>19.184</td>\n",
       "    </tr>\n",
       "    <tr>\n",
       "      <th>1</th>\n",
       "      <td>ANDERSON SCHOOL DISTRICT</td>\n",
       "      <td>18.920</td>\n",
       "      <td>19.1</td>\n",
       "      <td>18.932</td>\n",
       "    </tr>\n",
       "    <tr>\n",
       "      <th>2</th>\n",
       "      <td>ALCOA CITY SCHOOLS</td>\n",
       "      <td>21.595</td>\n",
       "      <td>22.2</td>\n",
       "      <td>21.955</td>\n",
       "    </tr>\n",
       "    <tr>\n",
       "      <th>3</th>\n",
       "      <td>BEDFORD COUNTY SCHOOL DISTRICT</td>\n",
       "      <td>17.984</td>\n",
       "      <td>18.3</td>\n",
       "      <td>19.023</td>\n",
       "    </tr>\n",
       "    <tr>\n",
       "      <th>4</th>\n",
       "      <td>BENTON CO BOARD OF EDUCATION</td>\n",
       "      <td>18.376</td>\n",
       "      <td>19.2</td>\n",
       "      <td>19.358</td>\n",
       "    </tr>\n",
       "    <tr>\n",
       "      <th>...</th>\n",
       "      <td>...</td>\n",
       "      <td>...</td>\n",
       "      <td>...</td>\n",
       "      <td>...</td>\n",
       "    </tr>\n",
       "    <tr>\n",
       "      <th>115</th>\n",
       "      <td>WEAKLEY CO SCH DIST</td>\n",
       "      <td>19.462</td>\n",
       "      <td>20.1</td>\n",
       "      <td>20.076</td>\n",
       "    </tr>\n",
       "    <tr>\n",
       "      <th>116</th>\n",
       "      <td>WEST CARROLL SPECIAL SCH DIST</td>\n",
       "      <td>18.197</td>\n",
       "      <td>18.3</td>\n",
       "      <td>18.069</td>\n",
       "    </tr>\n",
       "    <tr>\n",
       "      <th>117</th>\n",
       "      <td>WHITE COUNTY SCHOOL DISTRICT</td>\n",
       "      <td>18.612</td>\n",
       "      <td>18.9</td>\n",
       "      <td>18.369</td>\n",
       "    </tr>\n",
       "    <tr>\n",
       "      <th>118</th>\n",
       "      <td>WILLIAMSON CO SCHOOLS</td>\n",
       "      <td>23.359</td>\n",
       "      <td>23.7</td>\n",
       "      <td>23.134</td>\n",
       "    </tr>\n",
       "    <tr>\n",
       "      <th>119</th>\n",
       "      <td>WILSON CO SCHLS BOE</td>\n",
       "      <td>19.898</td>\n",
       "      <td>20.2</td>\n",
       "      <td>19.896</td>\n",
       "    </tr>\n",
       "  </tbody>\n",
       "</table>\n",
       "<p>120 rows × 4 columns</p>\n",
       "</div>"
      ],
      "text/plain": [
       "                              System  2013 Including Extended Time  \\\n",
       "0                              State                        19.048   \n",
       "1    ANDERSON SCHOOL DISTRICT                               18.920   \n",
       "2    ALCOA CITY SCHOOLS                                     21.595   \n",
       "3    BEDFORD COUNTY SCHOOL DISTRICT                         17.984   \n",
       "4    BENTON CO BOARD OF EDUCATION                           18.376   \n",
       "..                               ...                           ...   \n",
       "115  WEAKLEY CO SCH DIST                                    19.462   \n",
       "116  WEST CARROLL SPECIAL SCH DIST                          18.197   \n",
       "117  WHITE COUNTY SCHOOL DISTRICT                           18.612   \n",
       "118  WILLIAMSON CO SCHOOLS                                  23.359   \n",
       "119  WILSON CO SCHLS BOE                                    19.898   \n",
       "\n",
       "     2013 Standard Time Only  2012 Standard Time Only  \n",
       "0                       19.3                   19.184  \n",
       "1                       19.1                   18.932  \n",
       "2                       22.2                   21.955  \n",
       "3                       18.3                   19.023  \n",
       "4                       19.2                   19.358  \n",
       "..                       ...                      ...  \n",
       "115                     20.1                   20.076  \n",
       "116                     18.3                   18.069  \n",
       "117                     18.9                   18.369  \n",
       "118                     23.7                   23.134  \n",
       "119                     20.2                   19.896  \n",
       "\n",
       "[120 rows x 4 columns]"
      ]
     },
     "execution_count": 4,
     "metadata": {},
     "output_type": "execute_result"
    }
   ],
   "source": [
    "df1"
   ]
  },
  {
   "cell_type": "markdown",
   "metadata": {},
   "source": [
    "2013 ACT"
   ]
  },
  {
   "cell_type": "code",
   "execution_count": 5,
   "metadata": {},
   "outputs": [],
   "source": [
    "#df2014 = df4[(df4['District_Name'] == 'Davidson County')]\n",
    "#df2014 = df2014[['SCHOOL_YEAR', 'K_8_Attendance_Rate_PCT', 'HS_Attendance_Rate_PCT']]\n",
    "#df2014.rename(columns={'SCHOOL_YEAR' : 'year', 'K_8_Attendance_Rate_PCT' : 'k_8', 'HS_Attendance_Rate_PCT' : '9_12'},inplace=True)"
   ]
  },
  {
   "cell_type": "code",
   "execution_count": 6,
   "metadata": {},
   "outputs": [],
   "source": [
    "df2013 = df1[df1['System']=='METRO NASHVILLE-DAVIDSON CO SD ']"
   ]
  },
  {
   "cell_type": "code",
   "execution_count": 7,
   "metadata": {},
   "outputs": [
    {
     "data": {
      "text/html": [
       "<div>\n",
       "<style scoped>\n",
       "    .dataframe tbody tr th:only-of-type {\n",
       "        vertical-align: middle;\n",
       "    }\n",
       "\n",
       "    .dataframe tbody tr th {\n",
       "        vertical-align: top;\n",
       "    }\n",
       "\n",
       "    .dataframe thead th {\n",
       "        text-align: right;\n",
       "    }\n",
       "</style>\n",
       "<table border=\"1\" class=\"dataframe\">\n",
       "  <thead>\n",
       "    <tr style=\"text-align: right;\">\n",
       "      <th></th>\n",
       "      <th>System</th>\n",
       "      <th>2013 Including Extended Time</th>\n",
       "      <th>2013 Standard Time Only</th>\n",
       "      <th>2012 Standard Time Only</th>\n",
       "    </tr>\n",
       "  </thead>\n",
       "  <tbody>\n",
       "    <tr>\n",
       "      <th>77</th>\n",
       "      <td>METRO NASHVILLE-DAVIDSON CO SD</td>\n",
       "      <td>18.203</td>\n",
       "      <td>18.3</td>\n",
       "      <td>18.381</td>\n",
       "    </tr>\n",
       "  </tbody>\n",
       "</table>\n",
       "</div>"
      ],
      "text/plain": [
       "                             System  2013 Including Extended Time  \\\n",
       "77  METRO NASHVILLE-DAVIDSON CO SD                         18.203   \n",
       "\n",
       "    2013 Standard Time Only  2012 Standard Time Only  \n",
       "77                     18.3                   18.381  "
      ]
     },
     "execution_count": 7,
     "metadata": {},
     "output_type": "execute_result"
    }
   ],
   "source": [
    "df2013"
   ]
  },
  {
   "cell_type": "markdown",
   "metadata": {},
   "source": [
    "2014 ACT"
   ]
  },
  {
   "cell_type": "code",
   "execution_count": 8,
   "metadata": {},
   "outputs": [],
   "source": [
    "df2 = pd.read_excel(r\"C:\\Users\\jhank\\Desktop\\DA7\\Projects\\budget-impact-jupyternb-python\\data\\test_scores\\data_ACT-Data-by-District-2013-14.xlsx\", header=1)"
   ]
  },
  {
   "cell_type": "code",
   "execution_count": 9,
   "metadata": {},
   "outputs": [
    {
     "data": {
      "text/html": [
       "<div>\n",
       "<style scoped>\n",
       "    .dataframe tbody tr th:only-of-type {\n",
       "        vertical-align: middle;\n",
       "    }\n",
       "\n",
       "    .dataframe tbody tr th {\n",
       "        vertical-align: top;\n",
       "    }\n",
       "\n",
       "    .dataframe thead th {\n",
       "        text-align: right;\n",
       "    }\n",
       "</style>\n",
       "<table border=\"1\" class=\"dataframe\">\n",
       "  <thead>\n",
       "    <tr style=\"text-align: right;\">\n",
       "      <th></th>\n",
       "      <th>System</th>\n",
       "      <th>2013 Including Extended Time</th>\n",
       "      <th>2013 Standard Time Only</th>\n",
       "      <th>2014 Including Extended Time</th>\n",
       "    </tr>\n",
       "  </thead>\n",
       "  <tbody>\n",
       "    <tr>\n",
       "      <th>0</th>\n",
       "      <td>State</td>\n",
       "      <td>19.048</td>\n",
       "      <td>19.3</td>\n",
       "      <td>19.259</td>\n",
       "    </tr>\n",
       "    <tr>\n",
       "      <th>1</th>\n",
       "      <td>ANDERSON SCHOOL DISTRICT</td>\n",
       "      <td>18.92</td>\n",
       "      <td>19.1</td>\n",
       "      <td>19.33</td>\n",
       "    </tr>\n",
       "    <tr>\n",
       "      <th>2</th>\n",
       "      <td>ALCOA CITY SCHOOLS</td>\n",
       "      <td>21.595</td>\n",
       "      <td>22.2</td>\n",
       "      <td>21.291</td>\n",
       "    </tr>\n",
       "    <tr>\n",
       "      <th>3</th>\n",
       "      <td>BEDFORD COUNTY SCHOOL DISTRICT</td>\n",
       "      <td>17.984</td>\n",
       "      <td>18.3</td>\n",
       "      <td>18.446</td>\n",
       "    </tr>\n",
       "    <tr>\n",
       "      <th>4</th>\n",
       "      <td>BENTON CO BOARD OF EDUCATION</td>\n",
       "      <td>18.376</td>\n",
       "      <td>19.2</td>\n",
       "      <td>18.958</td>\n",
       "    </tr>\n",
       "    <tr>\n",
       "      <th>...</th>\n",
       "      <td>...</td>\n",
       "      <td>...</td>\n",
       "      <td>...</td>\n",
       "      <td>...</td>\n",
       "    </tr>\n",
       "    <tr>\n",
       "      <th>117</th>\n",
       "      <td>WEAKLEY CO SCH DIST</td>\n",
       "      <td>19.462</td>\n",
       "      <td>20.1</td>\n",
       "      <td>20.251</td>\n",
       "    </tr>\n",
       "    <tr>\n",
       "      <th>118</th>\n",
       "      <td>WEST CARROLL SPECIAL SCH DIST</td>\n",
       "      <td>18.197</td>\n",
       "      <td>18.3</td>\n",
       "      <td>18.773</td>\n",
       "    </tr>\n",
       "    <tr>\n",
       "      <th>119</th>\n",
       "      <td>WHITE COUNTY SCHOOL DISTRICT</td>\n",
       "      <td>18.612</td>\n",
       "      <td>18.9</td>\n",
       "      <td>18.621</td>\n",
       "    </tr>\n",
       "    <tr>\n",
       "      <th>120</th>\n",
       "      <td>WILLIAMSON CO SCHOOLS</td>\n",
       "      <td>23.359</td>\n",
       "      <td>23.7</td>\n",
       "      <td>23.515</td>\n",
       "    </tr>\n",
       "    <tr>\n",
       "      <th>121</th>\n",
       "      <td>WILSON CO SCHLS BOE</td>\n",
       "      <td>19.898</td>\n",
       "      <td>20.2</td>\n",
       "      <td>19.735</td>\n",
       "    </tr>\n",
       "  </tbody>\n",
       "</table>\n",
       "<p>122 rows × 4 columns</p>\n",
       "</div>"
      ],
      "text/plain": [
       "                              System 2013 Including Extended Time  \\\n",
       "0                              State                       19.048   \n",
       "1    ANDERSON SCHOOL DISTRICT                               18.92   \n",
       "2    ALCOA CITY SCHOOLS                                    21.595   \n",
       "3    BEDFORD COUNTY SCHOOL DISTRICT                        17.984   \n",
       "4    BENTON CO BOARD OF EDUCATION                          18.376   \n",
       "..                               ...                          ...   \n",
       "117  WEAKLEY CO SCH DIST                                   19.462   \n",
       "118  WEST CARROLL SPECIAL SCH DIST                         18.197   \n",
       "119  WHITE COUNTY SCHOOL DISTRICT                          18.612   \n",
       "120  WILLIAMSON CO SCHOOLS                                 23.359   \n",
       "121  WILSON CO SCHLS BOE                                   19.898   \n",
       "\n",
       "    2013 Standard Time Only 2014 Including Extended Time  \n",
       "0                      19.3                       19.259  \n",
       "1                      19.1                        19.33  \n",
       "2                      22.2                       21.291  \n",
       "3                      18.3                       18.446  \n",
       "4                      19.2                       18.958  \n",
       "..                      ...                          ...  \n",
       "117                    20.1                       20.251  \n",
       "118                    18.3                       18.773  \n",
       "119                    18.9                       18.621  \n",
       "120                    23.7                       23.515  \n",
       "121                    20.2                       19.735  \n",
       "\n",
       "[122 rows x 4 columns]"
      ]
     },
     "execution_count": 9,
     "metadata": {},
     "output_type": "execute_result"
    }
   ],
   "source": [
    "df2"
   ]
  },
  {
   "cell_type": "code",
   "execution_count": 10,
   "metadata": {},
   "outputs": [],
   "source": [
    "df2014 = df2[df2['System']=='METRO NASHVILLE-DAVIDSON CO SD ']"
   ]
  },
  {
   "cell_type": "code",
   "execution_count": 11,
   "metadata": {},
   "outputs": [
    {
     "data": {
      "text/html": [
       "<div>\n",
       "<style scoped>\n",
       "    .dataframe tbody tr th:only-of-type {\n",
       "        vertical-align: middle;\n",
       "    }\n",
       "\n",
       "    .dataframe tbody tr th {\n",
       "        vertical-align: top;\n",
       "    }\n",
       "\n",
       "    .dataframe thead th {\n",
       "        text-align: right;\n",
       "    }\n",
       "</style>\n",
       "<table border=\"1\" class=\"dataframe\">\n",
       "  <thead>\n",
       "    <tr style=\"text-align: right;\">\n",
       "      <th></th>\n",
       "      <th>System</th>\n",
       "      <th>2013 Including Extended Time</th>\n",
       "      <th>2013 Standard Time Only</th>\n",
       "      <th>2014 Including Extended Time</th>\n",
       "    </tr>\n",
       "  </thead>\n",
       "  <tbody>\n",
       "    <tr>\n",
       "      <th>77</th>\n",
       "      <td>METRO NASHVILLE-DAVIDSON CO SD</td>\n",
       "      <td>18.203</td>\n",
       "      <td>18.3</td>\n",
       "      <td>18.417</td>\n",
       "    </tr>\n",
       "  </tbody>\n",
       "</table>\n",
       "</div>"
      ],
      "text/plain": [
       "                             System 2013 Including Extended Time  \\\n",
       "77  METRO NASHVILLE-DAVIDSON CO SD                        18.203   \n",
       "\n",
       "   2013 Standard Time Only 2014 Including Extended Time  \n",
       "77                    18.3                       18.417  "
      ]
     },
     "execution_count": 11,
     "metadata": {},
     "output_type": "execute_result"
    }
   ],
   "source": [
    "df2014"
   ]
  },
  {
   "cell_type": "markdown",
   "metadata": {},
   "source": [
    "2015 ACT"
   ]
  },
  {
   "cell_type": "code",
   "execution_count": 12,
   "metadata": {},
   "outputs": [],
   "source": [
    "df3 = pd.read_excel(r\"C:\\Users\\jhank\\Desktop\\DA7\\Projects\\budget-impact-jupyternb-python\\data\\test_scores\\data_ACT-Data-by-District-2014-15.xlsx\", header=1)"
   ]
  },
  {
   "cell_type": "code",
   "execution_count": 13,
   "metadata": {},
   "outputs": [
    {
     "data": {
      "text/html": [
       "<div>\n",
       "<style scoped>\n",
       "    .dataframe tbody tr th:only-of-type {\n",
       "        vertical-align: middle;\n",
       "    }\n",
       "\n",
       "    .dataframe tbody tr th {\n",
       "        vertical-align: top;\n",
       "    }\n",
       "\n",
       "    .dataframe thead th {\n",
       "        text-align: right;\n",
       "    }\n",
       "</style>\n",
       "<table border=\"1\" class=\"dataframe\">\n",
       "  <thead>\n",
       "    <tr style=\"text-align: right;\">\n",
       "      <th></th>\n",
       "      <th>Unnamed: 0</th>\n",
       "      <th>Unnamed: 1</th>\n",
       "      <th>2014 Including Extended Time</th>\n",
       "      <th>2015 Including Extended Time</th>\n",
       "    </tr>\n",
       "  </thead>\n",
       "  <tbody>\n",
       "    <tr>\n",
       "      <th>0</th>\n",
       "      <td>State</td>\n",
       "      <td>NaN</td>\n",
       "      <td>19.259</td>\n",
       "      <td>19.4</td>\n",
       "    </tr>\n",
       "    <tr>\n",
       "      <th>1</th>\n",
       "      <td>10</td>\n",
       "      <td>ANDERSON SCHOOL DISTRICT</td>\n",
       "      <td>19.330</td>\n",
       "      <td>19.9</td>\n",
       "    </tr>\n",
       "    <tr>\n",
       "      <th>2</th>\n",
       "      <td>12</td>\n",
       "      <td>OAK RIDGE SD</td>\n",
       "      <td>23.260</td>\n",
       "      <td>23.1</td>\n",
       "    </tr>\n",
       "    <tr>\n",
       "      <th>3</th>\n",
       "      <td>20</td>\n",
       "      <td>BEDFORD COUNTY SCHOOL DISTRICT</td>\n",
       "      <td>18.446</td>\n",
       "      <td>18.4</td>\n",
       "    </tr>\n",
       "    <tr>\n",
       "      <th>4</th>\n",
       "      <td>30</td>\n",
       "      <td>BENTON CO BOARD OF EDUCATION</td>\n",
       "      <td>18.958</td>\n",
       "      <td>18.4</td>\n",
       "    </tr>\n",
       "    <tr>\n",
       "      <th>...</th>\n",
       "      <td>...</td>\n",
       "      <td>...</td>\n",
       "      <td>...</td>\n",
       "      <td>...</td>\n",
       "    </tr>\n",
       "    <tr>\n",
       "      <th>121</th>\n",
       "      <td>920</td>\n",
       "      <td>WEAKLEY CO SCH DIST</td>\n",
       "      <td>20.251</td>\n",
       "      <td>19.7</td>\n",
       "    </tr>\n",
       "    <tr>\n",
       "      <th>122</th>\n",
       "      <td>930</td>\n",
       "      <td>WHITE COUNTY SCHOOL DISTRICT</td>\n",
       "      <td>18.621</td>\n",
       "      <td>18.7</td>\n",
       "    </tr>\n",
       "    <tr>\n",
       "      <th>123</th>\n",
       "      <td>940</td>\n",
       "      <td>WILLIAMSON CO SCHOOLS</td>\n",
       "      <td>23.515</td>\n",
       "      <td>23.8</td>\n",
       "    </tr>\n",
       "    <tr>\n",
       "      <th>124</th>\n",
       "      <td>950</td>\n",
       "      <td>WILSON CO SCHLS BOE</td>\n",
       "      <td>19.735</td>\n",
       "      <td>20.0</td>\n",
       "    </tr>\n",
       "    <tr>\n",
       "      <th>125</th>\n",
       "      <td>985</td>\n",
       "      <td>ACHIEVEMENT SCHOOL DISTRICT</td>\n",
       "      <td>NaN</td>\n",
       "      <td>14.2</td>\n",
       "    </tr>\n",
       "  </tbody>\n",
       "</table>\n",
       "<p>126 rows × 4 columns</p>\n",
       "</div>"
      ],
      "text/plain": [
       "    Unnamed: 0                       Unnamed: 1  2014 Including Extended Time  \\\n",
       "0        State                              NaN                        19.259   \n",
       "1           10  ANDERSON SCHOOL DISTRICT                               19.330   \n",
       "2           12  OAK RIDGE SD                                           23.260   \n",
       "3           20  BEDFORD COUNTY SCHOOL DISTRICT                         18.446   \n",
       "4           30  BENTON CO BOARD OF EDUCATION                           18.958   \n",
       "..         ...                              ...                           ...   \n",
       "121        920  WEAKLEY CO SCH DIST                                    20.251   \n",
       "122        930  WHITE COUNTY SCHOOL DISTRICT                           18.621   \n",
       "123        940  WILLIAMSON CO SCHOOLS                                  23.515   \n",
       "124        950  WILSON CO SCHLS BOE                                    19.735   \n",
       "125        985  ACHIEVEMENT SCHOOL DISTRICT                               NaN   \n",
       "\n",
       "     2015 Including Extended Time  \n",
       "0                            19.4  \n",
       "1                            19.9  \n",
       "2                            23.1  \n",
       "3                            18.4  \n",
       "4                            18.4  \n",
       "..                            ...  \n",
       "121                          19.7  \n",
       "122                          18.7  \n",
       "123                          23.8  \n",
       "124                          20.0  \n",
       "125                          14.2  \n",
       "\n",
       "[126 rows x 4 columns]"
      ]
     },
     "execution_count": 13,
     "metadata": {},
     "output_type": "execute_result"
    }
   ],
   "source": [
    "df3"
   ]
  },
  {
   "cell_type": "code",
   "execution_count": 14,
   "metadata": {},
   "outputs": [],
   "source": [
    "df2015 = df3[df3['Unnamed: 1'] == 'METRO NASHVILLE-DAVIDSON CO SD ']"
   ]
  },
  {
   "cell_type": "code",
   "execution_count": 15,
   "metadata": {},
   "outputs": [
    {
     "data": {
      "text/html": [
       "<div>\n",
       "<style scoped>\n",
       "    .dataframe tbody tr th:only-of-type {\n",
       "        vertical-align: middle;\n",
       "    }\n",
       "\n",
       "    .dataframe tbody tr th {\n",
       "        vertical-align: top;\n",
       "    }\n",
       "\n",
       "    .dataframe thead th {\n",
       "        text-align: right;\n",
       "    }\n",
       "</style>\n",
       "<table border=\"1\" class=\"dataframe\">\n",
       "  <thead>\n",
       "    <tr style=\"text-align: right;\">\n",
       "      <th></th>\n",
       "      <th>Unnamed: 0</th>\n",
       "      <th>Unnamed: 1</th>\n",
       "      <th>2014 Including Extended Time</th>\n",
       "      <th>2015 Including Extended Time</th>\n",
       "    </tr>\n",
       "  </thead>\n",
       "  <tbody>\n",
       "    <tr>\n",
       "      <th>29</th>\n",
       "      <td>190</td>\n",
       "      <td>METRO NASHVILLE-DAVIDSON CO SD</td>\n",
       "      <td>18.417</td>\n",
       "      <td>18.7</td>\n",
       "    </tr>\n",
       "  </tbody>\n",
       "</table>\n",
       "</div>"
      ],
      "text/plain": [
       "   Unnamed: 0                       Unnamed: 1  2014 Including Extended Time  \\\n",
       "29        190  METRO NASHVILLE-DAVIDSON CO SD                         18.417   \n",
       "\n",
       "    2015 Including Extended Time  \n",
       "29                          18.7  "
      ]
     },
     "execution_count": 15,
     "metadata": {},
     "output_type": "execute_result"
    }
   ],
   "source": [
    "df2015"
   ]
  },
  {
   "cell_type": "code",
   "execution_count": 16,
   "metadata": {},
   "outputs": [
    {
     "name": "stderr",
     "output_type": "stream",
     "text": [
      "c:\\Users\\jhank\\anaconda3\\lib\\site-packages\\pandas\\core\\frame.py:4906: SettingWithCopyWarning: \n",
      "A value is trying to be set on a copy of a slice from a DataFrame\n",
      "\n",
      "See the caveats in the documentation: https://pandas.pydata.org/pandas-docs/stable/user_guide/indexing.html#returning-a-view-versus-a-copy\n",
      "  return super().drop(\n"
     ]
    }
   ],
   "source": [
    "df2015.drop('Unnamed: 0', axis=1,inplace=True)"
   ]
  },
  {
   "cell_type": "code",
   "execution_count": 17,
   "metadata": {},
   "outputs": [],
   "source": [
    "df2015 = df2015.T"
   ]
  },
  {
   "cell_type": "code",
   "execution_count": 18,
   "metadata": {},
   "outputs": [],
   "source": [
    "df2015 = df2015.reset_index()"
   ]
  },
  {
   "cell_type": "code",
   "execution_count": 19,
   "metadata": {},
   "outputs": [],
   "source": [
    "df2015.columns = ('year','act_avg')"
   ]
  },
  {
   "cell_type": "code",
   "execution_count": 20,
   "metadata": {},
   "outputs": [],
   "source": [
    "df2015.drop([0], inplace=True)"
   ]
  },
  {
   "cell_type": "code",
   "execution_count": 21,
   "metadata": {},
   "outputs": [
    {
     "data": {
      "text/html": [
       "<div>\n",
       "<style scoped>\n",
       "    .dataframe tbody tr th:only-of-type {\n",
       "        vertical-align: middle;\n",
       "    }\n",
       "\n",
       "    .dataframe tbody tr th {\n",
       "        vertical-align: top;\n",
       "    }\n",
       "\n",
       "    .dataframe thead th {\n",
       "        text-align: right;\n",
       "    }\n",
       "</style>\n",
       "<table border=\"1\" class=\"dataframe\">\n",
       "  <thead>\n",
       "    <tr style=\"text-align: right;\">\n",
       "      <th></th>\n",
       "      <th>year</th>\n",
       "      <th>act_avg</th>\n",
       "    </tr>\n",
       "  </thead>\n",
       "  <tbody>\n",
       "    <tr>\n",
       "      <th>1</th>\n",
       "      <td>2014 Including Extended Time</td>\n",
       "      <td>18.417</td>\n",
       "    </tr>\n",
       "    <tr>\n",
       "      <th>2</th>\n",
       "      <td>2015 Including Extended Time</td>\n",
       "      <td>18.7</td>\n",
       "    </tr>\n",
       "  </tbody>\n",
       "</table>\n",
       "</div>"
      ],
      "text/plain": [
       "                           year act_avg\n",
       "1  2014 Including Extended Time  18.417\n",
       "2  2015 Including Extended Time    18.7"
      ]
     },
     "execution_count": 21,
     "metadata": {},
     "output_type": "execute_result"
    }
   ],
   "source": [
    "df2015"
   ]
  },
  {
   "attachments": {},
   "cell_type": "markdown",
   "metadata": {},
   "source": [
    "2016 ACT"
   ]
  },
  {
   "cell_type": "code",
   "execution_count": 22,
   "metadata": {},
   "outputs": [],
   "source": [
    "df4 = pd.read_excel(r\"C:\\Users\\jhank\\Desktop\\DA7\\Projects\\budget-impact-jupyternb-python\\data\\test_scores\\data_2015-16_suppressed_district_level_act.xlsx\")"
   ]
  },
  {
   "cell_type": "code",
   "execution_count": 23,
   "metadata": {},
   "outputs": [],
   "source": [
    "df2016 = df4[df4['District Name'] == 'Davidson County']"
   ]
  },
  {
   "cell_type": "code",
   "execution_count": 24,
   "metadata": {},
   "outputs": [
    {
     "data": {
      "text/html": [
       "<div>\n",
       "<style scoped>\n",
       "    .dataframe tbody tr th:only-of-type {\n",
       "        vertical-align: middle;\n",
       "    }\n",
       "\n",
       "    .dataframe tbody tr th {\n",
       "        vertical-align: top;\n",
       "    }\n",
       "\n",
       "    .dataframe thead th {\n",
       "        text-align: right;\n",
       "    }\n",
       "</style>\n",
       "<table border=\"1\" class=\"dataframe\">\n",
       "  <thead>\n",
       "    <tr style=\"text-align: right;\">\n",
       "      <th></th>\n",
       "      <th>District</th>\n",
       "      <th>District Name</th>\n",
       "      <th>Subgroup</th>\n",
       "      <th>Valid Tests</th>\n",
       "      <th>Participation Rate</th>\n",
       "      <th>Average English Score</th>\n",
       "      <th>Average Math Score</th>\n",
       "      <th>Average Reading Score</th>\n",
       "      <th>Average Science Score</th>\n",
       "      <th>Average Composite Score</th>\n",
       "      <th>Percent Scoring 21 or Higher</th>\n",
       "      <th>Percent Scoring Below 19</th>\n",
       "    </tr>\n",
       "  </thead>\n",
       "  <tbody>\n",
       "    <tr>\n",
       "      <th>28</th>\n",
       "      <td>190</td>\n",
       "      <td>Davidson County</td>\n",
       "      <td>All Students</td>\n",
       "      <td>3865</td>\n",
       "      <td>88</td>\n",
       "      <td>18.1</td>\n",
       "      <td>18.1</td>\n",
       "      <td>19.3</td>\n",
       "      <td>18.9</td>\n",
       "      <td>18.7</td>\n",
       "      <td>31.3</td>\n",
       "      <td>55.5</td>\n",
       "    </tr>\n",
       "  </tbody>\n",
       "</table>\n",
       "</div>"
      ],
      "text/plain": [
       "    District    District Name      Subgroup  Valid Tests Participation Rate  \\\n",
       "28       190  Davidson County  All Students         3865                 88   \n",
       "\n",
       "   Average English Score Average Math Score Average Reading Score  \\\n",
       "28                  18.1               18.1                  19.3   \n",
       "\n",
       "   Average Science Score Average Composite Score Percent Scoring 21 or Higher  \\\n",
       "28                  18.9                    18.7                         31.3   \n",
       "\n",
       "   Percent Scoring Below 19  \n",
       "28                     55.5  "
      ]
     },
     "execution_count": 24,
     "metadata": {},
     "output_type": "execute_result"
    }
   ],
   "source": [
    "df2016"
   ]
  },
  {
   "cell_type": "code",
   "execution_count": 25,
   "metadata": {},
   "outputs": [],
   "source": [
    "df2016 = df2016[['Average Composite Score']]"
   ]
  },
  {
   "cell_type": "code",
   "execution_count": 26,
   "metadata": {},
   "outputs": [
    {
     "data": {
      "text/html": [
       "<div>\n",
       "<style scoped>\n",
       "    .dataframe tbody tr th:only-of-type {\n",
       "        vertical-align: middle;\n",
       "    }\n",
       "\n",
       "    .dataframe tbody tr th {\n",
       "        vertical-align: top;\n",
       "    }\n",
       "\n",
       "    .dataframe thead th {\n",
       "        text-align: right;\n",
       "    }\n",
       "</style>\n",
       "<table border=\"1\" class=\"dataframe\">\n",
       "  <thead>\n",
       "    <tr style=\"text-align: right;\">\n",
       "      <th></th>\n",
       "      <th>Average Composite Score</th>\n",
       "    </tr>\n",
       "  </thead>\n",
       "  <tbody>\n",
       "    <tr>\n",
       "      <th>28</th>\n",
       "      <td>18.7</td>\n",
       "    </tr>\n",
       "  </tbody>\n",
       "</table>\n",
       "</div>"
      ],
      "text/plain": [
       "   Average Composite Score\n",
       "28                    18.7"
      ]
     },
     "execution_count": 26,
     "metadata": {},
     "output_type": "execute_result"
    }
   ],
   "source": [
    "df2016"
   ]
  },
  {
   "cell_type": "code",
   "execution_count": 27,
   "metadata": {},
   "outputs": [],
   "source": [
    "df5 = pd.read_excel(r\"C:\\Users\\jhank\\Desktop\\DA7\\Projects\\budget-impact-jupyternb-python\\data\\test_scores\\data_ACT-Data-by-District-2016-17.xlsx\")"
   ]
  },
  {
   "cell_type": "code",
   "execution_count": 28,
   "metadata": {},
   "outputs": [
    {
     "data": {
      "text/html": [
       "<div>\n",
       "<style scoped>\n",
       "    .dataframe tbody tr th:only-of-type {\n",
       "        vertical-align: middle;\n",
       "    }\n",
       "\n",
       "    .dataframe tbody tr th {\n",
       "        vertical-align: top;\n",
       "    }\n",
       "\n",
       "    .dataframe thead th {\n",
       "        text-align: right;\n",
       "    }\n",
       "</style>\n",
       "<table border=\"1\" class=\"dataframe\">\n",
       "  <thead>\n",
       "    <tr style=\"text-align: right;\">\n",
       "      <th></th>\n",
       "      <th>District</th>\n",
       "      <th>District Name</th>\n",
       "      <th>Subgroup</th>\n",
       "      <th>Valid Tests</th>\n",
       "      <th>Participation Rate</th>\n",
       "      <th>Average English Score</th>\n",
       "      <th>Average Math Score</th>\n",
       "      <th>Average Reading Score</th>\n",
       "      <th>Average Science Score</th>\n",
       "      <th>Average Composite Score</th>\n",
       "      <th>Number Scoring 21 or Higher</th>\n",
       "      <th>Percent Scoring 21 or Higher</th>\n",
       "      <th>Number Scoring Below 19</th>\n",
       "      <th>Percent Scoring Below 19</th>\n",
       "    </tr>\n",
       "  </thead>\n",
       "  <tbody>\n",
       "    <tr>\n",
       "      <th>65</th>\n",
       "      <td>190</td>\n",
       "      <td>Davidson County</td>\n",
       "      <td>All Students</td>\n",
       "      <td>4027</td>\n",
       "      <td>91.0</td>\n",
       "      <td>18.1</td>\n",
       "      <td>18.4</td>\n",
       "      <td>19.3</td>\n",
       "      <td>19.3</td>\n",
       "      <td>19</td>\n",
       "      <td>1278</td>\n",
       "      <td>31.7</td>\n",
       "      <td>2226</td>\n",
       "      <td>55.3</td>\n",
       "    </tr>\n",
       "    <tr>\n",
       "      <th>66</th>\n",
       "      <td>190</td>\n",
       "      <td>Davidson County</td>\n",
       "      <td>Black/Hispanic/Native American</td>\n",
       "      <td>2592</td>\n",
       "      <td>90.0</td>\n",
       "      <td>16.4</td>\n",
       "      <td>17.2</td>\n",
       "      <td>17.8</td>\n",
       "      <td>18</td>\n",
       "      <td>17.5</td>\n",
       "      <td>537</td>\n",
       "      <td>20.7</td>\n",
       "      <td>1741</td>\n",
       "      <td>67.2</td>\n",
       "    </tr>\n",
       "    <tr>\n",
       "      <th>67</th>\n",
       "      <td>190</td>\n",
       "      <td>Davidson County</td>\n",
       "      <td>Economically Disadvantaged</td>\n",
       "      <td>1849</td>\n",
       "      <td>88.0</td>\n",
       "      <td>16.1</td>\n",
       "      <td>17</td>\n",
       "      <td>17.4</td>\n",
       "      <td>17.8</td>\n",
       "      <td>17.2</td>\n",
       "      <td>329</td>\n",
       "      <td>17.8</td>\n",
       "      <td>1302</td>\n",
       "      <td>70.4</td>\n",
       "    </tr>\n",
       "    <tr>\n",
       "      <th>68</th>\n",
       "      <td>190</td>\n",
       "      <td>Davidson County</td>\n",
       "      <td>English Language Learners with T1/T2</td>\n",
       "      <td>444</td>\n",
       "      <td>87.0</td>\n",
       "      <td>13.6</td>\n",
       "      <td>16.2</td>\n",
       "      <td>15.1</td>\n",
       "      <td>16.5</td>\n",
       "      <td>15.5</td>\n",
       "      <td>29</td>\n",
       "      <td>6.5</td>\n",
       "      <td>381</td>\n",
       "      <td>85.8</td>\n",
       "    </tr>\n",
       "    <tr>\n",
       "      <th>69</th>\n",
       "      <td>190</td>\n",
       "      <td>Davidson County</td>\n",
       "      <td>Students with Disabilities</td>\n",
       "      <td>362</td>\n",
       "      <td>85.0</td>\n",
       "      <td>13.9</td>\n",
       "      <td>15.8</td>\n",
       "      <td>15.7</td>\n",
       "      <td>16.2</td>\n",
       "      <td>15.5</td>\n",
       "      <td>39</td>\n",
       "      <td>10.8</td>\n",
       "      <td>305</td>\n",
       "      <td>84.3</td>\n",
       "    </tr>\n",
       "  </tbody>\n",
       "</table>\n",
       "</div>"
      ],
      "text/plain": [
       "    District    District Name                              Subgroup  \\\n",
       "65       190  Davidson County                          All Students   \n",
       "66       190  Davidson County        Black/Hispanic/Native American   \n",
       "67       190  Davidson County            Economically Disadvantaged   \n",
       "68       190  Davidson County  English Language Learners with T1/T2   \n",
       "69       190  Davidson County            Students with Disabilities   \n",
       "\n",
       "    Valid Tests  Participation Rate Average English Score Average Math Score  \\\n",
       "65         4027                91.0                  18.1               18.4   \n",
       "66         2592                90.0                  16.4               17.2   \n",
       "67         1849                88.0                  16.1                 17   \n",
       "68          444                87.0                  13.6               16.2   \n",
       "69          362                85.0                  13.9               15.8   \n",
       "\n",
       "   Average Reading Score Average Science Score Average Composite Score  \\\n",
       "65                  19.3                  19.3                      19   \n",
       "66                  17.8                    18                    17.5   \n",
       "67                  17.4                  17.8                    17.2   \n",
       "68                  15.1                  16.5                    15.5   \n",
       "69                  15.7                  16.2                    15.5   \n",
       "\n",
       "   Number Scoring 21 or Higher Percent Scoring 21 or Higher  \\\n",
       "65                        1278                         31.7   \n",
       "66                         537                         20.7   \n",
       "67                         329                         17.8   \n",
       "68                          29                          6.5   \n",
       "69                          39                         10.8   \n",
       "\n",
       "   Number Scoring Below 19 Percent Scoring Below 19  \n",
       "65                    2226                     55.3  \n",
       "66                    1741                     67.2  \n",
       "67                    1302                     70.4  \n",
       "68                     381                     85.8  \n",
       "69                     305                     84.3  "
      ]
     },
     "execution_count": 28,
     "metadata": {},
     "output_type": "execute_result"
    }
   ],
   "source": [
    "df2017 = df5[df5['District Name'] == 'Davidson County']\n",
    "df2017"
   ]
  },
  {
   "cell_type": "code",
   "execution_count": 29,
   "metadata": {},
   "outputs": [
    {
     "data": {
      "text/html": [
       "<div>\n",
       "<style scoped>\n",
       "    .dataframe tbody tr th:only-of-type {\n",
       "        vertical-align: middle;\n",
       "    }\n",
       "\n",
       "    .dataframe tbody tr th {\n",
       "        vertical-align: top;\n",
       "    }\n",
       "\n",
       "    .dataframe thead th {\n",
       "        text-align: right;\n",
       "    }\n",
       "</style>\n",
       "<table border=\"1\" class=\"dataframe\">\n",
       "  <thead>\n",
       "    <tr style=\"text-align: right;\">\n",
       "      <th></th>\n",
       "      <th>District</th>\n",
       "      <th>District Name</th>\n",
       "      <th>Subgroup</th>\n",
       "      <th>Valid Tests</th>\n",
       "      <th>Participation Rate</th>\n",
       "      <th>Average English Score</th>\n",
       "      <th>Average Math Score</th>\n",
       "      <th>Average Reading Score</th>\n",
       "      <th>Average Science Score</th>\n",
       "      <th>Average Composite Score</th>\n",
       "      <th>Number Scoring 21 or Higher</th>\n",
       "      <th>Percent Scoring 21 or Higher</th>\n",
       "      <th>Number Scoring Below 19</th>\n",
       "      <th>Percent Scoring Below 19</th>\n",
       "    </tr>\n",
       "  </thead>\n",
       "  <tbody>\n",
       "    <tr>\n",
       "      <th>65</th>\n",
       "      <td>190</td>\n",
       "      <td>Davidson County</td>\n",
       "      <td>All Students</td>\n",
       "      <td>4027</td>\n",
       "      <td>91.0</td>\n",
       "      <td>18.1</td>\n",
       "      <td>18.4</td>\n",
       "      <td>19.3</td>\n",
       "      <td>19.3</td>\n",
       "      <td>19</td>\n",
       "      <td>1278</td>\n",
       "      <td>31.7</td>\n",
       "      <td>2226</td>\n",
       "      <td>55.3</td>\n",
       "    </tr>\n",
       "  </tbody>\n",
       "</table>\n",
       "</div>"
      ],
      "text/plain": [
       "    District    District Name      Subgroup  Valid Tests  Participation Rate  \\\n",
       "65       190  Davidson County  All Students         4027                91.0   \n",
       "\n",
       "   Average English Score Average Math Score Average Reading Score  \\\n",
       "65                  18.1               18.4                  19.3   \n",
       "\n",
       "   Average Science Score Average Composite Score Number Scoring 21 or Higher  \\\n",
       "65                  19.3                      19                        1278   \n",
       "\n",
       "   Percent Scoring 21 or Higher Number Scoring Below 19  \\\n",
       "65                         31.7                    2226   \n",
       "\n",
       "   Percent Scoring Below 19  \n",
       "65                     55.3  "
      ]
     },
     "execution_count": 29,
     "metadata": {},
     "output_type": "execute_result"
    }
   ],
   "source": [
    "df2017 = df2017[df2017['Subgroup'] == 'All Students']\n",
    "df2017"
   ]
  },
  {
   "cell_type": "code",
   "execution_count": 30,
   "metadata": {},
   "outputs": [
    {
     "data": {
      "text/html": [
       "<div>\n",
       "<style scoped>\n",
       "    .dataframe tbody tr th:only-of-type {\n",
       "        vertical-align: middle;\n",
       "    }\n",
       "\n",
       "    .dataframe tbody tr th {\n",
       "        vertical-align: top;\n",
       "    }\n",
       "\n",
       "    .dataframe thead th {\n",
       "        text-align: right;\n",
       "    }\n",
       "</style>\n",
       "<table border=\"1\" class=\"dataframe\">\n",
       "  <thead>\n",
       "    <tr style=\"text-align: right;\">\n",
       "      <th></th>\n",
       "      <th>Average Composite Score</th>\n",
       "    </tr>\n",
       "  </thead>\n",
       "  <tbody>\n",
       "    <tr>\n",
       "      <th>65</th>\n",
       "      <td>19</td>\n",
       "    </tr>\n",
       "  </tbody>\n",
       "</table>\n",
       "</div>"
      ],
      "text/plain": [
       "   Average Composite Score\n",
       "65                      19"
      ]
     },
     "execution_count": 30,
     "metadata": {},
     "output_type": "execute_result"
    }
   ],
   "source": [
    "df2017 = df2017[['Average Composite Score']]\n",
    "df2017"
   ]
  },
  {
   "attachments": {},
   "cell_type": "markdown",
   "metadata": {},
   "source": [
    "2018 act"
   ]
  },
  {
   "cell_type": "code",
   "execution_count": 31,
   "metadata": {},
   "outputs": [],
   "source": [
    "df6 = pd.read_excel(r\"C:\\Users\\jhank\\Desktop\\DA7\\Projects\\budget-impact-jupyternb-python\\data\\test_scores\\2017-18 ACT_district_suppressed.xlsx\")"
   ]
  },
  {
   "cell_type": "code",
   "execution_count": 32,
   "metadata": {},
   "outputs": [
    {
     "data": {
      "text/html": [
       "<div>\n",
       "<style scoped>\n",
       "    .dataframe tbody tr th:only-of-type {\n",
       "        vertical-align: middle;\n",
       "    }\n",
       "\n",
       "    .dataframe tbody tr th {\n",
       "        vertical-align: top;\n",
       "    }\n",
       "\n",
       "    .dataframe thead th {\n",
       "        text-align: right;\n",
       "    }\n",
       "</style>\n",
       "<table border=\"1\" class=\"dataframe\">\n",
       "  <thead>\n",
       "    <tr style=\"text-align: right;\">\n",
       "      <th></th>\n",
       "      <th>District</th>\n",
       "      <th>District Name</th>\n",
       "      <th>Subgroup</th>\n",
       "      <th>Valid Tests</th>\n",
       "      <th>Participation Rate</th>\n",
       "      <th>Average English Score</th>\n",
       "      <th>Average Math Score</th>\n",
       "      <th>Average Reading Score</th>\n",
       "      <th>Average Science Score</th>\n",
       "      <th>Average Composite Score</th>\n",
       "      <th>Number Scoring 21 or Higher</th>\n",
       "      <th>Percent Scoring 21 or Higher</th>\n",
       "      <th>Number Scoring Below 19</th>\n",
       "      <th>Percent Scoring Below 19</th>\n",
       "    </tr>\n",
       "  </thead>\n",
       "  <tbody>\n",
       "    <tr>\n",
       "      <th>0</th>\n",
       "      <td>10</td>\n",
       "      <td>Anderson County</td>\n",
       "      <td>All Students</td>\n",
       "      <td>505</td>\n",
       "      <td>97</td>\n",
       "      <td>18.8</td>\n",
       "      <td>18.9</td>\n",
       "      <td>19.8</td>\n",
       "      <td>19.7</td>\n",
       "      <td>19.4</td>\n",
       "      <td>191</td>\n",
       "      <td>38</td>\n",
       "      <td>249</td>\n",
       "      <td>49.6</td>\n",
       "    </tr>\n",
       "    <tr>\n",
       "      <th>1</th>\n",
       "      <td>10</td>\n",
       "      <td>Anderson County</td>\n",
       "      <td>Black/Hispanic/Native American</td>\n",
       "      <td>29</td>\n",
       "      <td>100</td>\n",
       "      <td>15.9</td>\n",
       "      <td>17.1</td>\n",
       "      <td>17.4</td>\n",
       "      <td>17.3</td>\n",
       "      <td>17</td>\n",
       "      <td>4</td>\n",
       "      <td>14.3</td>\n",
       "      <td>21</td>\n",
       "      <td>75</td>\n",
       "    </tr>\n",
       "    <tr>\n",
       "      <th>2</th>\n",
       "      <td>10</td>\n",
       "      <td>Anderson County</td>\n",
       "      <td>Economically Disadvantaged</td>\n",
       "      <td>157</td>\n",
       "      <td>94</td>\n",
       "      <td>16.3</td>\n",
       "      <td>17.2</td>\n",
       "      <td>17.5</td>\n",
       "      <td>17.3</td>\n",
       "      <td>17.2</td>\n",
       "      <td>37</td>\n",
       "      <td>23.7</td>\n",
       "      <td>105</td>\n",
       "      <td>67.3</td>\n",
       "    </tr>\n",
       "    <tr>\n",
       "      <th>3</th>\n",
       "      <td>10</td>\n",
       "      <td>Anderson County</td>\n",
       "      <td>English Learners</td>\n",
       "      <td>3</td>\n",
       "      <td>*</td>\n",
       "      <td>*</td>\n",
       "      <td>*</td>\n",
       "      <td>*</td>\n",
       "      <td>*</td>\n",
       "      <td>*</td>\n",
       "      <td>*</td>\n",
       "      <td>*</td>\n",
       "      <td>*</td>\n",
       "      <td>*</td>\n",
       "    </tr>\n",
       "    <tr>\n",
       "      <th>4</th>\n",
       "      <td>10</td>\n",
       "      <td>Anderson County</td>\n",
       "      <td>Students with Disabilities</td>\n",
       "      <td>73</td>\n",
       "      <td>96</td>\n",
       "      <td>12.9</td>\n",
       "      <td>15.6</td>\n",
       "      <td>14.3</td>\n",
       "      <td>15</td>\n",
       "      <td>14.6</td>\n",
       "      <td>5</td>\n",
       "      <td>6.9</td>\n",
       "      <td>66</td>\n",
       "      <td>91.7</td>\n",
       "    </tr>\n",
       "    <tr>\n",
       "      <th>...</th>\n",
       "      <td>...</td>\n",
       "      <td>...</td>\n",
       "      <td>...</td>\n",
       "      <td>...</td>\n",
       "      <td>...</td>\n",
       "      <td>...</td>\n",
       "      <td>...</td>\n",
       "      <td>...</td>\n",
       "      <td>...</td>\n",
       "      <td>...</td>\n",
       "      <td>...</td>\n",
       "      <td>...</td>\n",
       "      <td>...</td>\n",
       "      <td>...</td>\n",
       "    </tr>\n",
       "    <tr>\n",
       "      <th>640</th>\n",
       "      <td>985</td>\n",
       "      <td>Achievement School District</td>\n",
       "      <td>All Students</td>\n",
       "      <td>395</td>\n",
       "      <td>83</td>\n",
       "      <td>14</td>\n",
       "      <td>15.6</td>\n",
       "      <td>15.7</td>\n",
       "      <td>15.9</td>\n",
       "      <td>15.5</td>\n",
       "      <td>23</td>\n",
       "      <td>5.8</td>\n",
       "      <td>345</td>\n",
       "      <td>87.6</td>\n",
       "    </tr>\n",
       "    <tr>\n",
       "      <th>641</th>\n",
       "      <td>985</td>\n",
       "      <td>Achievement School District</td>\n",
       "      <td>Black/Hispanic/Native American</td>\n",
       "      <td>390</td>\n",
       "      <td>83</td>\n",
       "      <td>14</td>\n",
       "      <td>15.6</td>\n",
       "      <td>15.8</td>\n",
       "      <td>15.9</td>\n",
       "      <td>15.5</td>\n",
       "      <td>23</td>\n",
       "      <td>5.9</td>\n",
       "      <td>340</td>\n",
       "      <td>87.4</td>\n",
       "    </tr>\n",
       "    <tr>\n",
       "      <th>642</th>\n",
       "      <td>985</td>\n",
       "      <td>Achievement School District</td>\n",
       "      <td>Economically Disadvantaged</td>\n",
       "      <td>312</td>\n",
       "      <td>83</td>\n",
       "      <td>13.8</td>\n",
       "      <td>15.6</td>\n",
       "      <td>15.6</td>\n",
       "      <td>15.8</td>\n",
       "      <td>15.4</td>\n",
       "      <td>18</td>\n",
       "      <td>5.8</td>\n",
       "      <td>275</td>\n",
       "      <td>88.4</td>\n",
       "    </tr>\n",
       "    <tr>\n",
       "      <th>643</th>\n",
       "      <td>985</td>\n",
       "      <td>Achievement School District</td>\n",
       "      <td>English Learners</td>\n",
       "      <td>13</td>\n",
       "      <td>81</td>\n",
       "      <td>13.8</td>\n",
       "      <td>15.2</td>\n",
       "      <td>16.5</td>\n",
       "      <td>16.9</td>\n",
       "      <td>15.8</td>\n",
       "      <td>1</td>\n",
       "      <td>7.7</td>\n",
       "      <td>11</td>\n",
       "      <td>84.6</td>\n",
       "    </tr>\n",
       "    <tr>\n",
       "      <th>644</th>\n",
       "      <td>985</td>\n",
       "      <td>Achievement School District</td>\n",
       "      <td>Students with Disabilities</td>\n",
       "      <td>44</td>\n",
       "      <td>59</td>\n",
       "      <td>11.4</td>\n",
       "      <td>14.8</td>\n",
       "      <td>13.2</td>\n",
       "      <td>14.4</td>\n",
       "      <td>13.7</td>\n",
       "      <td>**</td>\n",
       "      <td>**</td>\n",
       "      <td>**</td>\n",
       "      <td>**</td>\n",
       "    </tr>\n",
       "  </tbody>\n",
       "</table>\n",
       "<p>645 rows × 14 columns</p>\n",
       "</div>"
      ],
      "text/plain": [
       "     District                District Name                        Subgroup  \\\n",
       "0          10              Anderson County                    All Students   \n",
       "1          10              Anderson County  Black/Hispanic/Native American   \n",
       "2          10              Anderson County      Economically Disadvantaged   \n",
       "3          10              Anderson County                English Learners   \n",
       "4          10              Anderson County      Students with Disabilities   \n",
       "..        ...                          ...                             ...   \n",
       "640       985  Achievement School District                    All Students   \n",
       "641       985  Achievement School District  Black/Hispanic/Native American   \n",
       "642       985  Achievement School District      Economically Disadvantaged   \n",
       "643       985  Achievement School District                English Learners   \n",
       "644       985  Achievement School District      Students with Disabilities   \n",
       "\n",
       "     Valid Tests Participation Rate Average English Score Average Math Score  \\\n",
       "0            505                 97                  18.8               18.9   \n",
       "1             29                100                  15.9               17.1   \n",
       "2            157                 94                  16.3               17.2   \n",
       "3              3                  *                     *                  *   \n",
       "4             73                 96                  12.9               15.6   \n",
       "..           ...                ...                   ...                ...   \n",
       "640          395                 83                    14               15.6   \n",
       "641          390                 83                    14               15.6   \n",
       "642          312                 83                  13.8               15.6   \n",
       "643           13                 81                  13.8               15.2   \n",
       "644           44                 59                  11.4               14.8   \n",
       "\n",
       "    Average Reading Score Average Science Score Average Composite Score  \\\n",
       "0                    19.8                  19.7                    19.4   \n",
       "1                    17.4                  17.3                      17   \n",
       "2                    17.5                  17.3                    17.2   \n",
       "3                       *                     *                       *   \n",
       "4                    14.3                    15                    14.6   \n",
       "..                    ...                   ...                     ...   \n",
       "640                  15.7                  15.9                    15.5   \n",
       "641                  15.8                  15.9                    15.5   \n",
       "642                  15.6                  15.8                    15.4   \n",
       "643                  16.5                  16.9                    15.8   \n",
       "644                  13.2                  14.4                    13.7   \n",
       "\n",
       "    Number Scoring 21 or Higher Percent Scoring 21 or Higher  \\\n",
       "0                           191                           38   \n",
       "1                             4                         14.3   \n",
       "2                            37                         23.7   \n",
       "3                             *                            *   \n",
       "4                             5                          6.9   \n",
       "..                          ...                          ...   \n",
       "640                          23                          5.8   \n",
       "641                          23                          5.9   \n",
       "642                          18                          5.8   \n",
       "643                           1                          7.7   \n",
       "644                          **                           **   \n",
       "\n",
       "    Number Scoring Below 19 Percent Scoring Below 19  \n",
       "0                       249                     49.6  \n",
       "1                        21                       75  \n",
       "2                       105                     67.3  \n",
       "3                         *                        *  \n",
       "4                        66                     91.7  \n",
       "..                      ...                      ...  \n",
       "640                     345                     87.6  \n",
       "641                     340                     87.4  \n",
       "642                     275                     88.4  \n",
       "643                      11                     84.6  \n",
       "644                      **                       **  \n",
       "\n",
       "[645 rows x 14 columns]"
      ]
     },
     "execution_count": 32,
     "metadata": {},
     "output_type": "execute_result"
    }
   ],
   "source": [
    "df6"
   ]
  },
  {
   "cell_type": "code",
   "execution_count": 33,
   "metadata": {},
   "outputs": [],
   "source": [
    "df2018 = df6[df6['District Name'] == 'Davidson County']\n",
    "df2018 = df2018[df2018['Subgroup'] == 'All Students']\n",
    "df2018 = df2018[['Average Composite Score']]"
   ]
  },
  {
   "cell_type": "code",
   "execution_count": 34,
   "metadata": {},
   "outputs": [],
   "source": [
    "df2018['year'] = 2018"
   ]
  },
  {
   "cell_type": "code",
   "execution_count": 35,
   "metadata": {},
   "outputs": [
    {
     "data": {
      "text/html": [
       "<div>\n",
       "<style scoped>\n",
       "    .dataframe tbody tr th:only-of-type {\n",
       "        vertical-align: middle;\n",
       "    }\n",
       "\n",
       "    .dataframe tbody tr th {\n",
       "        vertical-align: top;\n",
       "    }\n",
       "\n",
       "    .dataframe thead th {\n",
       "        text-align: right;\n",
       "    }\n",
       "</style>\n",
       "<table border=\"1\" class=\"dataframe\">\n",
       "  <thead>\n",
       "    <tr style=\"text-align: right;\">\n",
       "      <th></th>\n",
       "      <th>Average Composite Score</th>\n",
       "      <th>year</th>\n",
       "    </tr>\n",
       "  </thead>\n",
       "  <tbody>\n",
       "    <tr>\n",
       "      <th>140</th>\n",
       "      <td>18.9</td>\n",
       "      <td>2018</td>\n",
       "    </tr>\n",
       "  </tbody>\n",
       "</table>\n",
       "</div>"
      ],
      "text/plain": [
       "    Average Composite Score  year\n",
       "140                    18.9  2018"
      ]
     },
     "execution_count": 35,
     "metadata": {},
     "output_type": "execute_result"
    }
   ],
   "source": [
    "df2018"
   ]
  },
  {
   "attachments": {},
   "cell_type": "markdown",
   "metadata": {},
   "source": [
    "2019 ACT"
   ]
  },
  {
   "cell_type": "code",
   "execution_count": 36,
   "metadata": {},
   "outputs": [],
   "source": [
    "df7 = pd.read_excel(r\"C:\\Users\\jhank\\Desktop\\DA7\\Projects\\budget-impact-jupyternb-python\\data\\test_scores\\ACT_district_suppressed_2019.xlsx\")"
   ]
  },
  {
   "cell_type": "code",
   "execution_count": 37,
   "metadata": {},
   "outputs": [
    {
     "data": {
      "text/html": [
       "<div>\n",
       "<style scoped>\n",
       "    .dataframe tbody tr th:only-of-type {\n",
       "        vertical-align: middle;\n",
       "    }\n",
       "\n",
       "    .dataframe tbody tr th {\n",
       "        vertical-align: top;\n",
       "    }\n",
       "\n",
       "    .dataframe thead th {\n",
       "        text-align: right;\n",
       "    }\n",
       "</style>\n",
       "<table border=\"1\" class=\"dataframe\">\n",
       "  <thead>\n",
       "    <tr style=\"text-align: right;\">\n",
       "      <th></th>\n",
       "      <th>District</th>\n",
       "      <th>District Name</th>\n",
       "      <th>Subgroup</th>\n",
       "      <th>Valid Tests</th>\n",
       "      <th>Participation Rate</th>\n",
       "      <th>Average English Score</th>\n",
       "      <th>Average Math Score</th>\n",
       "      <th>Average Reading Score</th>\n",
       "      <th>Average Science Score</th>\n",
       "      <th>Average Composite Score</th>\n",
       "      <th>Number Scoring 21 or Higher</th>\n",
       "      <th>Percent Scoring 21 or Higher</th>\n",
       "      <th>Number Scoring Below 19</th>\n",
       "      <th>Percent Scoring Below 19</th>\n",
       "    </tr>\n",
       "  </thead>\n",
       "  <tbody>\n",
       "    <tr>\n",
       "      <th>0</th>\n",
       "      <td>10</td>\n",
       "      <td>Anderson County</td>\n",
       "      <td>All Students</td>\n",
       "      <td>527</td>\n",
       "      <td>100</td>\n",
       "      <td>19</td>\n",
       "      <td>18.7</td>\n",
       "      <td>19.9</td>\n",
       "      <td>19.6</td>\n",
       "      <td>19.5</td>\n",
       "      <td>198</td>\n",
       "      <td>37.6</td>\n",
       "      <td>254</td>\n",
       "      <td>48.2</td>\n",
       "    </tr>\n",
       "    <tr>\n",
       "      <th>1</th>\n",
       "      <td>10</td>\n",
       "      <td>Anderson County</td>\n",
       "      <td>Black/Hispanic/Native American</td>\n",
       "      <td>17</td>\n",
       "      <td>100</td>\n",
       "      <td>18</td>\n",
       "      <td>17.8</td>\n",
       "      <td>17.5</td>\n",
       "      <td>18.3</td>\n",
       "      <td>17.9</td>\n",
       "      <td>5</td>\n",
       "      <td>29.4</td>\n",
       "      <td>10</td>\n",
       "      <td>58.8</td>\n",
       "    </tr>\n",
       "    <tr>\n",
       "      <th>2</th>\n",
       "      <td>10</td>\n",
       "      <td>Anderson County</td>\n",
       "      <td>Economically Disadvantaged</td>\n",
       "      <td>189</td>\n",
       "      <td>99</td>\n",
       "      <td>17.1</td>\n",
       "      <td>17.2</td>\n",
       "      <td>18.6</td>\n",
       "      <td>18.1</td>\n",
       "      <td>17.9</td>\n",
       "      <td>43</td>\n",
       "      <td>22.8</td>\n",
       "      <td>118</td>\n",
       "      <td>62.4</td>\n",
       "    </tr>\n",
       "    <tr>\n",
       "      <th>3</th>\n",
       "      <td>10</td>\n",
       "      <td>Anderson County</td>\n",
       "      <td>English Learners</td>\n",
       "      <td>3</td>\n",
       "      <td>*</td>\n",
       "      <td>*</td>\n",
       "      <td>*</td>\n",
       "      <td>*</td>\n",
       "      <td>*</td>\n",
       "      <td>*</td>\n",
       "      <td>*</td>\n",
       "      <td>*</td>\n",
       "      <td>*</td>\n",
       "      <td>*</td>\n",
       "    </tr>\n",
       "    <tr>\n",
       "      <th>4</th>\n",
       "      <td>10</td>\n",
       "      <td>Anderson County</td>\n",
       "      <td>Students with Disabilities</td>\n",
       "      <td>76</td>\n",
       "      <td>100</td>\n",
       "      <td>12.5</td>\n",
       "      <td>15.5</td>\n",
       "      <td>14.5</td>\n",
       "      <td>15.1</td>\n",
       "      <td>14.6</td>\n",
       "      <td>2</td>\n",
       "      <td>2.6</td>\n",
       "      <td>71</td>\n",
       "      <td>93.4</td>\n",
       "    </tr>\n",
       "    <tr>\n",
       "      <th>...</th>\n",
       "      <td>...</td>\n",
       "      <td>...</td>\n",
       "      <td>...</td>\n",
       "      <td>...</td>\n",
       "      <td>...</td>\n",
       "      <td>...</td>\n",
       "      <td>...</td>\n",
       "      <td>...</td>\n",
       "      <td>...</td>\n",
       "      <td>...</td>\n",
       "      <td>...</td>\n",
       "      <td>...</td>\n",
       "      <td>...</td>\n",
       "      <td>...</td>\n",
       "    </tr>\n",
       "    <tr>\n",
       "      <th>590</th>\n",
       "      <td>985</td>\n",
       "      <td>Achievement School District</td>\n",
       "      <td>All Students</td>\n",
       "      <td>294</td>\n",
       "      <td>83</td>\n",
       "      <td>13.4</td>\n",
       "      <td>15.4</td>\n",
       "      <td>14.8</td>\n",
       "      <td>15</td>\n",
       "      <td>14.8</td>\n",
       "      <td>14</td>\n",
       "      <td>4.8</td>\n",
       "      <td>261</td>\n",
       "      <td>88.8</td>\n",
       "    </tr>\n",
       "    <tr>\n",
       "      <th>591</th>\n",
       "      <td>985</td>\n",
       "      <td>Achievement School District</td>\n",
       "      <td>Black/Hispanic/Native American</td>\n",
       "      <td>292</td>\n",
       "      <td>83</td>\n",
       "      <td>13.4</td>\n",
       "      <td>15.4</td>\n",
       "      <td>14.9</td>\n",
       "      <td>15</td>\n",
       "      <td>14.8</td>\n",
       "      <td>14</td>\n",
       "      <td>4.8</td>\n",
       "      <td>259</td>\n",
       "      <td>88.7</td>\n",
       "    </tr>\n",
       "    <tr>\n",
       "      <th>592</th>\n",
       "      <td>985</td>\n",
       "      <td>Achievement School District</td>\n",
       "      <td>Economically Disadvantaged</td>\n",
       "      <td>244</td>\n",
       "      <td>83</td>\n",
       "      <td>13.2</td>\n",
       "      <td>15.2</td>\n",
       "      <td>14.6</td>\n",
       "      <td>14.7</td>\n",
       "      <td>14.6</td>\n",
       "      <td>9</td>\n",
       "      <td>3.7</td>\n",
       "      <td>221</td>\n",
       "      <td>90.6</td>\n",
       "    </tr>\n",
       "    <tr>\n",
       "      <th>593</th>\n",
       "      <td>985</td>\n",
       "      <td>Achievement School District</td>\n",
       "      <td>English Learners</td>\n",
       "      <td>7</td>\n",
       "      <td>*</td>\n",
       "      <td>*</td>\n",
       "      <td>*</td>\n",
       "      <td>*</td>\n",
       "      <td>*</td>\n",
       "      <td>*</td>\n",
       "      <td>*</td>\n",
       "      <td>*</td>\n",
       "      <td>*</td>\n",
       "      <td>*</td>\n",
       "    </tr>\n",
       "    <tr>\n",
       "      <th>594</th>\n",
       "      <td>985</td>\n",
       "      <td>Achievement School District</td>\n",
       "      <td>Students with Disabilities</td>\n",
       "      <td>40</td>\n",
       "      <td>67</td>\n",
       "      <td>11</td>\n",
       "      <td>14.6</td>\n",
       "      <td>13</td>\n",
       "      <td>13.1</td>\n",
       "      <td>13</td>\n",
       "      <td>**</td>\n",
       "      <td>**</td>\n",
       "      <td>**</td>\n",
       "      <td>**</td>\n",
       "    </tr>\n",
       "  </tbody>\n",
       "</table>\n",
       "<p>595 rows × 14 columns</p>\n",
       "</div>"
      ],
      "text/plain": [
       "     District                District Name                        Subgroup  \\\n",
       "0          10              Anderson County                    All Students   \n",
       "1          10              Anderson County  Black/Hispanic/Native American   \n",
       "2          10              Anderson County      Economically Disadvantaged   \n",
       "3          10              Anderson County                English Learners   \n",
       "4          10              Anderson County      Students with Disabilities   \n",
       "..        ...                          ...                             ...   \n",
       "590       985  Achievement School District                    All Students   \n",
       "591       985  Achievement School District  Black/Hispanic/Native American   \n",
       "592       985  Achievement School District      Economically Disadvantaged   \n",
       "593       985  Achievement School District                English Learners   \n",
       "594       985  Achievement School District      Students with Disabilities   \n",
       "\n",
       "     Valid Tests Participation Rate Average English Score Average Math Score  \\\n",
       "0            527                100                    19               18.7   \n",
       "1             17                100                    18               17.8   \n",
       "2            189                 99                  17.1               17.2   \n",
       "3              3                  *                     *                  *   \n",
       "4             76                100                  12.5               15.5   \n",
       "..           ...                ...                   ...                ...   \n",
       "590          294                 83                  13.4               15.4   \n",
       "591          292                 83                  13.4               15.4   \n",
       "592          244                 83                  13.2               15.2   \n",
       "593            7                  *                     *                  *   \n",
       "594           40                 67                    11               14.6   \n",
       "\n",
       "    Average Reading Score Average Science Score Average Composite Score  \\\n",
       "0                    19.9                  19.6                    19.5   \n",
       "1                    17.5                  18.3                    17.9   \n",
       "2                    18.6                  18.1                    17.9   \n",
       "3                       *                     *                       *   \n",
       "4                    14.5                  15.1                    14.6   \n",
       "..                    ...                   ...                     ...   \n",
       "590                  14.8                    15                    14.8   \n",
       "591                  14.9                    15                    14.8   \n",
       "592                  14.6                  14.7                    14.6   \n",
       "593                     *                     *                       *   \n",
       "594                    13                  13.1                      13   \n",
       "\n",
       "    Number Scoring 21 or Higher Percent Scoring 21 or Higher  \\\n",
       "0                           198                         37.6   \n",
       "1                             5                         29.4   \n",
       "2                            43                         22.8   \n",
       "3                             *                            *   \n",
       "4                             2                          2.6   \n",
       "..                          ...                          ...   \n",
       "590                          14                          4.8   \n",
       "591                          14                          4.8   \n",
       "592                           9                          3.7   \n",
       "593                           *                            *   \n",
       "594                          **                           **   \n",
       "\n",
       "    Number Scoring Below 19 Percent Scoring Below 19  \n",
       "0                       254                     48.2  \n",
       "1                        10                     58.8  \n",
       "2                       118                     62.4  \n",
       "3                         *                        *  \n",
       "4                        71                     93.4  \n",
       "..                      ...                      ...  \n",
       "590                     261                     88.8  \n",
       "591                     259                     88.7  \n",
       "592                     221                     90.6  \n",
       "593                       *                        *  \n",
       "594                      **                       **  \n",
       "\n",
       "[595 rows x 14 columns]"
      ]
     },
     "execution_count": 37,
     "metadata": {},
     "output_type": "execute_result"
    }
   ],
   "source": [
    "df7"
   ]
  },
  {
   "cell_type": "code",
   "execution_count": 38,
   "metadata": {},
   "outputs": [],
   "source": [
    "df2019 = df7[df7['District Name'] == 'Davidson County']\n",
    "df2019 = df2019[df2019['Subgroup'] == 'All Students']\n",
    "df2019 = df2019[['Average Composite Score']]\n",
    "df2019['year'] = 2019\n",
    "df2019.columns = ('act_avg','year')"
   ]
  },
  {
   "cell_type": "code",
   "execution_count": 39,
   "metadata": {},
   "outputs": [
    {
     "data": {
      "text/html": [
       "<div>\n",
       "<style scoped>\n",
       "    .dataframe tbody tr th:only-of-type {\n",
       "        vertical-align: middle;\n",
       "    }\n",
       "\n",
       "    .dataframe tbody tr th {\n",
       "        vertical-align: top;\n",
       "    }\n",
       "\n",
       "    .dataframe thead th {\n",
       "        text-align: right;\n",
       "    }\n",
       "</style>\n",
       "<table border=\"1\" class=\"dataframe\">\n",
       "  <thead>\n",
       "    <tr style=\"text-align: right;\">\n",
       "      <th></th>\n",
       "      <th>act_avg</th>\n",
       "      <th>year</th>\n",
       "    </tr>\n",
       "  </thead>\n",
       "  <tbody>\n",
       "    <tr>\n",
       "      <th>127</th>\n",
       "      <td>18.5</td>\n",
       "      <td>2019</td>\n",
       "    </tr>\n",
       "  </tbody>\n",
       "</table>\n",
       "</div>"
      ],
      "text/plain": [
       "    act_avg  year\n",
       "127    18.5  2019"
      ]
     },
     "execution_count": 39,
     "metadata": {},
     "output_type": "execute_result"
    }
   ],
   "source": [
    "df2019"
   ]
  },
  {
   "cell_type": "code",
   "execution_count": 40,
   "metadata": {},
   "outputs": [
    {
     "name": "stderr",
     "output_type": "stream",
     "text": [
      "C:\\Users\\jhank\\AppData\\Local\\Temp\\ipykernel_20276\\3096602919.py:2: SettingWithCopyWarning: \n",
      "A value is trying to be set on a copy of a slice from a DataFrame.\n",
      "Try using .loc[row_indexer,col_indexer] = value instead\n",
      "\n",
      "See the caveats in the documentation: https://pandas.pydata.org/pandas-docs/stable/user_guide/indexing.html#returning-a-view-versus-a-copy\n",
      "  df2013['year'] = 2013\n"
     ]
    }
   ],
   "source": [
    "df2013 = df2013[['2013 Including Extended Time']]\n",
    "df2013['year'] = 2013\n",
    "df2013.columns = ('act_avg','year')"
   ]
  },
  {
   "cell_type": "code",
   "execution_count": 41,
   "metadata": {},
   "outputs": [
    {
     "data": {
      "text/html": [
       "<div>\n",
       "<style scoped>\n",
       "    .dataframe tbody tr th:only-of-type {\n",
       "        vertical-align: middle;\n",
       "    }\n",
       "\n",
       "    .dataframe tbody tr th {\n",
       "        vertical-align: top;\n",
       "    }\n",
       "\n",
       "    .dataframe thead th {\n",
       "        text-align: right;\n",
       "    }\n",
       "</style>\n",
       "<table border=\"1\" class=\"dataframe\">\n",
       "  <thead>\n",
       "    <tr style=\"text-align: right;\">\n",
       "      <th></th>\n",
       "      <th>act_avg</th>\n",
       "      <th>year</th>\n",
       "    </tr>\n",
       "  </thead>\n",
       "  <tbody>\n",
       "    <tr>\n",
       "      <th>77</th>\n",
       "      <td>18.203</td>\n",
       "      <td>2013</td>\n",
       "    </tr>\n",
       "  </tbody>\n",
       "</table>\n",
       "</div>"
      ],
      "text/plain": [
       "    act_avg  year\n",
       "77   18.203  2013"
      ]
     },
     "execution_count": 41,
     "metadata": {},
     "output_type": "execute_result"
    }
   ],
   "source": [
    "df2013"
   ]
  },
  {
   "cell_type": "code",
   "execution_count": 42,
   "metadata": {},
   "outputs": [
    {
     "name": "stderr",
     "output_type": "stream",
     "text": [
      "C:\\Users\\jhank\\AppData\\Local\\Temp\\ipykernel_20276\\731144791.py:2: SettingWithCopyWarning: \n",
      "A value is trying to be set on a copy of a slice from a DataFrame.\n",
      "Try using .loc[row_indexer,col_indexer] = value instead\n",
      "\n",
      "See the caveats in the documentation: https://pandas.pydata.org/pandas-docs/stable/user_guide/indexing.html#returning-a-view-versus-a-copy\n",
      "  df2014['year'] = 2014\n"
     ]
    }
   ],
   "source": [
    "df2014 = df2014[['2014 Including Extended Time']]\n",
    "df2014['year'] = 2014\n",
    "df2014.columns = ('act_avg','year')"
   ]
  },
  {
   "cell_type": "code",
   "execution_count": 43,
   "metadata": {},
   "outputs": [
    {
     "data": {
      "text/html": [
       "<div>\n",
       "<style scoped>\n",
       "    .dataframe tbody tr th:only-of-type {\n",
       "        vertical-align: middle;\n",
       "    }\n",
       "\n",
       "    .dataframe tbody tr th {\n",
       "        vertical-align: top;\n",
       "    }\n",
       "\n",
       "    .dataframe thead th {\n",
       "        text-align: right;\n",
       "    }\n",
       "</style>\n",
       "<table border=\"1\" class=\"dataframe\">\n",
       "  <thead>\n",
       "    <tr style=\"text-align: right;\">\n",
       "      <th></th>\n",
       "      <th>act_avg</th>\n",
       "      <th>year</th>\n",
       "    </tr>\n",
       "  </thead>\n",
       "  <tbody>\n",
       "    <tr>\n",
       "      <th>77</th>\n",
       "      <td>18.417</td>\n",
       "      <td>2014</td>\n",
       "    </tr>\n",
       "  </tbody>\n",
       "</table>\n",
       "</div>"
      ],
      "text/plain": [
       "   act_avg  year\n",
       "77  18.417  2014"
      ]
     },
     "execution_count": 43,
     "metadata": {},
     "output_type": "execute_result"
    }
   ],
   "source": [
    "df2014"
   ]
  },
  {
   "cell_type": "code",
   "execution_count": 44,
   "metadata": {},
   "outputs": [],
   "source": [
    "df2015['year'] = 2015\n",
    "df2015.columns = ('year','act_avg')"
   ]
  },
  {
   "cell_type": "code",
   "execution_count": 45,
   "metadata": {},
   "outputs": [],
   "source": [
    "df2015.drop([1], inplace=True)"
   ]
  },
  {
   "cell_type": "code",
   "execution_count": 46,
   "metadata": {},
   "outputs": [],
   "source": [
    "df2015 = df2015[['act_avg','year']]"
   ]
  },
  {
   "cell_type": "code",
   "execution_count": 47,
   "metadata": {},
   "outputs": [
    {
     "data": {
      "text/html": [
       "<div>\n",
       "<style scoped>\n",
       "    .dataframe tbody tr th:only-of-type {\n",
       "        vertical-align: middle;\n",
       "    }\n",
       "\n",
       "    .dataframe tbody tr th {\n",
       "        vertical-align: top;\n",
       "    }\n",
       "\n",
       "    .dataframe thead th {\n",
       "        text-align: right;\n",
       "    }\n",
       "</style>\n",
       "<table border=\"1\" class=\"dataframe\">\n",
       "  <thead>\n",
       "    <tr style=\"text-align: right;\">\n",
       "      <th></th>\n",
       "      <th>act_avg</th>\n",
       "      <th>year</th>\n",
       "    </tr>\n",
       "  </thead>\n",
       "  <tbody>\n",
       "    <tr>\n",
       "      <th>2</th>\n",
       "      <td>18.7</td>\n",
       "      <td>2015</td>\n",
       "    </tr>\n",
       "  </tbody>\n",
       "</table>\n",
       "</div>"
      ],
      "text/plain": [
       "  act_avg  year\n",
       "2    18.7  2015"
      ]
     },
     "execution_count": 47,
     "metadata": {},
     "output_type": "execute_result"
    }
   ],
   "source": [
    "df2015"
   ]
  },
  {
   "cell_type": "code",
   "execution_count": 48,
   "metadata": {},
   "outputs": [
    {
     "name": "stderr",
     "output_type": "stream",
     "text": [
      "C:\\Users\\jhank\\AppData\\Local\\Temp\\ipykernel_20276\\2794476205.py:1: SettingWithCopyWarning: \n",
      "A value is trying to be set on a copy of a slice from a DataFrame.\n",
      "Try using .loc[row_indexer,col_indexer] = value instead\n",
      "\n",
      "See the caveats in the documentation: https://pandas.pydata.org/pandas-docs/stable/user_guide/indexing.html#returning-a-view-versus-a-copy\n",
      "  df2016['year'] = 2016\n"
     ]
    }
   ],
   "source": [
    "df2016['year'] = 2016\n"
   ]
  },
  {
   "cell_type": "code",
   "execution_count": 49,
   "metadata": {},
   "outputs": [],
   "source": [
    "df2016.columns = ('act_avg','year')"
   ]
  },
  {
   "cell_type": "code",
   "execution_count": 50,
   "metadata": {},
   "outputs": [
    {
     "data": {
      "text/html": [
       "<div>\n",
       "<style scoped>\n",
       "    .dataframe tbody tr th:only-of-type {\n",
       "        vertical-align: middle;\n",
       "    }\n",
       "\n",
       "    .dataframe tbody tr th {\n",
       "        vertical-align: top;\n",
       "    }\n",
       "\n",
       "    .dataframe thead th {\n",
       "        text-align: right;\n",
       "    }\n",
       "</style>\n",
       "<table border=\"1\" class=\"dataframe\">\n",
       "  <thead>\n",
       "    <tr style=\"text-align: right;\">\n",
       "      <th></th>\n",
       "      <th>act_avg</th>\n",
       "      <th>year</th>\n",
       "    </tr>\n",
       "  </thead>\n",
       "  <tbody>\n",
       "    <tr>\n",
       "      <th>28</th>\n",
       "      <td>18.7</td>\n",
       "      <td>2016</td>\n",
       "    </tr>\n",
       "  </tbody>\n",
       "</table>\n",
       "</div>"
      ],
      "text/plain": [
       "   act_avg  year\n",
       "28    18.7  2016"
      ]
     },
     "execution_count": 50,
     "metadata": {},
     "output_type": "execute_result"
    }
   ],
   "source": [
    "df2016"
   ]
  },
  {
   "cell_type": "code",
   "execution_count": 51,
   "metadata": {},
   "outputs": [
    {
     "name": "stderr",
     "output_type": "stream",
     "text": [
      "C:\\Users\\jhank\\AppData\\Local\\Temp\\ipykernel_20276\\2702441903.py:1: SettingWithCopyWarning: \n",
      "A value is trying to be set on a copy of a slice from a DataFrame.\n",
      "Try using .loc[row_indexer,col_indexer] = value instead\n",
      "\n",
      "See the caveats in the documentation: https://pandas.pydata.org/pandas-docs/stable/user_guide/indexing.html#returning-a-view-versus-a-copy\n",
      "  df2017['year'] = 2017\n"
     ]
    }
   ],
   "source": [
    "df2017['year'] = 2017"
   ]
  },
  {
   "cell_type": "code",
   "execution_count": 52,
   "metadata": {},
   "outputs": [],
   "source": [
    "df2017.columns = ('act_avg','year')"
   ]
  },
  {
   "cell_type": "code",
   "execution_count": 53,
   "metadata": {},
   "outputs": [
    {
     "data": {
      "text/html": [
       "<div>\n",
       "<style scoped>\n",
       "    .dataframe tbody tr th:only-of-type {\n",
       "        vertical-align: middle;\n",
       "    }\n",
       "\n",
       "    .dataframe tbody tr th {\n",
       "        vertical-align: top;\n",
       "    }\n",
       "\n",
       "    .dataframe thead th {\n",
       "        text-align: right;\n",
       "    }\n",
       "</style>\n",
       "<table border=\"1\" class=\"dataframe\">\n",
       "  <thead>\n",
       "    <tr style=\"text-align: right;\">\n",
       "      <th></th>\n",
       "      <th>act_avg</th>\n",
       "      <th>year</th>\n",
       "    </tr>\n",
       "  </thead>\n",
       "  <tbody>\n",
       "    <tr>\n",
       "      <th>65</th>\n",
       "      <td>19</td>\n",
       "      <td>2017</td>\n",
       "    </tr>\n",
       "  </tbody>\n",
       "</table>\n",
       "</div>"
      ],
      "text/plain": [
       "   act_avg  year\n",
       "65      19  2017"
      ]
     },
     "execution_count": 53,
     "metadata": {},
     "output_type": "execute_result"
    }
   ],
   "source": [
    "df2017"
   ]
  },
  {
   "cell_type": "code",
   "execution_count": 54,
   "metadata": {},
   "outputs": [],
   "source": [
    "df2018.columns = ('act_avg','year')"
   ]
  },
  {
   "cell_type": "code",
   "execution_count": 55,
   "metadata": {},
   "outputs": [
    {
     "data": {
      "text/html": [
       "<div>\n",
       "<style scoped>\n",
       "    .dataframe tbody tr th:only-of-type {\n",
       "        vertical-align: middle;\n",
       "    }\n",
       "\n",
       "    .dataframe tbody tr th {\n",
       "        vertical-align: top;\n",
       "    }\n",
       "\n",
       "    .dataframe thead th {\n",
       "        text-align: right;\n",
       "    }\n",
       "</style>\n",
       "<table border=\"1\" class=\"dataframe\">\n",
       "  <thead>\n",
       "    <tr style=\"text-align: right;\">\n",
       "      <th></th>\n",
       "      <th>act_avg</th>\n",
       "      <th>year</th>\n",
       "    </tr>\n",
       "  </thead>\n",
       "  <tbody>\n",
       "    <tr>\n",
       "      <th>127</th>\n",
       "      <td>18.5</td>\n",
       "      <td>2019</td>\n",
       "    </tr>\n",
       "  </tbody>\n",
       "</table>\n",
       "</div>"
      ],
      "text/plain": [
       "    act_avg  year\n",
       "127    18.5  2019"
      ]
     },
     "execution_count": 55,
     "metadata": {},
     "output_type": "execute_result"
    }
   ],
   "source": [
    "df2019"
   ]
  },
  {
   "cell_type": "code",
   "execution_count": 56,
   "metadata": {},
   "outputs": [
    {
     "data": {
      "text/html": [
       "<div>\n",
       "<style scoped>\n",
       "    .dataframe tbody tr th:only-of-type {\n",
       "        vertical-align: middle;\n",
       "    }\n",
       "\n",
       "    .dataframe tbody tr th {\n",
       "        vertical-align: top;\n",
       "    }\n",
       "\n",
       "    .dataframe thead th {\n",
       "        text-align: right;\n",
       "    }\n",
       "</style>\n",
       "<table border=\"1\" class=\"dataframe\">\n",
       "  <thead>\n",
       "    <tr style=\"text-align: right;\">\n",
       "      <th></th>\n",
       "      <th>act_avg</th>\n",
       "      <th>year</th>\n",
       "    </tr>\n",
       "  </thead>\n",
       "  <tbody>\n",
       "    <tr>\n",
       "      <th>77</th>\n",
       "      <td>18.203</td>\n",
       "      <td>2013</td>\n",
       "    </tr>\n",
       "  </tbody>\n",
       "</table>\n",
       "</div>"
      ],
      "text/plain": [
       "    act_avg  year\n",
       "77   18.203  2013"
      ]
     },
     "execution_count": 56,
     "metadata": {},
     "output_type": "execute_result"
    }
   ],
   "source": [
    "df2013"
   ]
  },
  {
   "cell_type": "code",
   "execution_count": 57,
   "metadata": {},
   "outputs": [
    {
     "data": {
      "text/html": [
       "<div>\n",
       "<style scoped>\n",
       "    .dataframe tbody tr th:only-of-type {\n",
       "        vertical-align: middle;\n",
       "    }\n",
       "\n",
       "    .dataframe tbody tr th {\n",
       "        vertical-align: top;\n",
       "    }\n",
       "\n",
       "    .dataframe thead th {\n",
       "        text-align: right;\n",
       "    }\n",
       "</style>\n",
       "<table border=\"1\" class=\"dataframe\">\n",
       "  <thead>\n",
       "    <tr style=\"text-align: right;\">\n",
       "      <th></th>\n",
       "      <th>act_avg</th>\n",
       "      <th>year</th>\n",
       "    </tr>\n",
       "  </thead>\n",
       "  <tbody>\n",
       "    <tr>\n",
       "      <th>77</th>\n",
       "      <td>18.417</td>\n",
       "      <td>2014</td>\n",
       "    </tr>\n",
       "  </tbody>\n",
       "</table>\n",
       "</div>"
      ],
      "text/plain": [
       "   act_avg  year\n",
       "77  18.417  2014"
      ]
     },
     "execution_count": 57,
     "metadata": {},
     "output_type": "execute_result"
    }
   ],
   "source": [
    "df2014"
   ]
  },
  {
   "cell_type": "code",
   "execution_count": 58,
   "metadata": {},
   "outputs": [
    {
     "data": {
      "text/html": [
       "<div>\n",
       "<style scoped>\n",
       "    .dataframe tbody tr th:only-of-type {\n",
       "        vertical-align: middle;\n",
       "    }\n",
       "\n",
       "    .dataframe tbody tr th {\n",
       "        vertical-align: top;\n",
       "    }\n",
       "\n",
       "    .dataframe thead th {\n",
       "        text-align: right;\n",
       "    }\n",
       "</style>\n",
       "<table border=\"1\" class=\"dataframe\">\n",
       "  <thead>\n",
       "    <tr style=\"text-align: right;\">\n",
       "      <th></th>\n",
       "      <th>act_avg</th>\n",
       "      <th>year</th>\n",
       "    </tr>\n",
       "  </thead>\n",
       "  <tbody>\n",
       "    <tr>\n",
       "      <th>2</th>\n",
       "      <td>18.7</td>\n",
       "      <td>2015</td>\n",
       "    </tr>\n",
       "  </tbody>\n",
       "</table>\n",
       "</div>"
      ],
      "text/plain": [
       "  act_avg  year\n",
       "2    18.7  2015"
      ]
     },
     "execution_count": 58,
     "metadata": {},
     "output_type": "execute_result"
    }
   ],
   "source": [
    "df2015"
   ]
  },
  {
   "cell_type": "code",
   "execution_count": 59,
   "metadata": {},
   "outputs": [
    {
     "data": {
      "text/html": [
       "<div>\n",
       "<style scoped>\n",
       "    .dataframe tbody tr th:only-of-type {\n",
       "        vertical-align: middle;\n",
       "    }\n",
       "\n",
       "    .dataframe tbody tr th {\n",
       "        vertical-align: top;\n",
       "    }\n",
       "\n",
       "    .dataframe thead th {\n",
       "        text-align: right;\n",
       "    }\n",
       "</style>\n",
       "<table border=\"1\" class=\"dataframe\">\n",
       "  <thead>\n",
       "    <tr style=\"text-align: right;\">\n",
       "      <th></th>\n",
       "      <th>act_avg</th>\n",
       "      <th>year</th>\n",
       "    </tr>\n",
       "  </thead>\n",
       "  <tbody>\n",
       "    <tr>\n",
       "      <th>28</th>\n",
       "      <td>18.7</td>\n",
       "      <td>2016</td>\n",
       "    </tr>\n",
       "  </tbody>\n",
       "</table>\n",
       "</div>"
      ],
      "text/plain": [
       "   act_avg  year\n",
       "28    18.7  2016"
      ]
     },
     "execution_count": 59,
     "metadata": {},
     "output_type": "execute_result"
    }
   ],
   "source": [
    "df2016"
   ]
  },
  {
   "cell_type": "code",
   "execution_count": 60,
   "metadata": {},
   "outputs": [
    {
     "data": {
      "text/html": [
       "<div>\n",
       "<style scoped>\n",
       "    .dataframe tbody tr th:only-of-type {\n",
       "        vertical-align: middle;\n",
       "    }\n",
       "\n",
       "    .dataframe tbody tr th {\n",
       "        vertical-align: top;\n",
       "    }\n",
       "\n",
       "    .dataframe thead th {\n",
       "        text-align: right;\n",
       "    }\n",
       "</style>\n",
       "<table border=\"1\" class=\"dataframe\">\n",
       "  <thead>\n",
       "    <tr style=\"text-align: right;\">\n",
       "      <th></th>\n",
       "      <th>act_avg</th>\n",
       "      <th>year</th>\n",
       "    </tr>\n",
       "  </thead>\n",
       "  <tbody>\n",
       "    <tr>\n",
       "      <th>65</th>\n",
       "      <td>19</td>\n",
       "      <td>2017</td>\n",
       "    </tr>\n",
       "  </tbody>\n",
       "</table>\n",
       "</div>"
      ],
      "text/plain": [
       "   act_avg  year\n",
       "65      19  2017"
      ]
     },
     "execution_count": 60,
     "metadata": {},
     "output_type": "execute_result"
    }
   ],
   "source": [
    "df2017"
   ]
  },
  {
   "cell_type": "code",
   "execution_count": 61,
   "metadata": {},
   "outputs": [],
   "source": [
    "act = pd.concat([df2013, df2014, df2015, df2016, df2017, df2018, df2019]).reset_index(drop=True)"
   ]
  },
  {
   "cell_type": "code",
   "execution_count": 62,
   "metadata": {},
   "outputs": [
    {
     "data": {
      "text/html": [
       "<div>\n",
       "<style scoped>\n",
       "    .dataframe tbody tr th:only-of-type {\n",
       "        vertical-align: middle;\n",
       "    }\n",
       "\n",
       "    .dataframe tbody tr th {\n",
       "        vertical-align: top;\n",
       "    }\n",
       "\n",
       "    .dataframe thead th {\n",
       "        text-align: right;\n",
       "    }\n",
       "</style>\n",
       "<table border=\"1\" class=\"dataframe\">\n",
       "  <thead>\n",
       "    <tr style=\"text-align: right;\">\n",
       "      <th></th>\n",
       "      <th>act_avg</th>\n",
       "      <th>year</th>\n",
       "    </tr>\n",
       "  </thead>\n",
       "  <tbody>\n",
       "    <tr>\n",
       "      <th>0</th>\n",
       "      <td>18.203</td>\n",
       "      <td>2013</td>\n",
       "    </tr>\n",
       "    <tr>\n",
       "      <th>1</th>\n",
       "      <td>18.417</td>\n",
       "      <td>2014</td>\n",
       "    </tr>\n",
       "    <tr>\n",
       "      <th>2</th>\n",
       "      <td>18.7</td>\n",
       "      <td>2015</td>\n",
       "    </tr>\n",
       "    <tr>\n",
       "      <th>3</th>\n",
       "      <td>18.7</td>\n",
       "      <td>2016</td>\n",
       "    </tr>\n",
       "    <tr>\n",
       "      <th>4</th>\n",
       "      <td>19</td>\n",
       "      <td>2017</td>\n",
       "    </tr>\n",
       "    <tr>\n",
       "      <th>5</th>\n",
       "      <td>18.9</td>\n",
       "      <td>2018</td>\n",
       "    </tr>\n",
       "    <tr>\n",
       "      <th>6</th>\n",
       "      <td>18.5</td>\n",
       "      <td>2019</td>\n",
       "    </tr>\n",
       "  </tbody>\n",
       "</table>\n",
       "</div>"
      ],
      "text/plain": [
       "  act_avg  year\n",
       "0  18.203  2013\n",
       "1  18.417  2014\n",
       "2    18.7  2015\n",
       "3    18.7  2016\n",
       "4      19  2017\n",
       "5    18.9  2018\n",
       "6    18.5  2019"
      ]
     },
     "execution_count": 62,
     "metadata": {},
     "output_type": "execute_result"
    }
   ],
   "source": [
    "act"
   ]
  },
  {
   "cell_type": "code",
   "execution_count": 63,
   "metadata": {},
   "outputs": [
    {
     "data": {
      "text/plain": [
       "<AxesSubplot:xlabel='year'>"
      ]
     },
     "execution_count": 63,
     "metadata": {},
     "output_type": "execute_result"
    },
    {
     "data": {
      "image/png": "[encoded data removed]",
      "text/plain": [
       "<Figure size 640x480 with 1 Axes>"
      ]
     },
     "metadata": {},
     "output_type": "display_data"
    }
   ],
   "source": [
    "act.plot(kind='line', x = 'year', y = 'act_avg')"
   ]
  },
  {
   "cell_type": "code",
   "execution_count": 64,
   "metadata": {},
   "outputs": [
    {
     "data": {
      "text/plain": [
       "<AxesSubplot:xlabel='year'>"
      ]
     },
     "execution_count": 64,
     "metadata": {},
     "output_type": "execute_result"
    },
    {
     "data": {
      "image/png": "[encoded data removed]",
      "text/plain": [
       "<Figure size 640x480 with 1 Axes>"
      ]
     },
     "metadata": {},
     "output_type": "display_data"
    }
   ],
   "source": [
    "act.plot(kind='line', x = 'year',legend=False)"
   ]
  },
  {
   "attachments": {},
   "cell_type": "markdown",
   "metadata": {},
   "source": [
    "Library"
   ]
  },
  {
   "cell_type": "code",
   "execution_count": 65,
   "metadata": {},
   "outputs": [
    {
     "name": "stderr",
     "output_type": "stream",
     "text": [
      "C:\\Users\\jhank\\AppData\\Roaming\\Python\\Python39\\site-packages\\IPython\\core\\interactiveshell.py:3378: DtypeWarning: Columns (0) have mixed types.Specify dtype option on import or set low_memory=False.\n",
      "  exec(code_obj, self.user_global_ns, self.user_ns)\n"
     ]
    }
   ],
   "source": [
    "dflib = pd.read_csv(r\"C:\\Users\\jhank\\Desktop\\DA7\\Projects\\budget-impact-jupyternb-python\\data\\Metro_Budget_to_Actual_Expenses__FY2010_-_Present_.csv\")"
   ]
  },
  {
   "cell_type": "code",
   "execution_count": 66,
   "metadata": {},
   "outputs": [],
   "source": [
    "library = dflib[dflib['Department Description'] == 'Public Library']"
   ]
  },
  {
   "cell_type": "code",
   "execution_count": 67,
   "metadata": {},
   "outputs": [
    {
     "data": {
      "text/html": [
       "<div>\n",
       "<style scoped>\n",
       "    .dataframe tbody tr th:only-of-type {\n",
       "        vertical-align: middle;\n",
       "    }\n",
       "\n",
       "    .dataframe tbody tr th {\n",
       "        vertical-align: top;\n",
       "    }\n",
       "\n",
       "    .dataframe thead th {\n",
       "        text-align: right;\n",
       "    }\n",
       "</style>\n",
       "<table border=\"1\" class=\"dataframe\">\n",
       "  <thead>\n",
       "    <tr style=\"text-align: right;\">\n",
       "      <th></th>\n",
       "      <th>Fund</th>\n",
       "      <th>Fund Description</th>\n",
       "      <th>Department</th>\n",
       "      <th>Department Description</th>\n",
       "      <th>Business Unit</th>\n",
       "      <th>Business Unit Description</th>\n",
       "      <th>Object Account</th>\n",
       "      <th>Object Account Description</th>\n",
       "      <th>FY2010 Budgeted Expenses</th>\n",
       "      <th>FY2010 Actual Expenses</th>\n",
       "      <th>...</th>\n",
       "      <th>FY2017 Budgeted Expenses</th>\n",
       "      <th>FY2017 Actual Expenses</th>\n",
       "      <th>FY2018 Budgeted Expenses</th>\n",
       "      <th>FY2018 Actual Expenses</th>\n",
       "      <th>FY2019 Budgeted Expenses</th>\n",
       "      <th>FY2019 Actual Expenses</th>\n",
       "      <th>FY2020 Budgeted Expenses</th>\n",
       "      <th>FY2020 Actual Expenses</th>\n",
       "      <th>FY2021 Budgeted Expenses</th>\n",
       "      <th>FY2021 Actual Expenses</th>\n",
       "    </tr>\n",
       "  </thead>\n",
       "  <tbody>\n",
       "    <tr>\n",
       "      <th>14037</th>\n",
       "      <td>10101</td>\n",
       "      <td>GSD General</td>\n",
       "      <td>39.0</td>\n",
       "      <td>Public Library</td>\n",
       "      <td>39103335.0</td>\n",
       "      <td>LIB Goodletsville</td>\n",
       "      <td>502883.0</td>\n",
       "      <td>Registration</td>\n",
       "      <td>0.0</td>\n",
       "      <td>0.00</td>\n",
       "      <td>...</td>\n",
       "      <td>0.0</td>\n",
       "      <td>400.00</td>\n",
       "      <td>0.0</td>\n",
       "      <td>65.00</td>\n",
       "      <td>0.0</td>\n",
       "      <td>0.00</td>\n",
       "      <td>0.0</td>\n",
       "      <td>0.00</td>\n",
       "      <td>0</td>\n",
       "      <td>0.00</td>\n",
       "    </tr>\n",
       "    <tr>\n",
       "      <th>14277</th>\n",
       "      <td>10101</td>\n",
       "      <td>GSD General</td>\n",
       "      <td>39.0</td>\n",
       "      <td>Public Library</td>\n",
       "      <td>39101010.0</td>\n",
       "      <td>LIB Administrative Support</td>\n",
       "      <td>502359.0</td>\n",
       "      <td>Devlop/Framing/Artwork</td>\n",
       "      <td>0.0</td>\n",
       "      <td>0.00</td>\n",
       "      <td>...</td>\n",
       "      <td>0.0</td>\n",
       "      <td>0.00</td>\n",
       "      <td>0.0</td>\n",
       "      <td>0.00</td>\n",
       "      <td>0.0</td>\n",
       "      <td>0.00</td>\n",
       "      <td>0.0</td>\n",
       "      <td>0.00</td>\n",
       "      <td>0</td>\n",
       "      <td>0.00</td>\n",
       "    </tr>\n",
       "    <tr>\n",
       "      <th>14314</th>\n",
       "      <td>10101</td>\n",
       "      <td>GSD General</td>\n",
       "      <td>39.0</td>\n",
       "      <td>Public Library</td>\n",
       "      <td>39101010.0</td>\n",
       "      <td>LIB Administrative Support</td>\n",
       "      <td>501174.0</td>\n",
       "      <td>Employer Group Health</td>\n",
       "      <td>0.0</td>\n",
       "      <td>0.00</td>\n",
       "      <td>...</td>\n",
       "      <td>121700.0</td>\n",
       "      <td>168384.00</td>\n",
       "      <td>131100.0</td>\n",
       "      <td>204357.00</td>\n",
       "      <td>132600.0</td>\n",
       "      <td>195438.00</td>\n",
       "      <td>144300.0</td>\n",
       "      <td>176817.00</td>\n",
       "      <td>144300</td>\n",
       "      <td>186463.20</td>\n",
       "    </tr>\n",
       "    <tr>\n",
       "      <th>14315</th>\n",
       "      <td>10101</td>\n",
       "      <td>GSD General</td>\n",
       "      <td>39.0</td>\n",
       "      <td>Public Library</td>\n",
       "      <td>39101010.0</td>\n",
       "      <td>LIB Administrative Support</td>\n",
       "      <td>501175.0</td>\n",
       "      <td>Employer Dental Group</td>\n",
       "      <td>0.0</td>\n",
       "      <td>0.00</td>\n",
       "      <td>...</td>\n",
       "      <td>5500.0</td>\n",
       "      <td>5132.82</td>\n",
       "      <td>6100.0</td>\n",
       "      <td>6377.45</td>\n",
       "      <td>6100.0</td>\n",
       "      <td>6345.93</td>\n",
       "      <td>6100.0</td>\n",
       "      <td>12505.80</td>\n",
       "      <td>6100</td>\n",
       "      <td>6276.32</td>\n",
       "    </tr>\n",
       "    <tr>\n",
       "      <th>14316</th>\n",
       "      <td>10101</td>\n",
       "      <td>GSD General</td>\n",
       "      <td>39.0</td>\n",
       "      <td>Public Library</td>\n",
       "      <td>39101010.0</td>\n",
       "      <td>LIB Administrative Support</td>\n",
       "      <td>501176.0</td>\n",
       "      <td>Employer Group Life</td>\n",
       "      <td>0.0</td>\n",
       "      <td>0.00</td>\n",
       "      <td>...</td>\n",
       "      <td>3200.0</td>\n",
       "      <td>2649.01</td>\n",
       "      <td>3500.0</td>\n",
       "      <td>2908.16</td>\n",
       "      <td>3500.0</td>\n",
       "      <td>2923.78</td>\n",
       "      <td>3500.0</td>\n",
       "      <td>2695.01</td>\n",
       "      <td>3500</td>\n",
       "      <td>2688.30</td>\n",
       "    </tr>\n",
       "    <tr>\n",
       "      <th>...</th>\n",
       "      <td>...</td>\n",
       "      <td>...</td>\n",
       "      <td>...</td>\n",
       "      <td>...</td>\n",
       "      <td>...</td>\n",
       "      <td>...</td>\n",
       "      <td>...</td>\n",
       "      <td>...</td>\n",
       "      <td>...</td>\n",
       "      <td>...</td>\n",
       "      <td>...</td>\n",
       "      <td>...</td>\n",
       "      <td>...</td>\n",
       "      <td>...</td>\n",
       "      <td>...</td>\n",
       "      <td>...</td>\n",
       "      <td>...</td>\n",
       "      <td>...</td>\n",
       "      <td>...</td>\n",
       "      <td>...</td>\n",
       "      <td>...</td>\n",
       "    </tr>\n",
       "    <tr>\n",
       "      <th>16193</th>\n",
       "      <td>10101</td>\n",
       "      <td>GSD General</td>\n",
       "      <td>39.0</td>\n",
       "      <td>Public Library</td>\n",
       "      <td>39160910.0</td>\n",
       "      <td>x-LIBALOB Billings and Colle</td>\n",
       "      <td>501101.0</td>\n",
       "      <td>Regular Pay</td>\n",
       "      <td>14800.0</td>\n",
       "      <td>14462.15</td>\n",
       "      <td>...</td>\n",
       "      <td>0.0</td>\n",
       "      <td>0.00</td>\n",
       "      <td>0.0</td>\n",
       "      <td>0.00</td>\n",
       "      <td>0.0</td>\n",
       "      <td>0.00</td>\n",
       "      <td>0.0</td>\n",
       "      <td>0.00</td>\n",
       "      <td>0</td>\n",
       "      <td>0.00</td>\n",
       "    </tr>\n",
       "    <tr>\n",
       "      <th>16194</th>\n",
       "      <td>10101</td>\n",
       "      <td>GSD General</td>\n",
       "      <td>39.0</td>\n",
       "      <td>Public Library</td>\n",
       "      <td>39160910.0</td>\n",
       "      <td>x-LIBALOB Billings and Colle</td>\n",
       "      <td>501102.0</td>\n",
       "      <td>Leave Pay</td>\n",
       "      <td>1300.0</td>\n",
       "      <td>1601.12</td>\n",
       "      <td>...</td>\n",
       "      <td>0.0</td>\n",
       "      <td>0.00</td>\n",
       "      <td>0.0</td>\n",
       "      <td>0.00</td>\n",
       "      <td>0.0</td>\n",
       "      <td>0.00</td>\n",
       "      <td>0.0</td>\n",
       "      <td>0.00</td>\n",
       "      <td>0</td>\n",
       "      <td>0.00</td>\n",
       "    </tr>\n",
       "    <tr>\n",
       "      <th>16195</th>\n",
       "      <td>10101</td>\n",
       "      <td>GSD General</td>\n",
       "      <td>39.0</td>\n",
       "      <td>Public Library</td>\n",
       "      <td>39160910.0</td>\n",
       "      <td>x-LIBALOB Billings and Colle</td>\n",
       "      <td>501160.0</td>\n",
       "      <td>YE Biweekly Sal/Fringe Accr</td>\n",
       "      <td>0.0</td>\n",
       "      <td>82.23</td>\n",
       "      <td>...</td>\n",
       "      <td>0.0</td>\n",
       "      <td>0.00</td>\n",
       "      <td>0.0</td>\n",
       "      <td>0.00</td>\n",
       "      <td>0.0</td>\n",
       "      <td>0.00</td>\n",
       "      <td>0.0</td>\n",
       "      <td>0.00</td>\n",
       "      <td>0</td>\n",
       "      <td>0.00</td>\n",
       "    </tr>\n",
       "    <tr>\n",
       "      <th>16196</th>\n",
       "      <td>10101</td>\n",
       "      <td>GSD General</td>\n",
       "      <td>39.0</td>\n",
       "      <td>Public Library</td>\n",
       "      <td>39160910.0</td>\n",
       "      <td>x-LIBALOB Billings and Colle</td>\n",
       "      <td>501118.0</td>\n",
       "      <td>Admin Leave Disaster</td>\n",
       "      <td>0.0</td>\n",
       "      <td>62.02</td>\n",
       "      <td>...</td>\n",
       "      <td>0.0</td>\n",
       "      <td>0.00</td>\n",
       "      <td>0.0</td>\n",
       "      <td>0.00</td>\n",
       "      <td>0.0</td>\n",
       "      <td>0.00</td>\n",
       "      <td>0.0</td>\n",
       "      <td>0.00</td>\n",
       "      <td>0</td>\n",
       "      <td>0.00</td>\n",
       "    </tr>\n",
       "    <tr>\n",
       "      <th>16197</th>\n",
       "      <td>10101</td>\n",
       "      <td>GSD General</td>\n",
       "      <td>39.0</td>\n",
       "      <td>Public Library</td>\n",
       "      <td>39161000.0</td>\n",
       "      <td>LIB ALOB NonpayrollTrans Clear</td>\n",
       "      <td>503999.0</td>\n",
       "      <td>Credit Card Clearing</td>\n",
       "      <td>0.0</td>\n",
       "      <td>0.00</td>\n",
       "      <td>...</td>\n",
       "      <td>0.0</td>\n",
       "      <td>0.00</td>\n",
       "      <td>0.0</td>\n",
       "      <td>0.00</td>\n",
       "      <td>0.0</td>\n",
       "      <td>0.00</td>\n",
       "      <td>0.0</td>\n",
       "      <td>0.00</td>\n",
       "      <td>0</td>\n",
       "      <td>0.00</td>\n",
       "    </tr>\n",
       "  </tbody>\n",
       "</table>\n",
       "<p>1884 rows × 32 columns</p>\n",
       "</div>"
      ],
      "text/plain": [
       "        Fund Fund Description  Department Department Description  \\\n",
       "14037  10101      GSD General        39.0         Public Library   \n",
       "14277  10101      GSD General        39.0         Public Library   \n",
       "14314  10101      GSD General        39.0         Public Library   \n",
       "14315  10101      GSD General        39.0         Public Library   \n",
       "14316  10101      GSD General        39.0         Public Library   \n",
       "...      ...              ...         ...                    ...   \n",
       "16193  10101      GSD General        39.0         Public Library   \n",
       "16194  10101      GSD General        39.0         Public Library   \n",
       "16195  10101      GSD General        39.0         Public Library   \n",
       "16196  10101      GSD General        39.0         Public Library   \n",
       "16197  10101      GSD General        39.0         Public Library   \n",
       "\n",
       "       Business Unit       Business Unit Description  Object Account  \\\n",
       "14037     39103335.0               LIB Goodletsville        502883.0   \n",
       "14277     39101010.0      LIB Administrative Support        502359.0   \n",
       "14314     39101010.0      LIB Administrative Support        501174.0   \n",
       "14315     39101010.0      LIB Administrative Support        501175.0   \n",
       "14316     39101010.0      LIB Administrative Support        501176.0   \n",
       "...              ...                             ...             ...   \n",
       "16193     39160910.0    x-LIBALOB Billings and Colle        501101.0   \n",
       "16194     39160910.0    x-LIBALOB Billings and Colle        501102.0   \n",
       "16195     39160910.0    x-LIBALOB Billings and Colle        501160.0   \n",
       "16196     39160910.0    x-LIBALOB Billings and Colle        501118.0   \n",
       "16197     39161000.0  LIB ALOB NonpayrollTrans Clear        503999.0   \n",
       "\n",
       "        Object Account Description  FY2010 Budgeted Expenses  \\\n",
       "14037                 Registration                       0.0   \n",
       "14277       Devlop/Framing/Artwork                       0.0   \n",
       "14314        Employer Group Health                       0.0   \n",
       "14315        Employer Dental Group                       0.0   \n",
       "14316          Employer Group Life                       0.0   \n",
       "...                            ...                       ...   \n",
       "16193                  Regular Pay                   14800.0   \n",
       "16194                    Leave Pay                    1300.0   \n",
       "16195  YE Biweekly Sal/Fringe Accr                       0.0   \n",
       "16196         Admin Leave Disaster                       0.0   \n",
       "16197         Credit Card Clearing                       0.0   \n",
       "\n",
       "       FY2010 Actual Expenses  ...  FY2017 Budgeted Expenses  \\\n",
       "14037                    0.00  ...                       0.0   \n",
       "14277                    0.00  ...                       0.0   \n",
       "14314                    0.00  ...                  121700.0   \n",
       "14315                    0.00  ...                    5500.0   \n",
       "14316                    0.00  ...                    3200.0   \n",
       "...                       ...  ...                       ...   \n",
       "16193                14462.15  ...                       0.0   \n",
       "16194                 1601.12  ...                       0.0   \n",
       "16195                   82.23  ...                       0.0   \n",
       "16196                   62.02  ...                       0.0   \n",
       "16197                    0.00  ...                       0.0   \n",
       "\n",
       "       FY2017 Actual Expenses  FY2018 Budgeted Expenses  \\\n",
       "14037                  400.00                       0.0   \n",
       "14277                    0.00                       0.0   \n",
       "14314               168384.00                  131100.0   \n",
       "14315                 5132.82                    6100.0   \n",
       "14316                 2649.01                    3500.0   \n",
       "...                       ...                       ...   \n",
       "16193                    0.00                       0.0   \n",
       "16194                    0.00                       0.0   \n",
       "16195                    0.00                       0.0   \n",
       "16196                    0.00                       0.0   \n",
       "16197                    0.00                       0.0   \n",
       "\n",
       "       FY2018 Actual Expenses  FY2019 Budgeted Expenses  \\\n",
       "14037                   65.00                       0.0   \n",
       "14277                    0.00                       0.0   \n",
       "14314               204357.00                  132600.0   \n",
       "14315                 6377.45                    6100.0   \n",
       "14316                 2908.16                    3500.0   \n",
       "...                       ...                       ...   \n",
       "16193                    0.00                       0.0   \n",
       "16194                    0.00                       0.0   \n",
       "16195                    0.00                       0.0   \n",
       "16196                    0.00                       0.0   \n",
       "16197                    0.00                       0.0   \n",
       "\n",
       "       FY2019 Actual Expenses  FY2020 Budgeted Expenses  \\\n",
       "14037                    0.00                       0.0   \n",
       "14277                    0.00                       0.0   \n",
       "14314               195438.00                  144300.0   \n",
       "14315                 6345.93                    6100.0   \n",
       "14316                 2923.78                    3500.0   \n",
       "...                       ...                       ...   \n",
       "16193                    0.00                       0.0   \n",
       "16194                    0.00                       0.0   \n",
       "16195                    0.00                       0.0   \n",
       "16196                    0.00                       0.0   \n",
       "16197                    0.00                       0.0   \n",
       "\n",
       "       FY2020 Actual Expenses  FY2021 Budgeted Expenses  \\\n",
       "14037                    0.00                         0   \n",
       "14277                    0.00                         0   \n",
       "14314               176817.00                    144300   \n",
       "14315                12505.80                      6100   \n",
       "14316                 2695.01                      3500   \n",
       "...                       ...                       ...   \n",
       "16193                    0.00                         0   \n",
       "16194                    0.00                         0   \n",
       "16195                    0.00                         0   \n",
       "16196                    0.00                         0   \n",
       "16197                    0.00                         0   \n",
       "\n",
       "       FY2021 Actual Expenses  \n",
       "14037                    0.00  \n",
       "14277                    0.00  \n",
       "14314               186463.20  \n",
       "14315                 6276.32  \n",
       "14316                 2688.30  \n",
       "...                       ...  \n",
       "16193                    0.00  \n",
       "16194                    0.00  \n",
       "16195                    0.00  \n",
       "16196                    0.00  \n",
       "16197                    0.00  \n",
       "\n",
       "[1884 rows x 32 columns]"
      ]
     },
     "execution_count": 67,
     "metadata": {},
     "output_type": "execute_result"
    }
   ],
   "source": [
    "library"
   ]
  },
  {
   "cell_type": "code",
   "execution_count": 68,
   "metadata": {},
   "outputs": [],
   "source": [
    "dd = library.groupby(['Department Description']).sum()"
   ]
  },
  {
   "cell_type": "code",
   "execution_count": 69,
   "metadata": {},
   "outputs": [],
   "source": [
    "dd.drop(['Department','Business Unit','Object Account','FY2010 Budgeted Expenses','FY2011 Budgeted Expenses','FY2012 Budgeted Expenses','FY2013 Budgeted Expenses','FY2014 Budgeted Expenses','FY2015 Budgeted Expenses','FY2016 Budgeted Expenses','FY2017 Budgeted Expenses','FY2018 Budgeted Expenses','FY2019 Budgeted Expenses','FY2020 Budgeted Expenses','FY2021 Budgeted Expenses'],axis=1,inplace=True)"
   ]
  },
  {
   "cell_type": "code",
   "execution_count": 70,
   "metadata": {},
   "outputs": [
    {
     "data": {
      "text/html": [
       "<div>\n",
       "<style scoped>\n",
       "    .dataframe tbody tr th:only-of-type {\n",
       "        vertical-align: middle;\n",
       "    }\n",
       "\n",
       "    .dataframe tbody tr th {\n",
       "        vertical-align: top;\n",
       "    }\n",
       "\n",
       "    .dataframe thead th {\n",
       "        text-align: right;\n",
       "    }\n",
       "</style>\n",
       "<table border=\"1\" class=\"dataframe\">\n",
       "  <thead>\n",
       "    <tr style=\"text-align: right;\">\n",
       "      <th></th>\n",
       "      <th>FY2010 Actual Expenses</th>\n",
       "      <th>FY2011 Actual Expenses</th>\n",
       "      <th>FY2012 Actual Expenses</th>\n",
       "      <th>FY2013 Actual Expenses</th>\n",
       "      <th>FY2014 Actual Expenses</th>\n",
       "      <th>FY2015 Actual Expenses</th>\n",
       "      <th>FY2016 Actual Expenses</th>\n",
       "      <th>FY2017 Actual Expenses</th>\n",
       "      <th>FY2018 Actual Expenses</th>\n",
       "      <th>FY2019 Actual Expenses</th>\n",
       "      <th>FY2020 Actual Expenses</th>\n",
       "      <th>FY2021 Actual Expenses</th>\n",
       "    </tr>\n",
       "    <tr>\n",
       "      <th>Department Description</th>\n",
       "      <th></th>\n",
       "      <th></th>\n",
       "      <th></th>\n",
       "      <th></th>\n",
       "      <th></th>\n",
       "      <th></th>\n",
       "      <th></th>\n",
       "      <th></th>\n",
       "      <th></th>\n",
       "      <th></th>\n",
       "      <th></th>\n",
       "      <th></th>\n",
       "    </tr>\n",
       "  </thead>\n",
       "  <tbody>\n",
       "    <tr>\n",
       "      <th>Public Library</th>\n",
       "      <td>18445049.38</td>\n",
       "      <td>19769676.89</td>\n",
       "      <td>20363498.23</td>\n",
       "      <td>21479723.57</td>\n",
       "      <td>21426127.83</td>\n",
       "      <td>24003183.21</td>\n",
       "      <td>27432633.67</td>\n",
       "      <td>29789104.38</td>\n",
       "      <td>30793711.48</td>\n",
       "      <td>31282141.25</td>\n",
       "      <td>31369260.38</td>\n",
       "      <td>30651471.28</td>\n",
       "    </tr>\n",
       "  </tbody>\n",
       "</table>\n",
       "</div>"
      ],
      "text/plain": [
       "                        FY2010 Actual Expenses  FY2011 Actual Expenses  \\\n",
       "Department Description                                                   \n",
       "Public Library                     18445049.38             19769676.89   \n",
       "\n",
       "                        FY2012 Actual Expenses  FY2013 Actual Expenses  \\\n",
       "Department Description                                                   \n",
       "Public Library                     20363498.23             21479723.57   \n",
       "\n",
       "                        FY2014 Actual Expenses  FY2015 Actual Expenses  \\\n",
       "Department Description                                                   \n",
       "Public Library                     21426127.83             24003183.21   \n",
       "\n",
       "                        FY2016 Actual Expenses  FY2017 Actual Expenses  \\\n",
       "Department Description                                                   \n",
       "Public Library                     27432633.67             29789104.38   \n",
       "\n",
       "                        FY2018 Actual Expenses  FY2019 Actual Expenses  \\\n",
       "Department Description                                                   \n",
       "Public Library                     30793711.48             31282141.25   \n",
       "\n",
       "                        FY2020 Actual Expenses  FY2021 Actual Expenses  \n",
       "Department Description                                                  \n",
       "Public Library                     31369260.38             30651471.28  "
      ]
     },
     "execution_count": 70,
     "metadata": {},
     "output_type": "execute_result"
    }
   ],
   "source": [
    "dd.head()"
   ]
  },
  {
   "cell_type": "code",
   "execution_count": 71,
   "metadata": {},
   "outputs": [
    {
     "data": {
      "text/plain": [
       "<AxesSubplot:xlabel='Department Description'>"
      ]
     },
     "execution_count": 71,
     "metadata": {},
     "output_type": "execute_result"
    },
    {
     "data": {
      "image/png": "[encoded data removed]",
      "text/plain": [
       "<Figure size 640x480 with 1 Axes>"
      ]
     },
     "metadata": {},
     "output_type": "display_data"
    }
   ],
   "source": [
    "dd.plot(kind=\"line\")"
   ]
  },
  {
   "cell_type": "code",
   "execution_count": 72,
   "metadata": {},
   "outputs": [],
   "source": [
    "lib_13_19 = dd[['FY2013 Actual Expenses','FY2014 Actual Expenses','FY2015 Actual Expenses','FY2016 Actual Expenses','FY2017 Actual Expenses','FY2018 Actual Expenses','FY2019 Actual Expenses']]"
   ]
  },
  {
   "cell_type": "code",
   "execution_count": 73,
   "metadata": {},
   "outputs": [],
   "source": [
    "lib_13_19 = lib_13_19.T"
   ]
  },
  {
   "cell_type": "code",
   "execution_count": 74,
   "metadata": {},
   "outputs": [
    {
     "data": {
      "text/plain": [
       "<AxesSubplot:>"
      ]
     },
     "execution_count": 74,
     "metadata": {},
     "output_type": "execute_result"
    },
    {
     "data": {
      "image/png": "[encoded data removed]",
      "text/plain": [
       "<Figure size 640x480 with 1 Axes>"
      ]
     },
     "metadata": {},
     "output_type": "display_data"
    },
    {
     "data": {
      "image/png": "[encoded data removed]",
      "text/plain": [
       "<Figure size 640x480 with 1 Axes>"
      ]
     },
     "metadata": {},
     "output_type": "display_data"
    }
   ],
   "source": [
    "lib_13_19.plot(kind=\"bar\")\n",
    "act.plot(kind='bar')"
   ]
  },
  {
   "cell_type": "code",
   "execution_count": 75,
   "metadata": {},
   "outputs": [
    {
     "name": "stdout",
     "output_type": "stream",
     "text": [
      "<class 'pandas.core.frame.DataFrame'>\n",
      "RangeIndex: 7 entries, 0 to 6\n",
      "Data columns (total 2 columns):\n",
      " #   Column   Non-Null Count  Dtype \n",
      "---  ------   --------------  ----- \n",
      " 0   act_avg  7 non-null      object\n",
      " 1   year     7 non-null      int64 \n",
      "dtypes: int64(1), object(1)\n",
      "memory usage: 240.0+ bytes\n"
     ]
    }
   ],
   "source": [
    "act.info()"
   ]
  },
  {
   "cell_type": "code",
   "execution_count": 76,
   "metadata": {},
   "outputs": [
    {
     "data": {
      "text/html": [
       "<div>\n",
       "<style scoped>\n",
       "    .dataframe tbody tr th:only-of-type {\n",
       "        vertical-align: middle;\n",
       "    }\n",
       "\n",
       "    .dataframe tbody tr th {\n",
       "        vertical-align: top;\n",
       "    }\n",
       "\n",
       "    .dataframe thead th {\n",
       "        text-align: right;\n",
       "    }\n",
       "</style>\n",
       "<table border=\"1\" class=\"dataframe\">\n",
       "  <thead>\n",
       "    <tr style=\"text-align: right;\">\n",
       "      <th>Department Description</th>\n",
       "      <th>Public Library</th>\n",
       "    </tr>\n",
       "  </thead>\n",
       "  <tbody>\n",
       "    <tr>\n",
       "      <th>FY2013 Actual Expenses</th>\n",
       "      <td>21479723.57</td>\n",
       "    </tr>\n",
       "    <tr>\n",
       "      <th>FY2014 Actual Expenses</th>\n",
       "      <td>21426127.83</td>\n",
       "    </tr>\n",
       "    <tr>\n",
       "      <th>FY2015 Actual Expenses</th>\n",
       "      <td>24003183.21</td>\n",
       "    </tr>\n",
       "    <tr>\n",
       "      <th>FY2016 Actual Expenses</th>\n",
       "      <td>27432633.67</td>\n",
       "    </tr>\n",
       "    <tr>\n",
       "      <th>FY2017 Actual Expenses</th>\n",
       "      <td>29789104.38</td>\n",
       "    </tr>\n",
       "    <tr>\n",
       "      <th>FY2018 Actual Expenses</th>\n",
       "      <td>30793711.48</td>\n",
       "    </tr>\n",
       "    <tr>\n",
       "      <th>FY2019 Actual Expenses</th>\n",
       "      <td>31282141.25</td>\n",
       "    </tr>\n",
       "  </tbody>\n",
       "</table>\n",
       "</div>"
      ],
      "text/plain": [
       "Department Description  Public Library\n",
       "FY2013 Actual Expenses     21479723.57\n",
       "FY2014 Actual Expenses     21426127.83\n",
       "FY2015 Actual Expenses     24003183.21\n",
       "FY2016 Actual Expenses     27432633.67\n",
       "FY2017 Actual Expenses     29789104.38\n",
       "FY2018 Actual Expenses     30793711.48\n",
       "FY2019 Actual Expenses     31282141.25"
      ]
     },
     "execution_count": 76,
     "metadata": {},
     "output_type": "execute_result"
    }
   ],
   "source": [
    "lib_13_19"
   ]
  },
  {
   "cell_type": "code",
   "execution_count": 77,
   "metadata": {},
   "outputs": [],
   "source": [
    "lib_13_19['year'] = [2013,2014,2015,2016,2017,2018,2019]"
   ]
  },
  {
   "cell_type": "code",
   "execution_count": 78,
   "metadata": {},
   "outputs": [],
   "source": [
    "lib = lib_13_19[['Public Library', 'year']]"
   ]
  },
  {
   "cell_type": "code",
   "execution_count": null,
   "metadata": {},
   "outputs": [],
   "source": []
  },
  {
   "cell_type": "code",
   "execution_count": 79,
   "metadata": {},
   "outputs": [
    {
     "data": {
      "image/png": "[encoded data removed]",
      "text/plain": [
       "<Figure size 640x480 with 2 Axes>"
      ]
     },
     "metadata": {},
     "output_type": "display_data"
    }
   ],
   "source": [
    "# plot line graph on axis #1\n",
    "ax1 = sns.lineplot(\n",
    "    y ='Public Library',\n",
    "    x = 'year', \n",
    "    data=lib,\n",
    "    \n",
    "    sort=False, \n",
    "    color='blue'\n",
    ")\n",
    "ax1.set_ylabel('average temp')\n",
    "ax1.set_ylim(0, 3.5)\n",
    "ax1.legend(['average_temp'], loc=\"upper left\")\n",
    "# set up the 2nd axis\n",
    "ax2 = ax1.twinx()\n",
    "# plot bar graph on axis #2\n",
    "sns.barplot( \n",
    "    x='year', \n",
    "    y='act_avg', \n",
    "    data=act, \n",
    "    color='orange', \n",
    "    alpha=0.5, \n",
    "    ax = ax2       # Pre-existing axes for the plot\n",
    ")\n",
    "ax2.grid(b=False) # turn off grid #2\n",
    "ax2.set_ylabel('average percipitation mm')\n",
    "ax2.set_ylim(15,20)\n",
    "ax2.legend(['average_percipitation_mm'], loc=\"upper right\")\n",
    "plt.show()"
   ]
  },
  {
   "cell_type": "code",
   "execution_count": 80,
   "metadata": {},
   "outputs": [
    {
     "data": {
      "image/png": "[encoded data removed]",
      "text/plain": [
       "<Figure size 640x480 with 1 Axes>"
      ]
     },
     "metadata": {},
     "output_type": "display_data"
    }
   ],
   "source": [
    "ax1 = sns.lineplot(\n",
    "    y ='Public Library',\n",
    "    x = 'year', \n",
    "    data=lib_13_19,\n",
    "    \n",
    "    sort=False, \n",
    "    color='blue'\n",
    ")"
   ]
  },
  {
   "cell_type": "markdown",
   "metadata": {},
   "source": [
    "# Create figure and axis #1\n",
    "fig, ax1 = plt.subplots()\n",
    "# plot line chart on axis #1\n",
    "ax1.plot(x, average_temp) \n",
    "ax1.set_ylabel('average temp')\n",
    "ax1.set_ylim(0, 25)\n",
    "ax1.legend(['average_temp'], loc=\"upper left\")\n",
    "# set up the 2nd axis\n",
    "ax2 = ax1.twinx()\n",
    "# plot bar chart on axis #2\n",
    "ax2.bar(x, average_percipitation_mm, width=0.5, alpha=0.5, color='orange')\n",
    "ax2.grid(False) # turn off grid #2\n",
    "ax2.set_ylabel('average percipitation mm')\n",
    "ax2.set_ylim(0, 90)\n",
    "ax2.legend(['average_percipitation_mm'], loc=\"upper right\")\n",
    "plt.show()"
   ]
  },
  {
   "cell_type": "code",
   "execution_count": 81,
   "metadata": {},
   "outputs": [
    {
     "data": {
      "image/png": "[encoded data removed]",
      "text/plain": [
       "<Figure size 640x480 with 1 Axes>"
      ]
     },
     "metadata": {},
     "output_type": "display_data"
    }
   ],
   "source": [
    "# plot line graph on axis #1\n",
    "ax1 = sns.barplot( \n",
    "    x='year', \n",
    "    y='act_avg', \n",
    "    data=act, \n",
    "    color='orange', \n",
    "    alpha=0.5, \n",
    "    ax = ax2       # Pre-existing axes for the plot\n",
    ")\n",
    "ax1.set_ylabel('average temp')\n",
    "ax1.set_ylim(0, 3.5)\n",
    "ax1.legend(['average_temp'], loc=\"upper left\")\n",
    "# set up the 2nd axis\n",
    "ax2 = ax1.twinx()\n",
    "# plot bar graph on axis #2\n",
    "sns.lineplot(\n",
    "    y ='Public Library',\n",
    "    x = 'year', \n",
    "    data=lib,\n",
    "    \n",
    "    sort=False, \n",
    "    color='blue'\n",
    ")\n",
    "ax2.grid(b=False) # turn off grid #2\n",
    "ax2.set_ylabel('average percipitation mm')\n",
    "ax2.set_ylim(15,20)\n",
    "ax2.legend(['average_percipitation_mm'], loc=\"upper right\")\n",
    "plt.show()"
   ]
  },
  {
   "cell_type": "code",
   "execution_count": 82,
   "metadata": {},
   "outputs": [
    {
     "name": "stdout",
     "output_type": "stream",
     "text": [
      "<class 'pandas.core.frame.DataFrame'>\n",
      "Index: 7 entries, FY2013 Actual Expenses to FY2019 Actual Expenses\n",
      "Data columns (total 2 columns):\n",
      " #   Column          Non-Null Count  Dtype  \n",
      "---  ------          --------------  -----  \n",
      " 0   Public Library  7 non-null      float64\n",
      " 1   year            7 non-null      int64  \n",
      "dtypes: float64(1), int64(1)\n",
      "memory usage: 468.0+ bytes\n"
     ]
    }
   ],
   "source": [
    "lib.info()"
   ]
  },
  {
   "cell_type": "code",
   "execution_count": 83,
   "metadata": {},
   "outputs": [
    {
     "data": {
      "text/html": [
       "<div>\n",
       "<style scoped>\n",
       "    .dataframe tbody tr th:only-of-type {\n",
       "        vertical-align: middle;\n",
       "    }\n",
       "\n",
       "    .dataframe tbody tr th {\n",
       "        vertical-align: top;\n",
       "    }\n",
       "\n",
       "    .dataframe thead th {\n",
       "        text-align: right;\n",
       "    }\n",
       "</style>\n",
       "<table border=\"1\" class=\"dataframe\">\n",
       "  <thead>\n",
       "    <tr style=\"text-align: right;\">\n",
       "      <th>Department Description</th>\n",
       "      <th>Public Library</th>\n",
       "      <th>year</th>\n",
       "    </tr>\n",
       "  </thead>\n",
       "  <tbody>\n",
       "    <tr>\n",
       "      <th>FY2013 Actual Expenses</th>\n",
       "      <td>21479723.57</td>\n",
       "      <td>2013</td>\n",
       "    </tr>\n",
       "    <tr>\n",
       "      <th>FY2014 Actual Expenses</th>\n",
       "      <td>21426127.83</td>\n",
       "      <td>2014</td>\n",
       "    </tr>\n",
       "    <tr>\n",
       "      <th>FY2015 Actual Expenses</th>\n",
       "      <td>24003183.21</td>\n",
       "      <td>2015</td>\n",
       "    </tr>\n",
       "    <tr>\n",
       "      <th>FY2016 Actual Expenses</th>\n",
       "      <td>27432633.67</td>\n",
       "      <td>2016</td>\n",
       "    </tr>\n",
       "    <tr>\n",
       "      <th>FY2017 Actual Expenses</th>\n",
       "      <td>29789104.38</td>\n",
       "      <td>2017</td>\n",
       "    </tr>\n",
       "    <tr>\n",
       "      <th>FY2018 Actual Expenses</th>\n",
       "      <td>30793711.48</td>\n",
       "      <td>2018</td>\n",
       "    </tr>\n",
       "    <tr>\n",
       "      <th>FY2019 Actual Expenses</th>\n",
       "      <td>31282141.25</td>\n",
       "      <td>2019</td>\n",
       "    </tr>\n",
       "  </tbody>\n",
       "</table>\n",
       "</div>"
      ],
      "text/plain": [
       "Department Description  Public Library  year\n",
       "FY2013 Actual Expenses     21479723.57  2013\n",
       "FY2014 Actual Expenses     21426127.83  2014\n",
       "FY2015 Actual Expenses     24003183.21  2015\n",
       "FY2016 Actual Expenses     27432633.67  2016\n",
       "FY2017 Actual Expenses     29789104.38  2017\n",
       "FY2018 Actual Expenses     30793711.48  2018\n",
       "FY2019 Actual Expenses     31282141.25  2019"
      ]
     },
     "execution_count": 83,
     "metadata": {},
     "output_type": "execute_result"
    }
   ],
   "source": [
    "lib"
   ]
  },
  {
   "cell_type": "code",
   "execution_count": null,
   "metadata": {},
   "outputs": [],
   "source": []
  },
  {
   "cell_type": "code",
   "execution_count": 84,
   "metadata": {},
   "outputs": [],
   "source": [
    "#lib.drop(labels='index',axis=0,inplace=True)"
   ]
  },
  {
   "cell_type": "code",
   "execution_count": 85,
   "metadata": {},
   "outputs": [],
   "source": [
    "lab = [2013,2014,2015,2016,2017,2018,2019]"
   ]
  },
  {
   "cell_type": "code",
   "execution_count": 86,
   "metadata": {},
   "outputs": [
    {
     "data": {
      "image/png": "[encoded data removed]",
      "text/plain": [
       "<Figure size 640x480 with 2 Axes>"
      ]
     },
     "metadata": {},
     "output_type": "display_data"
    }
   ],
   "source": [
    "# Create the figure and axes object\n",
    "fig, ax = plt.subplots()\n",
    "# Plot the first x and y axes:\n",
    "lib.plot(\n",
    "    use_index=False, \n",
    "    kind='bar',\n",
    "    y='Public Library', \n",
    "    ax=ax, \n",
    "    color='orange',\n",
    "    #ylim = (3,5)\n",
    "    \n",
    "    \n",
    ")\n",
    "# Plot the second x and y axes. \n",
    "# By secondary_y = True a second y-axis is requested\n",
    "act.plot(\n",
    "    use_index=True, \n",
    "    y='act_avg', \n",
    "    ax=ax, \n",
    "    secondary_y=True, \n",
    "    color='blue',\n",
    "    #xlabel=(lab)\n",
    "    \n",
    ")\n",
    "ax.set_xtickslables =([2013,2014,2015,2016,2017,2018,2019])\n",
    "plt.show()"
   ]
  },
  {
   "cell_type": "code",
   "execution_count": 87,
   "metadata": {},
   "outputs": [
    {
     "data": {
      "image/png": "[encoded data removed]",
      "text/plain": [
       "<Figure size 640x480 with 2 Axes>"
      ]
     },
     "metadata": {},
     "output_type": "display_data"
    }
   ],
   "source": [
    "# Create the figure and axes object\n",
    "fig, ax = plt.subplots()\n",
    "# Plot the first x and y axes:\n",
    "act.plot(\n",
    "    use_index=True, \n",
    "    kind='bar',\n",
    "    y='act_avg', \n",
    "    ax=ax, \n",
    "    color='orange',\n",
    "    ylim = (2.5,3.5)\n",
    ")\n",
    "# Plot the second x and y axes. \n",
    "# By secondary_y = True a second y-axis is requested\n",
    "lib_13_19.plot(\n",
    "    use_index=True, \n",
    "    y='Public Library', \n",
    "    ax=ax, \n",
    "    secondary_y=True, \n",
    "    color='blue',\n",
    "    ylim=(17.25,20)\n",
    ")\n",
    "plt.show()"
   ]
  },
  {
   "cell_type": "code",
   "execution_count": 88,
   "metadata": {},
   "outputs": [
    {
     "name": "stdout",
     "output_type": "stream",
     "text": [
      "<class 'pandas.core.frame.DataFrame'>\n",
      "Index: 7 entries, FY2013 Actual Expenses to FY2019 Actual Expenses\n",
      "Data columns (total 2 columns):\n",
      " #   Column          Non-Null Count  Dtype  \n",
      "---  ------          --------------  -----  \n",
      " 0   Public Library  7 non-null      float64\n",
      " 1   year            7 non-null      int64  \n",
      "dtypes: float64(1), int64(1)\n",
      "memory usage: 468.0+ bytes\n"
     ]
    }
   ],
   "source": [
    "lib_13_19.info()"
   ]
  },
  {
   "cell_type": "code",
   "execution_count": 89,
   "metadata": {},
   "outputs": [
    {
     "name": "stdout",
     "output_type": "stream",
     "text": [
      "<class 'pandas.core.frame.DataFrame'>\n",
      "RangeIndex: 7 entries, 0 to 6\n",
      "Data columns (total 2 columns):\n",
      " #   Column   Non-Null Count  Dtype \n",
      "---  ------   --------------  ----- \n",
      " 0   act_avg  7 non-null      object\n",
      " 1   year     7 non-null      int64 \n",
      "dtypes: int64(1), object(1)\n",
      "memory usage: 240.0+ bytes\n"
     ]
    }
   ],
   "source": [
    "act.info()"
   ]
  },
  {
   "cell_type": "code",
   "execution_count": 90,
   "metadata": {},
   "outputs": [
    {
     "data": {
      "text/plain": [
       "nan"
      ]
     },
     "execution_count": 90,
     "metadata": {},
     "output_type": "execute_result"
    }
   ],
   "source": [
    "lib_13_19['Public Library'].corr(act['act_avg'])"
   ]
  },
  {
   "cell_type": "code",
   "execution_count": 91,
   "metadata": {},
   "outputs": [],
   "source": [
    "lib_13_19 =  lib_13_19.reset_index()"
   ]
  },
  {
   "cell_type": "code",
   "execution_count": 92,
   "metadata": {},
   "outputs": [],
   "source": [
    "result = pd.concat([lib_13_19, act], axis=1)\n"
   ]
  },
  {
   "cell_type": "code",
   "execution_count": 93,
   "metadata": {},
   "outputs": [],
   "source": [
    "result = result.reset_index()"
   ]
  },
  {
   "cell_type": "code",
   "execution_count": 94,
   "metadata": {},
   "outputs": [],
   "source": [
    "result = result[['Public Library', 'act_avg', 'year']]"
   ]
  },
  {
   "cell_type": "code",
   "execution_count": 95,
   "metadata": {},
   "outputs": [],
   "source": [
    "result['act_avg'] = result['act_avg'].astype(dtype='float')"
   ]
  },
  {
   "cell_type": "code",
   "execution_count": 96,
   "metadata": {},
   "outputs": [
    {
     "data": {
      "text/html": [
       "<div>\n",
       "<style scoped>\n",
       "    .dataframe tbody tr th:only-of-type {\n",
       "        vertical-align: middle;\n",
       "    }\n",
       "\n",
       "    .dataframe tbody tr th {\n",
       "        vertical-align: top;\n",
       "    }\n",
       "\n",
       "    .dataframe thead th {\n",
       "        text-align: right;\n",
       "    }\n",
       "</style>\n",
       "<table border=\"1\" class=\"dataframe\">\n",
       "  <thead>\n",
       "    <tr style=\"text-align: right;\">\n",
       "      <th></th>\n",
       "      <th>Public Library</th>\n",
       "      <th>act_avg</th>\n",
       "      <th>year</th>\n",
       "      <th>year</th>\n",
       "    </tr>\n",
       "  </thead>\n",
       "  <tbody>\n",
       "    <tr>\n",
       "      <th>0</th>\n",
       "      <td>21479723.57</td>\n",
       "      <td>18.203</td>\n",
       "      <td>2013</td>\n",
       "      <td>2013</td>\n",
       "    </tr>\n",
       "    <tr>\n",
       "      <th>1</th>\n",
       "      <td>21426127.83</td>\n",
       "      <td>18.417</td>\n",
       "      <td>2014</td>\n",
       "      <td>2014</td>\n",
       "    </tr>\n",
       "    <tr>\n",
       "      <th>2</th>\n",
       "      <td>24003183.21</td>\n",
       "      <td>18.700</td>\n",
       "      <td>2015</td>\n",
       "      <td>2015</td>\n",
       "    </tr>\n",
       "    <tr>\n",
       "      <th>3</th>\n",
       "      <td>27432633.67</td>\n",
       "      <td>18.700</td>\n",
       "      <td>2016</td>\n",
       "      <td>2016</td>\n",
       "    </tr>\n",
       "    <tr>\n",
       "      <th>4</th>\n",
       "      <td>29789104.38</td>\n",
       "      <td>19.000</td>\n",
       "      <td>2017</td>\n",
       "      <td>2017</td>\n",
       "    </tr>\n",
       "    <tr>\n",
       "      <th>5</th>\n",
       "      <td>30793711.48</td>\n",
       "      <td>18.900</td>\n",
       "      <td>2018</td>\n",
       "      <td>2018</td>\n",
       "    </tr>\n",
       "    <tr>\n",
       "      <th>6</th>\n",
       "      <td>31282141.25</td>\n",
       "      <td>18.500</td>\n",
       "      <td>2019</td>\n",
       "      <td>2019</td>\n",
       "    </tr>\n",
       "  </tbody>\n",
       "</table>\n",
       "</div>"
      ],
      "text/plain": [
       "   Public Library  act_avg  year  year\n",
       "0     21479723.57   18.203  2013  2013\n",
       "1     21426127.83   18.417  2014  2014\n",
       "2     24003183.21   18.700  2015  2015\n",
       "3     27432633.67   18.700  2016  2016\n",
       "4     29789104.38   19.000  2017  2017\n",
       "5     30793711.48   18.900  2018  2018\n",
       "6     31282141.25   18.500  2019  2019"
      ]
     },
     "execution_count": 96,
     "metadata": {},
     "output_type": "execute_result"
    }
   ],
   "source": [
    "result"
   ]
  },
  {
   "attachments": {},
   "cell_type": "markdown",
   "metadata": {},
   "source": [
    "Cor between lib budget and act scores"
   ]
  },
  {
   "cell_type": "code",
   "execution_count": 97,
   "metadata": {},
   "outputs": [],
   "source": [
    "\n",
    "act_lib_corr = result['Public Library'].corr(result['act_avg'])"
   ]
  }
 ],
 "metadata": {
  "kernelspec": {
   "display_name": "base",
   "language": "python",
   "name": "python3"
  },
  "language_info": {
   "codemirror_mode": {
    "name": "ipython",
    "version": 3
   },
   "file_extension": ".py",
   "mimetype": "text/x-python",
   "name": "python",
   "nbconvert_exporter": "python",
   "pygments_lexer": "ipython3",
   "version": "3.9.7"
  },
  "orig_nbformat": 4,
  "vscode": {
   "interpreter": {
    "hash": "e83933c89791523ce27b9c1ac2fa3a2bbb0f839e7a6d72c2a74f34bb50225d36"
   }
  }
 },
 "nbformat": 4,
 "nbformat_minor": 2
}
