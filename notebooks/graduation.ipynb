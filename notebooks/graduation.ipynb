{
 "cells": [
  {
   "cell_type": "code",
   "execution_count": 2,
   "metadata": {},
   "outputs": [],
   "source": [
    "import pandas as pd\n",
    "import numpy as np\n",
    "import matplotlib.pyplot as plt\n",
    "import seaborn as sns\n",
    "%matplotlib inline"
   ]
  },
  {
   "cell_type": "code",
   "execution_count": 3,
   "metadata": {},
   "outputs": [],
   "source": [
    "df = pd.read_excel(r\"C:\\Users\\jhank\\Desktop\\DA7\\Projects\\budget-impact-jupyternb-python\\data\\graduation\\data_graduation_cohort_2015-16.xlsx\")"
   ]
  },
  {
   "cell_type": "code",
   "execution_count": 4,
   "metadata": {},
   "outputs": [
    {
     "data": {
      "text/html": [
       "<div>\n",
       "<style scoped>\n",
       "    .dataframe tbody tr th:only-of-type {\n",
       "        vertical-align: middle;\n",
       "    }\n",
       "\n",
       "    .dataframe tbody tr th {\n",
       "        vertical-align: top;\n",
       "    }\n",
       "\n",
       "    .dataframe thead th {\n",
       "        text-align: right;\n",
       "    }\n",
       "</style>\n",
       "<table border=\"1\" class=\"dataframe\">\n",
       "  <thead>\n",
       "    <tr style=\"text-align: right;\">\n",
       "      <th></th>\n",
       "      <th>District_ID</th>\n",
       "      <th>District_Name</th>\n",
       "      <th>School_ID</th>\n",
       "      <th>School_Name</th>\n",
       "      <th>Subgroup</th>\n",
       "      <th>Subject</th>\n",
       "      <th>Graduate_Cohort_2016</th>\n",
       "      <th>Graduate_Count_2016</th>\n",
       "      <th>Graduate_Rate_2016</th>\n",
       "    </tr>\n",
       "  </thead>\n",
       "  <tbody>\n",
       "    <tr>\n",
       "      <th>0</th>\n",
       "      <td>0</td>\n",
       "      <td>State of Tennessee</td>\n",
       "      <td>0</td>\n",
       "      <td>All Schools</td>\n",
       "      <td>All Students</td>\n",
       "      <td>Graduation Rate</td>\n",
       "      <td>71379</td>\n",
       "      <td>63194.0</td>\n",
       "      <td>88.5</td>\n",
       "    </tr>\n",
       "    <tr>\n",
       "      <th>1</th>\n",
       "      <td>0</td>\n",
       "      <td>State of Tennessee</td>\n",
       "      <td>0</td>\n",
       "      <td>All Schools</td>\n",
       "      <td>American Indian or Alaska Native</td>\n",
       "      <td>Graduation Rate</td>\n",
       "      <td>244</td>\n",
       "      <td>211.0</td>\n",
       "      <td>86.5</td>\n",
       "    </tr>\n",
       "    <tr>\n",
       "      <th>2</th>\n",
       "      <td>0</td>\n",
       "      <td>State of Tennessee</td>\n",
       "      <td>0</td>\n",
       "      <td>All Schools</td>\n",
       "      <td>Asian</td>\n",
       "      <td>Graduation Rate</td>\n",
       "      <td>1396</td>\n",
       "      <td>1299.0</td>\n",
       "      <td>93.1</td>\n",
       "    </tr>\n",
       "    <tr>\n",
       "      <th>3</th>\n",
       "      <td>0</td>\n",
       "      <td>State of Tennessee</td>\n",
       "      <td>0</td>\n",
       "      <td>All Schools</td>\n",
       "      <td>Black or African American</td>\n",
       "      <td>Graduation Rate</td>\n",
       "      <td>17943</td>\n",
       "      <td>14759.0</td>\n",
       "      <td>82.3</td>\n",
       "    </tr>\n",
       "    <tr>\n",
       "      <th>4</th>\n",
       "      <td>0</td>\n",
       "      <td>State of Tennessee</td>\n",
       "      <td>0</td>\n",
       "      <td>All Schools</td>\n",
       "      <td>Black/Hispanic/Native American</td>\n",
       "      <td>Graduation Rate</td>\n",
       "      <td>22622</td>\n",
       "      <td>18681.0</td>\n",
       "      <td>82.6</td>\n",
       "    </tr>\n",
       "  </tbody>\n",
       "</table>\n",
       "</div>"
      ],
      "text/plain": [
       "   District_ID       District_Name  School_ID  School_Name  \\\n",
       "0            0  State of Tennessee          0  All Schools   \n",
       "1            0  State of Tennessee          0  All Schools   \n",
       "2            0  State of Tennessee          0  All Schools   \n",
       "3            0  State of Tennessee          0  All Schools   \n",
       "4            0  State of Tennessee          0  All Schools   \n",
       "\n",
       "                           Subgroup          Subject  Graduate_Cohort_2016  \\\n",
       "0                      All Students  Graduation Rate                 71379   \n",
       "1  American Indian or Alaska Native  Graduation Rate                   244   \n",
       "2                             Asian  Graduation Rate                  1396   \n",
       "3         Black or African American  Graduation Rate                 17943   \n",
       "4    Black/Hispanic/Native American  Graduation Rate                 22622   \n",
       "\n",
       "   Graduate_Count_2016  Graduate_Rate_2016  \n",
       "0              63194.0                88.5  \n",
       "1                211.0                86.5  \n",
       "2               1299.0                93.1  \n",
       "3              14759.0                82.3  \n",
       "4              18681.0                82.6  "
      ]
     },
     "execution_count": 4,
     "metadata": {},
     "output_type": "execute_result"
    }
   ],
   "source": [
    "df.head()"
   ]
  },
  {
   "cell_type": "code",
   "execution_count": 8,
   "metadata": {},
   "outputs": [
    {
     "data": {
      "text/plain": [
       "array(['State of Tennessee', 'Anderson County', 'Oak Ridge City',\n",
       "       'Bedford County', 'Benton County', 'Bledsoe County',\n",
       "       'Blount County', 'Alcoa City', 'Maryville City', 'Bradley County',\n",
       "       'Cleveland City', 'Campbell County', 'Cannon County',\n",
       "       'Carroll County', 'Hollow Rock-Bruceton',\n",
       "       'Huntingdon Special School District',\n",
       "       'McKenzie Special School District',\n",
       "       'South Carroll Special School District',\n",
       "       'West Carroll Special School District', 'Carter County',\n",
       "       'Elizabethton City', 'Cheatham County', 'Chester County',\n",
       "       'Claiborne County', 'Clay County', 'Cocke County', 'Coffee County',\n",
       "       'Tullahoma City', 'Crockett County', 'Cumberland County',\n",
       "       'Davidson County', 'Decatur County', 'DeKalb County',\n",
       "       'Dickson County', 'Dyer County', 'Dyersburg City',\n",
       "       'Fayette County', 'Fentress County', 'Franklin County',\n",
       "       'Humboldt City', 'Milan Special School District',\n",
       "       'Trenton Special School District',\n",
       "       'Bradford Special School District',\n",
       "       'Gibson County Special School District', 'Giles County',\n",
       "       'Grainger County', 'Greene County', 'Greeneville City',\n",
       "       'Grundy County', 'Hamblen County', 'Hamilton County',\n",
       "       'Hancock County', 'Hardeman County', 'Hardin County',\n",
       "       'Hawkins County', 'Haywood County', 'Henderson County',\n",
       "       'Henry County', 'Hickman County', 'Houston County',\n",
       "       'Humphreys County', 'Jackson County', 'Jefferson County',\n",
       "       'Johnson County', 'Knox County', 'Lake County',\n",
       "       'Lauderdale County', 'Lawrence County', 'Lewis County',\n",
       "       'Lincoln County', 'Fayetteville City', 'Loudon County',\n",
       "       'Lenoir City', 'McMinn County', 'McNairy County', 'Macon County',\n",
       "       'Jackson-Madison County', 'Marion County', 'Richard City',\n",
       "       'Marshall County', 'Maury County', 'Meigs County', 'Monroe County',\n",
       "       'Montgomery County', 'Moore County', 'Morgan County',\n",
       "       'Obion County', 'Union City', 'Overton County', 'Perry County',\n",
       "       'Pickett County', 'Polk County', 'Putnam County', 'Rhea County',\n",
       "       'Roane County', 'Robertson County', 'Rutherford County',\n",
       "       'Scott County', 'Oneida Special School District',\n",
       "       'Sequatchie County', 'Sevier County', 'Shelby County (New)',\n",
       "       'Arlington City', 'Bartlett City', 'Collierville City',\n",
       "       'Germantown City', 'Millington City', 'Smith County',\n",
       "       'Stewart County', 'Sullivan County', 'Bristol City',\n",
       "       'Kingsport City', 'Sumner County', 'Tipton County',\n",
       "       'Trousdale County', 'Unicoi County', 'Union County',\n",
       "       'Van Buren County', 'Warren County', 'Washington County',\n",
       "       'Johnson City', 'Wayne County', 'Weakley County', 'White County',\n",
       "       'Williamson County', 'Wilson County', 'Alvin C. York Institute',\n",
       "       'Tenn School For Blind', 'Tenn Sch For Deaf',\n",
       "       \"Department of Children's Services Ed. Division\",\n",
       "       'Achievement School District'], dtype=object)"
      ]
     },
     "execution_count": 8,
     "metadata": {},
     "output_type": "execute_result"
    }
   ],
   "source": [
    "df['District_Name'].unique()"
   ]
  },
  {
   "cell_type": "code",
   "execution_count": 14,
   "metadata": {},
   "outputs": [],
   "source": [
    "df2016 = df[(df['District_Name'] == 'Davidson County') & (df['Subgroup'] == 'All Students') & (df['School_Name'] == 'All Schools')]"
   ]
  },
  {
   "cell_type": "code",
   "execution_count": 15,
   "metadata": {},
   "outputs": [
    {
     "data": {
      "text/html": [
       "<div>\n",
       "<style scoped>\n",
       "    .dataframe tbody tr th:only-of-type {\n",
       "        vertical-align: middle;\n",
       "    }\n",
       "\n",
       "    .dataframe tbody tr th {\n",
       "        vertical-align: top;\n",
       "    }\n",
       "\n",
       "    .dataframe thead th {\n",
       "        text-align: right;\n",
       "    }\n",
       "</style>\n",
       "<table border=\"1\" class=\"dataframe\">\n",
       "  <thead>\n",
       "    <tr style=\"text-align: right;\">\n",
       "      <th></th>\n",
       "      <th>District_ID</th>\n",
       "      <th>District_Name</th>\n",
       "      <th>School_ID</th>\n",
       "      <th>School_Name</th>\n",
       "      <th>Subgroup</th>\n",
       "      <th>Subject</th>\n",
       "      <th>Graduate_Cohort_2016</th>\n",
       "      <th>Graduate_Count_2016</th>\n",
       "      <th>Graduate_Rate_2016</th>\n",
       "    </tr>\n",
       "  </thead>\n",
       "  <tbody>\n",
       "    <tr>\n",
       "      <th>1044</th>\n",
       "      <td>190</td>\n",
       "      <td>Davidson County</td>\n",
       "      <td>0</td>\n",
       "      <td>All Schools</td>\n",
       "      <td>All Students</td>\n",
       "      <td>Graduation Rate</td>\n",
       "      <td>5422</td>\n",
       "      <td>4394.0</td>\n",
       "      <td>81.0</td>\n",
       "    </tr>\n",
       "  </tbody>\n",
       "</table>\n",
       "</div>"
      ],
      "text/plain": [
       "      District_ID    District_Name  School_ID  School_Name      Subgroup  \\\n",
       "1044          190  Davidson County          0  All Schools  All Students   \n",
       "\n",
       "              Subject  Graduate_Cohort_2016  Graduate_Count_2016  \\\n",
       "1044  Graduation Rate                  5422               4394.0   \n",
       "\n",
       "      Graduate_Rate_2016  \n",
       "1044                81.0  "
      ]
     },
     "execution_count": 15,
     "metadata": {},
     "output_type": "execute_result"
    }
   ],
   "source": [
    "df2016"
   ]
  }
 ],
 "metadata": {
  "kernelspec": {
   "display_name": "Python 3.9.7 ('base')",
   "language": "python",
   "name": "python3"
  },
  "language_info": {
   "codemirror_mode": {
    "name": "ipython",
    "version": 3
   },
   "file_extension": ".py",
   "mimetype": "text/x-python",
   "name": "python",
   "nbconvert_exporter": "python",
   "pygments_lexer": "ipython3",
   "version": "3.9.7"
  },
  "orig_nbformat": 4,
  "vscode": {
   "interpreter": {
    "hash": "e83933c89791523ce27b9c1ac2fa3a2bbb0f839e7a6d72c2a74f34bb50225d36"
   }
  }
 },
 "nbformat": 4,
 "nbformat_minor": 2
}
