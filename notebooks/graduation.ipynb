{
 "cells": [
  {
   "cell_type": "code",
   "execution_count": 33,
   "metadata": {},
   "outputs": [],
   "source": [
    "import pandas as pd\n",
    "import numpy as np\n",
    "import matplotlib.pyplot as plt\n",
    "import seaborn as sns\n",
    "%matplotlib inline"
   ]
  },
  {
   "cell_type": "markdown",
   "metadata": {},
   "source": [
    "2016 graduate rate"
   ]
  },
  {
   "cell_type": "code",
   "execution_count": 34,
   "metadata": {},
   "outputs": [],
   "source": [
    "df1 = pd.read_excel(r\"C:\\Users\\jhank\\Desktop\\DA7\\Projects\\budget-impact-jupyternb-python\\data\\graduation\\data_graduation_cohort_2015-16.xlsx\")"
   ]
  },
  {
   "cell_type": "code",
   "execution_count": 35,
   "metadata": {},
   "outputs": [
    {
     "data": {
      "text/html": [
       "<div>\n",
       "<style scoped>\n",
       "    .dataframe tbody tr th:only-of-type {\n",
       "        vertical-align: middle;\n",
       "    }\n",
       "\n",
       "    .dataframe tbody tr th {\n",
       "        vertical-align: top;\n",
       "    }\n",
       "\n",
       "    .dataframe thead th {\n",
       "        text-align: right;\n",
       "    }\n",
       "</style>\n",
       "<table border=\"1\" class=\"dataframe\">\n",
       "  <thead>\n",
       "    <tr style=\"text-align: right;\">\n",
       "      <th></th>\n",
       "      <th>District_ID</th>\n",
       "      <th>District_Name</th>\n",
       "      <th>School_ID</th>\n",
       "      <th>School_Name</th>\n",
       "      <th>Subgroup</th>\n",
       "      <th>Subject</th>\n",
       "      <th>Graduate_Cohort_2016</th>\n",
       "      <th>Graduate_Count_2016</th>\n",
       "      <th>Graduate_Rate_2016</th>\n",
       "    </tr>\n",
       "  </thead>\n",
       "  <tbody>\n",
       "    <tr>\n",
       "      <th>0</th>\n",
       "      <td>0</td>\n",
       "      <td>State of Tennessee</td>\n",
       "      <td>0</td>\n",
       "      <td>All Schools</td>\n",
       "      <td>All Students</td>\n",
       "      <td>Graduation Rate</td>\n",
       "      <td>71379</td>\n",
       "      <td>63194.0</td>\n",
       "      <td>88.5</td>\n",
       "    </tr>\n",
       "    <tr>\n",
       "      <th>1</th>\n",
       "      <td>0</td>\n",
       "      <td>State of Tennessee</td>\n",
       "      <td>0</td>\n",
       "      <td>All Schools</td>\n",
       "      <td>American Indian or Alaska Native</td>\n",
       "      <td>Graduation Rate</td>\n",
       "      <td>244</td>\n",
       "      <td>211.0</td>\n",
       "      <td>86.5</td>\n",
       "    </tr>\n",
       "    <tr>\n",
       "      <th>2</th>\n",
       "      <td>0</td>\n",
       "      <td>State of Tennessee</td>\n",
       "      <td>0</td>\n",
       "      <td>All Schools</td>\n",
       "      <td>Asian</td>\n",
       "      <td>Graduation Rate</td>\n",
       "      <td>1396</td>\n",
       "      <td>1299.0</td>\n",
       "      <td>93.1</td>\n",
       "    </tr>\n",
       "    <tr>\n",
       "      <th>3</th>\n",
       "      <td>0</td>\n",
       "      <td>State of Tennessee</td>\n",
       "      <td>0</td>\n",
       "      <td>All Schools</td>\n",
       "      <td>Black or African American</td>\n",
       "      <td>Graduation Rate</td>\n",
       "      <td>17943</td>\n",
       "      <td>14759.0</td>\n",
       "      <td>82.3</td>\n",
       "    </tr>\n",
       "    <tr>\n",
       "      <th>4</th>\n",
       "      <td>0</td>\n",
       "      <td>State of Tennessee</td>\n",
       "      <td>0</td>\n",
       "      <td>All Schools</td>\n",
       "      <td>Black/Hispanic/Native American</td>\n",
       "      <td>Graduation Rate</td>\n",
       "      <td>22622</td>\n",
       "      <td>18681.0</td>\n",
       "      <td>82.6</td>\n",
       "    </tr>\n",
       "  </tbody>\n",
       "</table>\n",
       "</div>"
      ],
      "text/plain": [
       "   District_ID       District_Name  School_ID  School_Name  \\\n",
       "0            0  State of Tennessee          0  All Schools   \n",
       "1            0  State of Tennessee          0  All Schools   \n",
       "2            0  State of Tennessee          0  All Schools   \n",
       "3            0  State of Tennessee          0  All Schools   \n",
       "4            0  State of Tennessee          0  All Schools   \n",
       "\n",
       "                           Subgroup          Subject  Graduate_Cohort_2016  \\\n",
       "0                      All Students  Graduation Rate                 71379   \n",
       "1  American Indian or Alaska Native  Graduation Rate                   244   \n",
       "2                             Asian  Graduation Rate                  1396   \n",
       "3         Black or African American  Graduation Rate                 17943   \n",
       "4    Black/Hispanic/Native American  Graduation Rate                 22622   \n",
       "\n",
       "   Graduate_Count_2016  Graduate_Rate_2016  \n",
       "0              63194.0                88.5  \n",
       "1                211.0                86.5  \n",
       "2               1299.0                93.1  \n",
       "3              14759.0                82.3  \n",
       "4              18681.0                82.6  "
      ]
     },
     "execution_count": 35,
     "metadata": {},
     "output_type": "execute_result"
    }
   ],
   "source": [
    "df1.head()"
   ]
  },
  {
   "cell_type": "code",
   "execution_count": 36,
   "metadata": {},
   "outputs": [
    {
     "data": {
      "text/plain": [
       "array(['State of Tennessee', 'Anderson County', 'Oak Ridge City',\n",
       "       'Bedford County', 'Benton County', 'Bledsoe County',\n",
       "       'Blount County', 'Alcoa City', 'Maryville City', 'Bradley County',\n",
       "       'Cleveland City', 'Campbell County', 'Cannon County',\n",
       "       'Carroll County', 'Hollow Rock-Bruceton',\n",
       "       'Huntingdon Special School District',\n",
       "       'McKenzie Special School District',\n",
       "       'South Carroll Special School District',\n",
       "       'West Carroll Special School District', 'Carter County',\n",
       "       'Elizabethton City', 'Cheatham County', 'Chester County',\n",
       "       'Claiborne County', 'Clay County', 'Cocke County', 'Coffee County',\n",
       "       'Tullahoma City', 'Crockett County', 'Cumberland County',\n",
       "       'Davidson County', 'Decatur County', 'DeKalb County',\n",
       "       'Dickson County', 'Dyer County', 'Dyersburg City',\n",
       "       'Fayette County', 'Fentress County', 'Franklin County',\n",
       "       'Humboldt City', 'Milan Special School District',\n",
       "       'Trenton Special School District',\n",
       "       'Bradford Special School District',\n",
       "       'Gibson County Special School District', 'Giles County',\n",
       "       'Grainger County', 'Greene County', 'Greeneville City',\n",
       "       'Grundy County', 'Hamblen County', 'Hamilton County',\n",
       "       'Hancock County', 'Hardeman County', 'Hardin County',\n",
       "       'Hawkins County', 'Haywood County', 'Henderson County',\n",
       "       'Henry County', 'Hickman County', 'Houston County',\n",
       "       'Humphreys County', 'Jackson County', 'Jefferson County',\n",
       "       'Johnson County', 'Knox County', 'Lake County',\n",
       "       'Lauderdale County', 'Lawrence County', 'Lewis County',\n",
       "       'Lincoln County', 'Fayetteville City', 'Loudon County',\n",
       "       'Lenoir City', 'McMinn County', 'McNairy County', 'Macon County',\n",
       "       'Jackson-Madison County', 'Marion County', 'Richard City',\n",
       "       'Marshall County', 'Maury County', 'Meigs County', 'Monroe County',\n",
       "       'Montgomery County', 'Moore County', 'Morgan County',\n",
       "       'Obion County', 'Union City', 'Overton County', 'Perry County',\n",
       "       'Pickett County', 'Polk County', 'Putnam County', 'Rhea County',\n",
       "       'Roane County', 'Robertson County', 'Rutherford County',\n",
       "       'Scott County', 'Oneida Special School District',\n",
       "       'Sequatchie County', 'Sevier County', 'Shelby County (New)',\n",
       "       'Arlington City', 'Bartlett City', 'Collierville City',\n",
       "       'Germantown City', 'Millington City', 'Smith County',\n",
       "       'Stewart County', 'Sullivan County', 'Bristol City',\n",
       "       'Kingsport City', 'Sumner County', 'Tipton County',\n",
       "       'Trousdale County', 'Unicoi County', 'Union County',\n",
       "       'Van Buren County', 'Warren County', 'Washington County',\n",
       "       'Johnson City', 'Wayne County', 'Weakley County', 'White County',\n",
       "       'Williamson County', 'Wilson County', 'Alvin C. York Institute',\n",
       "       'Tenn School For Blind', 'Tenn Sch For Deaf',\n",
       "       \"Department of Children's Services Ed. Division\",\n",
       "       'Achievement School District'], dtype=object)"
      ]
     },
     "execution_count": 36,
     "metadata": {},
     "output_type": "execute_result"
    }
   ],
   "source": [
    "df1['District_Name'].unique()"
   ]
  },
  {
   "cell_type": "code",
   "execution_count": 38,
   "metadata": {},
   "outputs": [],
   "source": [
    "df2016 = df1[(df1['District_Name'] == 'Davidson County') & (df1['Subgroup'] == 'All Students') & (df1['School_Name'] == 'All Schools')]"
   ]
  },
  {
   "cell_type": "code",
   "execution_count": 46,
   "metadata": {},
   "outputs": [],
   "source": [
    "df2016 = df2016[['Graduate_Rate_2016']]\n",
    "df2016 = df2016.rename(columns={'Graduate_Rate_2016' : '2016_grad_rate'})"
   ]
  },
  {
   "cell_type": "code",
   "execution_count": 47,
   "metadata": {},
   "outputs": [
    {
     "data": {
      "text/html": [
       "<div>\n",
       "<style scoped>\n",
       "    .dataframe tbody tr th:only-of-type {\n",
       "        vertical-align: middle;\n",
       "    }\n",
       "\n",
       "    .dataframe tbody tr th {\n",
       "        vertical-align: top;\n",
       "    }\n",
       "\n",
       "    .dataframe thead th {\n",
       "        text-align: right;\n",
       "    }\n",
       "</style>\n",
       "<table border=\"1\" class=\"dataframe\">\n",
       "  <thead>\n",
       "    <tr style=\"text-align: right;\">\n",
       "      <th></th>\n",
       "      <th>2016_grad_rate</th>\n",
       "    </tr>\n",
       "  </thead>\n",
       "  <tbody>\n",
       "    <tr>\n",
       "      <th>1044</th>\n",
       "      <td>81.0</td>\n",
       "    </tr>\n",
       "  </tbody>\n",
       "</table>\n",
       "</div>"
      ],
      "text/plain": [
       "      2016_grad_rate\n",
       "1044            81.0"
      ]
     },
     "execution_count": 47,
     "metadata": {},
     "output_type": "execute_result"
    }
   ],
   "source": [
    "df2016"
   ]
  },
  {
   "cell_type": "markdown",
   "metadata": {},
   "source": [
    "2017 graduate rate"
   ]
  },
  {
   "cell_type": "code",
   "execution_count": 41,
   "metadata": {},
   "outputs": [],
   "source": [
    "df2 = pd.read_csv(r\"C:\\Users\\jhank\\Desktop\\DA7\\Projects\\budget-impact-jupyternb-python\\data\\graduation\\data_graduation_cohort_2016-17.csv\")"
   ]
  },
  {
   "cell_type": "code",
   "execution_count": 42,
   "metadata": {},
   "outputs": [
    {
     "data": {
      "text/html": [
       "<div>\n",
       "<style scoped>\n",
       "    .dataframe tbody tr th:only-of-type {\n",
       "        vertical-align: middle;\n",
       "    }\n",
       "\n",
       "    .dataframe tbody tr th {\n",
       "        vertical-align: top;\n",
       "    }\n",
       "\n",
       "    .dataframe thead th {\n",
       "        text-align: right;\n",
       "    }\n",
       "</style>\n",
       "<table border=\"1\" class=\"dataframe\">\n",
       "  <thead>\n",
       "    <tr style=\"text-align: right;\">\n",
       "      <th></th>\n",
       "      <th>system</th>\n",
       "      <th>system_name</th>\n",
       "      <th>school</th>\n",
       "      <th>school_name</th>\n",
       "      <th>subgroup</th>\n",
       "      <th>subject</th>\n",
       "      <th>grad_cohort</th>\n",
       "      <th>grad_count</th>\n",
       "      <th>grad_rate</th>\n",
       "    </tr>\n",
       "  </thead>\n",
       "  <tbody>\n",
       "    <tr>\n",
       "      <th>0</th>\n",
       "      <td>0.0</td>\n",
       "      <td>State of Tennessee</td>\n",
       "      <td>0.0</td>\n",
       "      <td>All Schools</td>\n",
       "      <td>All Students</td>\n",
       "      <td>Graduation Rate</td>\n",
       "      <td>72289</td>\n",
       "      <td>64407.0</td>\n",
       "      <td>89.1</td>\n",
       "    </tr>\n",
       "    <tr>\n",
       "      <th>1</th>\n",
       "      <td>0.0</td>\n",
       "      <td>State of Tennessee</td>\n",
       "      <td>0.0</td>\n",
       "      <td>All Schools</td>\n",
       "      <td>American Indian or Alaska Native</td>\n",
       "      <td>Graduation Rate</td>\n",
       "      <td>246</td>\n",
       "      <td>217.0</td>\n",
       "      <td>88.2</td>\n",
       "    </tr>\n",
       "    <tr>\n",
       "      <th>2</th>\n",
       "      <td>0.0</td>\n",
       "      <td>State of Tennessee</td>\n",
       "      <td>0.0</td>\n",
       "      <td>All Schools</td>\n",
       "      <td>Asian</td>\n",
       "      <td>Graduation Rate</td>\n",
       "      <td>1391</td>\n",
       "      <td>1309.0</td>\n",
       "      <td>94.1</td>\n",
       "    </tr>\n",
       "    <tr>\n",
       "      <th>3</th>\n",
       "      <td>0.0</td>\n",
       "      <td>State of Tennessee</td>\n",
       "      <td>0.0</td>\n",
       "      <td>All Schools</td>\n",
       "      <td>Black or African American</td>\n",
       "      <td>Graduation Rate</td>\n",
       "      <td>18154</td>\n",
       "      <td>15033.0</td>\n",
       "      <td>82.8</td>\n",
       "    </tr>\n",
       "    <tr>\n",
       "      <th>4</th>\n",
       "      <td>0.0</td>\n",
       "      <td>State of Tennessee</td>\n",
       "      <td>0.0</td>\n",
       "      <td>All Schools</td>\n",
       "      <td>Black/Hispanic/Native American</td>\n",
       "      <td>Graduation Rate</td>\n",
       "      <td>23320</td>\n",
       "      <td>19353.0</td>\n",
       "      <td>83.0</td>\n",
       "    </tr>\n",
       "  </tbody>\n",
       "</table>\n",
       "</div>"
      ],
      "text/plain": [
       "   system         system_name  school  school_name  \\\n",
       "0     0.0  State of Tennessee     0.0  All Schools   \n",
       "1     0.0  State of Tennessee     0.0  All Schools   \n",
       "2     0.0  State of Tennessee     0.0  All Schools   \n",
       "3     0.0  State of Tennessee     0.0  All Schools   \n",
       "4     0.0  State of Tennessee     0.0  All Schools   \n",
       "\n",
       "                           subgroup          subject  grad_cohort  grad_count  \\\n",
       "0                      All Students  Graduation Rate        72289     64407.0   \n",
       "1  American Indian or Alaska Native  Graduation Rate          246       217.0   \n",
       "2                             Asian  Graduation Rate         1391      1309.0   \n",
       "3         Black or African American  Graduation Rate        18154     15033.0   \n",
       "4    Black/Hispanic/Native American  Graduation Rate        23320     19353.0   \n",
       "\n",
       "   grad_rate  \n",
       "0       89.1  \n",
       "1       88.2  \n",
       "2       94.1  \n",
       "3       82.8  \n",
       "4       83.0  "
      ]
     },
     "execution_count": 42,
     "metadata": {},
     "output_type": "execute_result"
    }
   ],
   "source": [
    "df2.head()"
   ]
  },
  {
   "cell_type": "code",
   "execution_count": 43,
   "metadata": {},
   "outputs": [],
   "source": [
    "df2017 = df[(df2['system_name'] == 'Davidson County') & (df2['subgroup'] == 'All Students') & (df2['school_name'] == 'All Schools')]"
   ]
  },
  {
   "cell_type": "code",
   "execution_count": 44,
   "metadata": {},
   "outputs": [],
   "source": [
    "df2017 = df2017[['grad_rate']]"
   ]
  },
  {
   "cell_type": "code",
   "execution_count": 48,
   "metadata": {},
   "outputs": [],
   "source": [
    "df2017.rename(columns={'grad_rate' : '2017_grad_rate'},inplace=True)"
   ]
  },
  {
   "cell_type": "code",
   "execution_count": 49,
   "metadata": {},
   "outputs": [
    {
     "data": {
      "text/html": [
       "<div>\n",
       "<style scoped>\n",
       "    .dataframe tbody tr th:only-of-type {\n",
       "        vertical-align: middle;\n",
       "    }\n",
       "\n",
       "    .dataframe tbody tr th {\n",
       "        vertical-align: top;\n",
       "    }\n",
       "\n",
       "    .dataframe thead th {\n",
       "        text-align: right;\n",
       "    }\n",
       "</style>\n",
       "<table border=\"1\" class=\"dataframe\">\n",
       "  <thead>\n",
       "    <tr style=\"text-align: right;\">\n",
       "      <th></th>\n",
       "      <th>2017_grad_rate</th>\n",
       "    </tr>\n",
       "  </thead>\n",
       "  <tbody>\n",
       "    <tr>\n",
       "      <th>1052</th>\n",
       "      <td>80.3</td>\n",
       "    </tr>\n",
       "  </tbody>\n",
       "</table>\n",
       "</div>"
      ],
      "text/plain": [
       "      2017_grad_rate\n",
       "1052            80.3"
      ]
     },
     "execution_count": 49,
     "metadata": {},
     "output_type": "execute_result"
    }
   ],
   "source": [
    "df2017"
   ]
  },
  {
   "cell_type": "markdown",
   "metadata": {},
   "source": [
    "2018 grad rate"
   ]
  },
  {
   "cell_type": "code",
   "execution_count": null,
   "metadata": {},
   "outputs": [],
   "source": [
    "df3 = pd.read_csv(r\"C:\\Users\\jhank\\Desktop\\DA7\\Projects\\budget-impact-jupyternb-python\\data\\graduation\\2017-18_grad_rate_district.csv\")"
   ]
  }
 ],
 "metadata": {
  "kernelspec": {
   "display_name": "Python 3.9.7 ('base')",
   "language": "python",
   "name": "python3"
  },
  "language_info": {
   "codemirror_mode": {
    "name": "ipython",
    "version": 3
   },
   "file_extension": ".py",
   "mimetype": "text/x-python",
   "name": "python",
   "nbconvert_exporter": "python",
   "pygments_lexer": "ipython3",
   "version": "3.9.7"
  },
  "orig_nbformat": 4,
  "vscode": {
   "interpreter": {
    "hash": "e83933c89791523ce27b9c1ac2fa3a2bbb0f839e7a6d72c2a74f34bb50225d36"
   }
  }
 },
 "nbformat": 4,
 "nbformat_minor": 2
}
