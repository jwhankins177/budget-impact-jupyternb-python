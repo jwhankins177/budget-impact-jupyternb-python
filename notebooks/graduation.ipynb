{
 "cells": [
  {
   "cell_type": "code",
   "execution_count": 56,
   "metadata": {},
   "outputs": [],
   "source": [
    "import pandas as pd\n",
    "import numpy as np\n",
    "import matplotlib.pyplot as plt\n",
    "import seaborn as sns\n",
    "%matplotlib inline"
   ]
  },
  {
   "cell_type": "markdown",
   "metadata": {},
   "source": [
    "2016 graduate rate"
   ]
  },
  {
   "cell_type": "code",
   "execution_count": 57,
   "metadata": {},
   "outputs": [],
   "source": [
    "df1 = pd.read_excel(r\"C:\\Users\\jhank\\Desktop\\DA7\\Projects\\budget-impact-jupyternb-python\\data\\graduation\\data_graduation_cohort_2015-16.xlsx\")"
   ]
  },
  {
   "cell_type": "code",
   "execution_count": 58,
   "metadata": {},
   "outputs": [
    {
     "data": {
      "text/html": [
       "<div>\n",
       "<style scoped>\n",
       "    .dataframe tbody tr th:only-of-type {\n",
       "        vertical-align: middle;\n",
       "    }\n",
       "\n",
       "    .dataframe tbody tr th {\n",
       "        vertical-align: top;\n",
       "    }\n",
       "\n",
       "    .dataframe thead th {\n",
       "        text-align: right;\n",
       "    }\n",
       "</style>\n",
       "<table border=\"1\" class=\"dataframe\">\n",
       "  <thead>\n",
       "    <tr style=\"text-align: right;\">\n",
       "      <th></th>\n",
       "      <th>District_ID</th>\n",
       "      <th>District_Name</th>\n",
       "      <th>School_ID</th>\n",
       "      <th>School_Name</th>\n",
       "      <th>Subgroup</th>\n",
       "      <th>Subject</th>\n",
       "      <th>Graduate_Cohort_2016</th>\n",
       "      <th>Graduate_Count_2016</th>\n",
       "      <th>Graduate_Rate_2016</th>\n",
       "    </tr>\n",
       "  </thead>\n",
       "  <tbody>\n",
       "    <tr>\n",
       "      <th>0</th>\n",
       "      <td>0</td>\n",
       "      <td>State of Tennessee</td>\n",
       "      <td>0</td>\n",
       "      <td>All Schools</td>\n",
       "      <td>All Students</td>\n",
       "      <td>Graduation Rate</td>\n",
       "      <td>71379</td>\n",
       "      <td>63194.0</td>\n",
       "      <td>88.5</td>\n",
       "    </tr>\n",
       "    <tr>\n",
       "      <th>1</th>\n",
       "      <td>0</td>\n",
       "      <td>State of Tennessee</td>\n",
       "      <td>0</td>\n",
       "      <td>All Schools</td>\n",
       "      <td>American Indian or Alaska Native</td>\n",
       "      <td>Graduation Rate</td>\n",
       "      <td>244</td>\n",
       "      <td>211.0</td>\n",
       "      <td>86.5</td>\n",
       "    </tr>\n",
       "    <tr>\n",
       "      <th>2</th>\n",
       "      <td>0</td>\n",
       "      <td>State of Tennessee</td>\n",
       "      <td>0</td>\n",
       "      <td>All Schools</td>\n",
       "      <td>Asian</td>\n",
       "      <td>Graduation Rate</td>\n",
       "      <td>1396</td>\n",
       "      <td>1299.0</td>\n",
       "      <td>93.1</td>\n",
       "    </tr>\n",
       "    <tr>\n",
       "      <th>3</th>\n",
       "      <td>0</td>\n",
       "      <td>State of Tennessee</td>\n",
       "      <td>0</td>\n",
       "      <td>All Schools</td>\n",
       "      <td>Black or African American</td>\n",
       "      <td>Graduation Rate</td>\n",
       "      <td>17943</td>\n",
       "      <td>14759.0</td>\n",
       "      <td>82.3</td>\n",
       "    </tr>\n",
       "    <tr>\n",
       "      <th>4</th>\n",
       "      <td>0</td>\n",
       "      <td>State of Tennessee</td>\n",
       "      <td>0</td>\n",
       "      <td>All Schools</td>\n",
       "      <td>Black/Hispanic/Native American</td>\n",
       "      <td>Graduation Rate</td>\n",
       "      <td>22622</td>\n",
       "      <td>18681.0</td>\n",
       "      <td>82.6</td>\n",
       "    </tr>\n",
       "  </tbody>\n",
       "</table>\n",
       "</div>"
      ],
      "text/plain": [
       "   District_ID       District_Name  School_ID  School_Name  \\\n",
       "0            0  State of Tennessee          0  All Schools   \n",
       "1            0  State of Tennessee          0  All Schools   \n",
       "2            0  State of Tennessee          0  All Schools   \n",
       "3            0  State of Tennessee          0  All Schools   \n",
       "4            0  State of Tennessee          0  All Schools   \n",
       "\n",
       "                           Subgroup          Subject  Graduate_Cohort_2016  \\\n",
       "0                      All Students  Graduation Rate                 71379   \n",
       "1  American Indian or Alaska Native  Graduation Rate                   244   \n",
       "2                             Asian  Graduation Rate                  1396   \n",
       "3         Black or African American  Graduation Rate                 17943   \n",
       "4    Black/Hispanic/Native American  Graduation Rate                 22622   \n",
       "\n",
       "   Graduate_Count_2016  Graduate_Rate_2016  \n",
       "0              63194.0                88.5  \n",
       "1                211.0                86.5  \n",
       "2               1299.0                93.1  \n",
       "3              14759.0                82.3  \n",
       "4              18681.0                82.6  "
      ]
     },
     "execution_count": 58,
     "metadata": {},
     "output_type": "execute_result"
    }
   ],
   "source": [
    "df1.head()"
   ]
  },
  {
   "cell_type": "code",
   "execution_count": 59,
   "metadata": {},
   "outputs": [
    {
     "data": {
      "text/plain": [
       "array(['State of Tennessee', 'Anderson County', 'Oak Ridge City',\n",
       "       'Bedford County', 'Benton County', 'Bledsoe County',\n",
       "       'Blount County', 'Alcoa City', 'Maryville City', 'Bradley County',\n",
       "       'Cleveland City', 'Campbell County', 'Cannon County',\n",
       "       'Carroll County', 'Hollow Rock-Bruceton',\n",
       "       'Huntingdon Special School District',\n",
       "       'McKenzie Special School District',\n",
       "       'South Carroll Special School District',\n",
       "       'West Carroll Special School District', 'Carter County',\n",
       "       'Elizabethton City', 'Cheatham County', 'Chester County',\n",
       "       'Claiborne County', 'Clay County', 'Cocke County', 'Coffee County',\n",
       "       'Tullahoma City', 'Crockett County', 'Cumberland County',\n",
       "       'Davidson County', 'Decatur County', 'DeKalb County',\n",
       "       'Dickson County', 'Dyer County', 'Dyersburg City',\n",
       "       'Fayette County', 'Fentress County', 'Franklin County',\n",
       "       'Humboldt City', 'Milan Special School District',\n",
       "       'Trenton Special School District',\n",
       "       'Bradford Special School District',\n",
       "       'Gibson County Special School District', 'Giles County',\n",
       "       'Grainger County', 'Greene County', 'Greeneville City',\n",
       "       'Grundy County', 'Hamblen County', 'Hamilton County',\n",
       "       'Hancock County', 'Hardeman County', 'Hardin County',\n",
       "       'Hawkins County', 'Haywood County', 'Henderson County',\n",
       "       'Henry County', 'Hickman County', 'Houston County',\n",
       "       'Humphreys County', 'Jackson County', 'Jefferson County',\n",
       "       'Johnson County', 'Knox County', 'Lake County',\n",
       "       'Lauderdale County', 'Lawrence County', 'Lewis County',\n",
       "       'Lincoln County', 'Fayetteville City', 'Loudon County',\n",
       "       'Lenoir City', 'McMinn County', 'McNairy County', 'Macon County',\n",
       "       'Jackson-Madison County', 'Marion County', 'Richard City',\n",
       "       'Marshall County', 'Maury County', 'Meigs County', 'Monroe County',\n",
       "       'Montgomery County', 'Moore County', 'Morgan County',\n",
       "       'Obion County', 'Union City', 'Overton County', 'Perry County',\n",
       "       'Pickett County', 'Polk County', 'Putnam County', 'Rhea County',\n",
       "       'Roane County', 'Robertson County', 'Rutherford County',\n",
       "       'Scott County', 'Oneida Special School District',\n",
       "       'Sequatchie County', 'Sevier County', 'Shelby County (New)',\n",
       "       'Arlington City', 'Bartlett City', 'Collierville City',\n",
       "       'Germantown City', 'Millington City', 'Smith County',\n",
       "       'Stewart County', 'Sullivan County', 'Bristol City',\n",
       "       'Kingsport City', 'Sumner County', 'Tipton County',\n",
       "       'Trousdale County', 'Unicoi County', 'Union County',\n",
       "       'Van Buren County', 'Warren County', 'Washington County',\n",
       "       'Johnson City', 'Wayne County', 'Weakley County', 'White County',\n",
       "       'Williamson County', 'Wilson County', 'Alvin C. York Institute',\n",
       "       'Tenn School For Blind', 'Tenn Sch For Deaf',\n",
       "       \"Department of Children's Services Ed. Division\",\n",
       "       'Achievement School District'], dtype=object)"
      ]
     },
     "execution_count": 59,
     "metadata": {},
     "output_type": "execute_result"
    }
   ],
   "source": [
    "df1['District_Name'].unique()"
   ]
  },
  {
   "cell_type": "code",
   "execution_count": 60,
   "metadata": {},
   "outputs": [],
   "source": [
    "df2016 = df1[(df1['District_Name'] == 'Davidson County') & (df1['Subgroup'] == 'All Students') & (df1['School_Name'] == 'All Schools')]"
   ]
  },
  {
   "cell_type": "code",
   "execution_count": 61,
   "metadata": {},
   "outputs": [],
   "source": [
    "df2016 = df2016[['Graduate_Rate_2016']]\n",
    "df2016 = df2016.rename(columns={'Graduate_Rate_2016' : '2016_grad_rate'})"
   ]
  },
  {
   "cell_type": "code",
   "execution_count": 62,
   "metadata": {},
   "outputs": [
    {
     "data": {
      "text/html": [
       "<div>\n",
       "<style scoped>\n",
       "    .dataframe tbody tr th:only-of-type {\n",
       "        vertical-align: middle;\n",
       "    }\n",
       "\n",
       "    .dataframe tbody tr th {\n",
       "        vertical-align: top;\n",
       "    }\n",
       "\n",
       "    .dataframe thead th {\n",
       "        text-align: right;\n",
       "    }\n",
       "</style>\n",
       "<table border=\"1\" class=\"dataframe\">\n",
       "  <thead>\n",
       "    <tr style=\"text-align: right;\">\n",
       "      <th></th>\n",
       "      <th>2016_grad_rate</th>\n",
       "    </tr>\n",
       "  </thead>\n",
       "  <tbody>\n",
       "    <tr>\n",
       "      <th>1044</th>\n",
       "      <td>81.0</td>\n",
       "    </tr>\n",
       "  </tbody>\n",
       "</table>\n",
       "</div>"
      ],
      "text/plain": [
       "      2016_grad_rate\n",
       "1044            81.0"
      ]
     },
     "execution_count": 62,
     "metadata": {},
     "output_type": "execute_result"
    }
   ],
   "source": [
    "df2016"
   ]
  },
  {
   "cell_type": "markdown",
   "metadata": {},
   "source": [
    "2017 graduate rate"
   ]
  },
  {
   "cell_type": "code",
   "execution_count": 63,
   "metadata": {},
   "outputs": [],
   "source": [
    "df2 = pd.read_csv(r\"C:\\Users\\jhank\\Desktop\\DA7\\Projects\\budget-impact-jupyternb-python\\data\\graduation\\data_graduation_cohort_2016-17.csv\")"
   ]
  },
  {
   "cell_type": "code",
   "execution_count": 64,
   "metadata": {},
   "outputs": [
    {
     "data": {
      "text/html": [
       "<div>\n",
       "<style scoped>\n",
       "    .dataframe tbody tr th:only-of-type {\n",
       "        vertical-align: middle;\n",
       "    }\n",
       "\n",
       "    .dataframe tbody tr th {\n",
       "        vertical-align: top;\n",
       "    }\n",
       "\n",
       "    .dataframe thead th {\n",
       "        text-align: right;\n",
       "    }\n",
       "</style>\n",
       "<table border=\"1\" class=\"dataframe\">\n",
       "  <thead>\n",
       "    <tr style=\"text-align: right;\">\n",
       "      <th></th>\n",
       "      <th>system</th>\n",
       "      <th>system_name</th>\n",
       "      <th>school</th>\n",
       "      <th>school_name</th>\n",
       "      <th>subgroup</th>\n",
       "      <th>subject</th>\n",
       "      <th>grad_cohort</th>\n",
       "      <th>grad_count</th>\n",
       "      <th>grad_rate</th>\n",
       "    </tr>\n",
       "  </thead>\n",
       "  <tbody>\n",
       "    <tr>\n",
       "      <th>0</th>\n",
       "      <td>0.0</td>\n",
       "      <td>State of Tennessee</td>\n",
       "      <td>0.0</td>\n",
       "      <td>All Schools</td>\n",
       "      <td>All Students</td>\n",
       "      <td>Graduation Rate</td>\n",
       "      <td>72289</td>\n",
       "      <td>64407.0</td>\n",
       "      <td>89.1</td>\n",
       "    </tr>\n",
       "    <tr>\n",
       "      <th>1</th>\n",
       "      <td>0.0</td>\n",
       "      <td>State of Tennessee</td>\n",
       "      <td>0.0</td>\n",
       "      <td>All Schools</td>\n",
       "      <td>American Indian or Alaska Native</td>\n",
       "      <td>Graduation Rate</td>\n",
       "      <td>246</td>\n",
       "      <td>217.0</td>\n",
       "      <td>88.2</td>\n",
       "    </tr>\n",
       "    <tr>\n",
       "      <th>2</th>\n",
       "      <td>0.0</td>\n",
       "      <td>State of Tennessee</td>\n",
       "      <td>0.0</td>\n",
       "      <td>All Schools</td>\n",
       "      <td>Asian</td>\n",
       "      <td>Graduation Rate</td>\n",
       "      <td>1391</td>\n",
       "      <td>1309.0</td>\n",
       "      <td>94.1</td>\n",
       "    </tr>\n",
       "    <tr>\n",
       "      <th>3</th>\n",
       "      <td>0.0</td>\n",
       "      <td>State of Tennessee</td>\n",
       "      <td>0.0</td>\n",
       "      <td>All Schools</td>\n",
       "      <td>Black or African American</td>\n",
       "      <td>Graduation Rate</td>\n",
       "      <td>18154</td>\n",
       "      <td>15033.0</td>\n",
       "      <td>82.8</td>\n",
       "    </tr>\n",
       "    <tr>\n",
       "      <th>4</th>\n",
       "      <td>0.0</td>\n",
       "      <td>State of Tennessee</td>\n",
       "      <td>0.0</td>\n",
       "      <td>All Schools</td>\n",
       "      <td>Black/Hispanic/Native American</td>\n",
       "      <td>Graduation Rate</td>\n",
       "      <td>23320</td>\n",
       "      <td>19353.0</td>\n",
       "      <td>83.0</td>\n",
       "    </tr>\n",
       "  </tbody>\n",
       "</table>\n",
       "</div>"
      ],
      "text/plain": [
       "   system         system_name  school  school_name  \\\n",
       "0     0.0  State of Tennessee     0.0  All Schools   \n",
       "1     0.0  State of Tennessee     0.0  All Schools   \n",
       "2     0.0  State of Tennessee     0.0  All Schools   \n",
       "3     0.0  State of Tennessee     0.0  All Schools   \n",
       "4     0.0  State of Tennessee     0.0  All Schools   \n",
       "\n",
       "                           subgroup          subject  grad_cohort  grad_count  \\\n",
       "0                      All Students  Graduation Rate        72289     64407.0   \n",
       "1  American Indian or Alaska Native  Graduation Rate          246       217.0   \n",
       "2                             Asian  Graduation Rate         1391      1309.0   \n",
       "3         Black or African American  Graduation Rate        18154     15033.0   \n",
       "4    Black/Hispanic/Native American  Graduation Rate        23320     19353.0   \n",
       "\n",
       "   grad_rate  \n",
       "0       89.1  \n",
       "1       88.2  \n",
       "2       94.1  \n",
       "3       82.8  \n",
       "4       83.0  "
      ]
     },
     "execution_count": 64,
     "metadata": {},
     "output_type": "execute_result"
    }
   ],
   "source": [
    "df2.head()"
   ]
  },
  {
   "cell_type": "code",
   "execution_count": 65,
   "metadata": {},
   "outputs": [],
   "source": [
    "df2017 = df2[(df2['system_name'] == 'Davidson County') & (df2['subgroup'] == 'All Students') & (df2['school_name'] == 'All Schools')]"
   ]
  },
  {
   "cell_type": "code",
   "execution_count": 66,
   "metadata": {},
   "outputs": [],
   "source": [
    "df2017 = df2017[['grad_rate']]"
   ]
  },
  {
   "cell_type": "code",
   "execution_count": 67,
   "metadata": {},
   "outputs": [],
   "source": [
    "df2017.rename(columns={'grad_rate' : '2017_grad_rate'},inplace=True)"
   ]
  },
  {
   "cell_type": "code",
   "execution_count": 68,
   "metadata": {},
   "outputs": [
    {
     "data": {
      "text/html": [
       "<div>\n",
       "<style scoped>\n",
       "    .dataframe tbody tr th:only-of-type {\n",
       "        vertical-align: middle;\n",
       "    }\n",
       "\n",
       "    .dataframe tbody tr th {\n",
       "        vertical-align: top;\n",
       "    }\n",
       "\n",
       "    .dataframe thead th {\n",
       "        text-align: right;\n",
       "    }\n",
       "</style>\n",
       "<table border=\"1\" class=\"dataframe\">\n",
       "  <thead>\n",
       "    <tr style=\"text-align: right;\">\n",
       "      <th></th>\n",
       "      <th>2017_grad_rate</th>\n",
       "    </tr>\n",
       "  </thead>\n",
       "  <tbody>\n",
       "    <tr>\n",
       "      <th>1052</th>\n",
       "      <td>80.3</td>\n",
       "    </tr>\n",
       "  </tbody>\n",
       "</table>\n",
       "</div>"
      ],
      "text/plain": [
       "      2017_grad_rate\n",
       "1052            80.3"
      ]
     },
     "execution_count": 68,
     "metadata": {},
     "output_type": "execute_result"
    }
   ],
   "source": [
    "df2017"
   ]
  },
  {
   "cell_type": "markdown",
   "metadata": {},
   "source": [
    "2018 grad rate"
   ]
  },
  {
   "cell_type": "code",
   "execution_count": 69,
   "metadata": {},
   "outputs": [],
   "source": [
    "df3 = pd.read_csv(r\"C:\\Users\\jhank\\Desktop\\DA7\\Projects\\budget-impact-jupyternb-python\\data\\graduation\\2017-18_grad_rate_district.csv\")"
   ]
  },
  {
   "cell_type": "code",
   "execution_count": 70,
   "metadata": {},
   "outputs": [
    {
     "data": {
      "text/html": [
       "<div>\n",
       "<style scoped>\n",
       "    .dataframe tbody tr th:only-of-type {\n",
       "        vertical-align: middle;\n",
       "    }\n",
       "\n",
       "    .dataframe tbody tr th {\n",
       "        vertical-align: top;\n",
       "    }\n",
       "\n",
       "    .dataframe thead th {\n",
       "        text-align: right;\n",
       "    }\n",
       "</style>\n",
       "<table border=\"1\" class=\"dataframe\">\n",
       "  <thead>\n",
       "    <tr style=\"text-align: right;\">\n",
       "      <th></th>\n",
       "      <th>year</th>\n",
       "      <th>system</th>\n",
       "      <th>system_name</th>\n",
       "      <th>subgroup</th>\n",
       "      <th>grad_cohort</th>\n",
       "      <th>grad_count</th>\n",
       "      <th>grad_rate</th>\n",
       "    </tr>\n",
       "  </thead>\n",
       "  <tbody>\n",
       "    <tr>\n",
       "      <th>0</th>\n",
       "      <td>2018</td>\n",
       "      <td>10</td>\n",
       "      <td>Anderson County</td>\n",
       "      <td>All Students</td>\n",
       "      <td>541</td>\n",
       "      <td>519</td>\n",
       "      <td>95.9</td>\n",
       "    </tr>\n",
       "    <tr>\n",
       "      <th>1</th>\n",
       "      <td>2018</td>\n",
       "      <td>10</td>\n",
       "      <td>Anderson County</td>\n",
       "      <td>American Indian or Alaska Native</td>\n",
       "      <td>4</td>\n",
       "      <td>*</td>\n",
       "      <td>*</td>\n",
       "    </tr>\n",
       "    <tr>\n",
       "      <th>2</th>\n",
       "      <td>2018</td>\n",
       "      <td>10</td>\n",
       "      <td>Anderson County</td>\n",
       "      <td>Asian</td>\n",
       "      <td>2</td>\n",
       "      <td>*</td>\n",
       "      <td>*</td>\n",
       "    </tr>\n",
       "    <tr>\n",
       "      <th>3</th>\n",
       "      <td>2018</td>\n",
       "      <td>10</td>\n",
       "      <td>Anderson County</td>\n",
       "      <td>Black or African American</td>\n",
       "      <td>25</td>\n",
       "      <td>21</td>\n",
       "      <td>84</td>\n",
       "    </tr>\n",
       "    <tr>\n",
       "      <th>4</th>\n",
       "      <td>2018</td>\n",
       "      <td>10</td>\n",
       "      <td>Anderson County</td>\n",
       "      <td>Black/Hispanic/Native American</td>\n",
       "      <td>33</td>\n",
       "      <td>29</td>\n",
       "      <td>87.9</td>\n",
       "    </tr>\n",
       "  </tbody>\n",
       "</table>\n",
       "</div>"
      ],
      "text/plain": [
       "   year  system      system_name                          subgroup  \\\n",
       "0  2018      10  Anderson County                      All Students   \n",
       "1  2018      10  Anderson County  American Indian or Alaska Native   \n",
       "2  2018      10  Anderson County                             Asian   \n",
       "3  2018      10  Anderson County         Black or African American   \n",
       "4  2018      10  Anderson County    Black/Hispanic/Native American   \n",
       "\n",
       "   grad_cohort grad_count grad_rate  \n",
       "0          541        519      95.9  \n",
       "1            4          *         *  \n",
       "2            2          *         *  \n",
       "3           25         21        84  \n",
       "4           33         29      87.9  "
      ]
     },
     "execution_count": 70,
     "metadata": {},
     "output_type": "execute_result"
    }
   ],
   "source": [
    "df3.head()"
   ]
  },
  {
   "cell_type": "code",
   "execution_count": 71,
   "metadata": {},
   "outputs": [
    {
     "data": {
      "text/plain": [
       "array(['Anderson County', 'Oak Ridge', 'Bedford County', 'Benton County',\n",
       "       'Bledsoe County', 'Blount County', 'Alcoa', 'Maryville',\n",
       "       'Bradley County', 'Cleveland', 'Campbell County', 'Cannon County',\n",
       "       'Carroll County', 'Hollow Rock - Bruceton',\n",
       "       'Huntingdon Special School District', 'McKenzie', 'South Carroll',\n",
       "       'West Carroll Sp Dist', 'Carter County', 'Elizabethton',\n",
       "       'Cheatham County', 'Chester County', 'Claiborne County',\n",
       "       'Clay County', 'Cocke County', 'Coffee County', 'Tullahoma',\n",
       "       'Crockett County', 'Cumberland County', 'Davidson County',\n",
       "       'Decatur County', 'DeKalb County', 'Dickson County', 'Dyer County',\n",
       "       'Dyersburg', 'Fayette County Public Schools', 'Fentress County',\n",
       "       'Franklin County', 'Humboldt City Schools', 'Milan', 'Trenton',\n",
       "       'Bradford', 'Gibson Co Sp Dist', 'Giles County', 'Grainger County',\n",
       "       'Greene County', 'Greeneville', 'Grundy County', 'Hamblen County',\n",
       "       'Hamilton County', 'Hancock County', 'Hardeman County Schools',\n",
       "       'Hardin County', 'Hawkins County', 'Haywood County',\n",
       "       'Henderson County', 'Henry County', 'Hickman County',\n",
       "       'Houston County', 'Humphreys County', 'Jackson County',\n",
       "       'Jefferson County', 'Johnson County', 'Knox County', 'Lake County',\n",
       "       'Lauderdale County', 'Lawrence County', 'Lewis County',\n",
       "       'Lincoln County', 'Fayetteville', 'Loudon County', 'Lenoir City',\n",
       "       'McMinn County', 'McNairy County', 'Macon County',\n",
       "       'Madison County', 'Marion County', 'Richard City',\n",
       "       'Marshall County', 'Maury County', 'Meigs County', 'Monroe County',\n",
       "       'Montgomery County', 'Moore County', 'Morgan County',\n",
       "       'Obion County', 'Union City', 'Overton County', 'Perry County',\n",
       "       'Pickett County', 'Polk County', 'Putnam County', 'Rhea County',\n",
       "       'Roane County', 'Robertson County', 'Rutherford County',\n",
       "       'Scott County', 'Oneida', 'Sequatchie County', 'Sevier County',\n",
       "       'Shelby County', 'Arlington', 'Bartlett', 'Collierville',\n",
       "       'Germantown', 'Millington Municipal Schools', 'Smith County',\n",
       "       'Stewart County', 'Sullivan County', 'Bristol', 'Kingsport',\n",
       "       'Sumner County', 'Tipton County', 'Trousdale County',\n",
       "       'Unicoi County', 'Union County', 'Van Buren County',\n",
       "       'Warren County', 'Washington County', 'Johnson City',\n",
       "       'Wayne County', 'Weakley County', 'White County',\n",
       "       'Williamson County', 'Wilson County', 'Alvin C York Institute',\n",
       "       'Tennessee School for Blind', 'Tennessee School for the Deaf',\n",
       "       \"Department of Children's Services\", 'Achievement School District'],\n",
       "      dtype=object)"
      ]
     },
     "execution_count": 71,
     "metadata": {},
     "output_type": "execute_result"
    }
   ],
   "source": [
    "df3['system_name'].unique()"
   ]
  },
  {
   "cell_type": "code",
   "execution_count": 72,
   "metadata": {},
   "outputs": [],
   "source": [
    "#df2018 = df3[(['system_name'] == 'Davidson County') & (df3['subgroup'] == 'All Students')]\n",
    "#df2018 = df2018[['grad_rate']]\n",
    "#df2018.rename(columns={'grad_rate' : '2018_grad_rate'},inplace=True)"
   ]
  },
  {
   "cell_type": "code",
   "execution_count": 73,
   "metadata": {},
   "outputs": [
    {
     "data": {
      "text/html": [
       "<div>\n",
       "<style scoped>\n",
       "    .dataframe tbody tr th:only-of-type {\n",
       "        vertical-align: middle;\n",
       "    }\n",
       "\n",
       "    .dataframe tbody tr th {\n",
       "        vertical-align: top;\n",
       "    }\n",
       "\n",
       "    .dataframe thead th {\n",
       "        text-align: right;\n",
       "    }\n",
       "</style>\n",
       "<table border=\"1\" class=\"dataframe\">\n",
       "  <thead>\n",
       "    <tr style=\"text-align: right;\">\n",
       "      <th></th>\n",
       "      <th>year</th>\n",
       "      <th>system</th>\n",
       "      <th>system_name</th>\n",
       "      <th>subgroup</th>\n",
       "      <th>grad_cohort</th>\n",
       "      <th>grad_count</th>\n",
       "      <th>grad_rate</th>\n",
       "    </tr>\n",
       "  </thead>\n",
       "  <tbody>\n",
       "    <tr>\n",
       "      <th>527</th>\n",
       "      <td>2018</td>\n",
       "      <td>190</td>\n",
       "      <td>Davidson County</td>\n",
       "      <td>All Students</td>\n",
       "      <td>5742</td>\n",
       "      <td>4605</td>\n",
       "      <td>80.2</td>\n",
       "    </tr>\n",
       "    <tr>\n",
       "      <th>528</th>\n",
       "      <td>2018</td>\n",
       "      <td>190</td>\n",
       "      <td>Davidson County</td>\n",
       "      <td>American Indian or Alaska Native</td>\n",
       "      <td>9</td>\n",
       "      <td>*</td>\n",
       "      <td>*</td>\n",
       "    </tr>\n",
       "    <tr>\n",
       "      <th>529</th>\n",
       "      <td>2018</td>\n",
       "      <td>190</td>\n",
       "      <td>Davidson County</td>\n",
       "      <td>Asian</td>\n",
       "      <td>261</td>\n",
       "      <td>239</td>\n",
       "      <td>91.6</td>\n",
       "    </tr>\n",
       "    <tr>\n",
       "      <th>530</th>\n",
       "      <td>2018</td>\n",
       "      <td>190</td>\n",
       "      <td>Davidson County</td>\n",
       "      <td>Black or African American</td>\n",
       "      <td>2571</td>\n",
       "      <td>2096</td>\n",
       "      <td>81.5</td>\n",
       "    </tr>\n",
       "    <tr>\n",
       "      <th>531</th>\n",
       "      <td>2018</td>\n",
       "      <td>190</td>\n",
       "      <td>Davidson County</td>\n",
       "      <td>Black/Hispanic/Native American</td>\n",
       "      <td>3834</td>\n",
       "      <td>3013</td>\n",
       "      <td>78.6</td>\n",
       "    </tr>\n",
       "    <tr>\n",
       "      <th>532</th>\n",
       "      <td>2018</td>\n",
       "      <td>190</td>\n",
       "      <td>Davidson County</td>\n",
       "      <td>Economically Disadvantaged</td>\n",
       "      <td>3099</td>\n",
       "      <td>2346</td>\n",
       "      <td>75.7</td>\n",
       "    </tr>\n",
       "    <tr>\n",
       "      <th>533</th>\n",
       "      <td>2018</td>\n",
       "      <td>190</td>\n",
       "      <td>Davidson County</td>\n",
       "      <td>English Learners with Transitional 1-4</td>\n",
       "      <td>866</td>\n",
       "      <td>577</td>\n",
       "      <td>66.6</td>\n",
       "    </tr>\n",
       "    <tr>\n",
       "      <th>534</th>\n",
       "      <td>2018</td>\n",
       "      <td>190</td>\n",
       "      <td>Davidson County</td>\n",
       "      <td>Female</td>\n",
       "      <td>2836</td>\n",
       "      <td>2400</td>\n",
       "      <td>84.6</td>\n",
       "    </tr>\n",
       "    <tr>\n",
       "      <th>535</th>\n",
       "      <td>2018</td>\n",
       "      <td>190</td>\n",
       "      <td>Davidson County</td>\n",
       "      <td>Hispanic</td>\n",
       "      <td>1254</td>\n",
       "      <td>910</td>\n",
       "      <td>72.6</td>\n",
       "    </tr>\n",
       "    <tr>\n",
       "      <th>536</th>\n",
       "      <td>2018</td>\n",
       "      <td>190</td>\n",
       "      <td>Davidson County</td>\n",
       "      <td>Homeless</td>\n",
       "      <td>412</td>\n",
       "      <td>255</td>\n",
       "      <td>61.9</td>\n",
       "    </tr>\n",
       "    <tr>\n",
       "      <th>537</th>\n",
       "      <td>2018</td>\n",
       "      <td>190</td>\n",
       "      <td>Davidson County</td>\n",
       "      <td>Male</td>\n",
       "      <td>2906</td>\n",
       "      <td>2205</td>\n",
       "      <td>75.9</td>\n",
       "    </tr>\n",
       "    <tr>\n",
       "      <th>538</th>\n",
       "      <td>2018</td>\n",
       "      <td>190</td>\n",
       "      <td>Davidson County</td>\n",
       "      <td>Migrant</td>\n",
       "      <td>16</td>\n",
       "      <td>14</td>\n",
       "      <td>87.5</td>\n",
       "    </tr>\n",
       "    <tr>\n",
       "      <th>539</th>\n",
       "      <td>2018</td>\n",
       "      <td>190</td>\n",
       "      <td>Davidson County</td>\n",
       "      <td>Native Hawaiian or Other Pacific Islander</td>\n",
       "      <td>6</td>\n",
       "      <td>*</td>\n",
       "      <td>*</td>\n",
       "    </tr>\n",
       "    <tr>\n",
       "      <th>540</th>\n",
       "      <td>2018</td>\n",
       "      <td>190</td>\n",
       "      <td>Davidson County</td>\n",
       "      <td>Non-Black/Hispanic/Native American</td>\n",
       "      <td>1908</td>\n",
       "      <td>1592</td>\n",
       "      <td>83.4</td>\n",
       "    </tr>\n",
       "    <tr>\n",
       "      <th>541</th>\n",
       "      <td>2018</td>\n",
       "      <td>190</td>\n",
       "      <td>Davidson County</td>\n",
       "      <td>Non-Economically Disadvantaged</td>\n",
       "      <td>2643</td>\n",
       "      <td>2259</td>\n",
       "      <td>85.5</td>\n",
       "    </tr>\n",
       "    <tr>\n",
       "      <th>542</th>\n",
       "      <td>2018</td>\n",
       "      <td>190</td>\n",
       "      <td>Davidson County</td>\n",
       "      <td>Non-English Learners/Transitional 1-4</td>\n",
       "      <td>4876</td>\n",
       "      <td>4028</td>\n",
       "      <td>82.6</td>\n",
       "    </tr>\n",
       "    <tr>\n",
       "      <th>543</th>\n",
       "      <td>2018</td>\n",
       "      <td>190</td>\n",
       "      <td>Davidson County</td>\n",
       "      <td>Non-Homeless</td>\n",
       "      <td>5330</td>\n",
       "      <td>4350</td>\n",
       "      <td>81.6</td>\n",
       "    </tr>\n",
       "    <tr>\n",
       "      <th>544</th>\n",
       "      <td>2018</td>\n",
       "      <td>190</td>\n",
       "      <td>Davidson County</td>\n",
       "      <td>Non-Migrant</td>\n",
       "      <td>5726</td>\n",
       "      <td>4591</td>\n",
       "      <td>80.2</td>\n",
       "    </tr>\n",
       "    <tr>\n",
       "      <th>545</th>\n",
       "      <td>2018</td>\n",
       "      <td>190</td>\n",
       "      <td>Davidson County</td>\n",
       "      <td>Non-Students with Disabilities</td>\n",
       "      <td>5065</td>\n",
       "      <td>4214</td>\n",
       "      <td>83.2</td>\n",
       "    </tr>\n",
       "    <tr>\n",
       "      <th>546</th>\n",
       "      <td>2018</td>\n",
       "      <td>190</td>\n",
       "      <td>Davidson County</td>\n",
       "      <td>Students with Disabilities</td>\n",
       "      <td>677</td>\n",
       "      <td>391</td>\n",
       "      <td>57.8</td>\n",
       "    </tr>\n",
       "    <tr>\n",
       "      <th>547</th>\n",
       "      <td>2018</td>\n",
       "      <td>190</td>\n",
       "      <td>Davidson County</td>\n",
       "      <td>White</td>\n",
       "      <td>1641</td>\n",
       "      <td>1348</td>\n",
       "      <td>82.1</td>\n",
       "    </tr>\n",
       "  </tbody>\n",
       "</table>\n",
       "</div>"
      ],
      "text/plain": [
       "     year  system      system_name                                   subgroup  \\\n",
       "527  2018     190  Davidson County                               All Students   \n",
       "528  2018     190  Davidson County           American Indian or Alaska Native   \n",
       "529  2018     190  Davidson County                                      Asian   \n",
       "530  2018     190  Davidson County                  Black or African American   \n",
       "531  2018     190  Davidson County             Black/Hispanic/Native American   \n",
       "532  2018     190  Davidson County                 Economically Disadvantaged   \n",
       "533  2018     190  Davidson County     English Learners with Transitional 1-4   \n",
       "534  2018     190  Davidson County                                     Female   \n",
       "535  2018     190  Davidson County                                   Hispanic   \n",
       "536  2018     190  Davidson County                                   Homeless   \n",
       "537  2018     190  Davidson County                                       Male   \n",
       "538  2018     190  Davidson County                                    Migrant   \n",
       "539  2018     190  Davidson County  Native Hawaiian or Other Pacific Islander   \n",
       "540  2018     190  Davidson County         Non-Black/Hispanic/Native American   \n",
       "541  2018     190  Davidson County             Non-Economically Disadvantaged   \n",
       "542  2018     190  Davidson County      Non-English Learners/Transitional 1-4   \n",
       "543  2018     190  Davidson County                               Non-Homeless   \n",
       "544  2018     190  Davidson County                                Non-Migrant   \n",
       "545  2018     190  Davidson County             Non-Students with Disabilities   \n",
       "546  2018     190  Davidson County                 Students with Disabilities   \n",
       "547  2018     190  Davidson County                                      White   \n",
       "\n",
       "     grad_cohort grad_count grad_rate  \n",
       "527         5742       4605      80.2  \n",
       "528            9          *         *  \n",
       "529          261        239      91.6  \n",
       "530         2571       2096      81.5  \n",
       "531         3834       3013      78.6  \n",
       "532         3099       2346      75.7  \n",
       "533          866        577      66.6  \n",
       "534         2836       2400      84.6  \n",
       "535         1254        910      72.6  \n",
       "536          412        255      61.9  \n",
       "537         2906       2205      75.9  \n",
       "538           16         14      87.5  \n",
       "539            6          *         *  \n",
       "540         1908       1592      83.4  \n",
       "541         2643       2259      85.5  \n",
       "542         4876       4028      82.6  \n",
       "543         5330       4350      81.6  \n",
       "544         5726       4591      80.2  \n",
       "545         5065       4214      83.2  \n",
       "546          677        391      57.8  \n",
       "547         1641       1348      82.1  "
      ]
     },
     "execution_count": 73,
     "metadata": {},
     "output_type": "execute_result"
    }
   ],
   "source": [
    "df3[df3['system_name'] == 'Davidson County']"
   ]
  },
  {
   "cell_type": "code",
   "execution_count": 74,
   "metadata": {},
   "outputs": [],
   "source": [
    "df2018 = df3[(df3['subgroup'] == 'All Students')]"
   ]
  },
  {
   "cell_type": "code",
   "execution_count": 75,
   "metadata": {},
   "outputs": [],
   "source": [
    "df2018 = df2018[df2018['system_name'] == 'Davidson County']"
   ]
  },
  {
   "cell_type": "code",
   "execution_count": 76,
   "metadata": {},
   "outputs": [],
   "source": [
    "df2018 = df2018[['grad_rate']]\n",
    "df2018.rename(columns={'grad_rate' : '2018_grad_rate'},inplace=True)"
   ]
  },
  {
   "cell_type": "code",
   "execution_count": 77,
   "metadata": {},
   "outputs": [
    {
     "data": {
      "text/html": [
       "<div>\n",
       "<style scoped>\n",
       "    .dataframe tbody tr th:only-of-type {\n",
       "        vertical-align: middle;\n",
       "    }\n",
       "\n",
       "    .dataframe tbody tr th {\n",
       "        vertical-align: top;\n",
       "    }\n",
       "\n",
       "    .dataframe thead th {\n",
       "        text-align: right;\n",
       "    }\n",
       "</style>\n",
       "<table border=\"1\" class=\"dataframe\">\n",
       "  <thead>\n",
       "    <tr style=\"text-align: right;\">\n",
       "      <th></th>\n",
       "      <th>2018_grad_rate</th>\n",
       "    </tr>\n",
       "  </thead>\n",
       "  <tbody>\n",
       "    <tr>\n",
       "      <th>527</th>\n",
       "      <td>80.2</td>\n",
       "    </tr>\n",
       "  </tbody>\n",
       "</table>\n",
       "</div>"
      ],
      "text/plain": [
       "    2018_grad_rate\n",
       "527           80.2"
      ]
     },
     "execution_count": 77,
     "metadata": {},
     "output_type": "execute_result"
    }
   ],
   "source": [
    "df2018"
   ]
  },
  {
   "cell_type": "markdown",
   "metadata": {},
   "source": [
    "2019 graduate data"
   ]
  },
  {
   "cell_type": "code",
   "execution_count": 78,
   "metadata": {},
   "outputs": [],
   "source": [
    "df4 = pd.read_csv(r\"C:\\Users\\jhank\\Desktop\\DA7\\Projects\\budget-impact-jupyternb-python\\data\\graduation\\2018-19_district_grad_rate_suppressed.csv\")"
   ]
  },
  {
   "cell_type": "code",
   "execution_count": 79,
   "metadata": {},
   "outputs": [
    {
     "data": {
      "text/html": [
       "<div>\n",
       "<style scoped>\n",
       "    .dataframe tbody tr th:only-of-type {\n",
       "        vertical-align: middle;\n",
       "    }\n",
       "\n",
       "    .dataframe tbody tr th {\n",
       "        vertical-align: top;\n",
       "    }\n",
       "\n",
       "    .dataframe thead th {\n",
       "        text-align: right;\n",
       "    }\n",
       "</style>\n",
       "<table border=\"1\" class=\"dataframe\">\n",
       "  <thead>\n",
       "    <tr style=\"text-align: right;\">\n",
       "      <th></th>\n",
       "      <th>year</th>\n",
       "      <th>system</th>\n",
       "      <th>system_name</th>\n",
       "      <th>subgroup</th>\n",
       "      <th>grad_cohort</th>\n",
       "      <th>grad_count</th>\n",
       "      <th>grad_rate</th>\n",
       "    </tr>\n",
       "  </thead>\n",
       "  <tbody>\n",
       "    <tr>\n",
       "      <th>0</th>\n",
       "      <td>2019</td>\n",
       "      <td>10</td>\n",
       "      <td>Anderson County</td>\n",
       "      <td>All Students</td>\n",
       "      <td>552</td>\n",
       "      <td>528</td>\n",
       "      <td>95.7</td>\n",
       "    </tr>\n",
       "    <tr>\n",
       "      <th>1</th>\n",
       "      <td>2019</td>\n",
       "      <td>10</td>\n",
       "      <td>Anderson County</td>\n",
       "      <td>American Indian or Alaska Native</td>\n",
       "      <td>2</td>\n",
       "      <td>*</td>\n",
       "      <td>*</td>\n",
       "    </tr>\n",
       "    <tr>\n",
       "      <th>2</th>\n",
       "      <td>2019</td>\n",
       "      <td>10</td>\n",
       "      <td>Anderson County</td>\n",
       "      <td>Asian</td>\n",
       "      <td>8</td>\n",
       "      <td>*</td>\n",
       "      <td>*</td>\n",
       "    </tr>\n",
       "    <tr>\n",
       "      <th>3</th>\n",
       "      <td>2019</td>\n",
       "      <td>10</td>\n",
       "      <td>Anderson County</td>\n",
       "      <td>Black or African American</td>\n",
       "      <td>10</td>\n",
       "      <td>8</td>\n",
       "      <td>80</td>\n",
       "    </tr>\n",
       "    <tr>\n",
       "      <th>4</th>\n",
       "      <td>2019</td>\n",
       "      <td>10</td>\n",
       "      <td>Anderson County</td>\n",
       "      <td>Black/Hispanic/Native American</td>\n",
       "      <td>19</td>\n",
       "      <td>17</td>\n",
       "      <td>89.5</td>\n",
       "    </tr>\n",
       "  </tbody>\n",
       "</table>\n",
       "</div>"
      ],
      "text/plain": [
       "   year  system      system_name                          subgroup  \\\n",
       "0  2019      10  Anderson County                      All Students   \n",
       "1  2019      10  Anderson County  American Indian or Alaska Native   \n",
       "2  2019      10  Anderson County                             Asian   \n",
       "3  2019      10  Anderson County         Black or African American   \n",
       "4  2019      10  Anderson County    Black/Hispanic/Native American   \n",
       "\n",
       "   grad_cohort grad_count grad_rate  \n",
       "0          552        528      95.7  \n",
       "1            2          *         *  \n",
       "2            8          *         *  \n",
       "3           10          8        80  \n",
       "4           19         17      89.5  "
      ]
     },
     "execution_count": 79,
     "metadata": {},
     "output_type": "execute_result"
    }
   ],
   "source": [
    "df4.head()"
   ]
  },
  {
   "cell_type": "code",
   "execution_count": 80,
   "metadata": {},
   "outputs": [],
   "source": [
    "df2019 = df4[(df4['subgroup'] == 'All Students')]\n",
    "df2019 = df2019[df2019['system_name'] == 'Davidson County']\n",
    "df2019 = df2019[['grad_rate']]\n",
    "df2019.rename(columns={'grad_rate' : '2019_grad_rate'},inplace=True)"
   ]
  },
  {
   "cell_type": "code",
   "execution_count": 81,
   "metadata": {},
   "outputs": [
    {
     "data": {
      "text/html": [
       "<div>\n",
       "<style scoped>\n",
       "    .dataframe tbody tr th:only-of-type {\n",
       "        vertical-align: middle;\n",
       "    }\n",
       "\n",
       "    .dataframe tbody tr th {\n",
       "        vertical-align: top;\n",
       "    }\n",
       "\n",
       "    .dataframe thead th {\n",
       "        text-align: right;\n",
       "    }\n",
       "</style>\n",
       "<table border=\"1\" class=\"dataframe\">\n",
       "  <thead>\n",
       "    <tr style=\"text-align: right;\">\n",
       "      <th></th>\n",
       "      <th>2019_grad_rate</th>\n",
       "    </tr>\n",
       "  </thead>\n",
       "  <tbody>\n",
       "    <tr>\n",
       "      <th>535</th>\n",
       "      <td>82.4</td>\n",
       "    </tr>\n",
       "  </tbody>\n",
       "</table>\n",
       "</div>"
      ],
      "text/plain": [
       "    2019_grad_rate\n",
       "535           82.4"
      ]
     },
     "execution_count": 81,
     "metadata": {},
     "output_type": "execute_result"
    }
   ],
   "source": [
    "df2019"
   ]
  },
  {
   "cell_type": "markdown",
   "metadata": {},
   "source": [
    "2020 graduate data"
   ]
  },
  {
   "cell_type": "code",
   "execution_count": 82,
   "metadata": {},
   "outputs": [],
   "source": [
    "df5 = pd.read_csv(r\"C:\\Users\\jhank\\Desktop\\DA7\\Projects\\budget-impact-jupyternb-python\\data\\graduation\\2019-20_district_grad_rate_suppressed.csv\")"
   ]
  },
  {
   "cell_type": "code",
   "execution_count": 83,
   "metadata": {},
   "outputs": [
    {
     "data": {
      "text/html": [
       "<div>\n",
       "<style scoped>\n",
       "    .dataframe tbody tr th:only-of-type {\n",
       "        vertical-align: middle;\n",
       "    }\n",
       "\n",
       "    .dataframe tbody tr th {\n",
       "        vertical-align: top;\n",
       "    }\n",
       "\n",
       "    .dataframe thead th {\n",
       "        text-align: right;\n",
       "    }\n",
       "</style>\n",
       "<table border=\"1\" class=\"dataframe\">\n",
       "  <thead>\n",
       "    <tr style=\"text-align: right;\">\n",
       "      <th></th>\n",
       "      <th>year</th>\n",
       "      <th>system</th>\n",
       "      <th>system_name</th>\n",
       "      <th>subgroup</th>\n",
       "      <th>grad_cohort</th>\n",
       "      <th>grad_count</th>\n",
       "      <th>grad_rate</th>\n",
       "    </tr>\n",
       "  </thead>\n",
       "  <tbody>\n",
       "    <tr>\n",
       "      <th>0</th>\n",
       "      <td>2020</td>\n",
       "      <td>10</td>\n",
       "      <td>Anderson County</td>\n",
       "      <td>All Students</td>\n",
       "      <td>513</td>\n",
       "      <td>489</td>\n",
       "      <td>95.3</td>\n",
       "    </tr>\n",
       "    <tr>\n",
       "      <th>1</th>\n",
       "      <td>2020</td>\n",
       "      <td>10</td>\n",
       "      <td>Anderson County</td>\n",
       "      <td>American Indian or Alaska Native</td>\n",
       "      <td>2</td>\n",
       "      <td>*</td>\n",
       "      <td>*</td>\n",
       "    </tr>\n",
       "    <tr>\n",
       "      <th>2</th>\n",
       "      <td>2020</td>\n",
       "      <td>10</td>\n",
       "      <td>Anderson County</td>\n",
       "      <td>Asian</td>\n",
       "      <td>4</td>\n",
       "      <td>*</td>\n",
       "      <td>*</td>\n",
       "    </tr>\n",
       "    <tr>\n",
       "      <th>3</th>\n",
       "      <td>2020</td>\n",
       "      <td>10</td>\n",
       "      <td>Anderson County</td>\n",
       "      <td>Black or African American</td>\n",
       "      <td>20</td>\n",
       "      <td>19</td>\n",
       "      <td>95</td>\n",
       "    </tr>\n",
       "    <tr>\n",
       "      <th>4</th>\n",
       "      <td>2020</td>\n",
       "      <td>10</td>\n",
       "      <td>Anderson County</td>\n",
       "      <td>Black/Hispanic/Native American</td>\n",
       "      <td>36</td>\n",
       "      <td>33</td>\n",
       "      <td>91.7</td>\n",
       "    </tr>\n",
       "  </tbody>\n",
       "</table>\n",
       "</div>"
      ],
      "text/plain": [
       "   year  system      system_name                          subgroup  \\\n",
       "0  2020      10  Anderson County                      All Students   \n",
       "1  2020      10  Anderson County  American Indian or Alaska Native   \n",
       "2  2020      10  Anderson County                             Asian   \n",
       "3  2020      10  Anderson County         Black or African American   \n",
       "4  2020      10  Anderson County    Black/Hispanic/Native American   \n",
       "\n",
       "   grad_cohort grad_count grad_rate  \n",
       "0          513        489      95.3  \n",
       "1            2          *         *  \n",
       "2            4          *         *  \n",
       "3           20         19        95  \n",
       "4           36         33      91.7  "
      ]
     },
     "execution_count": 83,
     "metadata": {},
     "output_type": "execute_result"
    }
   ],
   "source": [
    "df5.head()"
   ]
  },
  {
   "cell_type": "code",
   "execution_count": 84,
   "metadata": {},
   "outputs": [],
   "source": [
    "df2020 = df4[(df4['subgroup'] == 'All Students')]\n",
    "df2020 = df2020[df2020['system_name'] == 'Davidson County']\n",
    "df2020 = df2020[['grad_rate']]\n",
    "df2020.rename(columns={'grad_rate' : '2020_grad_rate'},inplace=True)"
   ]
  },
  {
   "cell_type": "code",
   "execution_count": 85,
   "metadata": {},
   "outputs": [
    {
     "data": {
      "text/html": [
       "<div>\n",
       "<style scoped>\n",
       "    .dataframe tbody tr th:only-of-type {\n",
       "        vertical-align: middle;\n",
       "    }\n",
       "\n",
       "    .dataframe tbody tr th {\n",
       "        vertical-align: top;\n",
       "    }\n",
       "\n",
       "    .dataframe thead th {\n",
       "        text-align: right;\n",
       "    }\n",
       "</style>\n",
       "<table border=\"1\" class=\"dataframe\">\n",
       "  <thead>\n",
       "    <tr style=\"text-align: right;\">\n",
       "      <th></th>\n",
       "      <th>2020_grad_rate</th>\n",
       "    </tr>\n",
       "  </thead>\n",
       "  <tbody>\n",
       "    <tr>\n",
       "      <th>535</th>\n",
       "      <td>82.4</td>\n",
       "    </tr>\n",
       "  </tbody>\n",
       "</table>\n",
       "</div>"
      ],
      "text/plain": [
       "    2020_grad_rate\n",
       "535           82.4"
      ]
     },
     "execution_count": 85,
     "metadata": {},
     "output_type": "execute_result"
    }
   ],
   "source": [
    "df2020"
   ]
  },
  {
   "cell_type": "markdown",
   "metadata": {},
   "source": [
    "Combine all into one dataframe"
   ]
  },
  {
   "cell_type": "code",
   "execution_count": 86,
   "metadata": {},
   "outputs": [],
   "source": [
    "grad_rate = pd.concat([df2016, df2017, df2018, df2019, df2020], axis=1).reset_index()"
   ]
  },
  {
   "cell_type": "code",
   "execution_count": 87,
   "metadata": {},
   "outputs": [],
   "source": [
    "grad_rate.drop('index', inplace=True, axis=1)"
   ]
  },
  {
   "cell_type": "code",
   "execution_count": 88,
   "metadata": {},
   "outputs": [
    {
     "data": {
      "text/html": [
       "<div>\n",
       "<style scoped>\n",
       "    .dataframe tbody tr th:only-of-type {\n",
       "        vertical-align: middle;\n",
       "    }\n",
       "\n",
       "    .dataframe tbody tr th {\n",
       "        vertical-align: top;\n",
       "    }\n",
       "\n",
       "    .dataframe thead th {\n",
       "        text-align: right;\n",
       "    }\n",
       "</style>\n",
       "<table border=\"1\" class=\"dataframe\">\n",
       "  <thead>\n",
       "    <tr style=\"text-align: right;\">\n",
       "      <th></th>\n",
       "      <th>2016_grad_rate</th>\n",
       "      <th>2017_grad_rate</th>\n",
       "      <th>2018_grad_rate</th>\n",
       "      <th>2019_grad_rate</th>\n",
       "      <th>2020_grad_rate</th>\n",
       "    </tr>\n",
       "  </thead>\n",
       "  <tbody>\n",
       "    <tr>\n",
       "      <th>0</th>\n",
       "      <td>NaN</td>\n",
       "      <td>NaN</td>\n",
       "      <td>80.2</td>\n",
       "      <td>NaN</td>\n",
       "      <td>NaN</td>\n",
       "    </tr>\n",
       "    <tr>\n",
       "      <th>1</th>\n",
       "      <td>NaN</td>\n",
       "      <td>NaN</td>\n",
       "      <td>NaN</td>\n",
       "      <td>82.4</td>\n",
       "      <td>82.4</td>\n",
       "    </tr>\n",
       "    <tr>\n",
       "      <th>2</th>\n",
       "      <td>81.0</td>\n",
       "      <td>NaN</td>\n",
       "      <td>NaN</td>\n",
       "      <td>NaN</td>\n",
       "      <td>NaN</td>\n",
       "    </tr>\n",
       "    <tr>\n",
       "      <th>3</th>\n",
       "      <td>NaN</td>\n",
       "      <td>80.3</td>\n",
       "      <td>NaN</td>\n",
       "      <td>NaN</td>\n",
       "      <td>NaN</td>\n",
       "    </tr>\n",
       "  </tbody>\n",
       "</table>\n",
       "</div>"
      ],
      "text/plain": [
       "   2016_grad_rate  2017_grad_rate 2018_grad_rate 2019_grad_rate 2020_grad_rate\n",
       "0             NaN             NaN           80.2            NaN            NaN\n",
       "1             NaN             NaN            NaN           82.4           82.4\n",
       "2            81.0             NaN            NaN            NaN            NaN\n",
       "3             NaN            80.3            NaN            NaN            NaN"
      ]
     },
     "execution_count": 88,
     "metadata": {},
     "output_type": "execute_result"
    }
   ],
   "source": [
    "grad_rate"
   ]
  },
  {
   "cell_type": "code",
   "execution_count": 89,
   "metadata": {},
   "outputs": [],
   "source": [
    "grad_rate.to_csv('grad_rate')"
   ]
  },
  {
   "cell_type": "code",
   "execution_count": 90,
   "metadata": {},
   "outputs": [],
   "source": [
    "df_grad = pd.read_csv(r\"C:\\Users\\jhank\\Desktop\\DA7\\Projects\\budget-impact-jupyternb-python\\data\\graduation\\grad_rate.csv\")"
   ]
  },
  {
   "cell_type": "code",
   "execution_count": 91,
   "metadata": {},
   "outputs": [],
   "source": [
    "df_grad = df_grad.T"
   ]
  },
  {
   "cell_type": "code",
   "execution_count": 92,
   "metadata": {},
   "outputs": [
    {
     "data": {
      "text/html": [
       "<div>\n",
       "<style scoped>\n",
       "    .dataframe tbody tr th:only-of-type {\n",
       "        vertical-align: middle;\n",
       "    }\n",
       "\n",
       "    .dataframe tbody tr th {\n",
       "        vertical-align: top;\n",
       "    }\n",
       "\n",
       "    .dataframe thead th {\n",
       "        text-align: right;\n",
       "    }\n",
       "</style>\n",
       "<table border=\"1\" class=\"dataframe\">\n",
       "  <thead>\n",
       "    <tr style=\"text-align: right;\">\n",
       "      <th></th>\n",
       "      <th>index</th>\n",
       "      <th>0</th>\n",
       "    </tr>\n",
       "  </thead>\n",
       "  <tbody>\n",
       "    <tr>\n",
       "      <th>0</th>\n",
       "      <td>2016_grad_rate</td>\n",
       "      <td>81.0</td>\n",
       "    </tr>\n",
       "    <tr>\n",
       "      <th>1</th>\n",
       "      <td>2017_grad_rate</td>\n",
       "      <td>80.3</td>\n",
       "    </tr>\n",
       "    <tr>\n",
       "      <th>2</th>\n",
       "      <td>2018_grad_rate</td>\n",
       "      <td>80.2</td>\n",
       "    </tr>\n",
       "    <tr>\n",
       "      <th>3</th>\n",
       "      <td>2019_grad_rate</td>\n",
       "      <td>82.4</td>\n",
       "    </tr>\n",
       "    <tr>\n",
       "      <th>4</th>\n",
       "      <td>2020_grad_rate</td>\n",
       "      <td>82.4</td>\n",
       "    </tr>\n",
       "  </tbody>\n",
       "</table>\n",
       "</div>"
      ],
      "text/plain": [
       "            index     0\n",
       "0  2016_grad_rate  81.0\n",
       "1  2017_grad_rate  80.3\n",
       "2  2018_grad_rate  80.2\n",
       "3  2019_grad_rate  82.4\n",
       "4  2020_grad_rate  82.4"
      ]
     },
     "execution_count": 92,
     "metadata": {},
     "output_type": "execute_result"
    }
   ],
   "source": [
    "df_grad.reset_index()"
   ]
  },
  {
   "cell_type": "code",
   "execution_count": 93,
   "metadata": {},
   "outputs": [],
   "source": [
    "df_grad['year'] = [2016,2017,2018,2019,2020]\n"
   ]
  },
  {
   "cell_type": "code",
   "execution_count": 95,
   "metadata": {},
   "outputs": [],
   "source": [
    "df_grad.columns = ['grad_pct','year']"
   ]
  },
  {
   "cell_type": "code",
   "execution_count": 96,
   "metadata": {},
   "outputs": [],
   "source": [
    "df_grad = df_grad[['grad_pct','year']]"
   ]
  },
  {
   "cell_type": "code",
   "execution_count": 107,
   "metadata": {},
   "outputs": [],
   "source": [
    "df_grad = df_grad.reset_index()"
   ]
  },
  {
   "cell_type": "code",
   "execution_count": 108,
   "metadata": {},
   "outputs": [
    {
     "data": {
      "text/html": [
       "<div>\n",
       "<style scoped>\n",
       "    .dataframe tbody tr th:only-of-type {\n",
       "        vertical-align: middle;\n",
       "    }\n",
       "\n",
       "    .dataframe tbody tr th {\n",
       "        vertical-align: top;\n",
       "    }\n",
       "\n",
       "    .dataframe thead th {\n",
       "        text-align: right;\n",
       "    }\n",
       "</style>\n",
       "<table border=\"1\" class=\"dataframe\">\n",
       "  <thead>\n",
       "    <tr style=\"text-align: right;\">\n",
       "      <th></th>\n",
       "      <th>index</th>\n",
       "      <th>grad_pct</th>\n",
       "      <th>year</th>\n",
       "    </tr>\n",
       "  </thead>\n",
       "  <tbody>\n",
       "    <tr>\n",
       "      <th>0</th>\n",
       "      <td>2016_grad_rate</td>\n",
       "      <td>81.0</td>\n",
       "      <td>2016</td>\n",
       "    </tr>\n",
       "    <tr>\n",
       "      <th>1</th>\n",
       "      <td>2017_grad_rate</td>\n",
       "      <td>80.3</td>\n",
       "      <td>2017</td>\n",
       "    </tr>\n",
       "    <tr>\n",
       "      <th>2</th>\n",
       "      <td>2018_grad_rate</td>\n",
       "      <td>80.2</td>\n",
       "      <td>2018</td>\n",
       "    </tr>\n",
       "    <tr>\n",
       "      <th>3</th>\n",
       "      <td>2019_grad_rate</td>\n",
       "      <td>82.4</td>\n",
       "      <td>2019</td>\n",
       "    </tr>\n",
       "    <tr>\n",
       "      <th>4</th>\n",
       "      <td>2020_grad_rate</td>\n",
       "      <td>82.4</td>\n",
       "      <td>2020</td>\n",
       "    </tr>\n",
       "  </tbody>\n",
       "</table>\n",
       "</div>"
      ],
      "text/plain": [
       "            index  grad_pct  year\n",
       "0  2016_grad_rate      81.0  2016\n",
       "1  2017_grad_rate      80.3  2017\n",
       "2  2018_grad_rate      80.2  2018\n",
       "3  2019_grad_rate      82.4  2019\n",
       "4  2020_grad_rate      82.4  2020"
      ]
     },
     "execution_count": 108,
     "metadata": {},
     "output_type": "execute_result"
    }
   ],
   "source": [
    "df_grad"
   ]
  },
  {
   "cell_type": "code",
   "execution_count": 110,
   "metadata": {},
   "outputs": [],
   "source": [
    "df_grad.drop(labels = 'index', axis = 1, inplace = True)"
   ]
  },
  {
   "cell_type": "code",
   "execution_count": 111,
   "metadata": {},
   "outputs": [
    {
     "name": "stdout",
     "output_type": "stream",
     "text": [
      "<class 'pandas.core.frame.DataFrame'>\n",
      "RangeIndex: 5 entries, 0 to 4\n",
      "Data columns (total 2 columns):\n",
      " #   Column    Non-Null Count  Dtype  \n",
      "---  ------    --------------  -----  \n",
      " 0   grad_pct  5 non-null      float64\n",
      " 1   year      5 non-null      int64  \n",
      "dtypes: float64(1), int64(1)\n",
      "memory usage: 208.0 bytes\n"
     ]
    }
   ],
   "source": [
    "df_grad.info()"
   ]
  },
  {
   "cell_type": "code",
   "execution_count": 114,
   "metadata": {},
   "outputs": [
    {
     "data": {
      "text/plain": [
       "<AxesSubplot:xlabel='year'>"
      ]
     },
     "execution_count": 114,
     "metadata": {},
     "output_type": "execute_result"
    },
    {
     "data": {
      "image/png": "[encoded data removed]",
      "text/plain": [
       "<Figure size 640x480 with 1 Axes>"
      ]
     },
     "metadata": {},
     "output_type": "display_data"
    }
   ],
   "source": [
    "df_grad.plot(kind='line', x = 'year', y = 'grad_pct')"
   ]
  },
  {
   "cell_type": "code",
   "execution_count": 121,
   "metadata": {},
   "outputs": [
    {
     "data": {
      "text/plain": [
       "Text(0, 0.5, 'Percentage')"
      ]
     },
     "execution_count": 121,
     "metadata": {},
     "output_type": "execute_result"
    },
    {
     "data": {
      "image/png": "[encoded data removed]",
      "text/plain": [
       "<Figure size 640x480 with 1 Axes>"
      ]
     },
     "metadata": {},
     "output_type": "display_data"
    }
   ],
   "source": [
    "df_grad.plot(kind='line', x = 'year', y = 'grad_pct')\n",
    "# Calculate the Trendline\n",
    "z = np.polyfit(x, y, 1)\n",
    "p = np.poly1d(z)\n",
    "plt.plot(df_grad['year'], p(x), color=\"purple\", linewidth=3, linestyle=\"--\")\n",
    "plt.title('Graduation Percent by Year')\n",
    "plt.xlabel('Year')\n",
    "plt.ylabel('Percentage')"
   ]
  },
  {
   "cell_type": "code",
   "execution_count": null,
   "metadata": {},
   "outputs": [],
   "source": []
  }
 ],
 "metadata": {
  "kernelspec": {
   "display_name": "Python 3.9.7 ('base')",
   "language": "python",
   "name": "python3"
  },
  "language_info": {
   "codemirror_mode": {
    "name": "ipython",
    "version": 3
   },
   "file_extension": ".py",
   "mimetype": "text/x-python",
   "name": "python",
   "nbconvert_exporter": "python",
   "pygments_lexer": "ipython3",
   "version": "3.9.7"
  },
  "orig_nbformat": 4,
  "vscode": {
   "interpreter": {
    "hash": "e83933c89791523ce27b9c1ac2fa3a2bbb0f839e7a6d72c2a74f34bb50225d36"
   }
  }
 },
 "nbformat": 4,
 "nbformat_minor": 2
}
